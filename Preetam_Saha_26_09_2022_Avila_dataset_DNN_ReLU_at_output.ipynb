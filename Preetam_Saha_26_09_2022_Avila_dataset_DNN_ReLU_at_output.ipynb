{
  "nbformat": 4,
  "nbformat_minor": 0,
  "metadata": {
    "colab": {
      "provenance": [],
      "collapsed_sections": [],
      "mount_file_id": "1p2DVfL6gVe-UaTXijk3SWKLPICqsQeI7",
      "authorship_tag": "ABX9TyPnYCVnQQ4kW5z5K5vZWtDv",
      "include_colab_link": true
    },
    "kernelspec": {
      "name": "python3",
      "display_name": "Python 3"
    },
    "language_info": {
      "name": "python"
    }
  },
  "cells": [
    {
      "cell_type": "markdown",
      "metadata": {
        "id": "view-in-github",
        "colab_type": "text"
      },
      "source": [
        "<a href=\"https://colab.research.google.com/github/preetamjumech/DL_DNN_from_Scratch/blob/main/Preetam_Saha_26_09_2022_Avila_dataset_DNN_ReLU_at_output.ipynb\" target=\"_parent\"><img src=\"https://colab.research.google.com/assets/colab-badge.svg\" alt=\"Open In Colab\"/></a>"
      ]
    },
    {
      "cell_type": "code",
      "execution_count": null,
      "metadata": {
        "id": "s3nvyANW6dsZ"
      },
      "outputs": [],
      "source": [
        "import pandas as pd\n",
        "import numpy as np\n",
        "import seaborn as sns\n",
        "import matplotlib.pyplot as plt\n",
        "import matplotlib\n",
        "matplotlib.rcParams[\"figure.figsize\"]=(20,10)"
      ]
    },
    {
      "cell_type": "code",
      "source": [
        "train = pd.read_csv(\"/content/drive/MyDrive/avila-tr.txt\",header = None)\n",
        "train.head()"
      ],
      "metadata": {
        "colab": {
          "base_uri": "https://localhost:8080/",
          "height": 206
        },
        "id": "X_lq-RF66w1G",
        "outputId": "81bfd519-37dd-4c02-be56-ad10b37349dd"
      },
      "execution_count": null,
      "outputs": [
        {
          "output_type": "execute_result",
          "data": {
            "text/plain": [
              "         0         1         2         3         4         5         6   \\\n",
              "0  0.266074 -0.165620  0.320980  0.483299  0.172340  0.273364  0.371178   \n",
              "1  0.130292  0.870736 -3.210528  0.062493  0.261718  1.436060  1.465940   \n",
              "2 -0.116585  0.069915  0.068476 -0.783147  0.261718  0.439463 -0.081827   \n",
              "3  0.031541  0.297600 -3.210528 -0.583590 -0.721442 -0.307984  0.710932   \n",
              "4  0.229043  0.807926 -0.052442  0.082634  0.261718  0.148790  0.635431   \n",
              "\n",
              "         7         8         9  10  \n",
              "0  0.929823  0.251173  0.159345  A  \n",
              "1  0.636203  0.282354  0.515587  A  \n",
              "2 -0.888236 -0.123005  0.582939  A  \n",
              "3  1.051693  0.594169 -0.533994  A  \n",
              "4  0.051062  0.032902 -0.086652  F  "
            ],
            "text/html": [
              "\n",
              "  <div id=\"df-2d01390e-3ff0-47a8-b44f-476f33ef52b9\">\n",
              "    <div class=\"colab-df-container\">\n",
              "      <div>\n",
              "<style scoped>\n",
              "    .dataframe tbody tr th:only-of-type {\n",
              "        vertical-align: middle;\n",
              "    }\n",
              "\n",
              "    .dataframe tbody tr th {\n",
              "        vertical-align: top;\n",
              "    }\n",
              "\n",
              "    .dataframe thead th {\n",
              "        text-align: right;\n",
              "    }\n",
              "</style>\n",
              "<table border=\"1\" class=\"dataframe\">\n",
              "  <thead>\n",
              "    <tr style=\"text-align: right;\">\n",
              "      <th></th>\n",
              "      <th>0</th>\n",
              "      <th>1</th>\n",
              "      <th>2</th>\n",
              "      <th>3</th>\n",
              "      <th>4</th>\n",
              "      <th>5</th>\n",
              "      <th>6</th>\n",
              "      <th>7</th>\n",
              "      <th>8</th>\n",
              "      <th>9</th>\n",
              "      <th>10</th>\n",
              "    </tr>\n",
              "  </thead>\n",
              "  <tbody>\n",
              "    <tr>\n",
              "      <th>0</th>\n",
              "      <td>0.266074</td>\n",
              "      <td>-0.165620</td>\n",
              "      <td>0.320980</td>\n",
              "      <td>0.483299</td>\n",
              "      <td>0.172340</td>\n",
              "      <td>0.273364</td>\n",
              "      <td>0.371178</td>\n",
              "      <td>0.929823</td>\n",
              "      <td>0.251173</td>\n",
              "      <td>0.159345</td>\n",
              "      <td>A</td>\n",
              "    </tr>\n",
              "    <tr>\n",
              "      <th>1</th>\n",
              "      <td>0.130292</td>\n",
              "      <td>0.870736</td>\n",
              "      <td>-3.210528</td>\n",
              "      <td>0.062493</td>\n",
              "      <td>0.261718</td>\n",
              "      <td>1.436060</td>\n",
              "      <td>1.465940</td>\n",
              "      <td>0.636203</td>\n",
              "      <td>0.282354</td>\n",
              "      <td>0.515587</td>\n",
              "      <td>A</td>\n",
              "    </tr>\n",
              "    <tr>\n",
              "      <th>2</th>\n",
              "      <td>-0.116585</td>\n",
              "      <td>0.069915</td>\n",
              "      <td>0.068476</td>\n",
              "      <td>-0.783147</td>\n",
              "      <td>0.261718</td>\n",
              "      <td>0.439463</td>\n",
              "      <td>-0.081827</td>\n",
              "      <td>-0.888236</td>\n",
              "      <td>-0.123005</td>\n",
              "      <td>0.582939</td>\n",
              "      <td>A</td>\n",
              "    </tr>\n",
              "    <tr>\n",
              "      <th>3</th>\n",
              "      <td>0.031541</td>\n",
              "      <td>0.297600</td>\n",
              "      <td>-3.210528</td>\n",
              "      <td>-0.583590</td>\n",
              "      <td>-0.721442</td>\n",
              "      <td>-0.307984</td>\n",
              "      <td>0.710932</td>\n",
              "      <td>1.051693</td>\n",
              "      <td>0.594169</td>\n",
              "      <td>-0.533994</td>\n",
              "      <td>A</td>\n",
              "    </tr>\n",
              "    <tr>\n",
              "      <th>4</th>\n",
              "      <td>0.229043</td>\n",
              "      <td>0.807926</td>\n",
              "      <td>-0.052442</td>\n",
              "      <td>0.082634</td>\n",
              "      <td>0.261718</td>\n",
              "      <td>0.148790</td>\n",
              "      <td>0.635431</td>\n",
              "      <td>0.051062</td>\n",
              "      <td>0.032902</td>\n",
              "      <td>-0.086652</td>\n",
              "      <td>F</td>\n",
              "    </tr>\n",
              "  </tbody>\n",
              "</table>\n",
              "</div>\n",
              "      <button class=\"colab-df-convert\" onclick=\"convertToInteractive('df-2d01390e-3ff0-47a8-b44f-476f33ef52b9')\"\n",
              "              title=\"Convert this dataframe to an interactive table.\"\n",
              "              style=\"display:none;\">\n",
              "        \n",
              "  <svg xmlns=\"http://www.w3.org/2000/svg\" height=\"24px\"viewBox=\"0 0 24 24\"\n",
              "       width=\"24px\">\n",
              "    <path d=\"M0 0h24v24H0V0z\" fill=\"none\"/>\n",
              "    <path d=\"M18.56 5.44l.94 2.06.94-2.06 2.06-.94-2.06-.94-.94-2.06-.94 2.06-2.06.94zm-11 1L8.5 8.5l.94-2.06 2.06-.94-2.06-.94L8.5 2.5l-.94 2.06-2.06.94zm10 10l.94 2.06.94-2.06 2.06-.94-2.06-.94-.94-2.06-.94 2.06-2.06.94z\"/><path d=\"M17.41 7.96l-1.37-1.37c-.4-.4-.92-.59-1.43-.59-.52 0-1.04.2-1.43.59L10.3 9.45l-7.72 7.72c-.78.78-.78 2.05 0 2.83L4 21.41c.39.39.9.59 1.41.59.51 0 1.02-.2 1.41-.59l7.78-7.78 2.81-2.81c.8-.78.8-2.07 0-2.86zM5.41 20L4 18.59l7.72-7.72 1.47 1.35L5.41 20z\"/>\n",
              "  </svg>\n",
              "      </button>\n",
              "      \n",
              "  <style>\n",
              "    .colab-df-container {\n",
              "      display:flex;\n",
              "      flex-wrap:wrap;\n",
              "      gap: 12px;\n",
              "    }\n",
              "\n",
              "    .colab-df-convert {\n",
              "      background-color: #E8F0FE;\n",
              "      border: none;\n",
              "      border-radius: 50%;\n",
              "      cursor: pointer;\n",
              "      display: none;\n",
              "      fill: #1967D2;\n",
              "      height: 32px;\n",
              "      padding: 0 0 0 0;\n",
              "      width: 32px;\n",
              "    }\n",
              "\n",
              "    .colab-df-convert:hover {\n",
              "      background-color: #E2EBFA;\n",
              "      box-shadow: 0px 1px 2px rgba(60, 64, 67, 0.3), 0px 1px 3px 1px rgba(60, 64, 67, 0.15);\n",
              "      fill: #174EA6;\n",
              "    }\n",
              "\n",
              "    [theme=dark] .colab-df-convert {\n",
              "      background-color: #3B4455;\n",
              "      fill: #D2E3FC;\n",
              "    }\n",
              "\n",
              "    [theme=dark] .colab-df-convert:hover {\n",
              "      background-color: #434B5C;\n",
              "      box-shadow: 0px 1px 3px 1px rgba(0, 0, 0, 0.15);\n",
              "      filter: drop-shadow(0px 1px 2px rgba(0, 0, 0, 0.3));\n",
              "      fill: #FFFFFF;\n",
              "    }\n",
              "  </style>\n",
              "\n",
              "      <script>\n",
              "        const buttonEl =\n",
              "          document.querySelector('#df-2d01390e-3ff0-47a8-b44f-476f33ef52b9 button.colab-df-convert');\n",
              "        buttonEl.style.display =\n",
              "          google.colab.kernel.accessAllowed ? 'block' : 'none';\n",
              "\n",
              "        async function convertToInteractive(key) {\n",
              "          const element = document.querySelector('#df-2d01390e-3ff0-47a8-b44f-476f33ef52b9');\n",
              "          const dataTable =\n",
              "            await google.colab.kernel.invokeFunction('convertToInteractive',\n",
              "                                                     [key], {});\n",
              "          if (!dataTable) return;\n",
              "\n",
              "          const docLinkHtml = 'Like what you see? Visit the ' +\n",
              "            '<a target=\"_blank\" href=https://colab.research.google.com/notebooks/data_table.ipynb>data table notebook</a>'\n",
              "            + ' to learn more about interactive tables.';\n",
              "          element.innerHTML = '';\n",
              "          dataTable['output_type'] = 'display_data';\n",
              "          await google.colab.output.renderOutput(dataTable, element);\n",
              "          const docLink = document.createElement('div');\n",
              "          docLink.innerHTML = docLinkHtml;\n",
              "          element.appendChild(docLink);\n",
              "        }\n",
              "      </script>\n",
              "    </div>\n",
              "  </div>\n",
              "  "
            ]
          },
          "metadata": {},
          "execution_count": 2
        }
      ]
    },
    {
      "cell_type": "code",
      "source": [
        "train.shape"
      ],
      "metadata": {
        "colab": {
          "base_uri": "https://localhost:8080/"
        },
        "id": "48vO4GkO7vL_",
        "outputId": "ee0da5aa-ebcb-4402-8559-8296fc59e2fd"
      },
      "execution_count": null,
      "outputs": [
        {
          "output_type": "execute_result",
          "data": {
            "text/plain": [
              "(10430, 11)"
            ]
          },
          "metadata": {},
          "execution_count": 3
        }
      ]
    },
    {
      "cell_type": "code",
      "source": [
        "test = pd.read_csv(\"/content/drive/MyDrive/avila-ts.txt\",header = None)\n",
        "test.head()"
      ],
      "metadata": {
        "colab": {
          "base_uri": "https://localhost:8080/",
          "height": 206
        },
        "id": "Ur0oQLvG7w3_",
        "outputId": "bd218bdd-832e-4f79-b506-3eb813826d9a"
      },
      "execution_count": null,
      "outputs": [
        {
          "output_type": "execute_result",
          "data": {
            "text/plain": [
              "         0         1         2         3         4         5         6   \\\n",
              "0 -3.498799  0.250492  0.232070  1.224178 -4.922215  1.145386  0.182426   \n",
              "1  0.204355 -0.354049  0.320980  0.410166 -0.989576 -2.218127  0.220177   \n",
              "2  0.759828 -1.304042 -0.023991 -0.973663 -0.006417 -0.349509 -0.421580   \n",
              "3 -0.005490  0.360409  0.281860 -0.213479 -1.168333 -1.013906 -0.346080   \n",
              "4  0.080916  0.101320  0.104040  0.140490  0.261718  0.480988  0.710932   \n",
              "\n",
              "         7         8         9  10  \n",
              "0 -0.165983 -0.123005  1.087144  W  \n",
              "1  0.181844  2.090879 -2.009758  A  \n",
              "2 -0.450127  0.469443  0.060952  I  \n",
              "3  1.176165  0.968347 -0.627999  E  \n",
              "4 -0.253430 -0.497183  0.155681  A  "
            ],
            "text/html": [
              "\n",
              "  <div id=\"df-2e0be731-dabc-4ebb-bd74-b1d4358e0b85\">\n",
              "    <div class=\"colab-df-container\">\n",
              "      <div>\n",
              "<style scoped>\n",
              "    .dataframe tbody tr th:only-of-type {\n",
              "        vertical-align: middle;\n",
              "    }\n",
              "\n",
              "    .dataframe tbody tr th {\n",
              "        vertical-align: top;\n",
              "    }\n",
              "\n",
              "    .dataframe thead th {\n",
              "        text-align: right;\n",
              "    }\n",
              "</style>\n",
              "<table border=\"1\" class=\"dataframe\">\n",
              "  <thead>\n",
              "    <tr style=\"text-align: right;\">\n",
              "      <th></th>\n",
              "      <th>0</th>\n",
              "      <th>1</th>\n",
              "      <th>2</th>\n",
              "      <th>3</th>\n",
              "      <th>4</th>\n",
              "      <th>5</th>\n",
              "      <th>6</th>\n",
              "      <th>7</th>\n",
              "      <th>8</th>\n",
              "      <th>9</th>\n",
              "      <th>10</th>\n",
              "    </tr>\n",
              "  </thead>\n",
              "  <tbody>\n",
              "    <tr>\n",
              "      <th>0</th>\n",
              "      <td>-3.498799</td>\n",
              "      <td>0.250492</td>\n",
              "      <td>0.232070</td>\n",
              "      <td>1.224178</td>\n",
              "      <td>-4.922215</td>\n",
              "      <td>1.145386</td>\n",
              "      <td>0.182426</td>\n",
              "      <td>-0.165983</td>\n",
              "      <td>-0.123005</td>\n",
              "      <td>1.087144</td>\n",
              "      <td>W</td>\n",
              "    </tr>\n",
              "    <tr>\n",
              "      <th>1</th>\n",
              "      <td>0.204355</td>\n",
              "      <td>-0.354049</td>\n",
              "      <td>0.320980</td>\n",
              "      <td>0.410166</td>\n",
              "      <td>-0.989576</td>\n",
              "      <td>-2.218127</td>\n",
              "      <td>0.220177</td>\n",
              "      <td>0.181844</td>\n",
              "      <td>2.090879</td>\n",
              "      <td>-2.009758</td>\n",
              "      <td>A</td>\n",
              "    </tr>\n",
              "    <tr>\n",
              "      <th>2</th>\n",
              "      <td>0.759828</td>\n",
              "      <td>-1.304042</td>\n",
              "      <td>-0.023991</td>\n",
              "      <td>-0.973663</td>\n",
              "      <td>-0.006417</td>\n",
              "      <td>-0.349509</td>\n",
              "      <td>-0.421580</td>\n",
              "      <td>-0.450127</td>\n",
              "      <td>0.469443</td>\n",
              "      <td>0.060952</td>\n",
              "      <td>I</td>\n",
              "    </tr>\n",
              "    <tr>\n",
              "      <th>3</th>\n",
              "      <td>-0.005490</td>\n",
              "      <td>0.360409</td>\n",
              "      <td>0.281860</td>\n",
              "      <td>-0.213479</td>\n",
              "      <td>-1.168333</td>\n",
              "      <td>-1.013906</td>\n",
              "      <td>-0.346080</td>\n",
              "      <td>1.176165</td>\n",
              "      <td>0.968347</td>\n",
              "      <td>-0.627999</td>\n",
              "      <td>E</td>\n",
              "    </tr>\n",
              "    <tr>\n",
              "      <th>4</th>\n",
              "      <td>0.080916</td>\n",
              "      <td>0.101320</td>\n",
              "      <td>0.104040</td>\n",
              "      <td>0.140490</td>\n",
              "      <td>0.261718</td>\n",
              "      <td>0.480988</td>\n",
              "      <td>0.710932</td>\n",
              "      <td>-0.253430</td>\n",
              "      <td>-0.497183</td>\n",
              "      <td>0.155681</td>\n",
              "      <td>A</td>\n",
              "    </tr>\n",
              "  </tbody>\n",
              "</table>\n",
              "</div>\n",
              "      <button class=\"colab-df-convert\" onclick=\"convertToInteractive('df-2e0be731-dabc-4ebb-bd74-b1d4358e0b85')\"\n",
              "              title=\"Convert this dataframe to an interactive table.\"\n",
              "              style=\"display:none;\">\n",
              "        \n",
              "  <svg xmlns=\"http://www.w3.org/2000/svg\" height=\"24px\"viewBox=\"0 0 24 24\"\n",
              "       width=\"24px\">\n",
              "    <path d=\"M0 0h24v24H0V0z\" fill=\"none\"/>\n",
              "    <path d=\"M18.56 5.44l.94 2.06.94-2.06 2.06-.94-2.06-.94-.94-2.06-.94 2.06-2.06.94zm-11 1L8.5 8.5l.94-2.06 2.06-.94-2.06-.94L8.5 2.5l-.94 2.06-2.06.94zm10 10l.94 2.06.94-2.06 2.06-.94-2.06-.94-.94-2.06-.94 2.06-2.06.94z\"/><path d=\"M17.41 7.96l-1.37-1.37c-.4-.4-.92-.59-1.43-.59-.52 0-1.04.2-1.43.59L10.3 9.45l-7.72 7.72c-.78.78-.78 2.05 0 2.83L4 21.41c.39.39.9.59 1.41.59.51 0 1.02-.2 1.41-.59l7.78-7.78 2.81-2.81c.8-.78.8-2.07 0-2.86zM5.41 20L4 18.59l7.72-7.72 1.47 1.35L5.41 20z\"/>\n",
              "  </svg>\n",
              "      </button>\n",
              "      \n",
              "  <style>\n",
              "    .colab-df-container {\n",
              "      display:flex;\n",
              "      flex-wrap:wrap;\n",
              "      gap: 12px;\n",
              "    }\n",
              "\n",
              "    .colab-df-convert {\n",
              "      background-color: #E8F0FE;\n",
              "      border: none;\n",
              "      border-radius: 50%;\n",
              "      cursor: pointer;\n",
              "      display: none;\n",
              "      fill: #1967D2;\n",
              "      height: 32px;\n",
              "      padding: 0 0 0 0;\n",
              "      width: 32px;\n",
              "    }\n",
              "\n",
              "    .colab-df-convert:hover {\n",
              "      background-color: #E2EBFA;\n",
              "      box-shadow: 0px 1px 2px rgba(60, 64, 67, 0.3), 0px 1px 3px 1px rgba(60, 64, 67, 0.15);\n",
              "      fill: #174EA6;\n",
              "    }\n",
              "\n",
              "    [theme=dark] .colab-df-convert {\n",
              "      background-color: #3B4455;\n",
              "      fill: #D2E3FC;\n",
              "    }\n",
              "\n",
              "    [theme=dark] .colab-df-convert:hover {\n",
              "      background-color: #434B5C;\n",
              "      box-shadow: 0px 1px 3px 1px rgba(0, 0, 0, 0.15);\n",
              "      filter: drop-shadow(0px 1px 2px rgba(0, 0, 0, 0.3));\n",
              "      fill: #FFFFFF;\n",
              "    }\n",
              "  </style>\n",
              "\n",
              "      <script>\n",
              "        const buttonEl =\n",
              "          document.querySelector('#df-2e0be731-dabc-4ebb-bd74-b1d4358e0b85 button.colab-df-convert');\n",
              "        buttonEl.style.display =\n",
              "          google.colab.kernel.accessAllowed ? 'block' : 'none';\n",
              "\n",
              "        async function convertToInteractive(key) {\n",
              "          const element = document.querySelector('#df-2e0be731-dabc-4ebb-bd74-b1d4358e0b85');\n",
              "          const dataTable =\n",
              "            await google.colab.kernel.invokeFunction('convertToInteractive',\n",
              "                                                     [key], {});\n",
              "          if (!dataTable) return;\n",
              "\n",
              "          const docLinkHtml = 'Like what you see? Visit the ' +\n",
              "            '<a target=\"_blank\" href=https://colab.research.google.com/notebooks/data_table.ipynb>data table notebook</a>'\n",
              "            + ' to learn more about interactive tables.';\n",
              "          element.innerHTML = '';\n",
              "          dataTable['output_type'] = 'display_data';\n",
              "          await google.colab.output.renderOutput(dataTable, element);\n",
              "          const docLink = document.createElement('div');\n",
              "          docLink.innerHTML = docLinkHtml;\n",
              "          element.appendChild(docLink);\n",
              "        }\n",
              "      </script>\n",
              "    </div>\n",
              "  </div>\n",
              "  "
            ]
          },
          "metadata": {},
          "execution_count": 4
        }
      ]
    },
    {
      "cell_type": "code",
      "source": [
        "test.shape"
      ],
      "metadata": {
        "colab": {
          "base_uri": "https://localhost:8080/"
        },
        "id": "ovh2rgmT7-SM",
        "outputId": "1d1b64dc-b5c3-4320-af3f-91038ebcab67"
      },
      "execution_count": null,
      "outputs": [
        {
          "output_type": "execute_result",
          "data": {
            "text/plain": [
              "(10437, 11)"
            ]
          },
          "metadata": {},
          "execution_count": 5
        }
      ]
    },
    {
      "cell_type": "code",
      "source": [
        "train.columns"
      ],
      "metadata": {
        "colab": {
          "base_uri": "https://localhost:8080/"
        },
        "id": "yF09Uim58ARC",
        "outputId": "ef3589de-eae5-4a2c-f67b-00b032f76489"
      },
      "execution_count": null,
      "outputs": [
        {
          "output_type": "execute_result",
          "data": {
            "text/plain": [
              "Int64Index([0, 1, 2, 3, 4, 5, 6, 7, 8, 9, 10], dtype='int64')"
            ]
          },
          "metadata": {},
          "execution_count": 6
        }
      ]
    },
    {
      "cell_type": "code",
      "source": [
        "train[10].value_counts()"
      ],
      "metadata": {
        "colab": {
          "base_uri": "https://localhost:8080/"
        },
        "id": "yiaI__mA8I_y",
        "outputId": "987b9c2e-b38f-49c3-ce43-c4ee3bf698a8"
      },
      "execution_count": null,
      "outputs": [
        {
          "output_type": "execute_result",
          "data": {
            "text/plain": [
              "A    4286\n",
              "F    1961\n",
              "E    1095\n",
              "I     831\n",
              "X     522\n",
              "H     519\n",
              "G     446\n",
              "D     352\n",
              "Y     266\n",
              "C     103\n",
              "W      44\n",
              "B       5\n",
              "Name: 10, dtype: int64"
            ]
          },
          "metadata": {},
          "execution_count": 7
        }
      ]
    },
    {
      "cell_type": "code",
      "source": [
        "d={'A':0, 'F':1, 'H':2, 'E':3, 'I':4, 'Y':5, 'D':6, 'X':7, 'G':8, 'W':9, 'C':10, 'B':11}"
      ],
      "metadata": {
        "id": "YnHeU2ja8kAC"
      },
      "execution_count": null,
      "outputs": []
    },
    {
      "cell_type": "code",
      "source": [
        "X_train=train.drop(10,axis=1)\n",
        "X_test=test.drop(10,axis=1)\n",
        "y_train=train.iloc[:,-1]\n",
        "y_test=test.iloc[:,-1]"
      ],
      "metadata": {
        "id": "nX3IXtNU80m-"
      },
      "execution_count": null,
      "outputs": []
    },
    {
      "cell_type": "code",
      "source": [
        "y_train=y_train.map(d)\n",
        "y_test=y_test.map(d)"
      ],
      "metadata": {
        "id": "yjdXVHYO9Gxv"
      },
      "execution_count": null,
      "outputs": []
    },
    {
      "cell_type": "code",
      "source": [
        "X_train.head()"
      ],
      "metadata": {
        "colab": {
          "base_uri": "https://localhost:8080/",
          "height": 206
        },
        "id": "CBZpuMVa9JLA",
        "outputId": "35a286bd-654b-4a1e-ee98-9af1d9e86d56"
      },
      "execution_count": null,
      "outputs": [
        {
          "output_type": "execute_result",
          "data": {
            "text/plain": [
              "          0         1         2         3         4         5         6  \\\n",
              "0  0.266074 -0.165620  0.320980  0.483299  0.172340  0.273364  0.371178   \n",
              "1  0.130292  0.870736 -3.210528  0.062493  0.261718  1.436060  1.465940   \n",
              "2 -0.116585  0.069915  0.068476 -0.783147  0.261718  0.439463 -0.081827   \n",
              "3  0.031541  0.297600 -3.210528 -0.583590 -0.721442 -0.307984  0.710932   \n",
              "4  0.229043  0.807926 -0.052442  0.082634  0.261718  0.148790  0.635431   \n",
              "\n",
              "          7         8         9  \n",
              "0  0.929823  0.251173  0.159345  \n",
              "1  0.636203  0.282354  0.515587  \n",
              "2 -0.888236 -0.123005  0.582939  \n",
              "3  1.051693  0.594169 -0.533994  \n",
              "4  0.051062  0.032902 -0.086652  "
            ],
            "text/html": [
              "\n",
              "  <div id=\"df-7ba1439f-59d9-469b-97ff-fdff42c5bfb6\">\n",
              "    <div class=\"colab-df-container\">\n",
              "      <div>\n",
              "<style scoped>\n",
              "    .dataframe tbody tr th:only-of-type {\n",
              "        vertical-align: middle;\n",
              "    }\n",
              "\n",
              "    .dataframe tbody tr th {\n",
              "        vertical-align: top;\n",
              "    }\n",
              "\n",
              "    .dataframe thead th {\n",
              "        text-align: right;\n",
              "    }\n",
              "</style>\n",
              "<table border=\"1\" class=\"dataframe\">\n",
              "  <thead>\n",
              "    <tr style=\"text-align: right;\">\n",
              "      <th></th>\n",
              "      <th>0</th>\n",
              "      <th>1</th>\n",
              "      <th>2</th>\n",
              "      <th>3</th>\n",
              "      <th>4</th>\n",
              "      <th>5</th>\n",
              "      <th>6</th>\n",
              "      <th>7</th>\n",
              "      <th>8</th>\n",
              "      <th>9</th>\n",
              "    </tr>\n",
              "  </thead>\n",
              "  <tbody>\n",
              "    <tr>\n",
              "      <th>0</th>\n",
              "      <td>0.266074</td>\n",
              "      <td>-0.165620</td>\n",
              "      <td>0.320980</td>\n",
              "      <td>0.483299</td>\n",
              "      <td>0.172340</td>\n",
              "      <td>0.273364</td>\n",
              "      <td>0.371178</td>\n",
              "      <td>0.929823</td>\n",
              "      <td>0.251173</td>\n",
              "      <td>0.159345</td>\n",
              "    </tr>\n",
              "    <tr>\n",
              "      <th>1</th>\n",
              "      <td>0.130292</td>\n",
              "      <td>0.870736</td>\n",
              "      <td>-3.210528</td>\n",
              "      <td>0.062493</td>\n",
              "      <td>0.261718</td>\n",
              "      <td>1.436060</td>\n",
              "      <td>1.465940</td>\n",
              "      <td>0.636203</td>\n",
              "      <td>0.282354</td>\n",
              "      <td>0.515587</td>\n",
              "    </tr>\n",
              "    <tr>\n",
              "      <th>2</th>\n",
              "      <td>-0.116585</td>\n",
              "      <td>0.069915</td>\n",
              "      <td>0.068476</td>\n",
              "      <td>-0.783147</td>\n",
              "      <td>0.261718</td>\n",
              "      <td>0.439463</td>\n",
              "      <td>-0.081827</td>\n",
              "      <td>-0.888236</td>\n",
              "      <td>-0.123005</td>\n",
              "      <td>0.582939</td>\n",
              "    </tr>\n",
              "    <tr>\n",
              "      <th>3</th>\n",
              "      <td>0.031541</td>\n",
              "      <td>0.297600</td>\n",
              "      <td>-3.210528</td>\n",
              "      <td>-0.583590</td>\n",
              "      <td>-0.721442</td>\n",
              "      <td>-0.307984</td>\n",
              "      <td>0.710932</td>\n",
              "      <td>1.051693</td>\n",
              "      <td>0.594169</td>\n",
              "      <td>-0.533994</td>\n",
              "    </tr>\n",
              "    <tr>\n",
              "      <th>4</th>\n",
              "      <td>0.229043</td>\n",
              "      <td>0.807926</td>\n",
              "      <td>-0.052442</td>\n",
              "      <td>0.082634</td>\n",
              "      <td>0.261718</td>\n",
              "      <td>0.148790</td>\n",
              "      <td>0.635431</td>\n",
              "      <td>0.051062</td>\n",
              "      <td>0.032902</td>\n",
              "      <td>-0.086652</td>\n",
              "    </tr>\n",
              "  </tbody>\n",
              "</table>\n",
              "</div>\n",
              "      <button class=\"colab-df-convert\" onclick=\"convertToInteractive('df-7ba1439f-59d9-469b-97ff-fdff42c5bfb6')\"\n",
              "              title=\"Convert this dataframe to an interactive table.\"\n",
              "              style=\"display:none;\">\n",
              "        \n",
              "  <svg xmlns=\"http://www.w3.org/2000/svg\" height=\"24px\"viewBox=\"0 0 24 24\"\n",
              "       width=\"24px\">\n",
              "    <path d=\"M0 0h24v24H0V0z\" fill=\"none\"/>\n",
              "    <path d=\"M18.56 5.44l.94 2.06.94-2.06 2.06-.94-2.06-.94-.94-2.06-.94 2.06-2.06.94zm-11 1L8.5 8.5l.94-2.06 2.06-.94-2.06-.94L8.5 2.5l-.94 2.06-2.06.94zm10 10l.94 2.06.94-2.06 2.06-.94-2.06-.94-.94-2.06-.94 2.06-2.06.94z\"/><path d=\"M17.41 7.96l-1.37-1.37c-.4-.4-.92-.59-1.43-.59-.52 0-1.04.2-1.43.59L10.3 9.45l-7.72 7.72c-.78.78-.78 2.05 0 2.83L4 21.41c.39.39.9.59 1.41.59.51 0 1.02-.2 1.41-.59l7.78-7.78 2.81-2.81c.8-.78.8-2.07 0-2.86zM5.41 20L4 18.59l7.72-7.72 1.47 1.35L5.41 20z\"/>\n",
              "  </svg>\n",
              "      </button>\n",
              "      \n",
              "  <style>\n",
              "    .colab-df-container {\n",
              "      display:flex;\n",
              "      flex-wrap:wrap;\n",
              "      gap: 12px;\n",
              "    }\n",
              "\n",
              "    .colab-df-convert {\n",
              "      background-color: #E8F0FE;\n",
              "      border: none;\n",
              "      border-radius: 50%;\n",
              "      cursor: pointer;\n",
              "      display: none;\n",
              "      fill: #1967D2;\n",
              "      height: 32px;\n",
              "      padding: 0 0 0 0;\n",
              "      width: 32px;\n",
              "    }\n",
              "\n",
              "    .colab-df-convert:hover {\n",
              "      background-color: #E2EBFA;\n",
              "      box-shadow: 0px 1px 2px rgba(60, 64, 67, 0.3), 0px 1px 3px 1px rgba(60, 64, 67, 0.15);\n",
              "      fill: #174EA6;\n",
              "    }\n",
              "\n",
              "    [theme=dark] .colab-df-convert {\n",
              "      background-color: #3B4455;\n",
              "      fill: #D2E3FC;\n",
              "    }\n",
              "\n",
              "    [theme=dark] .colab-df-convert:hover {\n",
              "      background-color: #434B5C;\n",
              "      box-shadow: 0px 1px 3px 1px rgba(0, 0, 0, 0.15);\n",
              "      filter: drop-shadow(0px 1px 2px rgba(0, 0, 0, 0.3));\n",
              "      fill: #FFFFFF;\n",
              "    }\n",
              "  </style>\n",
              "\n",
              "      <script>\n",
              "        const buttonEl =\n",
              "          document.querySelector('#df-7ba1439f-59d9-469b-97ff-fdff42c5bfb6 button.colab-df-convert');\n",
              "        buttonEl.style.display =\n",
              "          google.colab.kernel.accessAllowed ? 'block' : 'none';\n",
              "\n",
              "        async function convertToInteractive(key) {\n",
              "          const element = document.querySelector('#df-7ba1439f-59d9-469b-97ff-fdff42c5bfb6');\n",
              "          const dataTable =\n",
              "            await google.colab.kernel.invokeFunction('convertToInteractive',\n",
              "                                                     [key], {});\n",
              "          if (!dataTable) return;\n",
              "\n",
              "          const docLinkHtml = 'Like what you see? Visit the ' +\n",
              "            '<a target=\"_blank\" href=https://colab.research.google.com/notebooks/data_table.ipynb>data table notebook</a>'\n",
              "            + ' to learn more about interactive tables.';\n",
              "          element.innerHTML = '';\n",
              "          dataTable['output_type'] = 'display_data';\n",
              "          await google.colab.output.renderOutput(dataTable, element);\n",
              "          const docLink = document.createElement('div');\n",
              "          docLink.innerHTML = docLinkHtml;\n",
              "          element.appendChild(docLink);\n",
              "        }\n",
              "      </script>\n",
              "    </div>\n",
              "  </div>\n",
              "  "
            ]
          },
          "metadata": {},
          "execution_count": 11
        }
      ]
    },
    {
      "cell_type": "code",
      "source": [
        "y_train"
      ],
      "metadata": {
        "colab": {
          "base_uri": "https://localhost:8080/"
        },
        "id": "68SxjH7t9Ltg",
        "outputId": "cba6ed41-42c5-4e28-c965-f16334e32da8"
      },
      "execution_count": null,
      "outputs": [
        {
          "output_type": "execute_result",
          "data": {
            "text/plain": [
              "0        0\n",
              "1        0\n",
              "2        0\n",
              "3        0\n",
              "4        1\n",
              "        ..\n",
              "10425    1\n",
              "10426    1\n",
              "10427    0\n",
              "10428    3\n",
              "10429    7\n",
              "Name: 10, Length: 10430, dtype: int64"
            ]
          },
          "metadata": {},
          "execution_count": 12
        }
      ]
    },
    {
      "cell_type": "code",
      "source": [
        "import torch  "
      ],
      "metadata": {
        "id": "eW2hbKV_9Ov3"
      },
      "execution_count": null,
      "outputs": []
    },
    {
      "cell_type": "code",
      "source": [
        "X_train.shape"
      ],
      "metadata": {
        "colab": {
          "base_uri": "https://localhost:8080/"
        },
        "id": "y6VRQmF09TRs",
        "outputId": "fab30a70-6be3-4eb8-d07e-973b4600ed4b"
      },
      "execution_count": null,
      "outputs": [
        {
          "output_type": "execute_result",
          "data": {
            "text/plain": [
              "(10430, 10)"
            ]
          },
          "metadata": {},
          "execution_count": 14
        }
      ]
    },
    {
      "cell_type": "code",
      "source": [
        "y_train.shape"
      ],
      "metadata": {
        "colab": {
          "base_uri": "https://localhost:8080/"
        },
        "id": "4qvJif_U9UoZ",
        "outputId": "8af908d5-7f46-4135-ec47-7e2e8d76994f"
      },
      "execution_count": null,
      "outputs": [
        {
          "output_type": "execute_result",
          "data": {
            "text/plain": [
              "(10430,)"
            ]
          },
          "metadata": {},
          "execution_count": 15
        }
      ]
    },
    {
      "cell_type": "code",
      "source": [
        "X_train = torch.tensor(X_train.values)\n",
        "X_test = torch.tensor(X_test.values)\n",
        "y_train=torch.tensor(y_train.values)\n",
        "y_test=torch.tensor(y_test.values)"
      ],
      "metadata": {
        "id": "2C-v6_I89ct9"
      },
      "execution_count": null,
      "outputs": []
    },
    {
      "cell_type": "code",
      "source": [
        "X_train.shape"
      ],
      "metadata": {
        "colab": {
          "base_uri": "https://localhost:8080/"
        },
        "id": "yUBWDJws9inE",
        "outputId": "bcd64a2b-9403-40ea-e719-4172eee9be04"
      },
      "execution_count": null,
      "outputs": [
        {
          "output_type": "execute_result",
          "data": {
            "text/plain": [
              "torch.Size([10430, 10])"
            ]
          },
          "metadata": {},
          "execution_count": 17
        }
      ]
    },
    {
      "cell_type": "code",
      "source": [
        "y_train.reshape(-1,1)"
      ],
      "metadata": {
        "colab": {
          "base_uri": "https://localhost:8080/"
        },
        "id": "oNhwTbWD9kQJ",
        "outputId": "9140bced-d0bf-4c97-8d47-c81a5a1af091"
      },
      "execution_count": null,
      "outputs": [
        {
          "output_type": "execute_result",
          "data": {
            "text/plain": [
              "tensor([[0],\n",
              "        [0],\n",
              "        [0],\n",
              "        ...,\n",
              "        [0],\n",
              "        [3],\n",
              "        [7]])"
            ]
          },
          "metadata": {},
          "execution_count": 18
        }
      ]
    },
    {
      "cell_type": "code",
      "source": [
        "y_test.reshape(-1,1)"
      ],
      "metadata": {
        "colab": {
          "base_uri": "https://localhost:8080/"
        },
        "id": "C8vZKNImAHRV",
        "outputId": "c5bee829-f422-495b-9008-4929b50f5b6b"
      },
      "execution_count": null,
      "outputs": [
        {
          "output_type": "execute_result",
          "data": {
            "text/plain": [
              "tensor([[9],\n",
              "        [0],\n",
              "        [4],\n",
              "        ...,\n",
              "        [0],\n",
              "        [1],\n",
              "        [2]])"
            ]
          },
          "metadata": {},
          "execution_count": 19
        }
      ]
    },
    {
      "cell_type": "code",
      "source": [
        "import torch,torchsummary\n",
        "import torch.nn as nn\n",
        "import torch.nn.functional as F \n",
        "from torch.utils.data import DataLoader,TensorDataset \n",
        "from torch.optim import Adam,RMSprop "
      ],
      "metadata": {
        "id": "p5IJQUCZ97LS"
      },
      "execution_count": null,
      "outputs": []
    },
    {
      "cell_type": "code",
      "source": [
        "train_loader=DataLoader(TensorDataset(X_train.float(),y_train),batch_size=64,shuffle=True)\n",
        "val_loader=DataLoader(TensorDataset(X_test.float(),y_test),batch_size=64)"
      ],
      "metadata": {
        "id": "sx3ezCqo-fcG"
      },
      "execution_count": null,
      "outputs": []
    },
    {
      "cell_type": "code",
      "source": [
        "class MNIST_DNN(nn.Module): #nn.module its the class, all the layers,activation are inheriting\n",
        "  def __init__(self):\n",
        "    super(MNIST_DNN,self).__init__() #this line linkds MNIST_DNN to nn.module by calling __init__()\n",
        "    self.h1 = nn.Linear(in_features=10,out_features=512) #linear means here dense in torch like dense in tensorflow\n",
        "    self.h2 = nn.Linear(in_features=512,out_features=256)\n",
        "    self.bn = nn.BatchNorm1d(num_features=256) #1D array Iam supplying, so 1D batchnormalization, if I have to supply a pic, 2D, then it will be 2D\n",
        "    self.h3 = nn.Linear(in_features=256,out_features=128)\n",
        "    self.dropout = nn.Dropout(p=0.40) #at random 30 percent will be dropout between h3 and h4 , to make model model robust, for regulazation we dropout\n",
        "    self.h4 = nn.Linear(in_features=128,out_features=32)\n",
        "    self.out = nn.Linear(in_features=32,out_features=12) #dont shrink less than 10(10 classes are there, that will be severely underfitting)\n",
        "\n",
        "  # def forward(self,x):\n",
        "  #   x = self.h1(x)\n",
        "  #   x = F.relu(x)\n",
        "  #   x = self.dropout(x)  #no parameter for dropout\n",
        "\n",
        "  #   x = F.relu(self.h2(x))\n",
        "\n",
        "  #   x = self.bn(x) #for initialization of bn , two parametres gamma and beta so, initialize every time\n",
        "  #   x = F.relu(self.h3(x))\n",
        "  #   x = self.dropout(x)\n",
        "\n",
        "  #   x = F.relu(self.h4())\n",
        "\n",
        "  #   x = F.relu(self.out(x))\n",
        "  #   #x = torch.softmax(x,dim=1)\n",
        "\n",
        "  #   return x\n",
        "  def forward(self,x):\n",
        "    x=self.h1(x)\n",
        "    x=F.relu(x)\n",
        "    x=self.dropout(x)\n",
        "    x=F.relu(self.h2(x))\n",
        "\n",
        "    x=self.bn(x)\n",
        "    x=F.relu(self.h3(x))\n",
        "    x=self.dropout(x)\n",
        "\n",
        "    x=F.relu(self.h4(x))\n",
        "    x=self.dropout(x)\n",
        "\n",
        "    x=F.relu(self.out(x))\n",
        "    #x=torch.softmax(x,dim=1)\n",
        "\n",
        "    return x"
      ],
      "metadata": {
        "id": "fR5SjSk4_Hqi"
      },
      "execution_count": null,
      "outputs": []
    },
    {
      "cell_type": "code",
      "source": [
        "model_DNN =  MNIST_DNN()"
      ],
      "metadata": {
        "id": "_R_02JvcDAqH"
      },
      "execution_count": null,
      "outputs": []
    },
    {
      "cell_type": "code",
      "source": [
        "list(model_DNN.parameters())"
      ],
      "metadata": {
        "id": "1QTK_aSnDDnP"
      },
      "execution_count": null,
      "outputs": []
    },
    {
      "cell_type": "code",
      "source": [
        "opt = Adam(model_DNN.parameters(),lr = 0.001)"
      ],
      "metadata": {
        "id": "pTs798EGDK71"
      },
      "execution_count": null,
      "outputs": []
    },
    {
      "cell_type": "code",
      "source": [
        "device = torch.device(\"cuda\" if torch.cuda.is_available() else \"cpu\")\n",
        "device"
      ],
      "metadata": {
        "colab": {
          "base_uri": "https://localhost:8080/"
        },
        "id": "f-NNvObHDPXS",
        "outputId": "99a57b92-1a95-400f-a055-c4de67416f9a"
      },
      "execution_count": null,
      "outputs": [
        {
          "output_type": "execute_result",
          "data": {
            "text/plain": [
              "device(type='cpu')"
            ]
          },
          "metadata": {},
          "execution_count": 25
        }
      ]
    },
    {
      "cell_type": "code",
      "source": [
        "model_DNN = model_DNN.to(device)"
      ],
      "metadata": {
        "id": "S_naDgfWDSuq"
      },
      "execution_count": null,
      "outputs": []
    },
    {
      "cell_type": "code",
      "source": [
        "#it gives more flexibility in fit , learning arte itself can be chnaged, so torch is more flexible than tensorflow\n",
        "for epoch in range(30):\n",
        "  training_loss = 0.0\n",
        "  for batch, target in train_loader: #train_loader is a generator (bathc=mini batch,target = target)\n",
        "    batch=batch.to(device) #batch is a tensor,(not numpy) so can be shifted to gpu\n",
        "    target = target.to(device)\n",
        "    #print(batch.shape)\n",
        "    \n",
        "    #---- The Learning Phase ------#\n",
        "    opt.zero_grad() #removing all the calculated residual gradients after every batch, each batch is independent, gradients are calculated newly\n",
        "    output =  model_DNN(batch) #calculating output\n",
        "    loss = F.cross_entropy(output,target) #in torch just cross entropy\n",
        "    loss.backward() #gradients are calcuated, whether it is rmsProp, Adam anything\n",
        "    opt.step() #weights are upodated\n",
        "    #---- The Learning Phase ------#\n",
        "    training_loss += loss.item() #actual value of loss\n",
        "  \n",
        "  val_loss = 0.0\n",
        "  for val_batch, val_target in val_loader:\n",
        "    val_batch = val_batch.to(device)\n",
        "    val_target = val_target.to(device)\n",
        "    pred = model_DNN(val_batch)\n",
        "    loss_val = F.cross_entropy(pred,val_target)\n",
        "    val_loss += loss_val.item()\n",
        "\n",
        "  if (epoch+1) % 5 ==0:\n",
        "    print(f\"Training Loss: {training_loss}\")\n",
        "    print(f\"Test Loss: {val_loss}\")"
      ],
      "metadata": {
        "colab": {
          "base_uri": "https://localhost:8080/"
        },
        "id": "lI0AzSZaDVWo",
        "outputId": "b51e4939-cb87-491f-faf6-7d3022e5c732"
      },
      "execution_count": null,
      "outputs": [
        {
          "output_type": "stream",
          "name": "stdout",
          "text": [
            "Training Loss: 171.56814312934875\n",
            "Test Loss: 175.65521317720413\n",
            "Training Loss: 148.652317404747\n",
            "Test Loss: 153.29209393262863\n",
            "Training Loss: 132.26376128196716\n",
            "Test Loss: 140.2982337474823\n",
            "Training Loss: 123.01449564099312\n",
            "Test Loss: 129.20750898122787\n",
            "Training Loss: 114.32172518968582\n",
            "Test Loss: 120.82497411966324\n",
            "Training Loss: 106.66835975646973\n",
            "Test Loss: 116.75610002875328\n"
          ]
        }
      ]
    },
    {
      "cell_type": "code",
      "source": [
        "torchsummary.summary(model_DNN,input_size=(X_train.shape[1],),device=\"cpu\",batch_size=-1)"
      ],
      "metadata": {
        "colab": {
          "base_uri": "https://localhost:8080/"
        },
        "id": "Sok_bPMgDuRe",
        "outputId": "1486a2ab-824a-4f02-afeb-b6a0ab46b2ba"
      },
      "execution_count": null,
      "outputs": [
        {
          "output_type": "stream",
          "name": "stdout",
          "text": [
            "----------------------------------------------------------------\n",
            "        Layer (type)               Output Shape         Param #\n",
            "================================================================\n",
            "            Linear-1                  [-1, 512]           5,632\n",
            "           Dropout-2                  [-1, 512]               0\n",
            "            Linear-3                  [-1, 256]         131,328\n",
            "       BatchNorm1d-4                  [-1, 256]             512\n",
            "            Linear-5                  [-1, 128]          32,896\n",
            "           Dropout-6                  [-1, 128]               0\n",
            "            Linear-7                   [-1, 32]           4,128\n",
            "           Dropout-8                   [-1, 32]               0\n",
            "            Linear-9                   [-1, 12]             396\n",
            "================================================================\n",
            "Total params: 174,892\n",
            "Trainable params: 174,892\n",
            "Non-trainable params: 0\n",
            "----------------------------------------------------------------\n",
            "Input size (MB): 0.00\n",
            "Forward/backward pass size (MB): 0.01\n",
            "Params size (MB): 0.67\n",
            "Estimated Total Size (MB): 0.68\n",
            "----------------------------------------------------------------\n"
          ]
        }
      ]
    }
  ]
}