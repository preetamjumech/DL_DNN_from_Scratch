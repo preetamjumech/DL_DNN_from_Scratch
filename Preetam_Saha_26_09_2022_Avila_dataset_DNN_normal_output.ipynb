{
  "nbformat": 4,
  "nbformat_minor": 0,
  "metadata": {
    "colab": {
      "provenance": [],
      "collapsed_sections": [],
      "mount_file_id": "1HfxsEe_5UxH06TdfvX9I8fzYqmNFwq5A",
      "authorship_tag": "ABX9TyMeyFHQcLDelV2yXtgbisyK",
      "include_colab_link": true
    },
    "kernelspec": {
      "name": "python3",
      "display_name": "Python 3"
    },
    "language_info": {
      "name": "python"
    }
  },
  "cells": [
    {
      "cell_type": "markdown",
      "metadata": {
        "id": "view-in-github",
        "colab_type": "text"
      },
      "source": [
        "<a href=\"https://colab.research.google.com/github/preetamjumech/DL_DNN_from_Scratch/blob/main/Preetam_Saha_26_09_2022_Avila_dataset_DNN_normal_output.ipynb\" target=\"_parent\"><img src=\"https://colab.research.google.com/assets/colab-badge.svg\" alt=\"Open In Colab\"/></a>"
      ]
    },
    {
      "cell_type": "code",
      "execution_count": null,
      "metadata": {
        "id": "s3nvyANW6dsZ"
      },
      "outputs": [],
      "source": [
        "import pandas as pd\n",
        "import numpy as np\n",
        "import seaborn as sns\n",
        "import matplotlib.pyplot as plt\n",
        "import matplotlib\n",
        "matplotlib.rcParams[\"figure.figsize\"]=(20,10)"
      ]
    },
    {
      "cell_type": "code",
      "source": [
        "train = pd.read_csv(\"/content/drive/MyDrive/avila-tr.txt\",header = None)\n",
        "train.head()"
      ],
      "metadata": {
        "colab": {
          "base_uri": "https://localhost:8080/",
          "height": 206
        },
        "id": "X_lq-RF66w1G",
        "outputId": "e0393ea2-b37a-4f5b-84db-1c94bdef1ab5"
      },
      "execution_count": null,
      "outputs": [
        {
          "output_type": "execute_result",
          "data": {
            "text/plain": [
              "         0         1         2         3         4         5         6   \\\n",
              "0  0.266074 -0.165620  0.320980  0.483299  0.172340  0.273364  0.371178   \n",
              "1  0.130292  0.870736 -3.210528  0.062493  0.261718  1.436060  1.465940   \n",
              "2 -0.116585  0.069915  0.068476 -0.783147  0.261718  0.439463 -0.081827   \n",
              "3  0.031541  0.297600 -3.210528 -0.583590 -0.721442 -0.307984  0.710932   \n",
              "4  0.229043  0.807926 -0.052442  0.082634  0.261718  0.148790  0.635431   \n",
              "\n",
              "         7         8         9  10  \n",
              "0  0.929823  0.251173  0.159345  A  \n",
              "1  0.636203  0.282354  0.515587  A  \n",
              "2 -0.888236 -0.123005  0.582939  A  \n",
              "3  1.051693  0.594169 -0.533994  A  \n",
              "4  0.051062  0.032902 -0.086652  F  "
            ],
            "text/html": [
              "\n",
              "  <div id=\"df-fcd1b1eb-dc8a-4ebd-95b1-db8b636eff94\">\n",
              "    <div class=\"colab-df-container\">\n",
              "      <div>\n",
              "<style scoped>\n",
              "    .dataframe tbody tr th:only-of-type {\n",
              "        vertical-align: middle;\n",
              "    }\n",
              "\n",
              "    .dataframe tbody tr th {\n",
              "        vertical-align: top;\n",
              "    }\n",
              "\n",
              "    .dataframe thead th {\n",
              "        text-align: right;\n",
              "    }\n",
              "</style>\n",
              "<table border=\"1\" class=\"dataframe\">\n",
              "  <thead>\n",
              "    <tr style=\"text-align: right;\">\n",
              "      <th></th>\n",
              "      <th>0</th>\n",
              "      <th>1</th>\n",
              "      <th>2</th>\n",
              "      <th>3</th>\n",
              "      <th>4</th>\n",
              "      <th>5</th>\n",
              "      <th>6</th>\n",
              "      <th>7</th>\n",
              "      <th>8</th>\n",
              "      <th>9</th>\n",
              "      <th>10</th>\n",
              "    </tr>\n",
              "  </thead>\n",
              "  <tbody>\n",
              "    <tr>\n",
              "      <th>0</th>\n",
              "      <td>0.266074</td>\n",
              "      <td>-0.165620</td>\n",
              "      <td>0.320980</td>\n",
              "      <td>0.483299</td>\n",
              "      <td>0.172340</td>\n",
              "      <td>0.273364</td>\n",
              "      <td>0.371178</td>\n",
              "      <td>0.929823</td>\n",
              "      <td>0.251173</td>\n",
              "      <td>0.159345</td>\n",
              "      <td>A</td>\n",
              "    </tr>\n",
              "    <tr>\n",
              "      <th>1</th>\n",
              "      <td>0.130292</td>\n",
              "      <td>0.870736</td>\n",
              "      <td>-3.210528</td>\n",
              "      <td>0.062493</td>\n",
              "      <td>0.261718</td>\n",
              "      <td>1.436060</td>\n",
              "      <td>1.465940</td>\n",
              "      <td>0.636203</td>\n",
              "      <td>0.282354</td>\n",
              "      <td>0.515587</td>\n",
              "      <td>A</td>\n",
              "    </tr>\n",
              "    <tr>\n",
              "      <th>2</th>\n",
              "      <td>-0.116585</td>\n",
              "      <td>0.069915</td>\n",
              "      <td>0.068476</td>\n",
              "      <td>-0.783147</td>\n",
              "      <td>0.261718</td>\n",
              "      <td>0.439463</td>\n",
              "      <td>-0.081827</td>\n",
              "      <td>-0.888236</td>\n",
              "      <td>-0.123005</td>\n",
              "      <td>0.582939</td>\n",
              "      <td>A</td>\n",
              "    </tr>\n",
              "    <tr>\n",
              "      <th>3</th>\n",
              "      <td>0.031541</td>\n",
              "      <td>0.297600</td>\n",
              "      <td>-3.210528</td>\n",
              "      <td>-0.583590</td>\n",
              "      <td>-0.721442</td>\n",
              "      <td>-0.307984</td>\n",
              "      <td>0.710932</td>\n",
              "      <td>1.051693</td>\n",
              "      <td>0.594169</td>\n",
              "      <td>-0.533994</td>\n",
              "      <td>A</td>\n",
              "    </tr>\n",
              "    <tr>\n",
              "      <th>4</th>\n",
              "      <td>0.229043</td>\n",
              "      <td>0.807926</td>\n",
              "      <td>-0.052442</td>\n",
              "      <td>0.082634</td>\n",
              "      <td>0.261718</td>\n",
              "      <td>0.148790</td>\n",
              "      <td>0.635431</td>\n",
              "      <td>0.051062</td>\n",
              "      <td>0.032902</td>\n",
              "      <td>-0.086652</td>\n",
              "      <td>F</td>\n",
              "    </tr>\n",
              "  </tbody>\n",
              "</table>\n",
              "</div>\n",
              "      <button class=\"colab-df-convert\" onclick=\"convertToInteractive('df-fcd1b1eb-dc8a-4ebd-95b1-db8b636eff94')\"\n",
              "              title=\"Convert this dataframe to an interactive table.\"\n",
              "              style=\"display:none;\">\n",
              "        \n",
              "  <svg xmlns=\"http://www.w3.org/2000/svg\" height=\"24px\"viewBox=\"0 0 24 24\"\n",
              "       width=\"24px\">\n",
              "    <path d=\"M0 0h24v24H0V0z\" fill=\"none\"/>\n",
              "    <path d=\"M18.56 5.44l.94 2.06.94-2.06 2.06-.94-2.06-.94-.94-2.06-.94 2.06-2.06.94zm-11 1L8.5 8.5l.94-2.06 2.06-.94-2.06-.94L8.5 2.5l-.94 2.06-2.06.94zm10 10l.94 2.06.94-2.06 2.06-.94-2.06-.94-.94-2.06-.94 2.06-2.06.94z\"/><path d=\"M17.41 7.96l-1.37-1.37c-.4-.4-.92-.59-1.43-.59-.52 0-1.04.2-1.43.59L10.3 9.45l-7.72 7.72c-.78.78-.78 2.05 0 2.83L4 21.41c.39.39.9.59 1.41.59.51 0 1.02-.2 1.41-.59l7.78-7.78 2.81-2.81c.8-.78.8-2.07 0-2.86zM5.41 20L4 18.59l7.72-7.72 1.47 1.35L5.41 20z\"/>\n",
              "  </svg>\n",
              "      </button>\n",
              "      \n",
              "  <style>\n",
              "    .colab-df-container {\n",
              "      display:flex;\n",
              "      flex-wrap:wrap;\n",
              "      gap: 12px;\n",
              "    }\n",
              "\n",
              "    .colab-df-convert {\n",
              "      background-color: #E8F0FE;\n",
              "      border: none;\n",
              "      border-radius: 50%;\n",
              "      cursor: pointer;\n",
              "      display: none;\n",
              "      fill: #1967D2;\n",
              "      height: 32px;\n",
              "      padding: 0 0 0 0;\n",
              "      width: 32px;\n",
              "    }\n",
              "\n",
              "    .colab-df-convert:hover {\n",
              "      background-color: #E2EBFA;\n",
              "      box-shadow: 0px 1px 2px rgba(60, 64, 67, 0.3), 0px 1px 3px 1px rgba(60, 64, 67, 0.15);\n",
              "      fill: #174EA6;\n",
              "    }\n",
              "\n",
              "    [theme=dark] .colab-df-convert {\n",
              "      background-color: #3B4455;\n",
              "      fill: #D2E3FC;\n",
              "    }\n",
              "\n",
              "    [theme=dark] .colab-df-convert:hover {\n",
              "      background-color: #434B5C;\n",
              "      box-shadow: 0px 1px 3px 1px rgba(0, 0, 0, 0.15);\n",
              "      filter: drop-shadow(0px 1px 2px rgba(0, 0, 0, 0.3));\n",
              "      fill: #FFFFFF;\n",
              "    }\n",
              "  </style>\n",
              "\n",
              "      <script>\n",
              "        const buttonEl =\n",
              "          document.querySelector('#df-fcd1b1eb-dc8a-4ebd-95b1-db8b636eff94 button.colab-df-convert');\n",
              "        buttonEl.style.display =\n",
              "          google.colab.kernel.accessAllowed ? 'block' : 'none';\n",
              "\n",
              "        async function convertToInteractive(key) {\n",
              "          const element = document.querySelector('#df-fcd1b1eb-dc8a-4ebd-95b1-db8b636eff94');\n",
              "          const dataTable =\n",
              "            await google.colab.kernel.invokeFunction('convertToInteractive',\n",
              "                                                     [key], {});\n",
              "          if (!dataTable) return;\n",
              "\n",
              "          const docLinkHtml = 'Like what you see? Visit the ' +\n",
              "            '<a target=\"_blank\" href=https://colab.research.google.com/notebooks/data_table.ipynb>data table notebook</a>'\n",
              "            + ' to learn more about interactive tables.';\n",
              "          element.innerHTML = '';\n",
              "          dataTable['output_type'] = 'display_data';\n",
              "          await google.colab.output.renderOutput(dataTable, element);\n",
              "          const docLink = document.createElement('div');\n",
              "          docLink.innerHTML = docLinkHtml;\n",
              "          element.appendChild(docLink);\n",
              "        }\n",
              "      </script>\n",
              "    </div>\n",
              "  </div>\n",
              "  "
            ]
          },
          "metadata": {},
          "execution_count": 2
        }
      ]
    },
    {
      "cell_type": "code",
      "source": [
        "train.shape"
      ],
      "metadata": {
        "colab": {
          "base_uri": "https://localhost:8080/"
        },
        "id": "48vO4GkO7vL_",
        "outputId": "51f79e31-afcc-45e3-b01a-61589b4f8183"
      },
      "execution_count": null,
      "outputs": [
        {
          "output_type": "execute_result",
          "data": {
            "text/plain": [
              "(10430, 11)"
            ]
          },
          "metadata": {},
          "execution_count": 3
        }
      ]
    },
    {
      "cell_type": "code",
      "source": [
        "test = pd.read_csv(\"/content/drive/MyDrive/avila-ts.txt\",header = None)\n",
        "test.head()"
      ],
      "metadata": {
        "colab": {
          "base_uri": "https://localhost:8080/",
          "height": 206
        },
        "id": "Ur0oQLvG7w3_",
        "outputId": "e73dbbab-1a07-4f35-cf1f-93e3b7222d65"
      },
      "execution_count": null,
      "outputs": [
        {
          "output_type": "execute_result",
          "data": {
            "text/plain": [
              "         0         1         2         3         4         5         6   \\\n",
              "0 -3.498799  0.250492  0.232070  1.224178 -4.922215  1.145386  0.182426   \n",
              "1  0.204355 -0.354049  0.320980  0.410166 -0.989576 -2.218127  0.220177   \n",
              "2  0.759828 -1.304042 -0.023991 -0.973663 -0.006417 -0.349509 -0.421580   \n",
              "3 -0.005490  0.360409  0.281860 -0.213479 -1.168333 -1.013906 -0.346080   \n",
              "4  0.080916  0.101320  0.104040  0.140490  0.261718  0.480988  0.710932   \n",
              "\n",
              "         7         8         9  10  \n",
              "0 -0.165983 -0.123005  1.087144  W  \n",
              "1  0.181844  2.090879 -2.009758  A  \n",
              "2 -0.450127  0.469443  0.060952  I  \n",
              "3  1.176165  0.968347 -0.627999  E  \n",
              "4 -0.253430 -0.497183  0.155681  A  "
            ],
            "text/html": [
              "\n",
              "  <div id=\"df-8858a83d-442c-418c-bedd-0092a54c7036\">\n",
              "    <div class=\"colab-df-container\">\n",
              "      <div>\n",
              "<style scoped>\n",
              "    .dataframe tbody tr th:only-of-type {\n",
              "        vertical-align: middle;\n",
              "    }\n",
              "\n",
              "    .dataframe tbody tr th {\n",
              "        vertical-align: top;\n",
              "    }\n",
              "\n",
              "    .dataframe thead th {\n",
              "        text-align: right;\n",
              "    }\n",
              "</style>\n",
              "<table border=\"1\" class=\"dataframe\">\n",
              "  <thead>\n",
              "    <tr style=\"text-align: right;\">\n",
              "      <th></th>\n",
              "      <th>0</th>\n",
              "      <th>1</th>\n",
              "      <th>2</th>\n",
              "      <th>3</th>\n",
              "      <th>4</th>\n",
              "      <th>5</th>\n",
              "      <th>6</th>\n",
              "      <th>7</th>\n",
              "      <th>8</th>\n",
              "      <th>9</th>\n",
              "      <th>10</th>\n",
              "    </tr>\n",
              "  </thead>\n",
              "  <tbody>\n",
              "    <tr>\n",
              "      <th>0</th>\n",
              "      <td>-3.498799</td>\n",
              "      <td>0.250492</td>\n",
              "      <td>0.232070</td>\n",
              "      <td>1.224178</td>\n",
              "      <td>-4.922215</td>\n",
              "      <td>1.145386</td>\n",
              "      <td>0.182426</td>\n",
              "      <td>-0.165983</td>\n",
              "      <td>-0.123005</td>\n",
              "      <td>1.087144</td>\n",
              "      <td>W</td>\n",
              "    </tr>\n",
              "    <tr>\n",
              "      <th>1</th>\n",
              "      <td>0.204355</td>\n",
              "      <td>-0.354049</td>\n",
              "      <td>0.320980</td>\n",
              "      <td>0.410166</td>\n",
              "      <td>-0.989576</td>\n",
              "      <td>-2.218127</td>\n",
              "      <td>0.220177</td>\n",
              "      <td>0.181844</td>\n",
              "      <td>2.090879</td>\n",
              "      <td>-2.009758</td>\n",
              "      <td>A</td>\n",
              "    </tr>\n",
              "    <tr>\n",
              "      <th>2</th>\n",
              "      <td>0.759828</td>\n",
              "      <td>-1.304042</td>\n",
              "      <td>-0.023991</td>\n",
              "      <td>-0.973663</td>\n",
              "      <td>-0.006417</td>\n",
              "      <td>-0.349509</td>\n",
              "      <td>-0.421580</td>\n",
              "      <td>-0.450127</td>\n",
              "      <td>0.469443</td>\n",
              "      <td>0.060952</td>\n",
              "      <td>I</td>\n",
              "    </tr>\n",
              "    <tr>\n",
              "      <th>3</th>\n",
              "      <td>-0.005490</td>\n",
              "      <td>0.360409</td>\n",
              "      <td>0.281860</td>\n",
              "      <td>-0.213479</td>\n",
              "      <td>-1.168333</td>\n",
              "      <td>-1.013906</td>\n",
              "      <td>-0.346080</td>\n",
              "      <td>1.176165</td>\n",
              "      <td>0.968347</td>\n",
              "      <td>-0.627999</td>\n",
              "      <td>E</td>\n",
              "    </tr>\n",
              "    <tr>\n",
              "      <th>4</th>\n",
              "      <td>0.080916</td>\n",
              "      <td>0.101320</td>\n",
              "      <td>0.104040</td>\n",
              "      <td>0.140490</td>\n",
              "      <td>0.261718</td>\n",
              "      <td>0.480988</td>\n",
              "      <td>0.710932</td>\n",
              "      <td>-0.253430</td>\n",
              "      <td>-0.497183</td>\n",
              "      <td>0.155681</td>\n",
              "      <td>A</td>\n",
              "    </tr>\n",
              "  </tbody>\n",
              "</table>\n",
              "</div>\n",
              "      <button class=\"colab-df-convert\" onclick=\"convertToInteractive('df-8858a83d-442c-418c-bedd-0092a54c7036')\"\n",
              "              title=\"Convert this dataframe to an interactive table.\"\n",
              "              style=\"display:none;\">\n",
              "        \n",
              "  <svg xmlns=\"http://www.w3.org/2000/svg\" height=\"24px\"viewBox=\"0 0 24 24\"\n",
              "       width=\"24px\">\n",
              "    <path d=\"M0 0h24v24H0V0z\" fill=\"none\"/>\n",
              "    <path d=\"M18.56 5.44l.94 2.06.94-2.06 2.06-.94-2.06-.94-.94-2.06-.94 2.06-2.06.94zm-11 1L8.5 8.5l.94-2.06 2.06-.94-2.06-.94L8.5 2.5l-.94 2.06-2.06.94zm10 10l.94 2.06.94-2.06 2.06-.94-2.06-.94-.94-2.06-.94 2.06-2.06.94z\"/><path d=\"M17.41 7.96l-1.37-1.37c-.4-.4-.92-.59-1.43-.59-.52 0-1.04.2-1.43.59L10.3 9.45l-7.72 7.72c-.78.78-.78 2.05 0 2.83L4 21.41c.39.39.9.59 1.41.59.51 0 1.02-.2 1.41-.59l7.78-7.78 2.81-2.81c.8-.78.8-2.07 0-2.86zM5.41 20L4 18.59l7.72-7.72 1.47 1.35L5.41 20z\"/>\n",
              "  </svg>\n",
              "      </button>\n",
              "      \n",
              "  <style>\n",
              "    .colab-df-container {\n",
              "      display:flex;\n",
              "      flex-wrap:wrap;\n",
              "      gap: 12px;\n",
              "    }\n",
              "\n",
              "    .colab-df-convert {\n",
              "      background-color: #E8F0FE;\n",
              "      border: none;\n",
              "      border-radius: 50%;\n",
              "      cursor: pointer;\n",
              "      display: none;\n",
              "      fill: #1967D2;\n",
              "      height: 32px;\n",
              "      padding: 0 0 0 0;\n",
              "      width: 32px;\n",
              "    }\n",
              "\n",
              "    .colab-df-convert:hover {\n",
              "      background-color: #E2EBFA;\n",
              "      box-shadow: 0px 1px 2px rgba(60, 64, 67, 0.3), 0px 1px 3px 1px rgba(60, 64, 67, 0.15);\n",
              "      fill: #174EA6;\n",
              "    }\n",
              "\n",
              "    [theme=dark] .colab-df-convert {\n",
              "      background-color: #3B4455;\n",
              "      fill: #D2E3FC;\n",
              "    }\n",
              "\n",
              "    [theme=dark] .colab-df-convert:hover {\n",
              "      background-color: #434B5C;\n",
              "      box-shadow: 0px 1px 3px 1px rgba(0, 0, 0, 0.15);\n",
              "      filter: drop-shadow(0px 1px 2px rgba(0, 0, 0, 0.3));\n",
              "      fill: #FFFFFF;\n",
              "    }\n",
              "  </style>\n",
              "\n",
              "      <script>\n",
              "        const buttonEl =\n",
              "          document.querySelector('#df-8858a83d-442c-418c-bedd-0092a54c7036 button.colab-df-convert');\n",
              "        buttonEl.style.display =\n",
              "          google.colab.kernel.accessAllowed ? 'block' : 'none';\n",
              "\n",
              "        async function convertToInteractive(key) {\n",
              "          const element = document.querySelector('#df-8858a83d-442c-418c-bedd-0092a54c7036');\n",
              "          const dataTable =\n",
              "            await google.colab.kernel.invokeFunction('convertToInteractive',\n",
              "                                                     [key], {});\n",
              "          if (!dataTable) return;\n",
              "\n",
              "          const docLinkHtml = 'Like what you see? Visit the ' +\n",
              "            '<a target=\"_blank\" href=https://colab.research.google.com/notebooks/data_table.ipynb>data table notebook</a>'\n",
              "            + ' to learn more about interactive tables.';\n",
              "          element.innerHTML = '';\n",
              "          dataTable['output_type'] = 'display_data';\n",
              "          await google.colab.output.renderOutput(dataTable, element);\n",
              "          const docLink = document.createElement('div');\n",
              "          docLink.innerHTML = docLinkHtml;\n",
              "          element.appendChild(docLink);\n",
              "        }\n",
              "      </script>\n",
              "    </div>\n",
              "  </div>\n",
              "  "
            ]
          },
          "metadata": {},
          "execution_count": 4
        }
      ]
    },
    {
      "cell_type": "code",
      "source": [
        "test.shape"
      ],
      "metadata": {
        "colab": {
          "base_uri": "https://localhost:8080/"
        },
        "id": "ovh2rgmT7-SM",
        "outputId": "aebb1dec-0b8a-48d9-fdc5-53afd23fa8c7"
      },
      "execution_count": null,
      "outputs": [
        {
          "output_type": "execute_result",
          "data": {
            "text/plain": [
              "(10437, 11)"
            ]
          },
          "metadata": {},
          "execution_count": 5
        }
      ]
    },
    {
      "cell_type": "code",
      "source": [
        "train.columns"
      ],
      "metadata": {
        "colab": {
          "base_uri": "https://localhost:8080/"
        },
        "id": "yF09Uim58ARC",
        "outputId": "7f0456da-88fc-42ad-f965-05b63d29e21d"
      },
      "execution_count": null,
      "outputs": [
        {
          "output_type": "execute_result",
          "data": {
            "text/plain": [
              "Int64Index([0, 1, 2, 3, 4, 5, 6, 7, 8, 9, 10], dtype='int64')"
            ]
          },
          "metadata": {},
          "execution_count": 6
        }
      ]
    },
    {
      "cell_type": "code",
      "source": [
        "train[10].value_counts()"
      ],
      "metadata": {
        "colab": {
          "base_uri": "https://localhost:8080/"
        },
        "id": "yiaI__mA8I_y",
        "outputId": "7f7f5777-b377-4a1e-bb89-bc8ae8fa58ae"
      },
      "execution_count": null,
      "outputs": [
        {
          "output_type": "execute_result",
          "data": {
            "text/plain": [
              "A    4286\n",
              "F    1961\n",
              "E    1095\n",
              "I     831\n",
              "X     522\n",
              "H     519\n",
              "G     446\n",
              "D     352\n",
              "Y     266\n",
              "C     103\n",
              "W      44\n",
              "B       5\n",
              "Name: 10, dtype: int64"
            ]
          },
          "metadata": {},
          "execution_count": 7
        }
      ]
    },
    {
      "cell_type": "code",
      "source": [
        "d={'A':0, 'F':1, 'H':2, 'E':3, 'I':4, 'Y':5, 'D':6, 'X':7, 'G':8, 'W':9, 'C':10, 'B':11}"
      ],
      "metadata": {
        "id": "YnHeU2ja8kAC"
      },
      "execution_count": null,
      "outputs": []
    },
    {
      "cell_type": "code",
      "source": [
        "X_train=train.drop(10,axis=1)\n",
        "X_test=test.drop(10,axis=1)\n",
        "y_train=train.iloc[:,-1]\n",
        "y_test=test.iloc[:,-1]"
      ],
      "metadata": {
        "id": "nX3IXtNU80m-"
      },
      "execution_count": null,
      "outputs": []
    },
    {
      "cell_type": "code",
      "source": [
        "y_train=y_train.map(d)\n",
        "y_test=y_test.map(d)"
      ],
      "metadata": {
        "id": "yjdXVHYO9Gxv"
      },
      "execution_count": null,
      "outputs": []
    },
    {
      "cell_type": "code",
      "source": [
        "X_train.head()"
      ],
      "metadata": {
        "colab": {
          "base_uri": "https://localhost:8080/",
          "height": 206
        },
        "id": "CBZpuMVa9JLA",
        "outputId": "85cd20ce-4a5d-485f-df30-d96c60d5cd29"
      },
      "execution_count": null,
      "outputs": [
        {
          "output_type": "execute_result",
          "data": {
            "text/plain": [
              "          0         1         2         3         4         5         6  \\\n",
              "0  0.266074 -0.165620  0.320980  0.483299  0.172340  0.273364  0.371178   \n",
              "1  0.130292  0.870736 -3.210528  0.062493  0.261718  1.436060  1.465940   \n",
              "2 -0.116585  0.069915  0.068476 -0.783147  0.261718  0.439463 -0.081827   \n",
              "3  0.031541  0.297600 -3.210528 -0.583590 -0.721442 -0.307984  0.710932   \n",
              "4  0.229043  0.807926 -0.052442  0.082634  0.261718  0.148790  0.635431   \n",
              "\n",
              "          7         8         9  \n",
              "0  0.929823  0.251173  0.159345  \n",
              "1  0.636203  0.282354  0.515587  \n",
              "2 -0.888236 -0.123005  0.582939  \n",
              "3  1.051693  0.594169 -0.533994  \n",
              "4  0.051062  0.032902 -0.086652  "
            ],
            "text/html": [
              "\n",
              "  <div id=\"df-0c1ab5db-349c-4420-98c4-3b044b689752\">\n",
              "    <div class=\"colab-df-container\">\n",
              "      <div>\n",
              "<style scoped>\n",
              "    .dataframe tbody tr th:only-of-type {\n",
              "        vertical-align: middle;\n",
              "    }\n",
              "\n",
              "    .dataframe tbody tr th {\n",
              "        vertical-align: top;\n",
              "    }\n",
              "\n",
              "    .dataframe thead th {\n",
              "        text-align: right;\n",
              "    }\n",
              "</style>\n",
              "<table border=\"1\" class=\"dataframe\">\n",
              "  <thead>\n",
              "    <tr style=\"text-align: right;\">\n",
              "      <th></th>\n",
              "      <th>0</th>\n",
              "      <th>1</th>\n",
              "      <th>2</th>\n",
              "      <th>3</th>\n",
              "      <th>4</th>\n",
              "      <th>5</th>\n",
              "      <th>6</th>\n",
              "      <th>7</th>\n",
              "      <th>8</th>\n",
              "      <th>9</th>\n",
              "    </tr>\n",
              "  </thead>\n",
              "  <tbody>\n",
              "    <tr>\n",
              "      <th>0</th>\n",
              "      <td>0.266074</td>\n",
              "      <td>-0.165620</td>\n",
              "      <td>0.320980</td>\n",
              "      <td>0.483299</td>\n",
              "      <td>0.172340</td>\n",
              "      <td>0.273364</td>\n",
              "      <td>0.371178</td>\n",
              "      <td>0.929823</td>\n",
              "      <td>0.251173</td>\n",
              "      <td>0.159345</td>\n",
              "    </tr>\n",
              "    <tr>\n",
              "      <th>1</th>\n",
              "      <td>0.130292</td>\n",
              "      <td>0.870736</td>\n",
              "      <td>-3.210528</td>\n",
              "      <td>0.062493</td>\n",
              "      <td>0.261718</td>\n",
              "      <td>1.436060</td>\n",
              "      <td>1.465940</td>\n",
              "      <td>0.636203</td>\n",
              "      <td>0.282354</td>\n",
              "      <td>0.515587</td>\n",
              "    </tr>\n",
              "    <tr>\n",
              "      <th>2</th>\n",
              "      <td>-0.116585</td>\n",
              "      <td>0.069915</td>\n",
              "      <td>0.068476</td>\n",
              "      <td>-0.783147</td>\n",
              "      <td>0.261718</td>\n",
              "      <td>0.439463</td>\n",
              "      <td>-0.081827</td>\n",
              "      <td>-0.888236</td>\n",
              "      <td>-0.123005</td>\n",
              "      <td>0.582939</td>\n",
              "    </tr>\n",
              "    <tr>\n",
              "      <th>3</th>\n",
              "      <td>0.031541</td>\n",
              "      <td>0.297600</td>\n",
              "      <td>-3.210528</td>\n",
              "      <td>-0.583590</td>\n",
              "      <td>-0.721442</td>\n",
              "      <td>-0.307984</td>\n",
              "      <td>0.710932</td>\n",
              "      <td>1.051693</td>\n",
              "      <td>0.594169</td>\n",
              "      <td>-0.533994</td>\n",
              "    </tr>\n",
              "    <tr>\n",
              "      <th>4</th>\n",
              "      <td>0.229043</td>\n",
              "      <td>0.807926</td>\n",
              "      <td>-0.052442</td>\n",
              "      <td>0.082634</td>\n",
              "      <td>0.261718</td>\n",
              "      <td>0.148790</td>\n",
              "      <td>0.635431</td>\n",
              "      <td>0.051062</td>\n",
              "      <td>0.032902</td>\n",
              "      <td>-0.086652</td>\n",
              "    </tr>\n",
              "  </tbody>\n",
              "</table>\n",
              "</div>\n",
              "      <button class=\"colab-df-convert\" onclick=\"convertToInteractive('df-0c1ab5db-349c-4420-98c4-3b044b689752')\"\n",
              "              title=\"Convert this dataframe to an interactive table.\"\n",
              "              style=\"display:none;\">\n",
              "        \n",
              "  <svg xmlns=\"http://www.w3.org/2000/svg\" height=\"24px\"viewBox=\"0 0 24 24\"\n",
              "       width=\"24px\">\n",
              "    <path d=\"M0 0h24v24H0V0z\" fill=\"none\"/>\n",
              "    <path d=\"M18.56 5.44l.94 2.06.94-2.06 2.06-.94-2.06-.94-.94-2.06-.94 2.06-2.06.94zm-11 1L8.5 8.5l.94-2.06 2.06-.94-2.06-.94L8.5 2.5l-.94 2.06-2.06.94zm10 10l.94 2.06.94-2.06 2.06-.94-2.06-.94-.94-2.06-.94 2.06-2.06.94z\"/><path d=\"M17.41 7.96l-1.37-1.37c-.4-.4-.92-.59-1.43-.59-.52 0-1.04.2-1.43.59L10.3 9.45l-7.72 7.72c-.78.78-.78 2.05 0 2.83L4 21.41c.39.39.9.59 1.41.59.51 0 1.02-.2 1.41-.59l7.78-7.78 2.81-2.81c.8-.78.8-2.07 0-2.86zM5.41 20L4 18.59l7.72-7.72 1.47 1.35L5.41 20z\"/>\n",
              "  </svg>\n",
              "      </button>\n",
              "      \n",
              "  <style>\n",
              "    .colab-df-container {\n",
              "      display:flex;\n",
              "      flex-wrap:wrap;\n",
              "      gap: 12px;\n",
              "    }\n",
              "\n",
              "    .colab-df-convert {\n",
              "      background-color: #E8F0FE;\n",
              "      border: none;\n",
              "      border-radius: 50%;\n",
              "      cursor: pointer;\n",
              "      display: none;\n",
              "      fill: #1967D2;\n",
              "      height: 32px;\n",
              "      padding: 0 0 0 0;\n",
              "      width: 32px;\n",
              "    }\n",
              "\n",
              "    .colab-df-convert:hover {\n",
              "      background-color: #E2EBFA;\n",
              "      box-shadow: 0px 1px 2px rgba(60, 64, 67, 0.3), 0px 1px 3px 1px rgba(60, 64, 67, 0.15);\n",
              "      fill: #174EA6;\n",
              "    }\n",
              "\n",
              "    [theme=dark] .colab-df-convert {\n",
              "      background-color: #3B4455;\n",
              "      fill: #D2E3FC;\n",
              "    }\n",
              "\n",
              "    [theme=dark] .colab-df-convert:hover {\n",
              "      background-color: #434B5C;\n",
              "      box-shadow: 0px 1px 3px 1px rgba(0, 0, 0, 0.15);\n",
              "      filter: drop-shadow(0px 1px 2px rgba(0, 0, 0, 0.3));\n",
              "      fill: #FFFFFF;\n",
              "    }\n",
              "  </style>\n",
              "\n",
              "      <script>\n",
              "        const buttonEl =\n",
              "          document.querySelector('#df-0c1ab5db-349c-4420-98c4-3b044b689752 button.colab-df-convert');\n",
              "        buttonEl.style.display =\n",
              "          google.colab.kernel.accessAllowed ? 'block' : 'none';\n",
              "\n",
              "        async function convertToInteractive(key) {\n",
              "          const element = document.querySelector('#df-0c1ab5db-349c-4420-98c4-3b044b689752');\n",
              "          const dataTable =\n",
              "            await google.colab.kernel.invokeFunction('convertToInteractive',\n",
              "                                                     [key], {});\n",
              "          if (!dataTable) return;\n",
              "\n",
              "          const docLinkHtml = 'Like what you see? Visit the ' +\n",
              "            '<a target=\"_blank\" href=https://colab.research.google.com/notebooks/data_table.ipynb>data table notebook</a>'\n",
              "            + ' to learn more about interactive tables.';\n",
              "          element.innerHTML = '';\n",
              "          dataTable['output_type'] = 'display_data';\n",
              "          await google.colab.output.renderOutput(dataTable, element);\n",
              "          const docLink = document.createElement('div');\n",
              "          docLink.innerHTML = docLinkHtml;\n",
              "          element.appendChild(docLink);\n",
              "        }\n",
              "      </script>\n",
              "    </div>\n",
              "  </div>\n",
              "  "
            ]
          },
          "metadata": {},
          "execution_count": 11
        }
      ]
    },
    {
      "cell_type": "code",
      "source": [
        "y_train"
      ],
      "metadata": {
        "colab": {
          "base_uri": "https://localhost:8080/"
        },
        "id": "68SxjH7t9Ltg",
        "outputId": "b2f2525c-3705-4535-adfd-0ddba55fff94"
      },
      "execution_count": null,
      "outputs": [
        {
          "output_type": "execute_result",
          "data": {
            "text/plain": [
              "0        0\n",
              "1        0\n",
              "2        0\n",
              "3        0\n",
              "4        1\n",
              "        ..\n",
              "10425    1\n",
              "10426    1\n",
              "10427    0\n",
              "10428    3\n",
              "10429    7\n",
              "Name: 10, Length: 10430, dtype: int64"
            ]
          },
          "metadata": {},
          "execution_count": 12
        }
      ]
    },
    {
      "cell_type": "code",
      "source": [
        "import torch  "
      ],
      "metadata": {
        "id": "eW2hbKV_9Ov3"
      },
      "execution_count": null,
      "outputs": []
    },
    {
      "cell_type": "code",
      "source": [
        "X_train.shape"
      ],
      "metadata": {
        "colab": {
          "base_uri": "https://localhost:8080/"
        },
        "id": "y6VRQmF09TRs",
        "outputId": "9b6055fc-74e9-49fe-d0ec-1c97c2e08f46"
      },
      "execution_count": null,
      "outputs": [
        {
          "output_type": "execute_result",
          "data": {
            "text/plain": [
              "(10430, 10)"
            ]
          },
          "metadata": {},
          "execution_count": 14
        }
      ]
    },
    {
      "cell_type": "code",
      "source": [
        "y_train.shape"
      ],
      "metadata": {
        "colab": {
          "base_uri": "https://localhost:8080/"
        },
        "id": "4qvJif_U9UoZ",
        "outputId": "63a1c1e7-335f-45db-af34-687717714266"
      },
      "execution_count": null,
      "outputs": [
        {
          "output_type": "execute_result",
          "data": {
            "text/plain": [
              "(10430,)"
            ]
          },
          "metadata": {},
          "execution_count": 15
        }
      ]
    },
    {
      "cell_type": "code",
      "source": [
        "X_train = torch.tensor(X_train.values)\n",
        "X_test = torch.tensor(X_test.values)\n",
        "y_train=torch.tensor(y_train.values)\n",
        "y_test=torch.tensor(y_test.values)"
      ],
      "metadata": {
        "id": "2C-v6_I89ct9"
      },
      "execution_count": null,
      "outputs": []
    },
    {
      "cell_type": "code",
      "source": [
        "X_train.shape"
      ],
      "metadata": {
        "colab": {
          "base_uri": "https://localhost:8080/"
        },
        "id": "yUBWDJws9inE",
        "outputId": "8c572ab8-4bf6-4258-9adb-c40f8c97edb4"
      },
      "execution_count": null,
      "outputs": [
        {
          "output_type": "execute_result",
          "data": {
            "text/plain": [
              "torch.Size([10430, 10])"
            ]
          },
          "metadata": {},
          "execution_count": 17
        }
      ]
    },
    {
      "cell_type": "code",
      "source": [
        "y_train.reshape(-1,1)"
      ],
      "metadata": {
        "colab": {
          "base_uri": "https://localhost:8080/"
        },
        "id": "oNhwTbWD9kQJ",
        "outputId": "1f5328e2-e3a6-4129-f10b-46dc3608a83b"
      },
      "execution_count": null,
      "outputs": [
        {
          "output_type": "execute_result",
          "data": {
            "text/plain": [
              "tensor([[0],\n",
              "        [0],\n",
              "        [0],\n",
              "        ...,\n",
              "        [0],\n",
              "        [3],\n",
              "        [7]])"
            ]
          },
          "metadata": {},
          "execution_count": 18
        }
      ]
    },
    {
      "cell_type": "code",
      "source": [
        "y_test.reshape(-1,1)"
      ],
      "metadata": {
        "colab": {
          "base_uri": "https://localhost:8080/"
        },
        "id": "C8vZKNImAHRV",
        "outputId": "ed674500-4b85-4a2c-e180-0a478b532b64"
      },
      "execution_count": null,
      "outputs": [
        {
          "output_type": "execute_result",
          "data": {
            "text/plain": [
              "tensor([[9],\n",
              "        [0],\n",
              "        [4],\n",
              "        ...,\n",
              "        [0],\n",
              "        [1],\n",
              "        [2]])"
            ]
          },
          "metadata": {},
          "execution_count": 19
        }
      ]
    },
    {
      "cell_type": "code",
      "source": [
        "import torch,torchsummary\n",
        "import torch.nn as nn\n",
        "import torch.nn.functional as F \n",
        "from torch.utils.data import DataLoader,TensorDataset \n",
        "from torch.optim import Adam,RMSprop "
      ],
      "metadata": {
        "id": "p5IJQUCZ97LS"
      },
      "execution_count": null,
      "outputs": []
    },
    {
      "cell_type": "code",
      "source": [
        "train_loader=DataLoader(TensorDataset(X_train.float(),y_train),batch_size=64,shuffle=True)\n",
        "val_loader=DataLoader(TensorDataset(X_test.float(),y_test),batch_size=64)"
      ],
      "metadata": {
        "id": "sx3ezCqo-fcG"
      },
      "execution_count": null,
      "outputs": []
    },
    {
      "cell_type": "code",
      "source": [
        "class MNIST_DNN(nn.Module): #nn.module its the class, all the layers,activation are inheriting\n",
        "  def __init__(self):\n",
        "    super(MNIST_DNN,self).__init__() #this line linkds MNIST_DNN to nn.module by calling __init__()\n",
        "    self.h1 = nn.Linear(in_features=10,out_features=512) #linear means here dense in torch like dense in tensorflow\n",
        "    self.h2 = nn.Linear(in_features=512,out_features=256)\n",
        "    self.bn = nn.BatchNorm1d(num_features=256) #1D array Iam supplying, so 1D batchnormalization, if I have to supply a pic, 2D, then it will be 2D\n",
        "    self.h3 = nn.Linear(in_features=256,out_features=128)\n",
        "    self.dropout = nn.Dropout(p=0.40) #at random 30 percent will be dropout between h3 and h4 , to make model model robust, for regulazation we dropout\n",
        "    self.h4 = nn.Linear(in_features=128,out_features=32)\n",
        "    self.out = nn.Linear(in_features=32,out_features=12) #dont shrink less than 10(10 classes are there, that will be severely underfitting)\n",
        "\n",
        "  # def forward(self,x):\n",
        "  #   x = self.h1(x)\n",
        "  #   x = F.relu(x)\n",
        "  #   x = self.dropout(x)  #no parameter for dropout\n",
        "\n",
        "  #   x = F.relu(self.h2(x))\n",
        "\n",
        "  #   x = self.bn(x) #for initialization of bn , two parametres gamma and beta so, initialize every time\n",
        "  #   x = F.relu(self.h3(x))\n",
        "  #   x = self.dropout(x)\n",
        "\n",
        "  #   x = F.relu(self.h4())\n",
        "\n",
        "  #   x = F.relu(self.out(x))\n",
        "  #   #x = torch.softmax(x,dim=1)\n",
        "\n",
        "  #   return x\n",
        "  def forward(self,x):\n",
        "    x=self.h1(x)\n",
        "    x=F.relu(x)\n",
        "    x=self.dropout(x)\n",
        "    x=F.relu(self.h2(x))\n",
        "\n",
        "    x=self.bn(x)\n",
        "    x=F.relu(self.h3(x))\n",
        "    x=self.dropout(x)\n",
        "\n",
        "    x=F.relu(self.h4(x))\n",
        "    x=self.dropout(x)\n",
        "\n",
        "    x=self.out(x)\n",
        "    #x=torch.softmax(x,dim=1)\n",
        "\n",
        "    return x"
      ],
      "metadata": {
        "id": "fR5SjSk4_Hqi"
      },
      "execution_count": null,
      "outputs": []
    },
    {
      "cell_type": "code",
      "source": [
        "model_DNN =  MNIST_DNN()"
      ],
      "metadata": {
        "id": "_R_02JvcDAqH"
      },
      "execution_count": null,
      "outputs": []
    },
    {
      "cell_type": "code",
      "source": [
        "list(model_DNN.parameters())"
      ],
      "metadata": {
        "id": "1QTK_aSnDDnP",
        "colab": {
          "base_uri": "https://localhost:8080/"
        },
        "outputId": "31e8bcdd-1117-454c-b785-79716c5070c1"
      },
      "execution_count": null,
      "outputs": [
        {
          "output_type": "execute_result",
          "data": {
            "text/plain": [
              "[Parameter containing:\n",
              " tensor([[-0.0116, -0.0914, -0.1115,  ..., -0.2441, -0.2478,  0.0290],\n",
              "         [-0.2425,  0.1608, -0.3079,  ..., -0.0040,  0.2415,  0.1512],\n",
              "         [-0.2615,  0.1510, -0.0456,  ...,  0.0361,  0.0371, -0.1421],\n",
              "         ...,\n",
              "         [-0.1108,  0.1891, -0.0258,  ...,  0.1640,  0.0951, -0.1426],\n",
              "         [ 0.2457,  0.2773,  0.2226,  ..., -0.1340,  0.0074,  0.2709],\n",
              "         [-0.1523, -0.2768, -0.0461,  ..., -0.1015, -0.1909, -0.0898]],\n",
              "        requires_grad=True), Parameter containing:\n",
              " tensor([-7.4657e-02, -2.4829e-01, -2.9294e-01, -3.4230e-03,  2.8197e-01,\n",
              "         -8.4700e-02, -1.5267e-03,  4.3558e-02, -3.1382e-02,  2.4568e-01,\n",
              "          2.3095e-02,  1.9065e-02,  8.7973e-02,  1.3890e-01,  2.5520e-01,\n",
              "         -2.8776e-01,  2.0556e-01,  2.5096e-01,  2.9646e-01,  2.8868e-01,\n",
              "          2.9379e-01, -3.1461e-01, -1.6510e-01, -3.0523e-01, -1.9506e-01,\n",
              "          2.3446e-02, -2.5593e-01,  2.4659e-01, -2.6441e-01,  1.5042e-01,\n",
              "         -3.1509e-01,  1.7991e-01, -1.9152e-01, -3.8923e-02, -2.1796e-01,\n",
              "         -1.8379e-01, -1.7846e-01,  2.8080e-01, -1.6958e-01, -5.9381e-02,\n",
              "          3.2422e-02,  1.9163e-01, -1.0866e-01,  6.8228e-02,  9.3361e-02,\n",
              "          2.7126e-01,  1.1863e-01, -1.1605e-01, -1.3315e-01,  5.1049e-02,\n",
              "         -9.4210e-02,  2.2762e-01, -9.5513e-02,  1.3256e-02,  2.1612e-03,\n",
              "         -2.7310e-01,  2.5029e-01, -5.4814e-02, -1.9415e-01, -3.6184e-02,\n",
              "         -1.3436e-01, -1.3384e-01,  6.3432e-02, -3.1094e-01,  8.9875e-02,\n",
              "          5.3982e-02,  5.5961e-02, -3.1305e-02, -7.0066e-03,  2.0546e-01,\n",
              "          1.0335e-01, -6.7331e-02,  1.9782e-01, -3.1185e-01,  1.0790e-01,\n",
              "          1.0203e-01,  1.2942e-01, -3.0515e-01,  3.0583e-01, -8.3899e-02,\n",
              "          1.9790e-01,  1.1067e-01,  3.0111e-01,  1.8513e-01, -1.1571e-01,\n",
              "         -6.3734e-02,  1.6116e-01,  2.7898e-01, -8.8811e-02, -3.0463e-01,\n",
              "         -2.0989e-01,  1.3979e-01, -1.6273e-02, -9.6740e-02, -8.5641e-02,\n",
              "         -8.8317e-02, -9.4687e-02,  1.5109e-01, -2.7769e-01, -2.6890e-01,\n",
              "         -9.0094e-02,  1.7411e-01,  1.4597e-01, -5.1768e-02, -7.2114e-02,\n",
              "         -1.9672e-01, -6.9292e-02,  2.6334e-01,  6.8182e-02,  2.1335e-01,\n",
              "          1.6606e-01, -1.3394e-01, -2.0242e-01,  5.6037e-02, -2.0580e-01,\n",
              "         -1.6672e-01,  1.0433e-01,  3.1061e-01, -1.3086e-01, -8.5021e-02,\n",
              "          1.4291e-01, -4.7625e-02,  1.3207e-01, -3.1348e-01, -3.6123e-02,\n",
              "         -2.2622e-01, -2.3340e-01,  5.2097e-03, -2.3032e-01,  4.9372e-02,\n",
              "          1.5702e-02,  1.8249e-01, -9.9717e-02, -2.0233e-01, -1.7767e-01,\n",
              "          1.9878e-01, -1.9019e-01, -8.6992e-02, -2.7430e-01,  2.3455e-02,\n",
              "          2.8252e-01,  2.2041e-01,  1.5454e-01, -5.7828e-02,  2.7687e-01,\n",
              "         -8.9241e-02, -2.7843e-01, -2.6250e-01, -3.0610e-01, -5.0242e-02,\n",
              "         -1.6142e-01,  1.4997e-01,  9.7071e-02,  1.8637e-01, -1.5174e-01,\n",
              "         -3.3815e-02, -3.5133e-02,  2.0582e-01,  1.2415e-01,  2.9993e-02,\n",
              "         -5.2854e-02,  1.8636e-01, -2.2500e-01, -2.6178e-01,  9.5956e-02,\n",
              "         -4.1000e-02,  6.5859e-02, -1.2388e-01,  1.4961e-01,  7.5615e-02,\n",
              "          7.4592e-02, -2.1688e-01,  9.0753e-02,  3.1348e-01,  1.9821e-02,\n",
              "          1.3014e-01, -2.2901e-01,  2.5487e-01, -6.4509e-02,  2.6765e-01,\n",
              "          1.9623e-01,  1.3631e-01,  2.4638e-01, -2.7430e-03, -1.7083e-01,\n",
              "         -2.7316e-01,  1.7967e-01, -2.9697e-01,  1.8870e-01,  1.4284e-01,\n",
              "         -4.9397e-02, -2.8390e-01,  1.8897e-01, -2.7855e-01, -2.2032e-01,\n",
              "          1.5043e-01,  8.5221e-02, -2.5446e-01,  3.4969e-02, -2.1683e-01,\n",
              "          1.4501e-01,  1.0555e-02,  1.0453e-01,  8.4972e-02, -5.1961e-02,\n",
              "         -3.0498e-01, -5.4548e-05, -5.5069e-02, -3.9521e-03, -2.9617e-01,\n",
              "          2.3467e-01, -5.1188e-02, -1.9823e-01, -2.2391e-02, -6.0745e-02,\n",
              "         -3.5371e-02, -2.8172e-01, -2.7042e-01,  8.0496e-02,  1.4305e-01,\n",
              "          1.3771e-01,  3.2145e-02, -1.5235e-02, -1.5096e-01,  1.4810e-01,\n",
              "         -2.2492e-01,  1.5400e-01, -4.4225e-02, -2.9632e-01, -2.5588e-01,\n",
              "          1.1834e-01,  8.4376e-02,  1.8900e-01,  7.1637e-02,  1.6302e-01,\n",
              "          7.7782e-02,  3.6134e-02,  1.1240e-01, -2.1031e-01, -1.1058e-03,\n",
              "          1.3982e-01,  3.0226e-01,  9.6703e-02, -2.7819e-01,  2.8787e-01,\n",
              "         -2.7359e-01, -2.6313e-01,  2.7805e-02,  4.2857e-02, -2.8512e-01,\n",
              "          2.3540e-01,  2.9607e-01,  1.1891e-01, -3.1809e-03,  2.3887e-01,\n",
              "          3.0626e-01, -2.8794e-01, -2.4749e-01,  3.7449e-02, -1.1227e-01,\n",
              "          8.4621e-02, -7.4184e-02,  2.7255e-01,  2.4821e-01,  1.5424e-01,\n",
              "         -2.2182e-02, -1.7301e-01,  1.1290e-01,  2.0853e-03, -1.6481e-01,\n",
              "         -7.8203e-02, -1.2383e-01, -1.1865e-01,  2.5198e-01,  2.2360e-01,\n",
              "          7.0574e-02,  3.1441e-02, -2.2127e-02, -2.6130e-01, -2.9984e-01,\n",
              "          1.8740e-01, -3.1065e-01, -9.8052e-02, -3.7378e-02, -6.1773e-02,\n",
              "          2.7527e-01, -2.2021e-01, -1.6279e-01,  2.3464e-01, -1.4653e-01,\n",
              "         -2.4938e-01,  5.1586e-03, -1.1415e-01, -3.1356e-01, -2.2269e-01,\n",
              "         -9.3270e-02,  1.3389e-01, -2.9254e-01, -2.7458e-01,  5.2346e-02,\n",
              "         -1.7697e-01,  2.0496e-02, -2.5995e-01, -5.6985e-02,  2.4016e-01,\n",
              "          1.4848e-01,  1.3209e-01,  6.7345e-02, -9.1756e-02, -5.4697e-02,\n",
              "         -3.1133e-01,  2.3286e-01,  2.0638e-02, -2.4589e-01,  2.3785e-01,\n",
              "         -2.6863e-01, -1.3575e-01,  2.2029e-01,  2.8535e-01,  2.1123e-01,\n",
              "         -4.4172e-02,  1.2997e-01, -1.6612e-01, -2.8187e-01, -2.4284e-02,\n",
              "         -1.9293e-01,  1.0791e-02,  8.5770e-02,  1.1842e-01,  1.8685e-01,\n",
              "          3.9491e-02,  2.9205e-03,  3.0156e-01, -5.1081e-02, -2.7044e-01,\n",
              "          2.7564e-02, -3.1067e-01, -9.6004e-02,  1.9554e-01, -7.9304e-02,\n",
              "         -1.2955e-01,  2.2449e-01, -6.1849e-02, -4.6599e-02,  1.5215e-01,\n",
              "          1.2216e-01, -2.8645e-03, -2.5590e-01,  1.0194e-01,  2.9256e-01,\n",
              "          3.0450e-03, -4.9877e-02,  2.7379e-01, -2.2005e-01, -1.6451e-01,\n",
              "         -5.4868e-03, -1.6513e-01,  1.7625e-01, -1.3540e-01, -1.6532e-01,\n",
              "         -4.2193e-02, -4.6427e-02,  2.1249e-01, -3.0766e-01, -1.7025e-01,\n",
              "          3.0882e-01, -1.7811e-01,  5.1650e-02, -2.9866e-01,  5.2518e-02,\n",
              "         -1.7966e-01,  1.3383e-01, -2.4659e-01,  5.7126e-02, -2.8119e-01,\n",
              "         -1.3161e-01, -2.3089e-01,  1.5404e-01, -2.3546e-01, -1.2965e-01,\n",
              "         -1.7055e-01,  2.3574e-01,  2.4190e-01,  6.6927e-02,  9.4531e-02,\n",
              "          2.4537e-01,  2.8625e-01, -8.5365e-03, -1.9229e-01, -1.3651e-01,\n",
              "         -2.0919e-01,  1.9152e-01, -1.1543e-01, -1.0704e-01,  1.1334e-01,\n",
              "          1.1431e-01,  1.8499e-01, -1.1758e-01, -1.8931e-01, -1.3731e-01,\n",
              "         -1.5036e-01,  3.0108e-01,  2.0386e-01,  1.7035e-01, -2.4338e-01,\n",
              "          3.0615e-02,  1.5771e-01, -1.2691e-01,  1.3018e-01,  2.1030e-02,\n",
              "         -1.5660e-01,  7.3740e-03,  2.3268e-01,  2.8680e-01, -3.0934e-01,\n",
              "         -1.6473e-01,  4.0737e-03,  9.9410e-02,  1.2631e-01,  2.5634e-01,\n",
              "         -1.7150e-01, -2.0639e-01, -2.8748e-02, -3.1157e-01,  8.3486e-02,\n",
              "         -1.0370e-01, -1.8251e-01,  1.1542e-02,  7.1931e-03, -2.5778e-01,\n",
              "          1.8007e-01,  1.1925e-01, -3.7899e-02,  2.7324e-01, -1.5305e-01,\n",
              "         -2.0880e-01,  2.5885e-02, -2.9095e-02,  1.2253e-01,  1.0468e-01,\n",
              "         -1.4650e-01,  2.2559e-01, -2.4352e-01,  1.1858e-01, -4.9705e-02,\n",
              "          2.5484e-02,  2.6699e-01,  8.5404e-02, -1.5805e-01, -2.0749e-02,\n",
              "          1.6594e-01,  1.1683e-01, -2.0844e-01, -1.6099e-01, -1.7128e-01,\n",
              "         -2.2209e-01, -1.9077e-01, -1.1174e-01, -2.8499e-02, -2.6798e-01,\n",
              "          2.4378e-01,  5.6060e-02,  1.3758e-01,  2.8638e-01, -2.4232e-03,\n",
              "          2.5684e-01,  9.9207e-02, -1.8699e-01,  2.8157e-01,  1.1475e-01,\n",
              "         -2.7061e-01,  5.3147e-02, -1.1597e-01, -1.1675e-01, -2.7404e-01,\n",
              "         -2.0765e-01, -2.0576e-02,  9.2620e-02,  2.8858e-01,  1.1641e-01,\n",
              "         -2.0929e-01, -3.8614e-02,  1.5077e-01, -8.9042e-02,  2.4702e-01,\n",
              "          3.1723e-02,  9.7348e-02,  3.0326e-01,  1.7205e-01, -2.5498e-01,\n",
              "          2.8982e-01, -1.2769e-01, -2.7315e-01, -7.3423e-02, -2.7137e-01,\n",
              "          1.8875e-01, -1.9095e-01, -2.8805e-01, -2.6019e-01, -2.9387e-01,\n",
              "         -8.4789e-04,  1.8147e-01, -2.0334e-01, -4.7241e-02,  1.1049e-01,\n",
              "          6.4309e-02,  1.6671e-01, -3.0470e-01,  1.2369e-01,  2.2429e-02,\n",
              "          1.3800e-01,  4.9263e-02], requires_grad=True), Parameter containing:\n",
              " tensor([[ 0.0173,  0.0260, -0.0225,  ..., -0.0310, -0.0357, -0.0296],\n",
              "         [-0.0243,  0.0133, -0.0267,  ...,  0.0271,  0.0125,  0.0057],\n",
              "         [ 0.0309, -0.0276,  0.0434,  ...,  0.0419,  0.0295,  0.0371],\n",
              "         ...,\n",
              "         [ 0.0410,  0.0087,  0.0165,  ..., -0.0091,  0.0065,  0.0380],\n",
              "         [ 0.0336,  0.0032,  0.0228,  ..., -0.0063, -0.0248,  0.0185],\n",
              "         [-0.0189,  0.0021,  0.0119,  ..., -0.0162, -0.0077, -0.0010]],\n",
              "        requires_grad=True), Parameter containing:\n",
              " tensor([-1.9174e-02, -2.5373e-02, -3.4597e-02, -3.0563e-02, -2.9037e-03,\n",
              "          7.8846e-03,  2.1872e-02, -8.3994e-03, -3.4262e-02,  1.3447e-02,\n",
              "          3.0115e-02, -2.1779e-02,  1.2676e-03,  1.7228e-06,  2.8498e-02,\n",
              "         -3.5962e-02, -3.7542e-02, -1.3447e-02, -1.5041e-03,  1.8600e-02,\n",
              "         -4.1483e-02,  2.8439e-02, -1.0468e-02, -3.5171e-02, -4.2966e-02,\n",
              "          3.3916e-02,  3.1258e-02,  1.9334e-02,  2.6359e-02, -2.1851e-02,\n",
              "         -1.9586e-02, -3.2615e-02,  5.6623e-03,  2.1938e-02,  1.2506e-02,\n",
              "         -3.4622e-03, -3.2582e-02, -2.1407e-02, -2.5925e-02,  3.6112e-02,\n",
              "         -1.9212e-02, -4.0269e-02,  2.2078e-02,  1.8925e-02,  3.2424e-02,\n",
              "         -3.4713e-02,  3.8356e-02,  2.7251e-02, -2.8694e-02, -4.3954e-03,\n",
              "          3.5355e-02,  2.4076e-02, -9.4990e-03,  1.6754e-02,  4.0099e-03,\n",
              "          1.1713e-02,  9.6636e-03, -3.4466e-02, -8.7626e-03, -1.6118e-02,\n",
              "         -4.1596e-02, -2.9361e-02, -2.6335e-02,  1.7637e-02,  1.6145e-02,\n",
              "          2.5890e-03,  4.5021e-03, -4.3732e-02,  1.5785e-02, -1.6305e-02,\n",
              "          3.3780e-02,  2.7711e-02,  1.4273e-02, -4.4147e-02,  3.8785e-03,\n",
              "         -3.1424e-02, -3.8921e-02, -2.7641e-02, -2.4733e-02, -3.1725e-02,\n",
              "          2.6145e-02, -4.0049e-02,  4.0600e-02,  2.0609e-02, -5.3567e-03,\n",
              "         -3.0858e-04, -4.1164e-02, -1.5978e-02, -1.7668e-02, -8.4843e-03,\n",
              "          1.2440e-02, -3.6497e-02, -3.5945e-02, -6.4319e-03,  4.9954e-03,\n",
              "          1.4226e-02, -4.2429e-02,  4.2587e-02,  1.4855e-02, -4.1542e-02,\n",
              "          3.5740e-02, -3.5143e-02, -1.4445e-02, -7.1467e-03, -2.7833e-02,\n",
              "         -1.8843e-03,  1.7077e-02, -2.7526e-02, -8.3381e-03, -2.1448e-02,\n",
              "          3.8625e-02, -9.2257e-03,  4.3820e-02,  1.5127e-02,  6.9670e-04,\n",
              "          2.3022e-02, -8.5469e-03,  4.1888e-02, -2.8998e-02,  1.4486e-02,\n",
              "         -3.5670e-02,  2.9191e-02,  2.2503e-02, -1.6281e-02, -1.4470e-02,\n",
              "         -2.2625e-02, -3.6677e-03, -3.9697e-05, -3.0541e-02,  1.1645e-02,\n",
              "          3.9919e-02, -2.6144e-02, -3.5559e-02, -2.2964e-02,  4.3489e-02,\n",
              "         -2.5168e-02, -1.1768e-02,  2.8694e-02,  1.1096e-02,  3.9847e-02,\n",
              "          7.9416e-03,  1.0315e-02, -1.2336e-02,  3.4660e-02, -3.2870e-02,\n",
              "          2.6557e-02,  1.6171e-02, -2.6675e-03, -4.2641e-02,  2.6720e-02,\n",
              "         -3.6570e-02, -2.9523e-02, -2.7329e-02, -3.8888e-02, -3.8603e-03,\n",
              "          3.3435e-02,  1.6733e-02, -3.0168e-02, -7.9303e-03, -1.5694e-02,\n",
              "          2.2503e-02, -2.5399e-02, -2.7903e-02, -2.0308e-02,  4.4140e-02,\n",
              "         -1.9504e-02, -1.2523e-02,  2.8529e-02, -4.1035e-02,  3.7346e-02,\n",
              "          2.6121e-03, -6.0921e-03, -1.4881e-02,  3.9301e-04,  2.2694e-02,\n",
              "         -5.6836e-04, -1.7412e-02,  2.5106e-02, -3.6675e-02,  3.6760e-03,\n",
              "         -4.2299e-02,  1.8512e-02, -1.0817e-03,  2.5586e-02,  3.8959e-02,\n",
              "          3.2512e-02, -1.8554e-02,  1.7521e-02, -2.8405e-02, -1.7451e-02,\n",
              "          1.9020e-02,  2.9042e-02,  1.7135e-02, -1.9986e-02, -6.0271e-04,\n",
              "         -3.8277e-02,  1.2445e-02, -4.0021e-02,  1.0067e-04, -2.7882e-02,\n",
              "          1.9045e-02, -3.4167e-02, -4.1808e-03, -8.8072e-03,  1.9678e-02,\n",
              "          3.5685e-02, -7.2312e-03,  3.0131e-02,  3.6902e-02, -6.9499e-03,\n",
              "         -1.2635e-02, -2.6224e-03,  1.1941e-02,  3.4886e-02,  2.1859e-02,\n",
              "         -1.2617e-02,  2.4103e-02, -6.4899e-03,  2.8193e-02, -9.0201e-03,\n",
              "         -4.3345e-02,  3.0584e-02, -2.7867e-02, -3.6542e-03,  8.3371e-04,\n",
              "         -8.6892e-03,  6.6256e-03, -5.4000e-03,  2.2031e-02, -2.5232e-02,\n",
              "          4.0235e-03,  1.2389e-02, -4.3352e-03, -2.8920e-02,  3.6783e-02,\n",
              "          1.3025e-02,  3.6067e-02,  5.2968e-03,  4.0641e-02,  4.0513e-02,\n",
              "          5.0190e-03,  4.0587e-02,  1.9239e-02,  1.4624e-02,  3.7794e-02,\n",
              "         -2.6379e-02,  2.8609e-02,  2.9880e-02, -1.5212e-03, -2.2828e-02,\n",
              "         -2.3100e-02,  1.9036e-02,  1.4400e-02,  3.4005e-02,  2.6296e-02,\n",
              "          3.2630e-02], requires_grad=True), Parameter containing:\n",
              " tensor([1., 1., 1., 1., 1., 1., 1., 1., 1., 1., 1., 1., 1., 1., 1., 1., 1., 1.,\n",
              "         1., 1., 1., 1., 1., 1., 1., 1., 1., 1., 1., 1., 1., 1., 1., 1., 1., 1.,\n",
              "         1., 1., 1., 1., 1., 1., 1., 1., 1., 1., 1., 1., 1., 1., 1., 1., 1., 1.,\n",
              "         1., 1., 1., 1., 1., 1., 1., 1., 1., 1., 1., 1., 1., 1., 1., 1., 1., 1.,\n",
              "         1., 1., 1., 1., 1., 1., 1., 1., 1., 1., 1., 1., 1., 1., 1., 1., 1., 1.,\n",
              "         1., 1., 1., 1., 1., 1., 1., 1., 1., 1., 1., 1., 1., 1., 1., 1., 1., 1.,\n",
              "         1., 1., 1., 1., 1., 1., 1., 1., 1., 1., 1., 1., 1., 1., 1., 1., 1., 1.,\n",
              "         1., 1., 1., 1., 1., 1., 1., 1., 1., 1., 1., 1., 1., 1., 1., 1., 1., 1.,\n",
              "         1., 1., 1., 1., 1., 1., 1., 1., 1., 1., 1., 1., 1., 1., 1., 1., 1., 1.,\n",
              "         1., 1., 1., 1., 1., 1., 1., 1., 1., 1., 1., 1., 1., 1., 1., 1., 1., 1.,\n",
              "         1., 1., 1., 1., 1., 1., 1., 1., 1., 1., 1., 1., 1., 1., 1., 1., 1., 1.,\n",
              "         1., 1., 1., 1., 1., 1., 1., 1., 1., 1., 1., 1., 1., 1., 1., 1., 1., 1.,\n",
              "         1., 1., 1., 1., 1., 1., 1., 1., 1., 1., 1., 1., 1., 1., 1., 1., 1., 1.,\n",
              "         1., 1., 1., 1., 1., 1., 1., 1., 1., 1., 1., 1., 1., 1., 1., 1., 1., 1.,\n",
              "         1., 1., 1., 1.], requires_grad=True), Parameter containing:\n",
              " tensor([0., 0., 0., 0., 0., 0., 0., 0., 0., 0., 0., 0., 0., 0., 0., 0., 0., 0., 0., 0., 0., 0., 0., 0.,\n",
              "         0., 0., 0., 0., 0., 0., 0., 0., 0., 0., 0., 0., 0., 0., 0., 0., 0., 0., 0., 0., 0., 0., 0., 0.,\n",
              "         0., 0., 0., 0., 0., 0., 0., 0., 0., 0., 0., 0., 0., 0., 0., 0., 0., 0., 0., 0., 0., 0., 0., 0.,\n",
              "         0., 0., 0., 0., 0., 0., 0., 0., 0., 0., 0., 0., 0., 0., 0., 0., 0., 0., 0., 0., 0., 0., 0., 0.,\n",
              "         0., 0., 0., 0., 0., 0., 0., 0., 0., 0., 0., 0., 0., 0., 0., 0., 0., 0., 0., 0., 0., 0., 0., 0.,\n",
              "         0., 0., 0., 0., 0., 0., 0., 0., 0., 0., 0., 0., 0., 0., 0., 0., 0., 0., 0., 0., 0., 0., 0., 0.,\n",
              "         0., 0., 0., 0., 0., 0., 0., 0., 0., 0., 0., 0., 0., 0., 0., 0., 0., 0., 0., 0., 0., 0., 0., 0.,\n",
              "         0., 0., 0., 0., 0., 0., 0., 0., 0., 0., 0., 0., 0., 0., 0., 0., 0., 0., 0., 0., 0., 0., 0., 0.,\n",
              "         0., 0., 0., 0., 0., 0., 0., 0., 0., 0., 0., 0., 0., 0., 0., 0., 0., 0., 0., 0., 0., 0., 0., 0.,\n",
              "         0., 0., 0., 0., 0., 0., 0., 0., 0., 0., 0., 0., 0., 0., 0., 0., 0., 0., 0., 0., 0., 0., 0., 0.,\n",
              "         0., 0., 0., 0., 0., 0., 0., 0., 0., 0., 0., 0., 0., 0., 0., 0.],\n",
              "        requires_grad=True), Parameter containing:\n",
              " tensor([[-0.0477,  0.0273,  0.0070,  ..., -0.0171, -0.0044,  0.0266],\n",
              "         [-0.0385, -0.0300, -0.0569,  ...,  0.0503, -0.0567,  0.0173],\n",
              "         [-0.0119, -0.0061,  0.0222,  ..., -0.0353,  0.0406, -0.0021],\n",
              "         ...,\n",
              "         [-0.0103, -0.0298,  0.0235,  ...,  0.0312,  0.0225, -0.0551],\n",
              "         [ 0.0226, -0.0285, -0.0354,  ..., -0.0118,  0.0369, -0.0443],\n",
              "         [-0.0177,  0.0214,  0.0015,  ...,  0.0505, -0.0191, -0.0082]],\n",
              "        requires_grad=True), Parameter containing:\n",
              " tensor([ 1.2812e-02, -9.9017e-03,  1.5319e-02,  4.0242e-02, -5.6965e-02,\n",
              "          3.5450e-02,  1.6553e-02,  1.6526e-02,  3.3798e-02,  3.7796e-02,\n",
              "          5.5148e-02, -4.1776e-03,  6.0905e-02, -5.9841e-02, -3.6186e-02,\n",
              "         -2.6623e-02, -3.6252e-02, -8.6978e-03,  3.1353e-02, -3.6642e-02,\n",
              "          2.0198e-02,  6.0661e-02, -3.0870e-02,  2.2140e-02, -1.9894e-02,\n",
              "         -1.7867e-03, -1.3578e-02,  1.0731e-02,  5.4950e-02, -1.4168e-02,\n",
              "         -1.3055e-02, -2.1683e-02, -2.8209e-02,  2.4261e-02,  3.2319e-02,\n",
              "         -5.6749e-02, -2.2254e-02,  1.5885e-02,  6.6472e-04,  3.4437e-05,\n",
              "          2.7403e-02, -1.9873e-02, -4.8855e-02,  3.1700e-02, -4.2114e-02,\n",
              "          3.1620e-02, -2.0577e-02,  4.8071e-02,  2.8254e-02, -1.1813e-02,\n",
              "         -6.2188e-02,  2.1638e-02, -3.9581e-02,  3.5165e-03, -4.8385e-02,\n",
              "          1.1240e-03,  5.3849e-02,  8.3303e-03, -7.0354e-03,  3.8027e-02,\n",
              "          2.1459e-02, -2.2649e-02, -1.1925e-03, -3.4756e-03,  6.1792e-03,\n",
              "         -5.1397e-02,  6.1915e-02, -5.4448e-02, -6.2133e-02,  3.6073e-02,\n",
              "          1.2606e-02, -1.9863e-02,  4.4669e-02,  1.4584e-02,  4.5924e-02,\n",
              "         -5.7666e-02,  6.1847e-02,  4.6420e-02, -2.0194e-02,  6.2541e-03,\n",
              "          5.3508e-02, -5.1490e-02,  4.0927e-02, -2.6227e-02, -5.7322e-02,\n",
              "          1.9066e-02, -1.0592e-03,  2.1035e-02, -5.7676e-02, -3.9939e-02,\n",
              "         -5.2172e-02, -7.7954e-03, -4.2052e-02,  5.6826e-02,  2.6202e-02,\n",
              "          5.4208e-02, -2.4447e-02,  5.1217e-03, -1.1132e-02,  6.0053e-02,\n",
              "         -3.9711e-02, -2.3411e-02,  4.1324e-02,  3.5993e-02, -3.3068e-02,\n",
              "         -9.8828e-03,  1.1971e-02, -1.1169e-02, -5.0812e-02,  1.1979e-02,\n",
              "          9.7918e-03, -7.2171e-03,  5.0954e-02, -5.9457e-02,  3.2338e-02,\n",
              "         -1.6148e-03,  3.5313e-02,  4.6100e-02,  3.0237e-02,  5.2119e-02,\n",
              "          5.3085e-02, -4.0440e-02, -2.4740e-03, -2.7778e-02, -1.9577e-02,\n",
              "         -5.2159e-02, -2.3971e-02, -2.3537e-02], requires_grad=True), Parameter containing:\n",
              " tensor([[-0.0031, -0.0507, -0.0573,  ...,  0.0374,  0.0734,  0.0714],\n",
              "         [ 0.0532, -0.0501,  0.0428,  ...,  0.0852,  0.0021, -0.0556],\n",
              "         [ 0.0224,  0.0651,  0.0053,  ..., -0.0554, -0.0288,  0.0152],\n",
              "         ...,\n",
              "         [ 0.0821,  0.0594,  0.0234,  ...,  0.0140,  0.0118,  0.0867],\n",
              "         [-0.0750, -0.0789, -0.0212,  ..., -0.0867,  0.0192,  0.0387],\n",
              "         [ 0.0706,  0.0685,  0.0572,  ..., -0.0083, -0.0813,  0.0288]],\n",
              "        requires_grad=True), Parameter containing:\n",
              " tensor([-0.0251, -0.0164,  0.0812, -0.0677,  0.0260, -0.0706,  0.0191,  0.0440,\n",
              "         -0.0341,  0.0799,  0.0447, -0.0431, -0.0300,  0.0842,  0.0337, -0.0164,\n",
              "         -0.0330,  0.0284, -0.0115, -0.0625, -0.0356, -0.0119, -0.0870,  0.0697,\n",
              "          0.0519, -0.0613, -0.0543, -0.0182, -0.0846,  0.0104, -0.0479, -0.0544],\n",
              "        requires_grad=True), Parameter containing:\n",
              " tensor([[-0.0273,  0.0558,  0.1558, -0.1192,  0.0960,  0.1461,  0.1148, -0.0159,\n",
              "           0.1045,  0.0442, -0.0989,  0.0241, -0.1360,  0.1333,  0.1320, -0.1070,\n",
              "           0.0113,  0.0164,  0.0335, -0.1391,  0.1525, -0.0571, -0.1018, -0.0456,\n",
              "           0.0287,  0.1064, -0.1527,  0.0199, -0.1735,  0.0812,  0.0796, -0.1467],\n",
              "         [ 0.1312,  0.0660, -0.0370,  0.0979,  0.1558, -0.0281,  0.0170, -0.0247,\n",
              "          -0.1542, -0.0827,  0.0494, -0.0760,  0.1284, -0.1021,  0.1310, -0.1284,\n",
              "           0.1474,  0.1161,  0.1547,  0.0105,  0.0473, -0.1373, -0.0311, -0.0670,\n",
              "           0.0956,  0.0808,  0.0944,  0.1635,  0.0847, -0.0579,  0.0799, -0.1156],\n",
              "         [-0.0256,  0.0638, -0.1626, -0.0564,  0.1555, -0.1113,  0.1300, -0.0926,\n",
              "           0.0945,  0.1090, -0.0644,  0.1419, -0.0205, -0.0327,  0.0551, -0.1117,\n",
              "          -0.0862,  0.0548,  0.0332,  0.0746,  0.0744,  0.0104, -0.1429,  0.1206,\n",
              "           0.1511,  0.0194, -0.0395, -0.1576, -0.1139,  0.0862,  0.0542,  0.1739],\n",
              "         [-0.0818,  0.0154, -0.1031, -0.1359,  0.0941,  0.1625,  0.1582, -0.1600,\n",
              "           0.0181, -0.0352, -0.1476, -0.0266,  0.0079,  0.0265, -0.0321,  0.0884,\n",
              "           0.0886,  0.0140,  0.1013,  0.1049,  0.0078,  0.0781, -0.0566,  0.1695,\n",
              "           0.1269, -0.1676, -0.0975, -0.0987, -0.0210,  0.0980,  0.0847, -0.0264],\n",
              "         [-0.1655,  0.0962, -0.1525,  0.1384, -0.0487,  0.0956,  0.0059,  0.0574,\n",
              "           0.0060,  0.1359,  0.1521,  0.0762,  0.1686, -0.1661,  0.1560, -0.1393,\n",
              "          -0.0812, -0.0215, -0.1119,  0.1500,  0.1674,  0.0033,  0.1335,  0.1648,\n",
              "           0.1513, -0.1406, -0.1624,  0.0279,  0.0284, -0.0089,  0.0099,  0.1626],\n",
              "         [ 0.0253, -0.0994,  0.0184, -0.0037,  0.0278, -0.0084, -0.1273,  0.0264,\n",
              "           0.0823, -0.0288,  0.0883,  0.1065,  0.0127,  0.1610, -0.0933,  0.1026,\n",
              "           0.1369,  0.0502,  0.0501, -0.1230, -0.0839,  0.0280,  0.0743, -0.0683,\n",
              "           0.1564, -0.1607,  0.0430,  0.0934, -0.1325, -0.1270, -0.0399, -0.0222],\n",
              "         [-0.0176,  0.0585, -0.1441, -0.0469,  0.1498,  0.0650, -0.1599,  0.0757,\n",
              "           0.1544,  0.1100, -0.0083,  0.1123,  0.0599, -0.0171,  0.0564, -0.0562,\n",
              "           0.0339,  0.1022,  0.0343, -0.0334,  0.0500, -0.0922,  0.0551, -0.0619,\n",
              "          -0.0065, -0.1658, -0.1382, -0.1426,  0.1440, -0.1569, -0.1361,  0.0719],\n",
              "         [-0.0636,  0.0565,  0.1393, -0.0761,  0.0242,  0.1481, -0.1315,  0.1351,\n",
              "           0.0307, -0.0925,  0.0725,  0.1017,  0.0267, -0.1002, -0.0621,  0.0467,\n",
              "          -0.0465,  0.0528,  0.0226,  0.0417, -0.1660, -0.0987, -0.1291, -0.1121,\n",
              "          -0.0020,  0.0200,  0.1503, -0.0155,  0.0671, -0.0237,  0.0153, -0.1657],\n",
              "         [ 0.1748,  0.1348, -0.1733,  0.0982, -0.0470,  0.0561, -0.1345, -0.0016,\n",
              "           0.1342,  0.0365,  0.1004,  0.0035,  0.1018, -0.0077,  0.1706, -0.1244,\n",
              "           0.0658, -0.0187, -0.0548, -0.1692,  0.1233, -0.1028,  0.0260, -0.1721,\n",
              "           0.0926,  0.1447,  0.0059, -0.0698, -0.0914,  0.1662, -0.1359, -0.0698],\n",
              "         [-0.1563,  0.1629, -0.0296, -0.0469, -0.1313,  0.1602,  0.1702,  0.1592,\n",
              "          -0.1205, -0.0135, -0.0364, -0.0575,  0.1399, -0.0704,  0.0329,  0.1417,\n",
              "           0.0369,  0.0450, -0.0458,  0.0672, -0.0730,  0.0522,  0.1082, -0.0808,\n",
              "           0.0218, -0.0385, -0.0665,  0.0503, -0.0080, -0.1764,  0.1596,  0.1644],\n",
              "         [ 0.0138, -0.0345,  0.0164, -0.1671,  0.0109,  0.0725,  0.1208,  0.0819,\n",
              "          -0.1254, -0.1581,  0.0364, -0.0782,  0.0359, -0.1715, -0.0181, -0.1379,\n",
              "           0.1230, -0.0537, -0.0919, -0.1433,  0.1248,  0.0894,  0.0931,  0.0052,\n",
              "          -0.0871, -0.1339, -0.1653, -0.0233, -0.1504,  0.0755, -0.1251, -0.1405],\n",
              "         [-0.1144,  0.1035, -0.0844,  0.0375, -0.0453,  0.0454,  0.0601,  0.0183,\n",
              "          -0.0707, -0.0882,  0.0502,  0.1656, -0.1060, -0.1232, -0.0349, -0.0014,\n",
              "           0.1570, -0.1327, -0.1112,  0.0045,  0.0540, -0.1020, -0.0710,  0.0321,\n",
              "           0.0881, -0.0272,  0.0281,  0.1682,  0.1488, -0.0844,  0.0556,  0.1224]],\n",
              "        requires_grad=True), Parameter containing:\n",
              " tensor([-0.1143,  0.1585,  0.1182, -0.0591, -0.1564, -0.0546, -0.0009,  0.0167,\n",
              "          0.1729,  0.0909,  0.0323,  0.1709], requires_grad=True)]"
            ]
          },
          "metadata": {},
          "execution_count": 24
        }
      ]
    },
    {
      "cell_type": "code",
      "source": [
        "opt = Adam(model_DNN.parameters(),lr = 0.001)"
      ],
      "metadata": {
        "id": "pTs798EGDK71"
      },
      "execution_count": null,
      "outputs": []
    },
    {
      "cell_type": "code",
      "source": [
        "device = torch.device(\"cuda\" if torch.cuda.is_available() else \"cpu\")\n",
        "device"
      ],
      "metadata": {
        "colab": {
          "base_uri": "https://localhost:8080/"
        },
        "id": "f-NNvObHDPXS",
        "outputId": "7d15862f-b855-4394-fb98-93d39599ec9f"
      },
      "execution_count": null,
      "outputs": [
        {
          "output_type": "execute_result",
          "data": {
            "text/plain": [
              "device(type='cpu')"
            ]
          },
          "metadata": {},
          "execution_count": 26
        }
      ]
    },
    {
      "cell_type": "code",
      "source": [
        "model_DNN = model_DNN.to(device)"
      ],
      "metadata": {
        "id": "S_naDgfWDSuq"
      },
      "execution_count": null,
      "outputs": []
    },
    {
      "cell_type": "code",
      "source": [
        "#it gives more flexibility in fit , learning arte itself can be chnaged, so torch is more flexible than tensorflow\n",
        "for epoch in range(30):\n",
        "  training_loss = 0.0\n",
        "  for batch, target in train_loader: #train_loader is a generator (bathc=mini batch,target = target)\n",
        "    batch=batch.to(device) #batch is a tensor,(not numpy) so can be shifted to gpu\n",
        "    target = target.to(device)\n",
        "    #print(batch.shape)\n",
        "    \n",
        "    #---- The Learning Phase ------#\n",
        "    opt.zero_grad() #removing all the calculated residual gradients after every batch, each batch is independent, gradients are calculated newly\n",
        "    output =  model_DNN(batch) #calculating output\n",
        "    loss = F.cross_entropy(output,target) #in torch just cross entropy\n",
        "    loss.backward() #gradients are calcuated, whether it is rmsProp, Adam anything\n",
        "    opt.step() #weights are upodated\n",
        "    #---- The Learning Phase ------#\n",
        "    training_loss += loss.item() #actual value of loss\n",
        "  \n",
        "  val_loss = 0.0\n",
        "  for val_batch, val_target in val_loader:\n",
        "    val_batch = val_batch.to(device)\n",
        "    val_target = val_target.to(device)\n",
        "    pred = model_DNN(val_batch)\n",
        "    loss_val = F.cross_entropy(pred,val_target)\n",
        "    val_loss += loss_val.item()\n",
        "\n",
        "  if (epoch+1) % 5 ==0:\n",
        "    print(f\"Training Loss: {training_loss}\")\n",
        "    print(f\"Test Loss: {val_loss}\")"
      ],
      "metadata": {
        "colab": {
          "base_uri": "https://localhost:8080/"
        },
        "id": "lI0AzSZaDVWo",
        "outputId": "65b5722f-4d1f-4ef7-b175-dfc6e0a8c9d9"
      },
      "execution_count": null,
      "outputs": [
        {
          "output_type": "stream",
          "name": "stdout",
          "text": [
            "Training Loss: 161.51701563596725\n",
            "Test Loss: 159.2101093530655\n",
            "Training Loss: 134.8263509273529\n",
            "Test Loss: 142.12072199583054\n",
            "Training Loss: 119.99192011356354\n",
            "Test Loss: 127.5256073474884\n",
            "Training Loss: 109.86055526137352\n",
            "Test Loss: 115.5653305053711\n",
            "Training Loss: 98.34804916381836\n",
            "Test Loss: 106.22634190320969\n",
            "Training Loss: 89.12987670302391\n",
            "Test Loss: 101.24837929010391\n"
          ]
        }
      ]
    },
    {
      "cell_type": "code",
      "source": [
        "torchsummary.summary(model_DNN,input_size=(X_train.shape[1],),device=\"cpu\",batch_size=-1)"
      ],
      "metadata": {
        "colab": {
          "base_uri": "https://localhost:8080/"
        },
        "id": "Sok_bPMgDuRe",
        "outputId": "07be44d9-665c-4577-b000-7d9d4b90ea4d"
      },
      "execution_count": null,
      "outputs": [
        {
          "output_type": "stream",
          "name": "stdout",
          "text": [
            "----------------------------------------------------------------\n",
            "        Layer (type)               Output Shape         Param #\n",
            "================================================================\n",
            "            Linear-1                  [-1, 512]           5,632\n",
            "           Dropout-2                  [-1, 512]               0\n",
            "            Linear-3                  [-1, 256]         131,328\n",
            "       BatchNorm1d-4                  [-1, 256]             512\n",
            "            Linear-5                  [-1, 128]          32,896\n",
            "           Dropout-6                  [-1, 128]               0\n",
            "            Linear-7                   [-1, 32]           4,128\n",
            "           Dropout-8                   [-1, 32]               0\n",
            "            Linear-9                   [-1, 12]             396\n",
            "================================================================\n",
            "Total params: 174,892\n",
            "Trainable params: 174,892\n",
            "Non-trainable params: 0\n",
            "----------------------------------------------------------------\n",
            "Input size (MB): 0.00\n",
            "Forward/backward pass size (MB): 0.01\n",
            "Params size (MB): 0.67\n",
            "Estimated Total Size (MB): 0.68\n",
            "----------------------------------------------------------------\n"
          ]
        }
      ]
    },
    {
      "cell_type": "code",
      "source": [
        "final_pred=model_DNN(X_test.float())"
      ],
      "metadata": {
        "id": "_5PwFoVBQ4T0"
      },
      "execution_count": null,
      "outputs": []
    },
    {
      "cell_type": "code",
      "source": [
        "final_pred[0:2]"
      ],
      "metadata": {
        "colab": {
          "base_uri": "https://localhost:8080/"
        },
        "id": "vLn3mk9SRVm4",
        "outputId": "7692c262-2c58-4fbb-e95b-8bc4c1fcf1a9"
      },
      "execution_count": null,
      "outputs": [
        {
          "output_type": "execute_result",
          "data": {
            "text/plain": [
              "tensor([[  0.5003,  -0.4792,  -1.5550,  -0.4160,  -1.6517,   0.0915,  -0.5602,\n",
              "          -0.0318,  -0.6324,  -0.0961,  -1.7845,  -1.9078],\n",
              "        [  2.0822,  -0.8166,  -0.3902,  -0.5050,  -1.9838,  -4.7136,  -3.8024,\n",
              "          -0.9431,  -8.6184,  -4.6329,  -2.4343, -12.7596]],\n",
              "       grad_fn=<SliceBackward0>)"
            ]
          },
          "metadata": {},
          "execution_count": 31
        }
      ]
    },
    {
      "cell_type": "code",
      "source": [
        "preds=np.argmax(final_pred.detach().numpy(),axis=1)"
      ],
      "metadata": {
        "id": "B1fl51hXRY94"
      },
      "execution_count": null,
      "outputs": []
    },
    {
      "cell_type": "code",
      "source": [
        "preds"
      ],
      "metadata": {
        "colab": {
          "base_uri": "https://localhost:8080/"
        },
        "id": "YzNVGO6xRcRe",
        "outputId": "43430d61-3be5-47dc-da5b-2ce34656b0b7"
      },
      "execution_count": null,
      "outputs": [
        {
          "output_type": "execute_result",
          "data": {
            "text/plain": [
              "array([0, 0, 4, ..., 0, 1, 0])"
            ]
          },
          "metadata": {},
          "execution_count": 33
        }
      ]
    },
    {
      "cell_type": "code",
      "source": [
        "from sklearn.metrics import classification_report,confusion_matrix,ConfusionMatrixDisplay,accuracy_score\n",
        "cm=confusion_matrix(y_test,preds)\n",
        "disp=ConfusionMatrixDisplay(confusion_matrix=cm)\n",
        "disp.plot()"
      ],
      "metadata": {
        "colab": {
          "base_uri": "https://localhost:8080/",
          "height": 623
        },
        "id": "KHQXnSsIRfQ0",
        "outputId": "c0161d51-9059-4a08-f20b-875452294f9d"
      },
      "execution_count": null,
      "outputs": [
        {
          "output_type": "execute_result",
          "data": {
            "text/plain": [
              "<sklearn.metrics._plot.confusion_matrix.ConfusionMatrixDisplay at 0x7fb31d190550>"
            ]
          },
          "metadata": {},
          "execution_count": 34
        },
        {
          "output_type": "display_data",
          "data": {
            "text/plain": [
              "<Figure size 1440x720 with 2 Axes>"
            ],
            "image/png": "[encoded data removed]"
          },
          "metadata": {
            "needs_background": "light"
          }
        }
      ]
    },
    {
      "cell_type": "code",
      "source": [
        "accuracy_score(y_test,preds)"
      ],
      "metadata": {
        "colab": {
          "base_uri": "https://localhost:8080/"
        },
        "id": "CCd-ufKoRh6K",
        "outputId": "8d834478-9011-4007-b730-35d52814e72c"
      },
      "execution_count": null,
      "outputs": [
        {
          "output_type": "execute_result",
          "data": {
            "text/plain": [
              "0.7755102040816326"
            ]
          },
          "metadata": {},
          "execution_count": 35
        }
      ]
    },
    {
      "cell_type": "code",
      "source": [],
      "metadata": {
        "id": "YPqLfYWnRseF"
      },
      "execution_count": null,
      "outputs": []
    }
  ]
}