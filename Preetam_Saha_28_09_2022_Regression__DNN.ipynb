{
  "nbformat": 4,
  "nbformat_minor": 0,
  "metadata": {
    "colab": {
      "provenance": [],
      "collapsed_sections": [],
      "mount_file_id": "1rp8qA3-NKbzAXeDFrMjxJWZamnQk6HuC",
      "authorship_tag": "ABX9TyPW6xwlnL0lc0FJJPBC+j/1",
      "include_colab_link": true
    },
    "kernelspec": {
      "name": "python3",
      "display_name": "Python 3"
    },
    "language_info": {
      "name": "python"
    }
  },
  "cells": [
    {
      "cell_type": "markdown",
      "metadata": {
        "id": "view-in-github",
        "colab_type": "text"
      },
      "source": [
        "<a href=\"https://colab.research.google.com/github/preetamjumech/DL_DNN_from_Scratch/blob/main/Preetam_Saha_28_09_2022_Regression__DNN.ipynb\" target=\"_parent\"><img src=\"https://colab.research.google.com/assets/colab-badge.svg\" alt=\"Open In Colab\"/></a>"
      ]
    },
    {
      "cell_type": "code",
      "execution_count": 22,
      "metadata": {
        "id": "x2zmCAgTZkfX"
      },
      "outputs": [],
      "source": [
        "import os\n",
        "os.environ['KAGGLE_CONFIG_DIR']=\"/content/drive/MyDrive/kaggle\""
      ]
    },
    {
      "cell_type": "code",
      "source": [
        "!kaggle datasets list -s \"boston\""
      ],
      "metadata": {
        "colab": {
          "base_uri": "https://localhost:8080/"
        },
        "id": "AS7sqsSHb3ou",
        "outputId": "41bb1297-4e4e-4394-9565-16761c0558cb"
      },
      "execution_count": 23,
      "outputs": [
        {
          "output_type": "stream",
          "name": "stdout",
          "text": [
            "ref                                         title                                                size  lastUpdated          downloadCount  voteCount  usabilityRating  \n",
            "------------------------------------------  --------------------------------------------------  -----  -------------------  -------------  ---------  ---------------  \n",
            "AnalyzeBoston/crimes-in-boston              Crimes in Boston                                     10MB  2018-09-04 17:56:03          38973        666  0.8235294        \n",
            "schirmerchad/bostonhoustingmlnd             Boston Housing                                        4KB  2017-06-11 15:07:11          16831        182  0.8235294        \n",
            "vikrishnan/boston-house-prices              Boston House Prices                                  13KB  2017-08-03 17:06:12          69839        450  0.8235294        \n",
            "ankkur13/boston-crime-data                  Crimes in Boston                                     11MB  2018-10-04 13:52:08           9493        191  0.8235294        \n",
            "airbnb/boston                               Boston Airbnb Open Data                              16MB  2019-11-17 21:30:47          16145        186  0.7058824        \n",
            "altavish/boston-housing-dataset             Boston housing dataset                               12KB  2017-10-27 12:17:34          14546         96  0.5882353        \n",
            "fedesoriano/the-boston-houseprice-data      Boston House Prices-Advanced Regression Techniques   12KB  2021-06-01 10:39:10           5448        104  1.0              \n",
            "brllrb/uber-and-lyft-dataset-boston-ma      Uber and Lyft Dataset Boston, MA                     44MB  2019-10-13 02:32:06           8737         92  0.9117647        \n",
            "rojour/boston-results                       Finishers Boston Marathon 2015, 2016 & 2017           4MB  2017-04-29 21:57:12           6104         88  0.7352941        \n",
            "crawford/boston-public-schools              Boston Public Schools                                21KB  2018-09-18 21:49:50           2338         29  0.5882353        \n",
            "kyasar/boston-housing                       Boston Housing                                       12KB  2018-05-21 14:30:01           1272         11  0.5882353        \n",
            "daniboy370/boston-marathon-2019             Boston Marathon 2019                                281KB  2020-09-23 06:36:43            386         20  0.88235295       \n",
            "heptapod/uci-ml-datasets                    UCI ML Datasets                                      12KB  2017-05-04 15:11:22           2156         19  0.88235295       \n",
            "arslanali4343/real-estate-dataset           Real Estate DataSet                                  12KB  2020-09-28 21:25:33          15900        261  1.0              \n",
            "jamieleech/boston-housing-dataset           Boston Housing Dataset                               12KB  2021-03-06 17:16:37            399         15  0.5882353        \n",
            "jackdaoud/bluebikes-in-boston               Bike Sharing in Boston                              171MB  2020-12-29 02:35:57            583         17  1.0              \n",
            "puxama/bostoncsv                            Boston.csv                                           13KB  2018-07-09 04:19:14          19574         79  0.1764706        \n",
            "balraj98/massachusetts-buildings-dataset    Massachusetts Buildings Dataset                       1GB  2020-09-25 06:28:03           3118         44  0.9411765        \n",
            "carlolepelaars/toy-dataset                  Toy Dataset                                           1MB  2018-12-10 21:15:44          10883        154  1.0              \n",
            "jinbonnie/crime-incident-reports-in-boston  Crime incident reports in Boston                     18MB  2020-10-29 18:32:24            136         17  0.9411765        \n"
          ]
        }
      ]
    },
    {
      "cell_type": "code",
      "source": [
        "!kaggle datasets download -d \"fedesoriano/the-boston-houseprice-data\""
      ],
      "metadata": {
        "colab": {
          "base_uri": "https://localhost:8080/"
        },
        "id": "u38oIyxMcByU",
        "outputId": "90332db9-9fb0-49c5-a4b0-6832d68d53e0"
      },
      "execution_count": 24,
      "outputs": [
        {
          "output_type": "stream",
          "name": "stdout",
          "text": [
            "the-boston-houseprice-data.zip: Skipping, found more recently modified local copy (use --force to force download)\n"
          ]
        }
      ]
    },
    {
      "cell_type": "code",
      "source": [
        "!unzip \"/content/the-boston-houseprice-data.zip\""
      ],
      "metadata": {
        "colab": {
          "base_uri": "https://localhost:8080/"
        },
        "id": "_LpMAjl1cOrb",
        "outputId": "ad4b7f96-1db4-4b3b-f6cf-d36215dd89e8"
      },
      "execution_count": 25,
      "outputs": [
        {
          "output_type": "stream",
          "name": "stdout",
          "text": [
            "Archive:  /content/the-boston-houseprice-data.zip\n",
            "replace boston.csv? [y]es, [n]o, [A]ll, [N]one, [r]ename: n\n"
          ]
        }
      ]
    },
    {
      "cell_type": "code",
      "source": [
        "import pandas as pd\n",
        "import numpy as np\n",
        "import seaborn as sns\n",
        "import matplotlib.pyplot as plt\n",
        "import matplotlib\n",
        "matplotlib.rcParams[\"figure.figsize\"]=(20,10)"
      ],
      "metadata": {
        "id": "UIzf7hBMceO8"
      },
      "execution_count": 26,
      "outputs": []
    },
    {
      "cell_type": "code",
      "source": [
        "data = pd.read_csv(\"/content/boston.csv\")\n",
        "data.head()"
      ],
      "metadata": {
        "colab": {
          "base_uri": "https://localhost:8080/",
          "height": 206
        },
        "id": "1ObXLGPMcuHc",
        "outputId": "38b8615a-506d-463c-b9c7-1f937b5f1c4c"
      },
      "execution_count": 27,
      "outputs": [
        {
          "output_type": "execute_result",
          "data": {
            "text/plain": [
              "      CRIM    ZN  INDUS  CHAS    NOX     RM   AGE     DIS  RAD    TAX  \\\n",
              "0  0.00632  18.0   2.31     0  0.538  6.575  65.2  4.0900    1  296.0   \n",
              "1  0.02731   0.0   7.07     0  0.469  6.421  78.9  4.9671    2  242.0   \n",
              "2  0.02729   0.0   7.07     0  0.469  7.185  61.1  4.9671    2  242.0   \n",
              "3  0.03237   0.0   2.18     0  0.458  6.998  45.8  6.0622    3  222.0   \n",
              "4  0.06905   0.0   2.18     0  0.458  7.147  54.2  6.0622    3  222.0   \n",
              "\n",
              "   PTRATIO       B  LSTAT  MEDV  \n",
              "0     15.3  396.90   4.98  24.0  \n",
              "1     17.8  396.90   9.14  21.6  \n",
              "2     17.8  392.83   4.03  34.7  \n",
              "3     18.7  394.63   2.94  33.4  \n",
              "4     18.7  396.90   5.33  36.2  "
            ],
            "text/html": [
              "\n",
              "  <div id=\"df-7a209bf8-90d9-4530-b6cb-c0d33223010d\">\n",
              "    <div class=\"colab-df-container\">\n",
              "      <div>\n",
              "<style scoped>\n",
              "    .dataframe tbody tr th:only-of-type {\n",
              "        vertical-align: middle;\n",
              "    }\n",
              "\n",
              "    .dataframe tbody tr th {\n",
              "        vertical-align: top;\n",
              "    }\n",
              "\n",
              "    .dataframe thead th {\n",
              "        text-align: right;\n",
              "    }\n",
              "</style>\n",
              "<table border=\"1\" class=\"dataframe\">\n",
              "  <thead>\n",
              "    <tr style=\"text-align: right;\">\n",
              "      <th></th>\n",
              "      <th>CRIM</th>\n",
              "      <th>ZN</th>\n",
              "      <th>INDUS</th>\n",
              "      <th>CHAS</th>\n",
              "      <th>NOX</th>\n",
              "      <th>RM</th>\n",
              "      <th>AGE</th>\n",
              "      <th>DIS</th>\n",
              "      <th>RAD</th>\n",
              "      <th>TAX</th>\n",
              "      <th>PTRATIO</th>\n",
              "      <th>B</th>\n",
              "      <th>LSTAT</th>\n",
              "      <th>MEDV</th>\n",
              "    </tr>\n",
              "  </thead>\n",
              "  <tbody>\n",
              "    <tr>\n",
              "      <th>0</th>\n",
              "      <td>0.00632</td>\n",
              "      <td>18.0</td>\n",
              "      <td>2.31</td>\n",
              "      <td>0</td>\n",
              "      <td>0.538</td>\n",
              "      <td>6.575</td>\n",
              "      <td>65.2</td>\n",
              "      <td>4.0900</td>\n",
              "      <td>1</td>\n",
              "      <td>296.0</td>\n",
              "      <td>15.3</td>\n",
              "      <td>396.90</td>\n",
              "      <td>4.98</td>\n",
              "      <td>24.0</td>\n",
              "    </tr>\n",
              "    <tr>\n",
              "      <th>1</th>\n",
              "      <td>0.02731</td>\n",
              "      <td>0.0</td>\n",
              "      <td>7.07</td>\n",
              "      <td>0</td>\n",
              "      <td>0.469</td>\n",
              "      <td>6.421</td>\n",
              "      <td>78.9</td>\n",
              "      <td>4.9671</td>\n",
              "      <td>2</td>\n",
              "      <td>242.0</td>\n",
              "      <td>17.8</td>\n",
              "      <td>396.90</td>\n",
              "      <td>9.14</td>\n",
              "      <td>21.6</td>\n",
              "    </tr>\n",
              "    <tr>\n",
              "      <th>2</th>\n",
              "      <td>0.02729</td>\n",
              "      <td>0.0</td>\n",
              "      <td>7.07</td>\n",
              "      <td>0</td>\n",
              "      <td>0.469</td>\n",
              "      <td>7.185</td>\n",
              "      <td>61.1</td>\n",
              "      <td>4.9671</td>\n",
              "      <td>2</td>\n",
              "      <td>242.0</td>\n",
              "      <td>17.8</td>\n",
              "      <td>392.83</td>\n",
              "      <td>4.03</td>\n",
              "      <td>34.7</td>\n",
              "    </tr>\n",
              "    <tr>\n",
              "      <th>3</th>\n",
              "      <td>0.03237</td>\n",
              "      <td>0.0</td>\n",
              "      <td>2.18</td>\n",
              "      <td>0</td>\n",
              "      <td>0.458</td>\n",
              "      <td>6.998</td>\n",
              "      <td>45.8</td>\n",
              "      <td>6.0622</td>\n",
              "      <td>3</td>\n",
              "      <td>222.0</td>\n",
              "      <td>18.7</td>\n",
              "      <td>394.63</td>\n",
              "      <td>2.94</td>\n",
              "      <td>33.4</td>\n",
              "    </tr>\n",
              "    <tr>\n",
              "      <th>4</th>\n",
              "      <td>0.06905</td>\n",
              "      <td>0.0</td>\n",
              "      <td>2.18</td>\n",
              "      <td>0</td>\n",
              "      <td>0.458</td>\n",
              "      <td>7.147</td>\n",
              "      <td>54.2</td>\n",
              "      <td>6.0622</td>\n",
              "      <td>3</td>\n",
              "      <td>222.0</td>\n",
              "      <td>18.7</td>\n",
              "      <td>396.90</td>\n",
              "      <td>5.33</td>\n",
              "      <td>36.2</td>\n",
              "    </tr>\n",
              "  </tbody>\n",
              "</table>\n",
              "</div>\n",
              "      <button class=\"colab-df-convert\" onclick=\"convertToInteractive('df-7a209bf8-90d9-4530-b6cb-c0d33223010d')\"\n",
              "              title=\"Convert this dataframe to an interactive table.\"\n",
              "              style=\"display:none;\">\n",
              "        \n",
              "  <svg xmlns=\"http://www.w3.org/2000/svg\" height=\"24px\"viewBox=\"0 0 24 24\"\n",
              "       width=\"24px\">\n",
              "    <path d=\"M0 0h24v24H0V0z\" fill=\"none\"/>\n",
              "    <path d=\"M18.56 5.44l.94 2.06.94-2.06 2.06-.94-2.06-.94-.94-2.06-.94 2.06-2.06.94zm-11 1L8.5 8.5l.94-2.06 2.06-.94-2.06-.94L8.5 2.5l-.94 2.06-2.06.94zm10 10l.94 2.06.94-2.06 2.06-.94-2.06-.94-.94-2.06-.94 2.06-2.06.94z\"/><path d=\"M17.41 7.96l-1.37-1.37c-.4-.4-.92-.59-1.43-.59-.52 0-1.04.2-1.43.59L10.3 9.45l-7.72 7.72c-.78.78-.78 2.05 0 2.83L4 21.41c.39.39.9.59 1.41.59.51 0 1.02-.2 1.41-.59l7.78-7.78 2.81-2.81c.8-.78.8-2.07 0-2.86zM5.41 20L4 18.59l7.72-7.72 1.47 1.35L5.41 20z\"/>\n",
              "  </svg>\n",
              "      </button>\n",
              "      \n",
              "  <style>\n",
              "    .colab-df-container {\n",
              "      display:flex;\n",
              "      flex-wrap:wrap;\n",
              "      gap: 12px;\n",
              "    }\n",
              "\n",
              "    .colab-df-convert {\n",
              "      background-color: #E8F0FE;\n",
              "      border: none;\n",
              "      border-radius: 50%;\n",
              "      cursor: pointer;\n",
              "      display: none;\n",
              "      fill: #1967D2;\n",
              "      height: 32px;\n",
              "      padding: 0 0 0 0;\n",
              "      width: 32px;\n",
              "    }\n",
              "\n",
              "    .colab-df-convert:hover {\n",
              "      background-color: #E2EBFA;\n",
              "      box-shadow: 0px 1px 2px rgba(60, 64, 67, 0.3), 0px 1px 3px 1px rgba(60, 64, 67, 0.15);\n",
              "      fill: #174EA6;\n",
              "    }\n",
              "\n",
              "    [theme=dark] .colab-df-convert {\n",
              "      background-color: #3B4455;\n",
              "      fill: #D2E3FC;\n",
              "    }\n",
              "\n",
              "    [theme=dark] .colab-df-convert:hover {\n",
              "      background-color: #434B5C;\n",
              "      box-shadow: 0px 1px 3px 1px rgba(0, 0, 0, 0.15);\n",
              "      filter: drop-shadow(0px 1px 2px rgba(0, 0, 0, 0.3));\n",
              "      fill: #FFFFFF;\n",
              "    }\n",
              "  </style>\n",
              "\n",
              "      <script>\n",
              "        const buttonEl =\n",
              "          document.querySelector('#df-7a209bf8-90d9-4530-b6cb-c0d33223010d button.colab-df-convert');\n",
              "        buttonEl.style.display =\n",
              "          google.colab.kernel.accessAllowed ? 'block' : 'none';\n",
              "\n",
              "        async function convertToInteractive(key) {\n",
              "          const element = document.querySelector('#df-7a209bf8-90d9-4530-b6cb-c0d33223010d');\n",
              "          const dataTable =\n",
              "            await google.colab.kernel.invokeFunction('convertToInteractive',\n",
              "                                                     [key], {});\n",
              "          if (!dataTable) return;\n",
              "\n",
              "          const docLinkHtml = 'Like what you see? Visit the ' +\n",
              "            '<a target=\"_blank\" href=https://colab.research.google.com/notebooks/data_table.ipynb>data table notebook</a>'\n",
              "            + ' to learn more about interactive tables.';\n",
              "          element.innerHTML = '';\n",
              "          dataTable['output_type'] = 'display_data';\n",
              "          await google.colab.output.renderOutput(dataTable, element);\n",
              "          const docLink = document.createElement('div');\n",
              "          docLink.innerHTML = docLinkHtml;\n",
              "          element.appendChild(docLink);\n",
              "        }\n",
              "      </script>\n",
              "    </div>\n",
              "  </div>\n",
              "  "
            ]
          },
          "metadata": {},
          "execution_count": 27
        }
      ]
    },
    {
      "cell_type": "code",
      "source": [
        "data.isnull().sum()"
      ],
      "metadata": {
        "colab": {
          "base_uri": "https://localhost:8080/"
        },
        "id": "b1m1P-CDc7bT",
        "outputId": "cb3265cb-8217-49c9-c852-16faab8a9e6c"
      },
      "execution_count": 28,
      "outputs": [
        {
          "output_type": "execute_result",
          "data": {
            "text/plain": [
              "CRIM       0\n",
              "ZN         0\n",
              "INDUS      0\n",
              "CHAS       0\n",
              "NOX        0\n",
              "RM         0\n",
              "AGE        0\n",
              "DIS        0\n",
              "RAD        0\n",
              "TAX        0\n",
              "PTRATIO    0\n",
              "B          0\n",
              "LSTAT      0\n",
              "MEDV       0\n",
              "dtype: int64"
            ]
          },
          "metadata": {},
          "execution_count": 28
        }
      ]
    },
    {
      "cell_type": "code",
      "source": [
        "data.info()"
      ],
      "metadata": {
        "colab": {
          "base_uri": "https://localhost:8080/"
        },
        "id": "8eOLcYtMeogQ",
        "outputId": "0d5a8257-7d1d-4bd3-a33b-b289fe57099c"
      },
      "execution_count": 29,
      "outputs": [
        {
          "output_type": "stream",
          "name": "stdout",
          "text": [
            "<class 'pandas.core.frame.DataFrame'>\n",
            "RangeIndex: 506 entries, 0 to 505\n",
            "Data columns (total 14 columns):\n",
            " #   Column   Non-Null Count  Dtype  \n",
            "---  ------   --------------  -----  \n",
            " 0   CRIM     506 non-null    float64\n",
            " 1   ZN       506 non-null    float64\n",
            " 2   INDUS    506 non-null    float64\n",
            " 3   CHAS     506 non-null    int64  \n",
            " 4   NOX      506 non-null    float64\n",
            " 5   RM       506 non-null    float64\n",
            " 6   AGE      506 non-null    float64\n",
            " 7   DIS      506 non-null    float64\n",
            " 8   RAD      506 non-null    int64  \n",
            " 9   TAX      506 non-null    float64\n",
            " 10  PTRATIO  506 non-null    float64\n",
            " 11  B        506 non-null    float64\n",
            " 12  LSTAT    506 non-null    float64\n",
            " 13  MEDV     506 non-null    float64\n",
            "dtypes: float64(12), int64(2)\n",
            "memory usage: 55.5 KB\n"
          ]
        }
      ]
    },
    {
      "cell_type": "code",
      "source": [
        "x = data.drop(\"MEDV\",axis=1)\n",
        "\n",
        "y = data.iloc[:,-1]"
      ],
      "metadata": {
        "id": "bkRouo4-fN09"
      },
      "execution_count": 30,
      "outputs": []
    },
    {
      "cell_type": "code",
      "source": [
        "x.shape, y.shape"
      ],
      "metadata": {
        "colab": {
          "base_uri": "https://localhost:8080/"
        },
        "id": "1OQyybQlf4Yd",
        "outputId": "8aefbc20-459e-49a4-d2b3-96db88ba67eb"
      },
      "execution_count": 31,
      "outputs": [
        {
          "output_type": "execute_result",
          "data": {
            "text/plain": [
              "((506, 13), (506,))"
            ]
          },
          "metadata": {},
          "execution_count": 31
        }
      ]
    },
    {
      "cell_type": "code",
      "source": [
        "import torch"
      ],
      "metadata": {
        "id": "DK5e80Qrf6ze"
      },
      "execution_count": 32,
      "outputs": []
    },
    {
      "cell_type": "code",
      "source": [
        "x = torch.tensor(x.values)\n",
        "y = torch.tensor(y.values)"
      ],
      "metadata": {
        "id": "XK0H4AvugG-b"
      },
      "execution_count": 33,
      "outputs": []
    },
    {
      "cell_type": "code",
      "source": [
        "x.shape, y.shape"
      ],
      "metadata": {
        "colab": {
          "base_uri": "https://localhost:8080/"
        },
        "id": "pwPKPO8pgRhc",
        "outputId": "bbacc59e-f3ad-4c90-c795-194403cad7c9"
      },
      "execution_count": 34,
      "outputs": [
        {
          "output_type": "execute_result",
          "data": {
            "text/plain": [
              "(torch.Size([506, 13]), torch.Size([506]))"
            ]
          },
          "metadata": {},
          "execution_count": 34
        }
      ]
    },
    {
      "cell_type": "code",
      "source": [
        "y = y.reshape(-1,1)\n",
        "y.shape"
      ],
      "metadata": {
        "colab": {
          "base_uri": "https://localhost:8080/"
        },
        "id": "5cHvBUTGnlgE",
        "outputId": "7bd889e7-4572-48cf-fef8-89bbe8af3b01"
      },
      "execution_count": 82,
      "outputs": [
        {
          "output_type": "execute_result",
          "data": {
            "text/plain": [
              "torch.Size([506, 1])"
            ]
          },
          "metadata": {},
          "execution_count": 82
        }
      ]
    },
    {
      "cell_type": "code",
      "source": [
        "import torch,torchsummary\n",
        "import torch.nn as nn\n",
        "import torch.nn.functional as F \n",
        "from torch.utils.data import DataLoader,TensorDataset \n",
        "from torch.optim import Adam,RMSprop"
      ],
      "metadata": {
        "id": "oeKAm4jJgUFn"
      },
      "execution_count": 35,
      "outputs": []
    },
    {
      "cell_type": "code",
      "source": [
        "from sklearn.model_selection import train_test_split \n",
        "x_train, x_test, y_train, y_test=train_test_split(x,y,test_size=0.3)"
      ],
      "metadata": {
        "id": "m6N_XmEUgttc"
      },
      "execution_count": 83,
      "outputs": []
    },
    {
      "cell_type": "code",
      "source": [
        "x_train.shape,  x_test.shape, y_train.shape, y_test.shape"
      ],
      "metadata": {
        "colab": {
          "base_uri": "https://localhost:8080/"
        },
        "id": "bWrTzkI5hKeT",
        "outputId": "7799bf69-9b91-4bc5-c3d7-5b10fa635f13"
      },
      "execution_count": 84,
      "outputs": [
        {
          "output_type": "execute_result",
          "data": {
            "text/plain": [
              "(torch.Size([354, 13]),\n",
              " torch.Size([152, 13]),\n",
              " torch.Size([354, 1]),\n",
              " torch.Size([152, 1]))"
            ]
          },
          "metadata": {},
          "execution_count": 84
        }
      ]
    },
    {
      "cell_type": "code",
      "source": [
        "train_loader = DataLoader(TensorDataset(x_train.float(),y_train),\n",
        "                                       batch_size=64,shuffle = True)\n",
        "\n",
        "test_loader = DataLoader(TensorDataset(x_test.float(),y_test),\n",
        "                                      batch_size = 64,shuffle = False)"
      ],
      "metadata": {
        "id": "8w_MuW4thWqk"
      },
      "execution_count": 85,
      "outputs": []
    },
    {
      "cell_type": "code",
      "source": [
        "class DNN_MNIST(nn.Module):\n",
        "  def __init__(self):\n",
        "    super(DNN_MNIST,self).__init__()\n",
        "\n",
        "    self.h1 = nn.Linear(in_features=13, out_features = 512)\n",
        "    self.h2 = nn.Linear(in_features=512, out_features = 256)\n",
        "    self.h3 = nn.Linear(in_features=256, out_features = 128)\n",
        "    self.h4 = nn.Linear(in_features=128, out_features = 64)\n",
        "    self.out = nn.Linear(in_features=64, out_features = 1)\n",
        "    self.bn1 = nn.BatchNorm1d(num_features=512)\n",
        "    self.bn2 = nn.BatchNorm1d(num_features=256)\n",
        "    self.bn3 = nn.BatchNorm1d(num_features=128)\n",
        "    self.dropout = nn.Dropout(p=0.4)\n",
        "\n",
        "  def forward(self,x):\n",
        "    x = F.relu(self.h1(x))\n",
        "    x = self.bn1(x)\n",
        "    x = self.dropout(x)\n",
        "\n",
        "    x = F.relu(self.h2(x))\n",
        "    x = self.bn2(x)\n",
        "    x = self.dropout(x)\n",
        "\n",
        "    x = F.relu(self.h3(x))\n",
        "    x = self.bn3(x)\n",
        "    x = self.dropout(x)\n",
        "\n",
        "    x = F.relu(self.h4(x))\n",
        "    x = self.dropout(x)\n",
        "\n",
        "    x = self.out(x)\n",
        "    return x"
      ],
      "metadata": {
        "id": "UNxC7NDmhtb7"
      },
      "execution_count": 86,
      "outputs": []
    },
    {
      "cell_type": "code",
      "source": [
        "dnn_model = DNN_MNIST()"
      ],
      "metadata": {
        "id": "tUHzDt5HiMta"
      },
      "execution_count": 87,
      "outputs": []
    },
    {
      "cell_type": "code",
      "source": [
        "list(dnn_model.parameters())"
      ],
      "metadata": {
        "id": "8H9uUtX8iPB3"
      },
      "execution_count": null,
      "outputs": []
    },
    {
      "cell_type": "code",
      "source": [
        "opt = Adam(dnn_model.parameters(),lr=0.001)"
      ],
      "metadata": {
        "id": "h0CVwHFaiaWI"
      },
      "execution_count": 89,
      "outputs": []
    },
    {
      "cell_type": "code",
      "source": [
        "device = torch.device(\"cuda\" if torch.cuda.is_available() else \"cpu\")\n",
        "device"
      ],
      "metadata": {
        "colab": {
          "base_uri": "https://localhost:8080/"
        },
        "id": "nk928VieiyRI",
        "outputId": "d7dcdd51-b23b-4cf1-c1e1-0150b44e21c2"
      },
      "execution_count": 90,
      "outputs": [
        {
          "output_type": "execute_result",
          "data": {
            "text/plain": [
              "device(type='cpu')"
            ]
          },
          "metadata": {},
          "execution_count": 90
        }
      ]
    },
    {
      "cell_type": "code",
      "source": [
        "dnn_model = dnn_model.to(device)"
      ],
      "metadata": {
        "id": "GMFGNGo1i0SO"
      },
      "execution_count": 91,
      "outputs": []
    },
    {
      "cell_type": "code",
      "source": [
        "from tqdm import tqdm"
      ],
      "metadata": {
        "id": "l6vhyYVBi_td"
      },
      "execution_count": 92,
      "outputs": []
    },
    {
      "cell_type": "code",
      "source": [
        "def training(model, train_loader, opt):\n",
        "    train_loss = 0.0\n",
        "    model.train()\n",
        "    for batch, target in tqdm(train_loader):\n",
        "        batch = batch.float().to(device)\n",
        "        target = target.float().to(device)\n",
        "        #print(target.dtype)\n",
        "\n",
        "        opt.zero_grad()\n",
        "        output = model(batch.float())\n",
        "        #print(output.dtype)\n",
        "\n",
        "        loss = F.mse_loss(output, target)\n",
        "        loss.backward()\n",
        "        opt.step()\n",
        "        train_loss += loss.item()\n",
        "\n",
        "    return train_loss"
      ],
      "metadata": {
        "id": "PGIEqQVsi2Qx"
      },
      "execution_count": 104,
      "outputs": []
    },
    {
      "cell_type": "code",
      "source": [
        "def validate(model, test_loader, opt):\n",
        "    val_loss = 0.0\n",
        "    model.eval()\n",
        "    with torch.no_grad():\n",
        "        for batch, target in tqdm(test_loader):\n",
        "            batch = batch.float().to(device)\n",
        "            target = target.float().to(device)\n",
        "\n",
        "            output = model(batch.float())\n",
        "            loss = F.mse_loss(output, target)\n",
        "            val_loss += loss.item()\n",
        "    return val_loss"
      ],
      "metadata": {
        "id": "KxOit3iIjJjX"
      },
      "execution_count": 105,
      "outputs": []
    },
    {
      "cell_type": "code",
      "source": [
        "model = dnn_model.to(device)\n",
        "hist = {'train_loss':[], 'val_loss':[]}\n",
        "for epoch in range(25):\n",
        "    hist['train_loss'].append(training(model, train_loader,opt))\n",
        "    hist['val_loss'].append(validate(model, test_loader,opt))"
      ],
      "metadata": {
        "colab": {
          "base_uri": "https://localhost:8080/"
        },
        "id": "b_6Z4vy_jTEd",
        "outputId": "60940d81-3e9f-4764-c903-806709966fb7"
      },
      "execution_count": 122,
      "outputs": [
        {
          "output_type": "stream",
          "name": "stderr",
          "text": [
            "100%|██████████| 6/6 [00:00<00:00, 138.38it/s]\n",
            "100%|██████████| 3/3 [00:00<00:00, 362.09it/s]\n",
            "100%|██████████| 6/6 [00:00<00:00, 165.64it/s]\n",
            "100%|██████████| 3/3 [00:00<00:00, 329.37it/s]\n",
            "100%|██████████| 6/6 [00:00<00:00, 163.39it/s]\n",
            "100%|██████████| 3/3 [00:00<00:00, 541.53it/s]\n",
            "100%|██████████| 6/6 [00:00<00:00, 168.59it/s]\n",
            "100%|██████████| 3/3 [00:00<00:00, 236.92it/s]\n",
            "100%|██████████| 6/6 [00:00<00:00, 143.58it/s]\n",
            "100%|██████████| 3/3 [00:00<00:00, 279.57it/s]\n",
            "100%|██████████| 6/6 [00:00<00:00, 172.44it/s]\n",
            "100%|██████████| 3/3 [00:00<00:00, 331.59it/s]\n",
            "100%|██████████| 6/6 [00:00<00:00, 167.47it/s]\n",
            "100%|██████████| 3/3 [00:00<00:00, 475.99it/s]\n",
            "100%|██████████| 6/6 [00:00<00:00, 155.54it/s]\n",
            "100%|██████████| 3/3 [00:00<00:00, 375.52it/s]\n",
            "100%|██████████| 6/6 [00:00<00:00, 180.94it/s]\n",
            "100%|██████████| 3/3 [00:00<00:00, 374.79it/s]\n",
            "100%|██████████| 6/6 [00:00<00:00, 176.00it/s]\n",
            "100%|██████████| 3/3 [00:00<00:00, 281.45it/s]\n",
            "100%|██████████| 6/6 [00:00<00:00, 166.96it/s]\n",
            "100%|██████████| 3/3 [00:00<00:00, 286.18it/s]\n",
            "100%|██████████| 6/6 [00:00<00:00, 162.81it/s]\n",
            "100%|██████████| 3/3 [00:00<00:00, 264.67it/s]\n",
            "100%|██████████| 6/6 [00:00<00:00, 148.79it/s]\n",
            "100%|██████████| 3/3 [00:00<00:00, 285.30it/s]\n",
            "100%|██████████| 6/6 [00:00<00:00, 145.16it/s]\n",
            "100%|██████████| 3/3 [00:00<00:00, 394.10it/s]\n",
            "100%|██████████| 6/6 [00:00<00:00, 169.45it/s]\n",
            "100%|██████████| 3/3 [00:00<00:00, 608.61it/s]\n",
            "100%|██████████| 6/6 [00:00<00:00, 154.14it/s]\n",
            "100%|██████████| 3/3 [00:00<00:00, 206.56it/s]\n",
            "100%|██████████| 6/6 [00:00<00:00, 133.07it/s]\n",
            "100%|██████████| 3/3 [00:00<00:00, 367.19it/s]\n",
            "100%|██████████| 6/6 [00:00<00:00, 173.67it/s]\n",
            "100%|██████████| 3/3 [00:00<00:00, 398.88it/s]\n",
            "100%|██████████| 6/6 [00:00<00:00, 180.42it/s]\n",
            "100%|██████████| 3/3 [00:00<00:00, 382.98it/s]\n",
            "100%|██████████| 6/6 [00:00<00:00, 167.66it/s]\n",
            "100%|██████████| 3/3 [00:00<00:00, 355.12it/s]\n",
            "100%|██████████| 6/6 [00:00<00:00, 150.29it/s]\n",
            "100%|██████████| 3/3 [00:00<00:00, 396.64it/s]\n",
            "100%|██████████| 6/6 [00:00<00:00, 153.67it/s]\n",
            "100%|██████████| 3/3 [00:00<00:00, 341.55it/s]\n",
            "100%|██████████| 6/6 [00:00<00:00, 146.00it/s]\n",
            "100%|██████████| 3/3 [00:00<00:00, 395.61it/s]\n",
            "100%|██████████| 6/6 [00:00<00:00, 170.28it/s]\n",
            "100%|██████████| 3/3 [00:00<00:00, 290.28it/s]\n",
            "100%|██████████| 6/6 [00:00<00:00, 164.11it/s]\n",
            "100%|██████████| 3/3 [00:00<00:00, 317.46it/s]\n"
          ]
        }
      ]
    },
    {
      "cell_type": "code",
      "source": [
        "hist[\"train_loss\"][-1] , hist[\"val_loss\"][-1]"
      ],
      "metadata": {
        "colab": {
          "base_uri": "https://localhost:8080/"
        },
        "id": "MdEXp2Haj3FI",
        "outputId": "9b8fca59-ea08-4f6b-9368-c4c7ecbaeea9"
      },
      "execution_count": 123,
      "outputs": [
        {
          "output_type": "execute_result",
          "data": {
            "text/plain": [
              "(223.65508651733398, 12969.545949935913)"
            ]
          },
          "metadata": {},
          "execution_count": 123
        }
      ]
    },
    {
      "cell_type": "code",
      "source": [
        "final_pred = dnn_model(x_test.float())"
      ],
      "metadata": {
        "id": "d9MpzLPMpzxL"
      },
      "execution_count": 124,
      "outputs": []
    },
    {
      "cell_type": "code",
      "source": [
        "from sklearn.metrics import r2_score"
      ],
      "metadata": {
        "id": "w7Nrn3y5qH3q"
      },
      "execution_count": 125,
      "outputs": []
    },
    {
      "cell_type": "code",
      "source": [
        "print(r2_score(y_test,final_pred.detach().numpy()))"
      ],
      "metadata": {
        "colab": {
          "base_uri": "https://localhost:8080/"
        },
        "id": "y_ZFm_nkqNrO",
        "outputId": "9a77cf6f-2d59-44ef-b99b-7e294649e53a"
      },
      "execution_count": 126,
      "outputs": [
        {
          "output_type": "stream",
          "name": "stdout",
          "text": [
            "-70.7634725730419\n"
          ]
        }
      ]
    },
    {
      "cell_type": "code",
      "source": [],
      "metadata": {
        "id": "W6KMo2j7qmim"
      },
      "execution_count": null,
      "outputs": []
    }
  ]
}