{
  "nbformat": 4,
  "nbformat_minor": 0,
  "metadata": {
    "colab": {
      "provenance": [],
      "collapsed_sections": [],
      "authorship_tag": "ABX9TyMpbVkd9w/CLJP2VOl5mWuz",
      "include_colab_link": true
    },
    "kernelspec": {
      "name": "python3",
      "display_name": "Python 3"
    },
    "language_info": {
      "name": "python"
    }
  },
  "cells": [
    {
      "cell_type": "markdown",
      "metadata": {
        "id": "view-in-github",
        "colab_type": "text"
      },
      "source": [
        "<a href=\"https://colab.research.google.com/github/preetamjumech/DL_DNN_from_Scratch/blob/main/Preetam_Saha_29_09_2022_Breast_Cancer__wisconsin_DNN.ipynb\" target=\"_parent\"><img src=\"https://colab.research.google.com/assets/colab-badge.svg\" alt=\"Open In Colab\"/></a>"
      ]
    },
    {
      "cell_type": "code",
      "execution_count": 1,
      "metadata": {
        "colab": {
          "base_uri": "https://localhost:8080/"
        },
        "id": "dHQx1rbDLyZQ",
        "outputId": "a69d130e-93e2-4831-9812-1a9e3dc33122"
      },
      "outputs": [
        {
          "output_type": "stream",
          "name": "stdout",
          "text": [
            "--2022-09-29 08:02:48--  https://archive.ics.uci.edu/ml/machine-learning-databases/breast-cancer-wisconsin/breast-cancer-wisconsin.data\n",
            "Resolving archive.ics.uci.edu (archive.ics.uci.edu)... 128.195.10.252\n",
            "Connecting to archive.ics.uci.edu (archive.ics.uci.edu)|128.195.10.252|:443... connected.\n",
            "HTTP request sent, awaiting response... 200 OK\n",
            "Length: 19889 (19K) [application/x-httpd-php]\n",
            "Saving to: ‘breast-cancer-wisconsin.data.1’\n",
            "\n",
            "breast-cancer-wisco 100%[===================>]  19.42K  --.-KB/s    in 0.06s   \n",
            "\n",
            "2022-09-29 08:02:48 (304 KB/s) - ‘breast-cancer-wisconsin.data.1’ saved [19889/19889]\n",
            "\n"
          ]
        }
      ],
      "source": [
        "!wget https://archive.ics.uci.edu/ml/machine-learning-databases/breast-cancer-wisconsin/breast-cancer-wisconsin.data"
      ]
    },
    {
      "cell_type": "code",
      "source": [
        "import pandas as pd\n",
        "import numpy as np\n",
        "import seaborn as sns\n",
        "import matplotlib.pyplot as plt\n",
        "import matplotlib\n",
        "matplotlib.rcParams[\"figure.figsize\"]=(20,10)"
      ],
      "metadata": {
        "id": "6ZswOfEAMLvY"
      },
      "execution_count": 2,
      "outputs": []
    },
    {
      "cell_type": "code",
      "source": [
        "df = pd.read_csv(\"/content/breast-cancer-wisconsin.data\",header=None)\n",
        "df.head()"
      ],
      "metadata": {
        "colab": {
          "base_uri": "https://localhost:8080/",
          "height": 206
        },
        "id": "lsZ5eQHQMQTo",
        "outputId": "e1490d1b-bcbb-4a2a-e993-ba37a52b11fe"
      },
      "execution_count": 3,
      "outputs": [
        {
          "output_type": "execute_result",
          "data": {
            "text/plain": [
              "        0   1   2   3   4   5   6   7   8   9   10\n",
              "0  1000025   5   1   1   1   2   1   3   1   1   2\n",
              "1  1002945   5   4   4   5   7  10   3   2   1   2\n",
              "2  1015425   3   1   1   1   2   2   3   1   1   2\n",
              "3  1016277   6   8   8   1   3   4   3   7   1   2\n",
              "4  1017023   4   1   1   3   2   1   3   1   1   2"
            ],
            "text/html": [
              "\n",
              "  <div id=\"df-655987cd-250c-4f2b-b70f-2cbce04a0ff8\">\n",
              "    <div class=\"colab-df-container\">\n",
              "      <div>\n",
              "<style scoped>\n",
              "    .dataframe tbody tr th:only-of-type {\n",
              "        vertical-align: middle;\n",
              "    }\n",
              "\n",
              "    .dataframe tbody tr th {\n",
              "        vertical-align: top;\n",
              "    }\n",
              "\n",
              "    .dataframe thead th {\n",
              "        text-align: right;\n",
              "    }\n",
              "</style>\n",
              "<table border=\"1\" class=\"dataframe\">\n",
              "  <thead>\n",
              "    <tr style=\"text-align: right;\">\n",
              "      <th></th>\n",
              "      <th>0</th>\n",
              "      <th>1</th>\n",
              "      <th>2</th>\n",
              "      <th>3</th>\n",
              "      <th>4</th>\n",
              "      <th>5</th>\n",
              "      <th>6</th>\n",
              "      <th>7</th>\n",
              "      <th>8</th>\n",
              "      <th>9</th>\n",
              "      <th>10</th>\n",
              "    </tr>\n",
              "  </thead>\n",
              "  <tbody>\n",
              "    <tr>\n",
              "      <th>0</th>\n",
              "      <td>1000025</td>\n",
              "      <td>5</td>\n",
              "      <td>1</td>\n",
              "      <td>1</td>\n",
              "      <td>1</td>\n",
              "      <td>2</td>\n",
              "      <td>1</td>\n",
              "      <td>3</td>\n",
              "      <td>1</td>\n",
              "      <td>1</td>\n",
              "      <td>2</td>\n",
              "    </tr>\n",
              "    <tr>\n",
              "      <th>1</th>\n",
              "      <td>1002945</td>\n",
              "      <td>5</td>\n",
              "      <td>4</td>\n",
              "      <td>4</td>\n",
              "      <td>5</td>\n",
              "      <td>7</td>\n",
              "      <td>10</td>\n",
              "      <td>3</td>\n",
              "      <td>2</td>\n",
              "      <td>1</td>\n",
              "      <td>2</td>\n",
              "    </tr>\n",
              "    <tr>\n",
              "      <th>2</th>\n",
              "      <td>1015425</td>\n",
              "      <td>3</td>\n",
              "      <td>1</td>\n",
              "      <td>1</td>\n",
              "      <td>1</td>\n",
              "      <td>2</td>\n",
              "      <td>2</td>\n",
              "      <td>3</td>\n",
              "      <td>1</td>\n",
              "      <td>1</td>\n",
              "      <td>2</td>\n",
              "    </tr>\n",
              "    <tr>\n",
              "      <th>3</th>\n",
              "      <td>1016277</td>\n",
              "      <td>6</td>\n",
              "      <td>8</td>\n",
              "      <td>8</td>\n",
              "      <td>1</td>\n",
              "      <td>3</td>\n",
              "      <td>4</td>\n",
              "      <td>3</td>\n",
              "      <td>7</td>\n",
              "      <td>1</td>\n",
              "      <td>2</td>\n",
              "    </tr>\n",
              "    <tr>\n",
              "      <th>4</th>\n",
              "      <td>1017023</td>\n",
              "      <td>4</td>\n",
              "      <td>1</td>\n",
              "      <td>1</td>\n",
              "      <td>3</td>\n",
              "      <td>2</td>\n",
              "      <td>1</td>\n",
              "      <td>3</td>\n",
              "      <td>1</td>\n",
              "      <td>1</td>\n",
              "      <td>2</td>\n",
              "    </tr>\n",
              "  </tbody>\n",
              "</table>\n",
              "</div>\n",
              "      <button class=\"colab-df-convert\" onclick=\"convertToInteractive('df-655987cd-250c-4f2b-b70f-2cbce04a0ff8')\"\n",
              "              title=\"Convert this dataframe to an interactive table.\"\n",
              "              style=\"display:none;\">\n",
              "        \n",
              "  <svg xmlns=\"http://www.w3.org/2000/svg\" height=\"24px\"viewBox=\"0 0 24 24\"\n",
              "       width=\"24px\">\n",
              "    <path d=\"M0 0h24v24H0V0z\" fill=\"none\"/>\n",
              "    <path d=\"M18.56 5.44l.94 2.06.94-2.06 2.06-.94-2.06-.94-.94-2.06-.94 2.06-2.06.94zm-11 1L8.5 8.5l.94-2.06 2.06-.94-2.06-.94L8.5 2.5l-.94 2.06-2.06.94zm10 10l.94 2.06.94-2.06 2.06-.94-2.06-.94-.94-2.06-.94 2.06-2.06.94z\"/><path d=\"M17.41 7.96l-1.37-1.37c-.4-.4-.92-.59-1.43-.59-.52 0-1.04.2-1.43.59L10.3 9.45l-7.72 7.72c-.78.78-.78 2.05 0 2.83L4 21.41c.39.39.9.59 1.41.59.51 0 1.02-.2 1.41-.59l7.78-7.78 2.81-2.81c.8-.78.8-2.07 0-2.86zM5.41 20L4 18.59l7.72-7.72 1.47 1.35L5.41 20z\"/>\n",
              "  </svg>\n",
              "      </button>\n",
              "      \n",
              "  <style>\n",
              "    .colab-df-container {\n",
              "      display:flex;\n",
              "      flex-wrap:wrap;\n",
              "      gap: 12px;\n",
              "    }\n",
              "\n",
              "    .colab-df-convert {\n",
              "      background-color: #E8F0FE;\n",
              "      border: none;\n",
              "      border-radius: 50%;\n",
              "      cursor: pointer;\n",
              "      display: none;\n",
              "      fill: #1967D2;\n",
              "      height: 32px;\n",
              "      padding: 0 0 0 0;\n",
              "      width: 32px;\n",
              "    }\n",
              "\n",
              "    .colab-df-convert:hover {\n",
              "      background-color: #E2EBFA;\n",
              "      box-shadow: 0px 1px 2px rgba(60, 64, 67, 0.3), 0px 1px 3px 1px rgba(60, 64, 67, 0.15);\n",
              "      fill: #174EA6;\n",
              "    }\n",
              "\n",
              "    [theme=dark] .colab-df-convert {\n",
              "      background-color: #3B4455;\n",
              "      fill: #D2E3FC;\n",
              "    }\n",
              "\n",
              "    [theme=dark] .colab-df-convert:hover {\n",
              "      background-color: #434B5C;\n",
              "      box-shadow: 0px 1px 3px 1px rgba(0, 0, 0, 0.15);\n",
              "      filter: drop-shadow(0px 1px 2px rgba(0, 0, 0, 0.3));\n",
              "      fill: #FFFFFF;\n",
              "    }\n",
              "  </style>\n",
              "\n",
              "      <script>\n",
              "        const buttonEl =\n",
              "          document.querySelector('#df-655987cd-250c-4f2b-b70f-2cbce04a0ff8 button.colab-df-convert');\n",
              "        buttonEl.style.display =\n",
              "          google.colab.kernel.accessAllowed ? 'block' : 'none';\n",
              "\n",
              "        async function convertToInteractive(key) {\n",
              "          const element = document.querySelector('#df-655987cd-250c-4f2b-b70f-2cbce04a0ff8');\n",
              "          const dataTable =\n",
              "            await google.colab.kernel.invokeFunction('convertToInteractive',\n",
              "                                                     [key], {});\n",
              "          if (!dataTable) return;\n",
              "\n",
              "          const docLinkHtml = 'Like what you see? Visit the ' +\n",
              "            '<a target=\"_blank\" href=https://colab.research.google.com/notebooks/data_table.ipynb>data table notebook</a>'\n",
              "            + ' to learn more about interactive tables.';\n",
              "          element.innerHTML = '';\n",
              "          dataTable['output_type'] = 'display_data';\n",
              "          await google.colab.output.renderOutput(dataTable, element);\n",
              "          const docLink = document.createElement('div');\n",
              "          docLink.innerHTML = docLinkHtml;\n",
              "          element.appendChild(docLink);\n",
              "        }\n",
              "      </script>\n",
              "    </div>\n",
              "  </div>\n",
              "  "
            ]
          },
          "metadata": {},
          "execution_count": 3
        }
      ]
    },
    {
      "cell_type": "code",
      "source": [
        "df.shape"
      ],
      "metadata": {
        "colab": {
          "base_uri": "https://localhost:8080/"
        },
        "id": "rlT8SqI4Mt0G",
        "outputId": "0c6847a3-f251-4360-8324-aff96ebd4ccc"
      },
      "execution_count": 4,
      "outputs": [
        {
          "output_type": "execute_result",
          "data": {
            "text/plain": [
              "(699, 11)"
            ]
          },
          "metadata": {},
          "execution_count": 4
        }
      ]
    },
    {
      "cell_type": "code",
      "source": [
        "df[10].value_counts()"
      ],
      "metadata": {
        "colab": {
          "base_uri": "https://localhost:8080/"
        },
        "id": "kGqfzKrlQrL_",
        "outputId": "54cb5dcd-34ee-495e-818b-b0adc8fa1945"
      },
      "execution_count": 5,
      "outputs": [
        {
          "output_type": "execute_result",
          "data": {
            "text/plain": [
              "2    458\n",
              "4    241\n",
              "Name: 10, dtype: int64"
            ]
          },
          "metadata": {},
          "execution_count": 5
        }
      ]
    },
    {
      "cell_type": "code",
      "source": [
        "df.info()"
      ],
      "metadata": {
        "colab": {
          "base_uri": "https://localhost:8080/"
        },
        "id": "oc6UI-x0MuWh",
        "outputId": "bca32e2c-0c2b-4c76-db19-ee6bdc7673a8"
      },
      "execution_count": 6,
      "outputs": [
        {
          "output_type": "stream",
          "name": "stdout",
          "text": [
            "<class 'pandas.core.frame.DataFrame'>\n",
            "RangeIndex: 699 entries, 0 to 698\n",
            "Data columns (total 11 columns):\n",
            " #   Column  Non-Null Count  Dtype \n",
            "---  ------  --------------  ----- \n",
            " 0   0       699 non-null    int64 \n",
            " 1   1       699 non-null    int64 \n",
            " 2   2       699 non-null    int64 \n",
            " 3   3       699 non-null    int64 \n",
            " 4   4       699 non-null    int64 \n",
            " 5   5       699 non-null    int64 \n",
            " 6   6       699 non-null    object\n",
            " 7   7       699 non-null    int64 \n",
            " 8   8       699 non-null    int64 \n",
            " 9   9       699 non-null    int64 \n",
            " 10  10      699 non-null    int64 \n",
            "dtypes: int64(10), object(1)\n",
            "memory usage: 60.2+ KB\n"
          ]
        }
      ]
    },
    {
      "cell_type": "code",
      "source": [
        "df.isnull().sum()"
      ],
      "metadata": {
        "colab": {
          "base_uri": "https://localhost:8080/"
        },
        "id": "8qiw7cK7Mvi0",
        "outputId": "45c62569-84ef-4212-873d-5270f8947ddc"
      },
      "execution_count": 7,
      "outputs": [
        {
          "output_type": "execute_result",
          "data": {
            "text/plain": [
              "0     0\n",
              "1     0\n",
              "2     0\n",
              "3     0\n",
              "4     0\n",
              "5     0\n",
              "6     0\n",
              "7     0\n",
              "8     0\n",
              "9     0\n",
              "10    0\n",
              "dtype: int64"
            ]
          },
          "metadata": {},
          "execution_count": 7
        }
      ]
    },
    {
      "cell_type": "code",
      "source": [
        "df[6].value_counts()"
      ],
      "metadata": {
        "colab": {
          "base_uri": "https://localhost:8080/"
        },
        "id": "u-7qxMTiNkc2",
        "outputId": "4b63a2d9-1f04-4ebe-cc7c-3d9caa41649f"
      },
      "execution_count": 8,
      "outputs": [
        {
          "output_type": "execute_result",
          "data": {
            "text/plain": [
              "1     402\n",
              "10    132\n",
              "2      30\n",
              "5      30\n",
              "3      28\n",
              "8      21\n",
              "4      19\n",
              "?      16\n",
              "9       9\n",
              "7       8\n",
              "6       4\n",
              "Name: 6, dtype: int64"
            ]
          },
          "metadata": {},
          "execution_count": 8
        }
      ]
    },
    {
      "cell_type": "code",
      "source": [
        "df = df[~(df.iloc[:,6]==\"?\")]\n",
        "df"
      ],
      "metadata": {
        "colab": {
          "base_uri": "https://localhost:8080/",
          "height": 424
        },
        "id": "alwwpfTwNF43",
        "outputId": "dd2fb09c-888b-4137-a508-73877b946a2d"
      },
      "execution_count": 9,
      "outputs": [
        {
          "output_type": "execute_result",
          "data": {
            "text/plain": [
              "          0   1   2   3   4   5   6   7   8   9   10\n",
              "0    1000025   5   1   1   1   2   1   3   1   1   2\n",
              "1    1002945   5   4   4   5   7  10   3   2   1   2\n",
              "2    1015425   3   1   1   1   2   2   3   1   1   2\n",
              "3    1016277   6   8   8   1   3   4   3   7   1   2\n",
              "4    1017023   4   1   1   3   2   1   3   1   1   2\n",
              "..       ...  ..  ..  ..  ..  ..  ..  ..  ..  ..  ..\n",
              "694   776715   3   1   1   1   3   2   1   1   1   2\n",
              "695   841769   2   1   1   1   2   1   1   1   1   2\n",
              "696   888820   5  10  10   3   7   3   8  10   2   4\n",
              "697   897471   4   8   6   4   3   4  10   6   1   4\n",
              "698   897471   4   8   8   5   4   5  10   4   1   4\n",
              "\n",
              "[683 rows x 11 columns]"
            ],
            "text/html": [
              "\n",
              "  <div id=\"df-09988c6d-e529-476f-b229-c4e6060276d9\">\n",
              "    <div class=\"colab-df-container\">\n",
              "      <div>\n",
              "<style scoped>\n",
              "    .dataframe tbody tr th:only-of-type {\n",
              "        vertical-align: middle;\n",
              "    }\n",
              "\n",
              "    .dataframe tbody tr th {\n",
              "        vertical-align: top;\n",
              "    }\n",
              "\n",
              "    .dataframe thead th {\n",
              "        text-align: right;\n",
              "    }\n",
              "</style>\n",
              "<table border=\"1\" class=\"dataframe\">\n",
              "  <thead>\n",
              "    <tr style=\"text-align: right;\">\n",
              "      <th></th>\n",
              "      <th>0</th>\n",
              "      <th>1</th>\n",
              "      <th>2</th>\n",
              "      <th>3</th>\n",
              "      <th>4</th>\n",
              "      <th>5</th>\n",
              "      <th>6</th>\n",
              "      <th>7</th>\n",
              "      <th>8</th>\n",
              "      <th>9</th>\n",
              "      <th>10</th>\n",
              "    </tr>\n",
              "  </thead>\n",
              "  <tbody>\n",
              "    <tr>\n",
              "      <th>0</th>\n",
              "      <td>1000025</td>\n",
              "      <td>5</td>\n",
              "      <td>1</td>\n",
              "      <td>1</td>\n",
              "      <td>1</td>\n",
              "      <td>2</td>\n",
              "      <td>1</td>\n",
              "      <td>3</td>\n",
              "      <td>1</td>\n",
              "      <td>1</td>\n",
              "      <td>2</td>\n",
              "    </tr>\n",
              "    <tr>\n",
              "      <th>1</th>\n",
              "      <td>1002945</td>\n",
              "      <td>5</td>\n",
              "      <td>4</td>\n",
              "      <td>4</td>\n",
              "      <td>5</td>\n",
              "      <td>7</td>\n",
              "      <td>10</td>\n",
              "      <td>3</td>\n",
              "      <td>2</td>\n",
              "      <td>1</td>\n",
              "      <td>2</td>\n",
              "    </tr>\n",
              "    <tr>\n",
              "      <th>2</th>\n",
              "      <td>1015425</td>\n",
              "      <td>3</td>\n",
              "      <td>1</td>\n",
              "      <td>1</td>\n",
              "      <td>1</td>\n",
              "      <td>2</td>\n",
              "      <td>2</td>\n",
              "      <td>3</td>\n",
              "      <td>1</td>\n",
              "      <td>1</td>\n",
              "      <td>2</td>\n",
              "    </tr>\n",
              "    <tr>\n",
              "      <th>3</th>\n",
              "      <td>1016277</td>\n",
              "      <td>6</td>\n",
              "      <td>8</td>\n",
              "      <td>8</td>\n",
              "      <td>1</td>\n",
              "      <td>3</td>\n",
              "      <td>4</td>\n",
              "      <td>3</td>\n",
              "      <td>7</td>\n",
              "      <td>1</td>\n",
              "      <td>2</td>\n",
              "    </tr>\n",
              "    <tr>\n",
              "      <th>4</th>\n",
              "      <td>1017023</td>\n",
              "      <td>4</td>\n",
              "      <td>1</td>\n",
              "      <td>1</td>\n",
              "      <td>3</td>\n",
              "      <td>2</td>\n",
              "      <td>1</td>\n",
              "      <td>3</td>\n",
              "      <td>1</td>\n",
              "      <td>1</td>\n",
              "      <td>2</td>\n",
              "    </tr>\n",
              "    <tr>\n",
              "      <th>...</th>\n",
              "      <td>...</td>\n",
              "      <td>...</td>\n",
              "      <td>...</td>\n",
              "      <td>...</td>\n",
              "      <td>...</td>\n",
              "      <td>...</td>\n",
              "      <td>...</td>\n",
              "      <td>...</td>\n",
              "      <td>...</td>\n",
              "      <td>...</td>\n",
              "      <td>...</td>\n",
              "    </tr>\n",
              "    <tr>\n",
              "      <th>694</th>\n",
              "      <td>776715</td>\n",
              "      <td>3</td>\n",
              "      <td>1</td>\n",
              "      <td>1</td>\n",
              "      <td>1</td>\n",
              "      <td>3</td>\n",
              "      <td>2</td>\n",
              "      <td>1</td>\n",
              "      <td>1</td>\n",
              "      <td>1</td>\n",
              "      <td>2</td>\n",
              "    </tr>\n",
              "    <tr>\n",
              "      <th>695</th>\n",
              "      <td>841769</td>\n",
              "      <td>2</td>\n",
              "      <td>1</td>\n",
              "      <td>1</td>\n",
              "      <td>1</td>\n",
              "      <td>2</td>\n",
              "      <td>1</td>\n",
              "      <td>1</td>\n",
              "      <td>1</td>\n",
              "      <td>1</td>\n",
              "      <td>2</td>\n",
              "    </tr>\n",
              "    <tr>\n",
              "      <th>696</th>\n",
              "      <td>888820</td>\n",
              "      <td>5</td>\n",
              "      <td>10</td>\n",
              "      <td>10</td>\n",
              "      <td>3</td>\n",
              "      <td>7</td>\n",
              "      <td>3</td>\n",
              "      <td>8</td>\n",
              "      <td>10</td>\n",
              "      <td>2</td>\n",
              "      <td>4</td>\n",
              "    </tr>\n",
              "    <tr>\n",
              "      <th>697</th>\n",
              "      <td>897471</td>\n",
              "      <td>4</td>\n",
              "      <td>8</td>\n",
              "      <td>6</td>\n",
              "      <td>4</td>\n",
              "      <td>3</td>\n",
              "      <td>4</td>\n",
              "      <td>10</td>\n",
              "      <td>6</td>\n",
              "      <td>1</td>\n",
              "      <td>4</td>\n",
              "    </tr>\n",
              "    <tr>\n",
              "      <th>698</th>\n",
              "      <td>897471</td>\n",
              "      <td>4</td>\n",
              "      <td>8</td>\n",
              "      <td>8</td>\n",
              "      <td>5</td>\n",
              "      <td>4</td>\n",
              "      <td>5</td>\n",
              "      <td>10</td>\n",
              "      <td>4</td>\n",
              "      <td>1</td>\n",
              "      <td>4</td>\n",
              "    </tr>\n",
              "  </tbody>\n",
              "</table>\n",
              "<p>683 rows × 11 columns</p>\n",
              "</div>\n",
              "      <button class=\"colab-df-convert\" onclick=\"convertToInteractive('df-09988c6d-e529-476f-b229-c4e6060276d9')\"\n",
              "              title=\"Convert this dataframe to an interactive table.\"\n",
              "              style=\"display:none;\">\n",
              "        \n",
              "  <svg xmlns=\"http://www.w3.org/2000/svg\" height=\"24px\"viewBox=\"0 0 24 24\"\n",
              "       width=\"24px\">\n",
              "    <path d=\"M0 0h24v24H0V0z\" fill=\"none\"/>\n",
              "    <path d=\"M18.56 5.44l.94 2.06.94-2.06 2.06-.94-2.06-.94-.94-2.06-.94 2.06-2.06.94zm-11 1L8.5 8.5l.94-2.06 2.06-.94-2.06-.94L8.5 2.5l-.94 2.06-2.06.94zm10 10l.94 2.06.94-2.06 2.06-.94-2.06-.94-.94-2.06-.94 2.06-2.06.94z\"/><path d=\"M17.41 7.96l-1.37-1.37c-.4-.4-.92-.59-1.43-.59-.52 0-1.04.2-1.43.59L10.3 9.45l-7.72 7.72c-.78.78-.78 2.05 0 2.83L4 21.41c.39.39.9.59 1.41.59.51 0 1.02-.2 1.41-.59l7.78-7.78 2.81-2.81c.8-.78.8-2.07 0-2.86zM5.41 20L4 18.59l7.72-7.72 1.47 1.35L5.41 20z\"/>\n",
              "  </svg>\n",
              "      </button>\n",
              "      \n",
              "  <style>\n",
              "    .colab-df-container {\n",
              "      display:flex;\n",
              "      flex-wrap:wrap;\n",
              "      gap: 12px;\n",
              "    }\n",
              "\n",
              "    .colab-df-convert {\n",
              "      background-color: #E8F0FE;\n",
              "      border: none;\n",
              "      border-radius: 50%;\n",
              "      cursor: pointer;\n",
              "      display: none;\n",
              "      fill: #1967D2;\n",
              "      height: 32px;\n",
              "      padding: 0 0 0 0;\n",
              "      width: 32px;\n",
              "    }\n",
              "\n",
              "    .colab-df-convert:hover {\n",
              "      background-color: #E2EBFA;\n",
              "      box-shadow: 0px 1px 2px rgba(60, 64, 67, 0.3), 0px 1px 3px 1px rgba(60, 64, 67, 0.15);\n",
              "      fill: #174EA6;\n",
              "    }\n",
              "\n",
              "    [theme=dark] .colab-df-convert {\n",
              "      background-color: #3B4455;\n",
              "      fill: #D2E3FC;\n",
              "    }\n",
              "\n",
              "    [theme=dark] .colab-df-convert:hover {\n",
              "      background-color: #434B5C;\n",
              "      box-shadow: 0px 1px 3px 1px rgba(0, 0, 0, 0.15);\n",
              "      filter: drop-shadow(0px 1px 2px rgba(0, 0, 0, 0.3));\n",
              "      fill: #FFFFFF;\n",
              "    }\n",
              "  </style>\n",
              "\n",
              "      <script>\n",
              "        const buttonEl =\n",
              "          document.querySelector('#df-09988c6d-e529-476f-b229-c4e6060276d9 button.colab-df-convert');\n",
              "        buttonEl.style.display =\n",
              "          google.colab.kernel.accessAllowed ? 'block' : 'none';\n",
              "\n",
              "        async function convertToInteractive(key) {\n",
              "          const element = document.querySelector('#df-09988c6d-e529-476f-b229-c4e6060276d9');\n",
              "          const dataTable =\n",
              "            await google.colab.kernel.invokeFunction('convertToInteractive',\n",
              "                                                     [key], {});\n",
              "          if (!dataTable) return;\n",
              "\n",
              "          const docLinkHtml = 'Like what you see? Visit the ' +\n",
              "            '<a target=\"_blank\" href=https://colab.research.google.com/notebooks/data_table.ipynb>data table notebook</a>'\n",
              "            + ' to learn more about interactive tables.';\n",
              "          element.innerHTML = '';\n",
              "          dataTable['output_type'] = 'display_data';\n",
              "          await google.colab.output.renderOutput(dataTable, element);\n",
              "          const docLink = document.createElement('div');\n",
              "          docLink.innerHTML = docLinkHtml;\n",
              "          element.appendChild(docLink);\n",
              "        }\n",
              "      </script>\n",
              "    </div>\n",
              "  </div>\n",
              "  "
            ]
          },
          "metadata": {},
          "execution_count": 9
        }
      ]
    },
    {
      "cell_type": "code",
      "source": [
        "df.info()"
      ],
      "metadata": {
        "colab": {
          "base_uri": "https://localhost:8080/"
        },
        "id": "VVR59hEANOKL",
        "outputId": "12b42c22-fc5e-4b07-c1e3-a93a76ee4bf9"
      },
      "execution_count": 10,
      "outputs": [
        {
          "output_type": "stream",
          "name": "stdout",
          "text": [
            "<class 'pandas.core.frame.DataFrame'>\n",
            "Int64Index: 683 entries, 0 to 698\n",
            "Data columns (total 11 columns):\n",
            " #   Column  Non-Null Count  Dtype \n",
            "---  ------  --------------  ----- \n",
            " 0   0       683 non-null    int64 \n",
            " 1   1       683 non-null    int64 \n",
            " 2   2       683 non-null    int64 \n",
            " 3   3       683 non-null    int64 \n",
            " 4   4       683 non-null    int64 \n",
            " 5   5       683 non-null    int64 \n",
            " 6   6       683 non-null    object\n",
            " 7   7       683 non-null    int64 \n",
            " 8   8       683 non-null    int64 \n",
            " 9   9       683 non-null    int64 \n",
            " 10  10      683 non-null    int64 \n",
            "dtypes: int64(10), object(1)\n",
            "memory usage: 64.0+ KB\n"
          ]
        }
      ]
    },
    {
      "cell_type": "code",
      "source": [
        "df[6] = df.iloc[:,6].apply(lambda x : int(x))"
      ],
      "metadata": {
        "colab": {
          "base_uri": "https://localhost:8080/"
        },
        "id": "hmvfIXDrOdeC",
        "outputId": "e0cb4206-974e-4243-cba4-404f04288c38"
      },
      "execution_count": 11,
      "outputs": [
        {
          "output_type": "stream",
          "name": "stderr",
          "text": [
            "/usr/local/lib/python3.7/dist-packages/ipykernel_launcher.py:1: SettingWithCopyWarning: \n",
            "A value is trying to be set on a copy of a slice from a DataFrame.\n",
            "Try using .loc[row_indexer,col_indexer] = value instead\n",
            "\n",
            "See the caveats in the documentation: https://pandas.pydata.org/pandas-docs/stable/user_guide/indexing.html#returning-a-view-versus-a-copy\n",
            "  \"\"\"Entry point for launching an IPython kernel.\n"
          ]
        }
      ]
    },
    {
      "cell_type": "code",
      "source": [
        "df.info()"
      ],
      "metadata": {
        "colab": {
          "base_uri": "https://localhost:8080/"
        },
        "id": "VEPD31IvOnIs",
        "outputId": "83e30cee-fc69-42ad-da95-668c6ea77ddb"
      },
      "execution_count": 12,
      "outputs": [
        {
          "output_type": "stream",
          "name": "stdout",
          "text": [
            "<class 'pandas.core.frame.DataFrame'>\n",
            "Int64Index: 683 entries, 0 to 698\n",
            "Data columns (total 11 columns):\n",
            " #   Column  Non-Null Count  Dtype\n",
            "---  ------  --------------  -----\n",
            " 0   0       683 non-null    int64\n",
            " 1   1       683 non-null    int64\n",
            " 2   2       683 non-null    int64\n",
            " 3   3       683 non-null    int64\n",
            " 4   4       683 non-null    int64\n",
            " 5   5       683 non-null    int64\n",
            " 6   6       683 non-null    int64\n",
            " 7   7       683 non-null    int64\n",
            " 8   8       683 non-null    int64\n",
            " 9   9       683 non-null    int64\n",
            " 10  10      683 non-null    int64\n",
            "dtypes: int64(11)\n",
            "memory usage: 64.0 KB\n"
          ]
        }
      ]
    },
    {
      "cell_type": "code",
      "source": [
        "import torch,torchsummary\n",
        "import torch.nn as nn\n",
        "import torch.nn.functional as F \n",
        "from torch.utils.data import DataLoader,TensorDataset \n",
        "from torch.optim import Adam,RMSprop"
      ],
      "metadata": {
        "id": "tKhvKSCyOqMH"
      },
      "execution_count": 13,
      "outputs": []
    },
    {
      "cell_type": "code",
      "source": [
        "x = df.iloc[:,:-1]\n",
        "y = df.iloc[:,-1]"
      ],
      "metadata": {
        "id": "gFgvWErGO0M6"
      },
      "execution_count": 14,
      "outputs": []
    },
    {
      "cell_type": "code",
      "source": [
        "x.shape"
      ],
      "metadata": {
        "colab": {
          "base_uri": "https://localhost:8080/"
        },
        "id": "6aUHddTJO9FB",
        "outputId": "26c6299e-2e0a-4281-a877-6adcde6cda06"
      },
      "execution_count": 15,
      "outputs": [
        {
          "output_type": "execute_result",
          "data": {
            "text/plain": [
              "(683, 10)"
            ]
          },
          "metadata": {},
          "execution_count": 15
        }
      ]
    },
    {
      "cell_type": "code",
      "source": [
        "y.shape"
      ],
      "metadata": {
        "colab": {
          "base_uri": "https://localhost:8080/"
        },
        "id": "bh8fxt8vO-Qq",
        "outputId": "45d0d118-b572-4f04-ae51-3f2b2400ce28"
      },
      "execution_count": 16,
      "outputs": [
        {
          "output_type": "execute_result",
          "data": {
            "text/plain": [
              "(683,)"
            ]
          },
          "metadata": {},
          "execution_count": 16
        }
      ]
    },
    {
      "cell_type": "code",
      "source": [
        "y = y.map({2:0,4:1})"
      ],
      "metadata": {
        "id": "o1JxIrbxQ7po"
      },
      "execution_count": 17,
      "outputs": []
    },
    {
      "cell_type": "code",
      "source": [
        "x = torch.tensor(x.values)\n",
        "y=torch.Tensor(y.values)"
      ],
      "metadata": {
        "id": "txe3K-x9O-9J"
      },
      "execution_count": 18,
      "outputs": []
    },
    {
      "cell_type": "code",
      "source": [
        "from sklearn.model_selection import train_test_split \n",
        "x_train, x_test, y_train, y_test=train_test_split(x,y,test_size=0.3)"
      ],
      "metadata": {
        "id": "vUu-ZhynPE3P"
      },
      "execution_count": 19,
      "outputs": []
    },
    {
      "cell_type": "code",
      "source": [
        "train_loader = DataLoader(TensorDataset(x_train.float(),y_train),\n",
        "                                       batch_size=64,shuffle = True)\n",
        "\n",
        "test_loader = DataLoader(TensorDataset(x_test.float(),y_test),\n",
        "                                      batch_size = 64,shuffle = False)"
      ],
      "metadata": {
        "id": "mUj1XI5WPKXM"
      },
      "execution_count": 20,
      "outputs": []
    },
    {
      "cell_type": "code",
      "source": [
        "class DNN_MNIST(nn.Module):\n",
        "  def __init__(self):\n",
        "    super(DNN_MNIST,self).__init__()\n",
        "\n",
        "    self.h1 = nn.Linear(in_features=10, out_features = 512)\n",
        "    self.h2 = nn.Linear(in_features=512, out_features = 256)\n",
        "    self.h3 = nn.Linear(in_features=256, out_features = 128)\n",
        "    self.h4 = nn.Linear(in_features=128, out_features = 64)\n",
        "    self.out = nn.Linear(in_features=64, out_features = 2)\n",
        "    self.bn1 = nn.BatchNorm1d(num_features=512)\n",
        "    self.bn2 = nn.BatchNorm1d(num_features=256)\n",
        "    self.bn3 = nn.BatchNorm1d(num_features=128)\n",
        "    self.dropout = nn.Dropout(p=0.4)\n",
        "\n",
        "  def forward(self,x):\n",
        "    x = F.relu(self.h1(x))\n",
        "    x = self.bn1(x)\n",
        "    x = self.dropout(x)\n",
        "\n",
        "    x = F.relu(self.h2(x))\n",
        "    x = self.bn2(x)\n",
        "    x = self.dropout(x)\n",
        "\n",
        "    x = F.relu(self.h3(x))\n",
        "    x = self.bn3(x)\n",
        "    x = self.dropout(x)\n",
        "\n",
        "    x = F.relu(self.h4(x))\n",
        "    x = self.dropout(x)\n",
        "\n",
        "    x = self.out(x)\n",
        "    return x"
      ],
      "metadata": {
        "id": "WTZEXrc6POrE"
      },
      "execution_count": 21,
      "outputs": []
    },
    {
      "cell_type": "code",
      "source": [
        "dnn_model = DNN_MNIST()"
      ],
      "metadata": {
        "id": "fvExfUJsPXp0"
      },
      "execution_count": 22,
      "outputs": []
    },
    {
      "cell_type": "code",
      "source": [
        "list(dnn_model.parameters())"
      ],
      "metadata": {
        "colab": {
          "base_uri": "https://localhost:8080/"
        },
        "id": "yhWTFAUwPZts",
        "outputId": "a77cccaf-bebf-464a-ed50-fb64981e06cb"
      },
      "execution_count": 23,
      "outputs": [
        {
          "output_type": "execute_result",
          "data": {
            "text/plain": [
              "[Parameter containing:\n",
              " tensor([[ 0.1961, -0.1088, -0.2321,  ..., -0.0749, -0.1049, -0.2277],\n",
              "         [-0.1419,  0.0938,  0.2887,  ..., -0.2946,  0.0178,  0.3029],\n",
              "         [ 0.2281, -0.1557, -0.1607,  ...,  0.0206, -0.0380, -0.0421],\n",
              "         ...,\n",
              "         [-0.1244,  0.0121,  0.1895,  ...,  0.1745, -0.3103,  0.1255],\n",
              "         [-0.2987, -0.3007, -0.0852,  ...,  0.1251, -0.1182,  0.2198],\n",
              "         [-0.0418,  0.0537, -0.0647,  ...,  0.1419, -0.2415, -0.2346]],\n",
              "        requires_grad=True), Parameter containing:\n",
              " tensor([-0.2496, -0.1318, -0.0465,  0.1801, -0.0375, -0.1719, -0.1579,  0.0719,\n",
              "          0.0527,  0.0638, -0.0786, -0.1526,  0.0390,  0.1331, -0.1269, -0.2943,\n",
              "          0.0774, -0.0960,  0.1739, -0.1396, -0.1046, -0.1190,  0.3147,  0.1867,\n",
              "          0.0342,  0.2500,  0.1009, -0.2176, -0.0839,  0.1033, -0.3011,  0.1474,\n",
              "          0.2959,  0.1193,  0.0294, -0.0815,  0.1624, -0.1688,  0.1073, -0.0405,\n",
              "         -0.2036,  0.0127, -0.0597, -0.2478, -0.1998, -0.3055, -0.0050,  0.2888,\n",
              "          0.2259,  0.2734, -0.1817, -0.1590,  0.2267,  0.3014,  0.2893,  0.2550,\n",
              "         -0.2874,  0.1301,  0.2803,  0.0539,  0.2620,  0.2064, -0.1307, -0.3026,\n",
              "         -0.1216, -0.2398,  0.2074, -0.0572, -0.1902, -0.1441,  0.1107,  0.1771,\n",
              "         -0.0027,  0.1674, -0.2205,  0.0826, -0.1078,  0.0149,  0.1179, -0.2524,\n",
              "          0.0482, -0.0026, -0.1125,  0.0533, -0.2422,  0.3087,  0.2038, -0.1075,\n",
              "          0.0371,  0.0069,  0.1643,  0.1285, -0.0100,  0.1234, -0.1135,  0.1967,\n",
              "          0.0568,  0.0244, -0.0863, -0.1480,  0.0576, -0.0684, -0.1490, -0.2671,\n",
              "          0.2263, -0.0846,  0.1932,  0.0053, -0.2506, -0.0024, -0.3082,  0.0076,\n",
              "         -0.2306, -0.3143, -0.1791,  0.2282, -0.2532, -0.0909, -0.0947, -0.0644,\n",
              "          0.1103,  0.1383,  0.1499, -0.2794,  0.2613,  0.1545, -0.1040,  0.0053,\n",
              "          0.2764, -0.0605,  0.1897,  0.2329,  0.2416, -0.2896,  0.0770, -0.1129,\n",
              "         -0.1633, -0.2233, -0.1230,  0.2032,  0.0612,  0.2539,  0.2254,  0.3032,\n",
              "         -0.2288,  0.1198, -0.1362, -0.0627, -0.1870,  0.2410,  0.3008, -0.1685,\n",
              "          0.3139, -0.1126, -0.2333,  0.1557, -0.1004, -0.1711, -0.3014,  0.0402,\n",
              "          0.1093, -0.0680, -0.1948, -0.1458,  0.1446,  0.2285,  0.1849, -0.1076,\n",
              "         -0.1786,  0.2268, -0.2235,  0.2951, -0.2990,  0.1716, -0.2057, -0.0439,\n",
              "         -0.0467, -0.1735, -0.2279,  0.2480, -0.2962, -0.0267,  0.0212,  0.2632,\n",
              "          0.1311,  0.0990,  0.2511, -0.0100, -0.0076,  0.1886,  0.0059, -0.1544,\n",
              "         -0.2022, -0.2320,  0.1192,  0.0456,  0.1463,  0.2530, -0.0576, -0.2243,\n",
              "          0.0777, -0.2276, -0.1802,  0.2957, -0.1338, -0.0759,  0.2300,  0.1181,\n",
              "          0.1043,  0.0559,  0.2473, -0.1901, -0.0330, -0.2598, -0.1029, -0.1885,\n",
              "         -0.2021, -0.2602,  0.2425, -0.3029, -0.2721,  0.1910,  0.0318,  0.0996,\n",
              "          0.1118, -0.2457, -0.1586,  0.0406,  0.1382,  0.3136, -0.1080, -0.0790,\n",
              "         -0.1095,  0.0276,  0.2536, -0.2463, -0.1512, -0.0250, -0.0538, -0.2056,\n",
              "          0.0619,  0.1076, -0.0157,  0.3118,  0.2488,  0.2361,  0.2831, -0.2527,\n",
              "          0.1663,  0.1093, -0.2166,  0.2724,  0.1722,  0.0586, -0.2537, -0.0888,\n",
              "          0.1233, -0.1188, -0.1985,  0.1197,  0.1844, -0.2485,  0.2467,  0.0294,\n",
              "          0.0398, -0.0418, -0.2167,  0.0603,  0.1958, -0.1976, -0.0434, -0.2318,\n",
              "          0.1910, -0.0299,  0.1072, -0.1097,  0.3071,  0.1301,  0.2055, -0.0320,\n",
              "          0.0702,  0.2369, -0.0221,  0.1261,  0.2178, -0.0351, -0.2759,  0.2628,\n",
              "          0.2293,  0.2872, -0.2912, -0.0607,  0.2444, -0.2129,  0.2421, -0.2723,\n",
              "          0.1250,  0.0009, -0.1854,  0.0195, -0.2711, -0.0977,  0.1888, -0.2692,\n",
              "         -0.2692,  0.2694, -0.1523,  0.2244,  0.1021,  0.0201,  0.0329,  0.2364,\n",
              "          0.1652, -0.2153,  0.1732, -0.1326,  0.0692,  0.0658, -0.1339, -0.1773,\n",
              "          0.3032, -0.2331,  0.2201, -0.2611, -0.2763, -0.1226,  0.1188,  0.1665,\n",
              "          0.1043,  0.1429,  0.2402, -0.3119,  0.2746, -0.2065,  0.1893,  0.2566,\n",
              "          0.1634,  0.0971,  0.0743,  0.2977, -0.1164, -0.1494,  0.0754,  0.0896,\n",
              "         -0.0837,  0.0777, -0.2433,  0.2891,  0.0189,  0.1724,  0.2086, -0.0240,\n",
              "         -0.0600,  0.2551, -0.0543,  0.1782, -0.2674,  0.2111, -0.1632, -0.0094,\n",
              "         -0.1411,  0.2768,  0.2291,  0.0458,  0.0336, -0.0693,  0.0596,  0.1275,\n",
              "         -0.2072, -0.0382,  0.0885, -0.1421,  0.2643, -0.2332,  0.1299,  0.1681,\n",
              "          0.1183, -0.2246, -0.0192, -0.0560, -0.2506,  0.2602, -0.2773, -0.1785,\n",
              "         -0.0325,  0.0700,  0.1962, -0.0488, -0.0817, -0.2874,  0.2775,  0.1587,\n",
              "         -0.2211, -0.0168, -0.2809, -0.0412, -0.0965,  0.0542, -0.1447, -0.1542,\n",
              "          0.1016, -0.0707, -0.0034, -0.2718, -0.1788, -0.0713,  0.0540,  0.1456,\n",
              "          0.1653, -0.3029, -0.2573, -0.2238,  0.1759,  0.0699, -0.2611,  0.0877,\n",
              "         -0.0273, -0.2963, -0.1582, -0.3040, -0.1084, -0.2507,  0.0646, -0.2127,\n",
              "         -0.0287, -0.1931, -0.0889,  0.2652,  0.3160,  0.2001,  0.0164,  0.2151,\n",
              "          0.3111, -0.2595, -0.0631,  0.2271,  0.0229, -0.1143,  0.1154, -0.1943,\n",
              "         -0.2193, -0.1238,  0.3125,  0.0744,  0.1397, -0.0399,  0.0632, -0.2515,\n",
              "         -0.0916,  0.2771,  0.1454, -0.1060, -0.1555, -0.2229, -0.2263, -0.3049,\n",
              "          0.2912,  0.0892,  0.2673, -0.2313, -0.0562,  0.2762, -0.2955,  0.0659,\n",
              "         -0.2638,  0.2415, -0.1484, -0.1951, -0.2759, -0.3123, -0.1989,  0.1787,\n",
              "         -0.1520,  0.0474,  0.0065,  0.0067,  0.0125,  0.2650, -0.1227, -0.2193,\n",
              "         -0.2892, -0.0218, -0.1248, -0.0137,  0.1211, -0.1940, -0.0802, -0.1556,\n",
              "          0.2411, -0.1175, -0.1138, -0.2690,  0.2921, -0.3005,  0.1901,  0.2718,\n",
              "         -0.2480, -0.2349,  0.2121,  0.2861, -0.2745,  0.0988,  0.2165,  0.1180,\n",
              "         -0.2056, -0.0094, -0.2617,  0.0090,  0.2778,  0.1947,  0.2491,  0.2617],\n",
              "        requires_grad=True), Parameter containing:\n",
              " tensor([[ 0.0249, -0.0140,  0.0011,  ...,  0.0033,  0.0169, -0.0132],\n",
              "         [-0.0213,  0.0292, -0.0133,  ...,  0.0320, -0.0038,  0.0093],\n",
              "         [ 0.0110,  0.0247,  0.0381,  ..., -0.0371,  0.0276, -0.0134],\n",
              "         ...,\n",
              "         [-0.0393, -0.0260, -0.0393,  ...,  0.0149, -0.0441,  0.0200],\n",
              "         [ 0.0279, -0.0196, -0.0316,  ...,  0.0385,  0.0231, -0.0302],\n",
              "         [-0.0028,  0.0057, -0.0175,  ..., -0.0291,  0.0012,  0.0212]],\n",
              "        requires_grad=True), Parameter containing:\n",
              " tensor([ 0.0060,  0.0411, -0.0055,  0.0421,  0.0294,  0.0171,  0.0201,  0.0438,\n",
              "         -0.0112,  0.0136,  0.0319,  0.0215, -0.0251, -0.0139,  0.0260, -0.0200,\n",
              "         -0.0075, -0.0210,  0.0364, -0.0010,  0.0436,  0.0402, -0.0060, -0.0285,\n",
              "          0.0196, -0.0329,  0.0113,  0.0050,  0.0129,  0.0231,  0.0151, -0.0429,\n",
              "         -0.0087, -0.0320, -0.0100,  0.0257, -0.0355,  0.0068, -0.0188, -0.0028,\n",
              "          0.0252, -0.0209,  0.0438,  0.0431,  0.0064,  0.0144, -0.0175,  0.0427,\n",
              "         -0.0319,  0.0231,  0.0142, -0.0184, -0.0355,  0.0239, -0.0025, -0.0030,\n",
              "          0.0036,  0.0295,  0.0193,  0.0417,  0.0034, -0.0212, -0.0020, -0.0375,\n",
              "          0.0083, -0.0417, -0.0134, -0.0108,  0.0421,  0.0233, -0.0307,  0.0255,\n",
              "          0.0167,  0.0196,  0.0375,  0.0399, -0.0347,  0.0082, -0.0020,  0.0357,\n",
              "          0.0239,  0.0302, -0.0310, -0.0092,  0.0280,  0.0402,  0.0193,  0.0384,\n",
              "          0.0370, -0.0276, -0.0360,  0.0120,  0.0245, -0.0420, -0.0107,  0.0097,\n",
              "          0.0043,  0.0292, -0.0332,  0.0038, -0.0174, -0.0423,  0.0314, -0.0279,\n",
              "         -0.0323, -0.0351,  0.0295,  0.0265,  0.0300,  0.0239,  0.0431, -0.0012,\n",
              "          0.0237, -0.0083, -0.0101, -0.0125,  0.0111, -0.0027, -0.0067,  0.0388,\n",
              "          0.0249, -0.0077,  0.0320,  0.0256, -0.0064, -0.0328,  0.0407,  0.0411,\n",
              "         -0.0342,  0.0111, -0.0337,  0.0145,  0.0355, -0.0217, -0.0144,  0.0138,\n",
              "          0.0439,  0.0440,  0.0389,  0.0250,  0.0115, -0.0060,  0.0082,  0.0406,\n",
              "         -0.0425,  0.0035, -0.0040,  0.0287,  0.0131, -0.0020, -0.0246,  0.0288,\n",
              "         -0.0247,  0.0336, -0.0263,  0.0381, -0.0271, -0.0024, -0.0075,  0.0097,\n",
              "          0.0441,  0.0393, -0.0412,  0.0350, -0.0424,  0.0243,  0.0145, -0.0423,\n",
              "         -0.0184,  0.0307,  0.0193,  0.0267,  0.0306, -0.0095, -0.0156,  0.0432,\n",
              "          0.0411,  0.0265,  0.0351,  0.0373, -0.0344, -0.0151,  0.0337,  0.0195,\n",
              "          0.0126,  0.0010,  0.0307, -0.0050,  0.0102,  0.0429, -0.0338, -0.0331,\n",
              "         -0.0397, -0.0143,  0.0362, -0.0042,  0.0237,  0.0085,  0.0222, -0.0357,\n",
              "         -0.0229, -0.0051, -0.0345, -0.0129, -0.0373, -0.0283, -0.0393, -0.0052,\n",
              "         -0.0388, -0.0327,  0.0187,  0.0257, -0.0197, -0.0377, -0.0277,  0.0352,\n",
              "         -0.0032, -0.0015, -0.0196,  0.0334, -0.0251,  0.0153,  0.0413, -0.0394,\n",
              "         -0.0325, -0.0002, -0.0406,  0.0407,  0.0251,  0.0251, -0.0313, -0.0209,\n",
              "          0.0226,  0.0183,  0.0380,  0.0202,  0.0228, -0.0201,  0.0133,  0.0146,\n",
              "          0.0297, -0.0087,  0.0271,  0.0156, -0.0086,  0.0393,  0.0117, -0.0216,\n",
              "          0.0331,  0.0258, -0.0147, -0.0194,  0.0390, -0.0171,  0.0038,  0.0115],\n",
              "        requires_grad=True), Parameter containing:\n",
              " tensor([[-0.0051, -0.0380, -0.0188,  ..., -0.0260, -0.0077, -0.0579],\n",
              "         [ 0.0411, -0.0092, -0.0433,  ..., -0.0524, -0.0231, -0.0043],\n",
              "         [ 0.0426,  0.0147, -0.0602,  ...,  0.0245,  0.0363,  0.0430],\n",
              "         ...,\n",
              "         [ 0.0104,  0.0482, -0.0466,  ..., -0.0144, -0.0146,  0.0251],\n",
              "         [ 0.0327, -0.0489,  0.0488,  ..., -0.0179,  0.0312, -0.0212],\n",
              "         [-0.0497,  0.0352,  0.0364,  ...,  0.0108,  0.0103, -0.0388]],\n",
              "        requires_grad=True), Parameter containing:\n",
              " tensor([ 0.0505,  0.0091, -0.0160,  0.0541, -0.0039,  0.0375,  0.0500, -0.0058,\n",
              "         -0.0175, -0.0285, -0.0594, -0.0574, -0.0226, -0.0240,  0.0354, -0.0553,\n",
              "          0.0466, -0.0528, -0.0600,  0.0592, -0.0329,  0.0058,  0.0302,  0.0133,\n",
              "         -0.0497,  0.0027,  0.0037, -0.0584,  0.0068, -0.0390,  0.0362,  0.0057,\n",
              "         -0.0067, -0.0136, -0.0100,  0.0075, -0.0109, -0.0498,  0.0368, -0.0190,\n",
              "         -0.0575,  0.0471, -0.0363,  0.0606,  0.0518,  0.0096, -0.0561, -0.0479,\n",
              "          0.0412,  0.0470,  0.0034,  0.0583, -0.0384,  0.0361,  0.0307, -0.0593,\n",
              "          0.0431, -0.0373, -0.0178,  0.0544,  0.0324,  0.0472,  0.0153,  0.0427,\n",
              "         -0.0125,  0.0145,  0.0420, -0.0232,  0.0086, -0.0383, -0.0394, -0.0051,\n",
              "         -0.0142, -0.0420, -0.0269,  0.0252,  0.0506,  0.0066,  0.0151, -0.0192,\n",
              "         -0.0187, -0.0557, -0.0105, -0.0254,  0.0613,  0.0251, -0.0043,  0.0328,\n",
              "          0.0460, -0.0198,  0.0095,  0.0475,  0.0300, -0.0047, -0.0562,  0.0170,\n",
              "          0.0391,  0.0497, -0.0577,  0.0389,  0.0052,  0.0242,  0.0262, -0.0110,\n",
              "          0.0043, -0.0100,  0.0145, -0.0387,  0.0577, -0.0307,  0.0560,  0.0434,\n",
              "          0.0544,  0.0326, -0.0278, -0.0607,  0.0490,  0.0487, -0.0345, -0.0475,\n",
              "         -0.0263, -0.0056, -0.0534, -0.0151, -0.0458,  0.0505,  0.0532, -0.0166],\n",
              "        requires_grad=True), Parameter containing:\n",
              " tensor([[ 0.0618,  0.0856, -0.0053,  ..., -0.0217, -0.0483,  0.0394],\n",
              "         [-0.0032,  0.0412, -0.0515,  ...,  0.0382,  0.0786, -0.0599],\n",
              "         [ 0.0801, -0.0812, -0.0025,  ...,  0.0768, -0.0147,  0.0656],\n",
              "         ...,\n",
              "         [ 0.0547, -0.0735,  0.0644,  ...,  0.0188, -0.0653,  0.0229],\n",
              "         [ 0.0095,  0.0159, -0.0501,  ...,  0.0624, -0.0001, -0.0318],\n",
              "         [-0.0881, -0.0348, -0.0375,  ..., -0.0231,  0.0560, -0.0606]],\n",
              "        requires_grad=True), Parameter containing:\n",
              " tensor([-0.0343, -0.0862,  0.0661,  0.0242,  0.0411, -0.0773,  0.0318,  0.0434,\n",
              "          0.0441,  0.0606,  0.0544,  0.0502, -0.0599, -0.0604, -0.0480, -0.0591,\n",
              "         -0.0870, -0.0548, -0.0512,  0.0826,  0.0106,  0.0426, -0.0077,  0.0386,\n",
              "          0.0332,  0.0088, -0.0494, -0.0150,  0.0098, -0.0472,  0.0756, -0.0151,\n",
              "          0.0389, -0.0507, -0.0775,  0.0366, -0.0553, -0.0649, -0.0063, -0.0819,\n",
              "         -0.0300, -0.0491,  0.0821, -0.0507, -0.0188,  0.0777, -0.0197, -0.0415,\n",
              "         -0.0608, -0.0582, -0.0045,  0.0147, -0.0013,  0.0283, -0.0578,  0.0818,\n",
              "          0.0003,  0.0538, -0.0197, -0.0803, -0.0883, -0.0148, -0.0847, -0.0860],\n",
              "        requires_grad=True), Parameter containing:\n",
              " tensor([[ 0.0854, -0.0971, -0.1130, -0.0136, -0.0248,  0.1132, -0.0110,  0.0718,\n",
              "           0.0666,  0.0762, -0.1195,  0.0432,  0.0002,  0.1200,  0.0696, -0.0379,\n",
              "          -0.0953, -0.0122,  0.0462, -0.0352,  0.0539,  0.0035, -0.1016,  0.0627,\n",
              "          -0.0881,  0.1245, -0.0111, -0.0273,  0.0714,  0.0458,  0.0658,  0.0900,\n",
              "          -0.0761,  0.1029, -0.0393, -0.1232,  0.0184,  0.1123,  0.0929, -0.0913,\n",
              "           0.0903,  0.0197, -0.0313,  0.1238, -0.0111, -0.0817,  0.0093, -0.1241,\n",
              "          -0.0023, -0.0128,  0.0625,  0.0044, -0.0249, -0.0143, -0.0209,  0.0228,\n",
              "           0.0740,  0.0550, -0.0082,  0.0031, -0.0453,  0.0389, -0.0265,  0.0859],\n",
              "         [ 0.1100,  0.0377,  0.0169, -0.0590,  0.0858, -0.0760, -0.0469, -0.1079,\n",
              "           0.0052,  0.0577,  0.0815, -0.0674, -0.1249, -0.0983, -0.0992,  0.0036,\n",
              "           0.0162, -0.0485,  0.0901, -0.0318, -0.1014,  0.0980, -0.0221,  0.0233,\n",
              "           0.1070,  0.0866,  0.0532,  0.0091, -0.0404, -0.0648,  0.0653, -0.0745,\n",
              "          -0.0502, -0.0891,  0.0361,  0.1024, -0.0933, -0.0480, -0.1061,  0.0449,\n",
              "          -0.0482,  0.0820, -0.0554,  0.0776, -0.0682,  0.0502,  0.1180, -0.0397,\n",
              "           0.0311, -0.0265,  0.0206,  0.1115, -0.0712, -0.0498,  0.1211,  0.0606,\n",
              "          -0.0189,  0.1144,  0.0364, -0.1079, -0.0082, -0.0687, -0.0924,  0.0865]],\n",
              "        requires_grad=True), Parameter containing:\n",
              " tensor([0.1187, 0.0162], requires_grad=True), Parameter containing:\n",
              " tensor([1., 1., 1., 1., 1., 1., 1., 1., 1., 1., 1., 1., 1., 1., 1., 1., 1., 1.,\n",
              "         1., 1., 1., 1., 1., 1., 1., 1., 1., 1., 1., 1., 1., 1., 1., 1., 1., 1.,\n",
              "         1., 1., 1., 1., 1., 1., 1., 1., 1., 1., 1., 1., 1., 1., 1., 1., 1., 1.,\n",
              "         1., 1., 1., 1., 1., 1., 1., 1., 1., 1., 1., 1., 1., 1., 1., 1., 1., 1.,\n",
              "         1., 1., 1., 1., 1., 1., 1., 1., 1., 1., 1., 1., 1., 1., 1., 1., 1., 1.,\n",
              "         1., 1., 1., 1., 1., 1., 1., 1., 1., 1., 1., 1., 1., 1., 1., 1., 1., 1.,\n",
              "         1., 1., 1., 1., 1., 1., 1., 1., 1., 1., 1., 1., 1., 1., 1., 1., 1., 1.,\n",
              "         1., 1., 1., 1., 1., 1., 1., 1., 1., 1., 1., 1., 1., 1., 1., 1., 1., 1.,\n",
              "         1., 1., 1., 1., 1., 1., 1., 1., 1., 1., 1., 1., 1., 1., 1., 1., 1., 1.,\n",
              "         1., 1., 1., 1., 1., 1., 1., 1., 1., 1., 1., 1., 1., 1., 1., 1., 1., 1.,\n",
              "         1., 1., 1., 1., 1., 1., 1., 1., 1., 1., 1., 1., 1., 1., 1., 1., 1., 1.,\n",
              "         1., 1., 1., 1., 1., 1., 1., 1., 1., 1., 1., 1., 1., 1., 1., 1., 1., 1.,\n",
              "         1., 1., 1., 1., 1., 1., 1., 1., 1., 1., 1., 1., 1., 1., 1., 1., 1., 1.,\n",
              "         1., 1., 1., 1., 1., 1., 1., 1., 1., 1., 1., 1., 1., 1., 1., 1., 1., 1.,\n",
              "         1., 1., 1., 1., 1., 1., 1., 1., 1., 1., 1., 1., 1., 1., 1., 1., 1., 1.,\n",
              "         1., 1., 1., 1., 1., 1., 1., 1., 1., 1., 1., 1., 1., 1., 1., 1., 1., 1.,\n",
              "         1., 1., 1., 1., 1., 1., 1., 1., 1., 1., 1., 1., 1., 1., 1., 1., 1., 1.,\n",
              "         1., 1., 1., 1., 1., 1., 1., 1., 1., 1., 1., 1., 1., 1., 1., 1., 1., 1.,\n",
              "         1., 1., 1., 1., 1., 1., 1., 1., 1., 1., 1., 1., 1., 1., 1., 1., 1., 1.,\n",
              "         1., 1., 1., 1., 1., 1., 1., 1., 1., 1., 1., 1., 1., 1., 1., 1., 1., 1.,\n",
              "         1., 1., 1., 1., 1., 1., 1., 1., 1., 1., 1., 1., 1., 1., 1., 1., 1., 1.,\n",
              "         1., 1., 1., 1., 1., 1., 1., 1., 1., 1., 1., 1., 1., 1., 1., 1., 1., 1.,\n",
              "         1., 1., 1., 1., 1., 1., 1., 1., 1., 1., 1., 1., 1., 1., 1., 1., 1., 1.,\n",
              "         1., 1., 1., 1., 1., 1., 1., 1., 1., 1., 1., 1., 1., 1., 1., 1., 1., 1.,\n",
              "         1., 1., 1., 1., 1., 1., 1., 1., 1., 1., 1., 1., 1., 1., 1., 1., 1., 1.,\n",
              "         1., 1., 1., 1., 1., 1., 1., 1., 1., 1., 1., 1., 1., 1., 1., 1., 1., 1.,\n",
              "         1., 1., 1., 1., 1., 1., 1., 1., 1., 1., 1., 1., 1., 1., 1., 1., 1., 1.,\n",
              "         1., 1., 1., 1., 1., 1., 1., 1., 1., 1., 1., 1., 1., 1., 1., 1., 1., 1.,\n",
              "         1., 1., 1., 1., 1., 1., 1., 1.], requires_grad=True), Parameter containing:\n",
              " tensor([0., 0., 0., 0., 0., 0., 0., 0., 0., 0., 0., 0., 0., 0., 0., 0., 0., 0., 0., 0., 0., 0., 0., 0.,\n",
              "         0., 0., 0., 0., 0., 0., 0., 0., 0., 0., 0., 0., 0., 0., 0., 0., 0., 0., 0., 0., 0., 0., 0., 0.,\n",
              "         0., 0., 0., 0., 0., 0., 0., 0., 0., 0., 0., 0., 0., 0., 0., 0., 0., 0., 0., 0., 0., 0., 0., 0.,\n",
              "         0., 0., 0., 0., 0., 0., 0., 0., 0., 0., 0., 0., 0., 0., 0., 0., 0., 0., 0., 0., 0., 0., 0., 0.,\n",
              "         0., 0., 0., 0., 0., 0., 0., 0., 0., 0., 0., 0., 0., 0., 0., 0., 0., 0., 0., 0., 0., 0., 0., 0.,\n",
              "         0., 0., 0., 0., 0., 0., 0., 0., 0., 0., 0., 0., 0., 0., 0., 0., 0., 0., 0., 0., 0., 0., 0., 0.,\n",
              "         0., 0., 0., 0., 0., 0., 0., 0., 0., 0., 0., 0., 0., 0., 0., 0., 0., 0., 0., 0., 0., 0., 0., 0.,\n",
              "         0., 0., 0., 0., 0., 0., 0., 0., 0., 0., 0., 0., 0., 0., 0., 0., 0., 0., 0., 0., 0., 0., 0., 0.,\n",
              "         0., 0., 0., 0., 0., 0., 0., 0., 0., 0., 0., 0., 0., 0., 0., 0., 0., 0., 0., 0., 0., 0., 0., 0.,\n",
              "         0., 0., 0., 0., 0., 0., 0., 0., 0., 0., 0., 0., 0., 0., 0., 0., 0., 0., 0., 0., 0., 0., 0., 0.,\n",
              "         0., 0., 0., 0., 0., 0., 0., 0., 0., 0., 0., 0., 0., 0., 0., 0., 0., 0., 0., 0., 0., 0., 0., 0.,\n",
              "         0., 0., 0., 0., 0., 0., 0., 0., 0., 0., 0., 0., 0., 0., 0., 0., 0., 0., 0., 0., 0., 0., 0., 0.,\n",
              "         0., 0., 0., 0., 0., 0., 0., 0., 0., 0., 0., 0., 0., 0., 0., 0., 0., 0., 0., 0., 0., 0., 0., 0.,\n",
              "         0., 0., 0., 0., 0., 0., 0., 0., 0., 0., 0., 0., 0., 0., 0., 0., 0., 0., 0., 0., 0., 0., 0., 0.,\n",
              "         0., 0., 0., 0., 0., 0., 0., 0., 0., 0., 0., 0., 0., 0., 0., 0., 0., 0., 0., 0., 0., 0., 0., 0.,\n",
              "         0., 0., 0., 0., 0., 0., 0., 0., 0., 0., 0., 0., 0., 0., 0., 0., 0., 0., 0., 0., 0., 0., 0., 0.,\n",
              "         0., 0., 0., 0., 0., 0., 0., 0., 0., 0., 0., 0., 0., 0., 0., 0., 0., 0., 0., 0., 0., 0., 0., 0.,\n",
              "         0., 0., 0., 0., 0., 0., 0., 0., 0., 0., 0., 0., 0., 0., 0., 0., 0., 0., 0., 0., 0., 0., 0., 0.,\n",
              "         0., 0., 0., 0., 0., 0., 0., 0., 0., 0., 0., 0., 0., 0., 0., 0., 0., 0., 0., 0., 0., 0., 0., 0.,\n",
              "         0., 0., 0., 0., 0., 0., 0., 0., 0., 0., 0., 0., 0., 0., 0., 0., 0., 0., 0., 0., 0., 0., 0., 0.,\n",
              "         0., 0., 0., 0., 0., 0., 0., 0., 0., 0., 0., 0., 0., 0., 0., 0., 0., 0., 0., 0., 0., 0., 0., 0.,\n",
              "         0., 0., 0., 0., 0., 0., 0., 0.], requires_grad=True), Parameter containing:\n",
              " tensor([1., 1., 1., 1., 1., 1., 1., 1., 1., 1., 1., 1., 1., 1., 1., 1., 1., 1.,\n",
              "         1., 1., 1., 1., 1., 1., 1., 1., 1., 1., 1., 1., 1., 1., 1., 1., 1., 1.,\n",
              "         1., 1., 1., 1., 1., 1., 1., 1., 1., 1., 1., 1., 1., 1., 1., 1., 1., 1.,\n",
              "         1., 1., 1., 1., 1., 1., 1., 1., 1., 1., 1., 1., 1., 1., 1., 1., 1., 1.,\n",
              "         1., 1., 1., 1., 1., 1., 1., 1., 1., 1., 1., 1., 1., 1., 1., 1., 1., 1.,\n",
              "         1., 1., 1., 1., 1., 1., 1., 1., 1., 1., 1., 1., 1., 1., 1., 1., 1., 1.,\n",
              "         1., 1., 1., 1., 1., 1., 1., 1., 1., 1., 1., 1., 1., 1., 1., 1., 1., 1.,\n",
              "         1., 1., 1., 1., 1., 1., 1., 1., 1., 1., 1., 1., 1., 1., 1., 1., 1., 1.,\n",
              "         1., 1., 1., 1., 1., 1., 1., 1., 1., 1., 1., 1., 1., 1., 1., 1., 1., 1.,\n",
              "         1., 1., 1., 1., 1., 1., 1., 1., 1., 1., 1., 1., 1., 1., 1., 1., 1., 1.,\n",
              "         1., 1., 1., 1., 1., 1., 1., 1., 1., 1., 1., 1., 1., 1., 1., 1., 1., 1.,\n",
              "         1., 1., 1., 1., 1., 1., 1., 1., 1., 1., 1., 1., 1., 1., 1., 1., 1., 1.,\n",
              "         1., 1., 1., 1., 1., 1., 1., 1., 1., 1., 1., 1., 1., 1., 1., 1., 1., 1.,\n",
              "         1., 1., 1., 1., 1., 1., 1., 1., 1., 1., 1., 1., 1., 1., 1., 1., 1., 1.,\n",
              "         1., 1., 1., 1.], requires_grad=True), Parameter containing:\n",
              " tensor([0., 0., 0., 0., 0., 0., 0., 0., 0., 0., 0., 0., 0., 0., 0., 0., 0., 0., 0., 0., 0., 0., 0., 0.,\n",
              "         0., 0., 0., 0., 0., 0., 0., 0., 0., 0., 0., 0., 0., 0., 0., 0., 0., 0., 0., 0., 0., 0., 0., 0.,\n",
              "         0., 0., 0., 0., 0., 0., 0., 0., 0., 0., 0., 0., 0., 0., 0., 0., 0., 0., 0., 0., 0., 0., 0., 0.,\n",
              "         0., 0., 0., 0., 0., 0., 0., 0., 0., 0., 0., 0., 0., 0., 0., 0., 0., 0., 0., 0., 0., 0., 0., 0.,\n",
              "         0., 0., 0., 0., 0., 0., 0., 0., 0., 0., 0., 0., 0., 0., 0., 0., 0., 0., 0., 0., 0., 0., 0., 0.,\n",
              "         0., 0., 0., 0., 0., 0., 0., 0., 0., 0., 0., 0., 0., 0., 0., 0., 0., 0., 0., 0., 0., 0., 0., 0.,\n",
              "         0., 0., 0., 0., 0., 0., 0., 0., 0., 0., 0., 0., 0., 0., 0., 0., 0., 0., 0., 0., 0., 0., 0., 0.,\n",
              "         0., 0., 0., 0., 0., 0., 0., 0., 0., 0., 0., 0., 0., 0., 0., 0., 0., 0., 0., 0., 0., 0., 0., 0.,\n",
              "         0., 0., 0., 0., 0., 0., 0., 0., 0., 0., 0., 0., 0., 0., 0., 0., 0., 0., 0., 0., 0., 0., 0., 0.,\n",
              "         0., 0., 0., 0., 0., 0., 0., 0., 0., 0., 0., 0., 0., 0., 0., 0., 0., 0., 0., 0., 0., 0., 0., 0.,\n",
              "         0., 0., 0., 0., 0., 0., 0., 0., 0., 0., 0., 0., 0., 0., 0., 0.],\n",
              "        requires_grad=True), Parameter containing:\n",
              " tensor([1., 1., 1., 1., 1., 1., 1., 1., 1., 1., 1., 1., 1., 1., 1., 1., 1., 1.,\n",
              "         1., 1., 1., 1., 1., 1., 1., 1., 1., 1., 1., 1., 1., 1., 1., 1., 1., 1.,\n",
              "         1., 1., 1., 1., 1., 1., 1., 1., 1., 1., 1., 1., 1., 1., 1., 1., 1., 1.,\n",
              "         1., 1., 1., 1., 1., 1., 1., 1., 1., 1., 1., 1., 1., 1., 1., 1., 1., 1.,\n",
              "         1., 1., 1., 1., 1., 1., 1., 1., 1., 1., 1., 1., 1., 1., 1., 1., 1., 1.,\n",
              "         1., 1., 1., 1., 1., 1., 1., 1., 1., 1., 1., 1., 1., 1., 1., 1., 1., 1.,\n",
              "         1., 1., 1., 1., 1., 1., 1., 1., 1., 1., 1., 1., 1., 1., 1., 1., 1., 1.,\n",
              "         1., 1.], requires_grad=True), Parameter containing:\n",
              " tensor([0., 0., 0., 0., 0., 0., 0., 0., 0., 0., 0., 0., 0., 0., 0., 0., 0., 0., 0., 0., 0., 0., 0., 0.,\n",
              "         0., 0., 0., 0., 0., 0., 0., 0., 0., 0., 0., 0., 0., 0., 0., 0., 0., 0., 0., 0., 0., 0., 0., 0.,\n",
              "         0., 0., 0., 0., 0., 0., 0., 0., 0., 0., 0., 0., 0., 0., 0., 0., 0., 0., 0., 0., 0., 0., 0., 0.,\n",
              "         0., 0., 0., 0., 0., 0., 0., 0., 0., 0., 0., 0., 0., 0., 0., 0., 0., 0., 0., 0., 0., 0., 0., 0.,\n",
              "         0., 0., 0., 0., 0., 0., 0., 0., 0., 0., 0., 0., 0., 0., 0., 0., 0., 0., 0., 0., 0., 0., 0., 0.,\n",
              "         0., 0., 0., 0., 0., 0., 0., 0.], requires_grad=True)]"
            ]
          },
          "metadata": {},
          "execution_count": 23
        }
      ]
    },
    {
      "cell_type": "code",
      "source": [
        "opt = Adam(dnn_model.parameters(),lr=0.001)"
      ],
      "metadata": {
        "id": "q4tMHOh_Pb3A"
      },
      "execution_count": 24,
      "outputs": []
    },
    {
      "cell_type": "code",
      "source": [
        "device = torch.device(\"cuda\" if torch.cuda.is_available() else \"cpu\")\n",
        "device"
      ],
      "metadata": {
        "colab": {
          "base_uri": "https://localhost:8080/"
        },
        "id": "gyKfxNJBPgLS",
        "outputId": "e0e04ff7-e29c-44e7-c871-73603b98fc63"
      },
      "execution_count": 25,
      "outputs": [
        {
          "output_type": "execute_result",
          "data": {
            "text/plain": [
              "device(type='cpu')"
            ]
          },
          "metadata": {},
          "execution_count": 25
        }
      ]
    },
    {
      "cell_type": "code",
      "source": [
        "dnn_model = dnn_model.to(device)"
      ],
      "metadata": {
        "id": "GfMJO2GiPjMD"
      },
      "execution_count": 26,
      "outputs": []
    },
    {
      "cell_type": "code",
      "source": [
        "from tqdm import tqdm"
      ],
      "metadata": {
        "id": "wBZesRfWPk8x"
      },
      "execution_count": 27,
      "outputs": []
    },
    {
      "cell_type": "code",
      "source": [
        "def training(model, train_loader, opt):\n",
        "    train_loss = 0.0\n",
        "    model.train()\n",
        "    for batch, target in tqdm(train_loader):\n",
        "        batch = batch.float().to(device)\n",
        "        target = target.to(device)\n",
        "        #print(target.dtype)\n",
        "\n",
        "        opt.zero_grad()\n",
        "        output = model(batch.float())\n",
        "        #print(output.dtype)\n",
        "\n",
        "        loss = F.cross_entropy(output, target.long())\n",
        "        loss.backward()\n",
        "        opt.step()\n",
        "        train_loss += loss.item()\n",
        "\n",
        "    return train_loss"
      ],
      "metadata": {
        "id": "TI4P0U5BP1fj"
      },
      "execution_count": 28,
      "outputs": []
    },
    {
      "cell_type": "code",
      "source": [
        "def validate(model, test_loader, opt):\n",
        "    val_loss = 0.0\n",
        "    model.eval()\n",
        "    with torch.no_grad():\n",
        "        for batch, target in tqdm(test_loader):\n",
        "            batch = batch.float().to(device)\n",
        "            target = target.to(device)\n",
        "\n",
        "            output = model(batch.float())\n",
        "            loss = F.cross_entropy(output, target.long())\n",
        "            val_loss += loss.item()\n",
        "    return val_loss"
      ],
      "metadata": {
        "id": "K7yPCVGKP4XL"
      },
      "execution_count": 29,
      "outputs": []
    },
    {
      "cell_type": "code",
      "source": [
        "model = dnn_model.to(device)\n",
        "hist = {'train_loss':[], 'val_loss':[]}\n",
        "for epoch in range(2):\n",
        "    hist['train_loss'].append(training(model, train_loader,opt))\n",
        "    hist['val_loss'].append(validate(model, test_loader,opt))"
      ],
      "metadata": {
        "colab": {
          "base_uri": "https://localhost:8080/"
        },
        "id": "k3BaWSFbP7I2",
        "outputId": "8cc9b298-60de-4708-f2d1-760f4b80b61c"
      },
      "execution_count": 30,
      "outputs": [
        {
          "output_type": "stream",
          "name": "stderr",
          "text": [
            "100%|██████████| 8/8 [00:00<00:00, 85.50it/s]\n",
            "100%|██████████| 4/4 [00:00<00:00, 457.00it/s]\n",
            "100%|██████████| 8/8 [00:00<00:00, 129.46it/s]\n",
            "100%|██████████| 4/4 [00:00<00:00, 320.61it/s]\n"
          ]
        }
      ]
    },
    {
      "cell_type": "code",
      "source": [
        "hist"
      ],
      "metadata": {
        "colab": {
          "base_uri": "https://localhost:8080/"
        },
        "id": "1OZLf6sjQCPE",
        "outputId": "0b8adec1-09b1-459e-fb00-5e5a4442f5df"
      },
      "execution_count": 32,
      "outputs": [
        {
          "output_type": "execute_result",
          "data": {
            "text/plain": [
              "{'train_loss': [5.543815016746521, 5.468147456645966],\n",
              " 'val_loss': [2.535599172115326, 2.6143091320991516]}"
            ]
          },
          "metadata": {},
          "execution_count": 32
        }
      ]
    },
    {
      "cell_type": "code",
      "source": [
        "preds_test = dnn_model(x_test.float().to(device)).detach().cpu().numpy()"
      ],
      "metadata": {
        "id": "ImC147utRUc-"
      },
      "execution_count": 34,
      "outputs": []
    },
    {
      "cell_type": "code",
      "source": [
        "preds = np.argmax(preds_test,axis = 1)"
      ],
      "metadata": {
        "id": "Hi6ZJdsIRbk5"
      },
      "execution_count": 36,
      "outputs": []
    },
    {
      "cell_type": "code",
      "source": [
        "import pandas as pd"
      ],
      "metadata": {
        "id": "1Bp3z6I1RhDM"
      },
      "execution_count": 39,
      "outputs": []
    },
    {
      "cell_type": "code",
      "source": [
        "pd.crosstab(preds, y_test.numpy())"
      ],
      "metadata": {
        "colab": {
          "base_uri": "https://localhost:8080/",
          "height": 143
        },
        "id": "aW09TzJERqs2",
        "outputId": "8c1ea4d5-c18d-4699-8be9-99830bfa3aa8"
      },
      "execution_count": 38,
      "outputs": [
        {
          "output_type": "execute_result",
          "data": {
            "text/plain": [
              "col_0  0.0  1.0\n",
              "row_0          \n",
              "0      138   66\n",
              "1        1    0"
            ],
            "text/html": [
              "\n",
              "  <div id=\"df-381b1db2-140f-4030-8600-0a423d09e9e8\">\n",
              "    <div class=\"colab-df-container\">\n",
              "      <div>\n",
              "<style scoped>\n",
              "    .dataframe tbody tr th:only-of-type {\n",
              "        vertical-align: middle;\n",
              "    }\n",
              "\n",
              "    .dataframe tbody tr th {\n",
              "        vertical-align: top;\n",
              "    }\n",
              "\n",
              "    .dataframe thead th {\n",
              "        text-align: right;\n",
              "    }\n",
              "</style>\n",
              "<table border=\"1\" class=\"dataframe\">\n",
              "  <thead>\n",
              "    <tr style=\"text-align: right;\">\n",
              "      <th>col_0</th>\n",
              "      <th>0.0</th>\n",
              "      <th>1.0</th>\n",
              "    </tr>\n",
              "    <tr>\n",
              "      <th>row_0</th>\n",
              "      <th></th>\n",
              "      <th></th>\n",
              "    </tr>\n",
              "  </thead>\n",
              "  <tbody>\n",
              "    <tr>\n",
              "      <th>0</th>\n",
              "      <td>138</td>\n",
              "      <td>66</td>\n",
              "    </tr>\n",
              "    <tr>\n",
              "      <th>1</th>\n",
              "      <td>1</td>\n",
              "      <td>0</td>\n",
              "    </tr>\n",
              "  </tbody>\n",
              "</table>\n",
              "</div>\n",
              "      <button class=\"colab-df-convert\" onclick=\"convertToInteractive('df-381b1db2-140f-4030-8600-0a423d09e9e8')\"\n",
              "              title=\"Convert this dataframe to an interactive table.\"\n",
              "              style=\"display:none;\">\n",
              "        \n",
              "  <svg xmlns=\"http://www.w3.org/2000/svg\" height=\"24px\"viewBox=\"0 0 24 24\"\n",
              "       width=\"24px\">\n",
              "    <path d=\"M0 0h24v24H0V0z\" fill=\"none\"/>\n",
              "    <path d=\"M18.56 5.44l.94 2.06.94-2.06 2.06-.94-2.06-.94-.94-2.06-.94 2.06-2.06.94zm-11 1L8.5 8.5l.94-2.06 2.06-.94-2.06-.94L8.5 2.5l-.94 2.06-2.06.94zm10 10l.94 2.06.94-2.06 2.06-.94-2.06-.94-.94-2.06-.94 2.06-2.06.94z\"/><path d=\"M17.41 7.96l-1.37-1.37c-.4-.4-.92-.59-1.43-.59-.52 0-1.04.2-1.43.59L10.3 9.45l-7.72 7.72c-.78.78-.78 2.05 0 2.83L4 21.41c.39.39.9.59 1.41.59.51 0 1.02-.2 1.41-.59l7.78-7.78 2.81-2.81c.8-.78.8-2.07 0-2.86zM5.41 20L4 18.59l7.72-7.72 1.47 1.35L5.41 20z\"/>\n",
              "  </svg>\n",
              "      </button>\n",
              "      \n",
              "  <style>\n",
              "    .colab-df-container {\n",
              "      display:flex;\n",
              "      flex-wrap:wrap;\n",
              "      gap: 12px;\n",
              "    }\n",
              "\n",
              "    .colab-df-convert {\n",
              "      background-color: #E8F0FE;\n",
              "      border: none;\n",
              "      border-radius: 50%;\n",
              "      cursor: pointer;\n",
              "      display: none;\n",
              "      fill: #1967D2;\n",
              "      height: 32px;\n",
              "      padding: 0 0 0 0;\n",
              "      width: 32px;\n",
              "    }\n",
              "\n",
              "    .colab-df-convert:hover {\n",
              "      background-color: #E2EBFA;\n",
              "      box-shadow: 0px 1px 2px rgba(60, 64, 67, 0.3), 0px 1px 3px 1px rgba(60, 64, 67, 0.15);\n",
              "      fill: #174EA6;\n",
              "    }\n",
              "\n",
              "    [theme=dark] .colab-df-convert {\n",
              "      background-color: #3B4455;\n",
              "      fill: #D2E3FC;\n",
              "    }\n",
              "\n",
              "    [theme=dark] .colab-df-convert:hover {\n",
              "      background-color: #434B5C;\n",
              "      box-shadow: 0px 1px 3px 1px rgba(0, 0, 0, 0.15);\n",
              "      filter: drop-shadow(0px 1px 2px rgba(0, 0, 0, 0.3));\n",
              "      fill: #FFFFFF;\n",
              "    }\n",
              "  </style>\n",
              "\n",
              "      <script>\n",
              "        const buttonEl =\n",
              "          document.querySelector('#df-381b1db2-140f-4030-8600-0a423d09e9e8 button.colab-df-convert');\n",
              "        buttonEl.style.display =\n",
              "          google.colab.kernel.accessAllowed ? 'block' : 'none';\n",
              "\n",
              "        async function convertToInteractive(key) {\n",
              "          const element = document.querySelector('#df-381b1db2-140f-4030-8600-0a423d09e9e8');\n",
              "          const dataTable =\n",
              "            await google.colab.kernel.invokeFunction('convertToInteractive',\n",
              "                                                     [key], {});\n",
              "          if (!dataTable) return;\n",
              "\n",
              "          const docLinkHtml = 'Like what you see? Visit the ' +\n",
              "            '<a target=\"_blank\" href=https://colab.research.google.com/notebooks/data_table.ipynb>data table notebook</a>'\n",
              "            + ' to learn more about interactive tables.';\n",
              "          element.innerHTML = '';\n",
              "          dataTable['output_type'] = 'display_data';\n",
              "          await google.colab.output.renderOutput(dataTable, element);\n",
              "          const docLink = document.createElement('div');\n",
              "          docLink.innerHTML = docLinkHtml;\n",
              "          element.appendChild(docLink);\n",
              "        }\n",
              "      </script>\n",
              "    </div>\n",
              "  </div>\n",
              "  "
            ]
          },
          "metadata": {},
          "execution_count": 38
        }
      ]
    },
    {
      "cell_type": "code",
      "source": [
        "from  sklearn.metrics import confusion_matrix, accuracy_score, ConfusionMatrixDisplay"
      ],
      "metadata": {
        "id": "VIr5UMXnRs62"
      },
      "execution_count": 43,
      "outputs": []
    },
    {
      "cell_type": "code",
      "source": [
        "confusion_matrix(preds,y_test)"
      ],
      "metadata": {
        "colab": {
          "base_uri": "https://localhost:8080/"
        },
        "id": "DCWkxnc6Rz2Q",
        "outputId": "c0963986-4656-48c8-d0d5-8bbc7d35415c"
      },
      "execution_count": 41,
      "outputs": [
        {
          "output_type": "execute_result",
          "data": {
            "text/plain": [
              "array([[138,  66],\n",
              "       [  1,   0]])"
            ]
          },
          "metadata": {},
          "execution_count": 41
        }
      ]
    },
    {
      "cell_type": "code",
      "source": [
        "accuracy_score(preds,y_test)"
      ],
      "metadata": {
        "colab": {
          "base_uri": "https://localhost:8080/"
        },
        "id": "RXjRGS_OR3Bq",
        "outputId": "26211930-0ca4-4cfa-f526-5cac6799fa74"
      },
      "execution_count": 42,
      "outputs": [
        {
          "output_type": "execute_result",
          "data": {
            "text/plain": [
              "0.6731707317073171"
            ]
          },
          "metadata": {},
          "execution_count": 42
        }
      ]
    },
    {
      "cell_type": "code",
      "source": [
        "cm=confusion_matrix(y_test,preds)\n",
        "disp=ConfusionMatrixDisplay(confusion_matrix=cm)\n",
        "disp.plot()"
      ],
      "metadata": {
        "colab": {
          "base_uri": "https://localhost:8080/",
          "height": 623
        },
        "id": "OUprc-sSR6TE",
        "outputId": "edbe943d-728d-4b4b-f6c3-aab6c27d654d"
      },
      "execution_count": 44,
      "outputs": [
        {
          "output_type": "execute_result",
          "data": {
            "text/plain": [
              "<sklearn.metrics._plot.confusion_matrix.ConfusionMatrixDisplay at 0x7fde94b29690>"
            ]
          },
          "metadata": {},
          "execution_count": 44
        },
        {
          "output_type": "display_data",
          "data": {
            "text/plain": [
              "<Figure size 1440x720 with 2 Axes>"
            ],
            "image/png": "[encoded data removed]"
          },
          "metadata": {
            "needs_background": "light"
          }
        }
      ]
    },
    {
      "cell_type": "code",
      "source": [],
      "metadata": {
        "id": "DlttOYHbSwF2"
      },
      "execution_count": null,
      "outputs": []
    }
  ]
}