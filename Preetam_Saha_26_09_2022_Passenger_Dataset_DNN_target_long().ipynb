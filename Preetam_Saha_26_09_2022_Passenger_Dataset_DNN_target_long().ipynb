{
  "nbformat": 4,
  "nbformat_minor": 0,
  "metadata": {
    "colab": {
      "provenance": [],
      "collapsed_sections": [],
      "mount_file_id": "1nizmgkUNyWXVKzEA6-tAZifMmnIMjBBc",
      "authorship_tag": "ABX9TyMIzfRDHen52WK8bK+qoJ9J",
      "include_colab_link": true
    },
    "kernelspec": {
      "name": "python3",
      "display_name": "Python 3"
    },
    "language_info": {
      "name": "python"
    },
    "accelerator": "GPU"
  },
  "cells": [
    {
      "cell_type": "markdown",
      "metadata": {
        "id": "view-in-github",
        "colab_type": "text"
      },
      "source": [
        "<a href=\"https://colab.research.google.com/github/preetamjumech/DL_DNN_from_Scratch/blob/main/Preetam_Saha_26_09_2022_Passenger_Dataset_DNN_target_long().ipynb\" target=\"_parent\"><img src=\"https://colab.research.google.com/assets/colab-badge.svg\" alt=\"Open In Colab\"/></a>"
      ]
    },
    {
      "cell_type": "code",
      "execution_count": null,
      "metadata": {
        "id": "5Mg13IAHH2Q7"
      },
      "outputs": [],
      "source": [
        "import pandas as pd\n",
        "import numpy as np\n",
        "import matplotlib.pyplot as plt"
      ]
    },
    {
      "cell_type": "code",
      "source": [
        "df = pd.read_csv(\"/content/drive/MyDrive/airline_passenger_satisfaction.csv\")\n",
        "df.head()"
      ],
      "metadata": {
        "id": "yWrvbBp0JL93",
        "colab": {
          "base_uri": "https://localhost:8080/",
          "height": 369
        },
        "outputId": "6243047b-936f-4361-dee8-12e49821fccf"
      },
      "execution_count": null,
      "outputs": [
        {
          "output_type": "execute_result",
          "data": {
            "text/plain": [
              "   ID  Gender  Age Customer Type Type of Travel     Class  Flight Distance  \\\n",
              "0   1    Male   48    First-time       Business  Business              821   \n",
              "1   2  Female   35     Returning       Business  Business              821   \n",
              "2   3    Male   41     Returning       Business  Business              853   \n",
              "3   4    Male   50     Returning       Business  Business             1905   \n",
              "4   5  Female   49     Returning       Business  Business             3470   \n",
              "\n",
              "   Departure Delay  Arrival Delay  Departure and Arrival Time Convenience  \\\n",
              "0                2            5.0                                       3   \n",
              "1               26           39.0                                       2   \n",
              "2                0            0.0                                       4   \n",
              "3                0            0.0                                       2   \n",
              "4                0            1.0                                       3   \n",
              "\n",
              "   ...  On-board Service  Seat Comfort  Leg Room Service  Cleanliness  \\\n",
              "0  ...                 3             5                 2            5   \n",
              "1  ...                 5             4                 5            5   \n",
              "2  ...                 3             5                 3            5   \n",
              "3  ...                 5             5                 5            4   \n",
              "4  ...                 3             4                 4            5   \n",
              "\n",
              "   Food and Drink  In-flight Service  In-flight Wifi Service  \\\n",
              "0               5                  5                       3   \n",
              "1               3                  5                       2   \n",
              "2               5                  3                       4   \n",
              "3               4                  5                       2   \n",
              "4               4                  3                       3   \n",
              "\n",
              "   In-flight Entertainment  Baggage Handling             Satisfaction  \n",
              "0                        5                 5  Neutral or Dissatisfied  \n",
              "1                        5                 5                Satisfied  \n",
              "2                        3                 3                Satisfied  \n",
              "3                        5                 5                Satisfied  \n",
              "4                        3                 3                Satisfied  \n",
              "\n",
              "[5 rows x 24 columns]"
            ],
            "text/html": [
              "\n",
              "  <div id=\"df-18e35e9b-323f-40b3-a26e-bed4c03e8703\">\n",
              "    <div class=\"colab-df-container\">\n",
              "      <div>\n",
              "<style scoped>\n",
              "    .dataframe tbody tr th:only-of-type {\n",
              "        vertical-align: middle;\n",
              "    }\n",
              "\n",
              "    .dataframe tbody tr th {\n",
              "        vertical-align: top;\n",
              "    }\n",
              "\n",
              "    .dataframe thead th {\n",
              "        text-align: right;\n",
              "    }\n",
              "</style>\n",
              "<table border=\"1\" class=\"dataframe\">\n",
              "  <thead>\n",
              "    <tr style=\"text-align: right;\">\n",
              "      <th></th>\n",
              "      <th>ID</th>\n",
              "      <th>Gender</th>\n",
              "      <th>Age</th>\n",
              "      <th>Customer Type</th>\n",
              "      <th>Type of Travel</th>\n",
              "      <th>Class</th>\n",
              "      <th>Flight Distance</th>\n",
              "      <th>Departure Delay</th>\n",
              "      <th>Arrival Delay</th>\n",
              "      <th>Departure and Arrival Time Convenience</th>\n",
              "      <th>...</th>\n",
              "      <th>On-board Service</th>\n",
              "      <th>Seat Comfort</th>\n",
              "      <th>Leg Room Service</th>\n",
              "      <th>Cleanliness</th>\n",
              "      <th>Food and Drink</th>\n",
              "      <th>In-flight Service</th>\n",
              "      <th>In-flight Wifi Service</th>\n",
              "      <th>In-flight Entertainment</th>\n",
              "      <th>Baggage Handling</th>\n",
              "      <th>Satisfaction</th>\n",
              "    </tr>\n",
              "  </thead>\n",
              "  <tbody>\n",
              "    <tr>\n",
              "      <th>0</th>\n",
              "      <td>1</td>\n",
              "      <td>Male</td>\n",
              "      <td>48</td>\n",
              "      <td>First-time</td>\n",
              "      <td>Business</td>\n",
              "      <td>Business</td>\n",
              "      <td>821</td>\n",
              "      <td>2</td>\n",
              "      <td>5.0</td>\n",
              "      <td>3</td>\n",
              "      <td>...</td>\n",
              "      <td>3</td>\n",
              "      <td>5</td>\n",
              "      <td>2</td>\n",
              "      <td>5</td>\n",
              "      <td>5</td>\n",
              "      <td>5</td>\n",
              "      <td>3</td>\n",
              "      <td>5</td>\n",
              "      <td>5</td>\n",
              "      <td>Neutral or Dissatisfied</td>\n",
              "    </tr>\n",
              "    <tr>\n",
              "      <th>1</th>\n",
              "      <td>2</td>\n",
              "      <td>Female</td>\n",
              "      <td>35</td>\n",
              "      <td>Returning</td>\n",
              "      <td>Business</td>\n",
              "      <td>Business</td>\n",
              "      <td>821</td>\n",
              "      <td>26</td>\n",
              "      <td>39.0</td>\n",
              "      <td>2</td>\n",
              "      <td>...</td>\n",
              "      <td>5</td>\n",
              "      <td>4</td>\n",
              "      <td>5</td>\n",
              "      <td>5</td>\n",
              "      <td>3</td>\n",
              "      <td>5</td>\n",
              "      <td>2</td>\n",
              "      <td>5</td>\n",
              "      <td>5</td>\n",
              "      <td>Satisfied</td>\n",
              "    </tr>\n",
              "    <tr>\n",
              "      <th>2</th>\n",
              "      <td>3</td>\n",
              "      <td>Male</td>\n",
              "      <td>41</td>\n",
              "      <td>Returning</td>\n",
              "      <td>Business</td>\n",
              "      <td>Business</td>\n",
              "      <td>853</td>\n",
              "      <td>0</td>\n",
              "      <td>0.0</td>\n",
              "      <td>4</td>\n",
              "      <td>...</td>\n",
              "      <td>3</td>\n",
              "      <td>5</td>\n",
              "      <td>3</td>\n",
              "      <td>5</td>\n",
              "      <td>5</td>\n",
              "      <td>3</td>\n",
              "      <td>4</td>\n",
              "      <td>3</td>\n",
              "      <td>3</td>\n",
              "      <td>Satisfied</td>\n",
              "    </tr>\n",
              "    <tr>\n",
              "      <th>3</th>\n",
              "      <td>4</td>\n",
              "      <td>Male</td>\n",
              "      <td>50</td>\n",
              "      <td>Returning</td>\n",
              "      <td>Business</td>\n",
              "      <td>Business</td>\n",
              "      <td>1905</td>\n",
              "      <td>0</td>\n",
              "      <td>0.0</td>\n",
              "      <td>2</td>\n",
              "      <td>...</td>\n",
              "      <td>5</td>\n",
              "      <td>5</td>\n",
              "      <td>5</td>\n",
              "      <td>4</td>\n",
              "      <td>4</td>\n",
              "      <td>5</td>\n",
              "      <td>2</td>\n",
              "      <td>5</td>\n",
              "      <td>5</td>\n",
              "      <td>Satisfied</td>\n",
              "    </tr>\n",
              "    <tr>\n",
              "      <th>4</th>\n",
              "      <td>5</td>\n",
              "      <td>Female</td>\n",
              "      <td>49</td>\n",
              "      <td>Returning</td>\n",
              "      <td>Business</td>\n",
              "      <td>Business</td>\n",
              "      <td>3470</td>\n",
              "      <td>0</td>\n",
              "      <td>1.0</td>\n",
              "      <td>3</td>\n",
              "      <td>...</td>\n",
              "      <td>3</td>\n",
              "      <td>4</td>\n",
              "      <td>4</td>\n",
              "      <td>5</td>\n",
              "      <td>4</td>\n",
              "      <td>3</td>\n",
              "      <td>3</td>\n",
              "      <td>3</td>\n",
              "      <td>3</td>\n",
              "      <td>Satisfied</td>\n",
              "    </tr>\n",
              "  </tbody>\n",
              "</table>\n",
              "<p>5 rows × 24 columns</p>\n",
              "</div>\n",
              "      <button class=\"colab-df-convert\" onclick=\"convertToInteractive('df-18e35e9b-323f-40b3-a26e-bed4c03e8703')\"\n",
              "              title=\"Convert this dataframe to an interactive table.\"\n",
              "              style=\"display:none;\">\n",
              "        \n",
              "  <svg xmlns=\"http://www.w3.org/2000/svg\" height=\"24px\"viewBox=\"0 0 24 24\"\n",
              "       width=\"24px\">\n",
              "    <path d=\"M0 0h24v24H0V0z\" fill=\"none\"/>\n",
              "    <path d=\"M18.56 5.44l.94 2.06.94-2.06 2.06-.94-2.06-.94-.94-2.06-.94 2.06-2.06.94zm-11 1L8.5 8.5l.94-2.06 2.06-.94-2.06-.94L8.5 2.5l-.94 2.06-2.06.94zm10 10l.94 2.06.94-2.06 2.06-.94-2.06-.94-.94-2.06-.94 2.06-2.06.94z\"/><path d=\"M17.41 7.96l-1.37-1.37c-.4-.4-.92-.59-1.43-.59-.52 0-1.04.2-1.43.59L10.3 9.45l-7.72 7.72c-.78.78-.78 2.05 0 2.83L4 21.41c.39.39.9.59 1.41.59.51 0 1.02-.2 1.41-.59l7.78-7.78 2.81-2.81c.8-.78.8-2.07 0-2.86zM5.41 20L4 18.59l7.72-7.72 1.47 1.35L5.41 20z\"/>\n",
              "  </svg>\n",
              "      </button>\n",
              "      \n",
              "  <style>\n",
              "    .colab-df-container {\n",
              "      display:flex;\n",
              "      flex-wrap:wrap;\n",
              "      gap: 12px;\n",
              "    }\n",
              "\n",
              "    .colab-df-convert {\n",
              "      background-color: #E8F0FE;\n",
              "      border: none;\n",
              "      border-radius: 50%;\n",
              "      cursor: pointer;\n",
              "      display: none;\n",
              "      fill: #1967D2;\n",
              "      height: 32px;\n",
              "      padding: 0 0 0 0;\n",
              "      width: 32px;\n",
              "    }\n",
              "\n",
              "    .colab-df-convert:hover {\n",
              "      background-color: #E2EBFA;\n",
              "      box-shadow: 0px 1px 2px rgba(60, 64, 67, 0.3), 0px 1px 3px 1px rgba(60, 64, 67, 0.15);\n",
              "      fill: #174EA6;\n",
              "    }\n",
              "\n",
              "    [theme=dark] .colab-df-convert {\n",
              "      background-color: #3B4455;\n",
              "      fill: #D2E3FC;\n",
              "    }\n",
              "\n",
              "    [theme=dark] .colab-df-convert:hover {\n",
              "      background-color: #434B5C;\n",
              "      box-shadow: 0px 1px 3px 1px rgba(0, 0, 0, 0.15);\n",
              "      filter: drop-shadow(0px 1px 2px rgba(0, 0, 0, 0.3));\n",
              "      fill: #FFFFFF;\n",
              "    }\n",
              "  </style>\n",
              "\n",
              "      <script>\n",
              "        const buttonEl =\n",
              "          document.querySelector('#df-18e35e9b-323f-40b3-a26e-bed4c03e8703 button.colab-df-convert');\n",
              "        buttonEl.style.display =\n",
              "          google.colab.kernel.accessAllowed ? 'block' : 'none';\n",
              "\n",
              "        async function convertToInteractive(key) {\n",
              "          const element = document.querySelector('#df-18e35e9b-323f-40b3-a26e-bed4c03e8703');\n",
              "          const dataTable =\n",
              "            await google.colab.kernel.invokeFunction('convertToInteractive',\n",
              "                                                     [key], {});\n",
              "          if (!dataTable) return;\n",
              "\n",
              "          const docLinkHtml = 'Like what you see? Visit the ' +\n",
              "            '<a target=\"_blank\" href=https://colab.research.google.com/notebooks/data_table.ipynb>data table notebook</a>'\n",
              "            + ' to learn more about interactive tables.';\n",
              "          element.innerHTML = '';\n",
              "          dataTable['output_type'] = 'display_data';\n",
              "          await google.colab.output.renderOutput(dataTable, element);\n",
              "          const docLink = document.createElement('div');\n",
              "          docLink.innerHTML = docLinkHtml;\n",
              "          element.appendChild(docLink);\n",
              "        }\n",
              "      </script>\n",
              "    </div>\n",
              "  </div>\n",
              "  "
            ]
          },
          "metadata": {},
          "execution_count": 207
        }
      ]
    },
    {
      "cell_type": "code",
      "source": [
        "df.shape"
      ],
      "metadata": {
        "id": "y8aqyjFvNHiO",
        "colab": {
          "base_uri": "https://localhost:8080/"
        },
        "outputId": "b4d5717e-5e08-4b1d-ffc3-20d6e6209748"
      },
      "execution_count": null,
      "outputs": [
        {
          "output_type": "execute_result",
          "data": {
            "text/plain": [
              "(129880, 24)"
            ]
          },
          "metadata": {},
          "execution_count": 208
        }
      ]
    },
    {
      "cell_type": "code",
      "source": [
        "df.info()"
      ],
      "metadata": {
        "id": "apIOsRS1NIkj",
        "colab": {
          "base_uri": "https://localhost:8080/"
        },
        "outputId": "5965ad05-c5d4-45c0-e44b-9f5ca6d7434f"
      },
      "execution_count": null,
      "outputs": [
        {
          "output_type": "stream",
          "name": "stdout",
          "text": [
            "<class 'pandas.core.frame.DataFrame'>\n",
            "RangeIndex: 129880 entries, 0 to 129879\n",
            "Data columns (total 24 columns):\n",
            " #   Column                                  Non-Null Count   Dtype  \n",
            "---  ------                                  --------------   -----  \n",
            " 0   ID                                      129880 non-null  int64  \n",
            " 1   Gender                                  129880 non-null  object \n",
            " 2   Age                                     129880 non-null  int64  \n",
            " 3   Customer Type                           129880 non-null  object \n",
            " 4   Type of Travel                          129880 non-null  object \n",
            " 5   Class                                   129880 non-null  object \n",
            " 6   Flight Distance                         129880 non-null  int64  \n",
            " 7   Departure Delay                         129880 non-null  int64  \n",
            " 8   Arrival Delay                           129487 non-null  float64\n",
            " 9   Departure and Arrival Time Convenience  129880 non-null  int64  \n",
            " 10  Ease of Online Booking                  129880 non-null  int64  \n",
            " 11  Check-in Service                        129880 non-null  int64  \n",
            " 12  Online Boarding                         129880 non-null  int64  \n",
            " 13  Gate Location                           129880 non-null  int64  \n",
            " 14  On-board Service                        129880 non-null  int64  \n",
            " 15  Seat Comfort                            129880 non-null  int64  \n",
            " 16  Leg Room Service                        129880 non-null  int64  \n",
            " 17  Cleanliness                             129880 non-null  int64  \n",
            " 18  Food and Drink                          129880 non-null  int64  \n",
            " 19  In-flight Service                       129880 non-null  int64  \n",
            " 20  In-flight Wifi Service                  129880 non-null  int64  \n",
            " 21  In-flight Entertainment                 129880 non-null  int64  \n",
            " 22  Baggage Handling                        129880 non-null  int64  \n",
            " 23  Satisfaction                            129880 non-null  object \n",
            "dtypes: float64(1), int64(18), object(5)\n",
            "memory usage: 23.8+ MB\n"
          ]
        }
      ]
    },
    {
      "cell_type": "code",
      "source": [
        "df.isna().sum()"
      ],
      "metadata": {
        "id": "_AV_fMNjNJln",
        "colab": {
          "base_uri": "https://localhost:8080/"
        },
        "outputId": "8b88298d-19b9-4533-d15a-9a37ed6a9fd2"
      },
      "execution_count": null,
      "outputs": [
        {
          "output_type": "execute_result",
          "data": {
            "text/plain": [
              "ID                                          0\n",
              "Gender                                      0\n",
              "Age                                         0\n",
              "Customer Type                               0\n",
              "Type of Travel                              0\n",
              "Class                                       0\n",
              "Flight Distance                             0\n",
              "Departure Delay                             0\n",
              "Arrival Delay                             393\n",
              "Departure and Arrival Time Convenience      0\n",
              "Ease of Online Booking                      0\n",
              "Check-in Service                            0\n",
              "Online Boarding                             0\n",
              "Gate Location                               0\n",
              "On-board Service                            0\n",
              "Seat Comfort                                0\n",
              "Leg Room Service                            0\n",
              "Cleanliness                                 0\n",
              "Food and Drink                              0\n",
              "In-flight Service                           0\n",
              "In-flight Wifi Service                      0\n",
              "In-flight Entertainment                     0\n",
              "Baggage Handling                            0\n",
              "Satisfaction                                0\n",
              "dtype: int64"
            ]
          },
          "metadata": {},
          "execution_count": 210
        }
      ]
    },
    {
      "cell_type": "code",
      "source": [
        "df.dropna(axis = 0,inplace = True)"
      ],
      "metadata": {
        "id": "lVbQlpglNMFg"
      },
      "execution_count": null,
      "outputs": []
    },
    {
      "cell_type": "code",
      "source": [
        "df.shape"
      ],
      "metadata": {
        "colab": {
          "base_uri": "https://localhost:8080/"
        },
        "id": "LmC3e9jdUvpm",
        "outputId": "3041ef94-73c4-4f09-da9e-a3cd4a1930e2"
      },
      "execution_count": null,
      "outputs": [
        {
          "output_type": "execute_result",
          "data": {
            "text/plain": [
              "(129487, 24)"
            ]
          },
          "metadata": {},
          "execution_count": 212
        }
      ]
    },
    {
      "cell_type": "code",
      "source": [
        "df.drop([\"ID\"],axis=1,inplace=True)"
      ],
      "metadata": {
        "id": "Hh6QTyXVU1Z9"
      },
      "execution_count": null,
      "outputs": []
    },
    {
      "cell_type": "code",
      "source": [
        "y = df.Satisfaction"
      ],
      "metadata": {
        "id": "00gpeN_mU8Vx"
      },
      "execution_count": null,
      "outputs": []
    },
    {
      "cell_type": "code",
      "source": [
        "y"
      ],
      "metadata": {
        "colab": {
          "base_uri": "https://localhost:8080/"
        },
        "id": "c_MKRNEUVJ5B",
        "outputId": "5bcbcba9-a78c-4eb8-8b77-b7dcee047549"
      },
      "execution_count": null,
      "outputs": [
        {
          "output_type": "execute_result",
          "data": {
            "text/plain": [
              "0         Neutral or Dissatisfied\n",
              "1                       Satisfied\n",
              "2                       Satisfied\n",
              "3                       Satisfied\n",
              "4                       Satisfied\n",
              "                   ...           \n",
              "129875    Neutral or Dissatisfied\n",
              "129876    Neutral or Dissatisfied\n",
              "129877    Neutral or Dissatisfied\n",
              "129878                  Satisfied\n",
              "129879    Neutral or Dissatisfied\n",
              "Name: Satisfaction, Length: 129487, dtype: object"
            ]
          },
          "metadata": {},
          "execution_count": 215
        }
      ]
    },
    {
      "cell_type": "code",
      "source": [
        "y = y.map({\"Neutral or Dissatisfied\":0,\"Satisfied\":1})\n",
        "y"
      ],
      "metadata": {
        "colab": {
          "base_uri": "https://localhost:8080/"
        },
        "id": "YWhkEu6qVK6y",
        "outputId": "ab52739c-c3ee-40d0-e0d6-193d4c5bbf66"
      },
      "execution_count": null,
      "outputs": [
        {
          "output_type": "execute_result",
          "data": {
            "text/plain": [
              "0         0\n",
              "1         1\n",
              "2         1\n",
              "3         1\n",
              "4         1\n",
              "         ..\n",
              "129875    0\n",
              "129876    0\n",
              "129877    0\n",
              "129878    1\n",
              "129879    0\n",
              "Name: Satisfaction, Length: 129487, dtype: int64"
            ]
          },
          "metadata": {},
          "execution_count": 216
        }
      ]
    },
    {
      "cell_type": "code",
      "source": [
        "cat=['Gender','Customer Type', 'Type of Travel', 'Class']"
      ],
      "metadata": {
        "id": "qbCv8EG4VbLa"
      },
      "execution_count": null,
      "outputs": []
    },
    {
      "cell_type": "code",
      "source": [
        "cat_tab=df[cat]"
      ],
      "metadata": {
        "id": "q8Qkw09YVpk9"
      },
      "execution_count": null,
      "outputs": []
    },
    {
      "cell_type": "code",
      "source": [
        "cat_tab"
      ],
      "metadata": {
        "colab": {
          "base_uri": "https://localhost:8080/",
          "height": 424
        },
        "id": "5kz8X9jgVxmg",
        "outputId": "1d92b08d-f446-4617-cc06-a626e60ab81f"
      },
      "execution_count": null,
      "outputs": [
        {
          "output_type": "execute_result",
          "data": {
            "text/plain": [
              "        Gender Customer Type Type of Travel         Class\n",
              "0         Male    First-time       Business      Business\n",
              "1       Female     Returning       Business      Business\n",
              "2         Male     Returning       Business      Business\n",
              "3         Male     Returning       Business      Business\n",
              "4       Female     Returning       Business      Business\n",
              "...        ...           ...            ...           ...\n",
              "129875    Male     Returning       Personal  Economy Plus\n",
              "129876    Male     Returning       Personal  Economy Plus\n",
              "129877    Male     Returning       Personal  Economy Plus\n",
              "129878    Male     Returning       Personal  Economy Plus\n",
              "129879  Female     Returning       Personal  Economy Plus\n",
              "\n",
              "[129487 rows x 4 columns]"
            ],
            "text/html": [
              "\n",
              "  <div id=\"df-274f753a-7460-4e60-9152-72096f43c5a3\">\n",
              "    <div class=\"colab-df-container\">\n",
              "      <div>\n",
              "<style scoped>\n",
              "    .dataframe tbody tr th:only-of-type {\n",
              "        vertical-align: middle;\n",
              "    }\n",
              "\n",
              "    .dataframe tbody tr th {\n",
              "        vertical-align: top;\n",
              "    }\n",
              "\n",
              "    .dataframe thead th {\n",
              "        text-align: right;\n",
              "    }\n",
              "</style>\n",
              "<table border=\"1\" class=\"dataframe\">\n",
              "  <thead>\n",
              "    <tr style=\"text-align: right;\">\n",
              "      <th></th>\n",
              "      <th>Gender</th>\n",
              "      <th>Customer Type</th>\n",
              "      <th>Type of Travel</th>\n",
              "      <th>Class</th>\n",
              "    </tr>\n",
              "  </thead>\n",
              "  <tbody>\n",
              "    <tr>\n",
              "      <th>0</th>\n",
              "      <td>Male</td>\n",
              "      <td>First-time</td>\n",
              "      <td>Business</td>\n",
              "      <td>Business</td>\n",
              "    </tr>\n",
              "    <tr>\n",
              "      <th>1</th>\n",
              "      <td>Female</td>\n",
              "      <td>Returning</td>\n",
              "      <td>Business</td>\n",
              "      <td>Business</td>\n",
              "    </tr>\n",
              "    <tr>\n",
              "      <th>2</th>\n",
              "      <td>Male</td>\n",
              "      <td>Returning</td>\n",
              "      <td>Business</td>\n",
              "      <td>Business</td>\n",
              "    </tr>\n",
              "    <tr>\n",
              "      <th>3</th>\n",
              "      <td>Male</td>\n",
              "      <td>Returning</td>\n",
              "      <td>Business</td>\n",
              "      <td>Business</td>\n",
              "    </tr>\n",
              "    <tr>\n",
              "      <th>4</th>\n",
              "      <td>Female</td>\n",
              "      <td>Returning</td>\n",
              "      <td>Business</td>\n",
              "      <td>Business</td>\n",
              "    </tr>\n",
              "    <tr>\n",
              "      <th>...</th>\n",
              "      <td>...</td>\n",
              "      <td>...</td>\n",
              "      <td>...</td>\n",
              "      <td>...</td>\n",
              "    </tr>\n",
              "    <tr>\n",
              "      <th>129875</th>\n",
              "      <td>Male</td>\n",
              "      <td>Returning</td>\n",
              "      <td>Personal</td>\n",
              "      <td>Economy Plus</td>\n",
              "    </tr>\n",
              "    <tr>\n",
              "      <th>129876</th>\n",
              "      <td>Male</td>\n",
              "      <td>Returning</td>\n",
              "      <td>Personal</td>\n",
              "      <td>Economy Plus</td>\n",
              "    </tr>\n",
              "    <tr>\n",
              "      <th>129877</th>\n",
              "      <td>Male</td>\n",
              "      <td>Returning</td>\n",
              "      <td>Personal</td>\n",
              "      <td>Economy Plus</td>\n",
              "    </tr>\n",
              "    <tr>\n",
              "      <th>129878</th>\n",
              "      <td>Male</td>\n",
              "      <td>Returning</td>\n",
              "      <td>Personal</td>\n",
              "      <td>Economy Plus</td>\n",
              "    </tr>\n",
              "    <tr>\n",
              "      <th>129879</th>\n",
              "      <td>Female</td>\n",
              "      <td>Returning</td>\n",
              "      <td>Personal</td>\n",
              "      <td>Economy Plus</td>\n",
              "    </tr>\n",
              "  </tbody>\n",
              "</table>\n",
              "<p>129487 rows × 4 columns</p>\n",
              "</div>\n",
              "      <button class=\"colab-df-convert\" onclick=\"convertToInteractive('df-274f753a-7460-4e60-9152-72096f43c5a3')\"\n",
              "              title=\"Convert this dataframe to an interactive table.\"\n",
              "              style=\"display:none;\">\n",
              "        \n",
              "  <svg xmlns=\"http://www.w3.org/2000/svg\" height=\"24px\"viewBox=\"0 0 24 24\"\n",
              "       width=\"24px\">\n",
              "    <path d=\"M0 0h24v24H0V0z\" fill=\"none\"/>\n",
              "    <path d=\"M18.56 5.44l.94 2.06.94-2.06 2.06-.94-2.06-.94-.94-2.06-.94 2.06-2.06.94zm-11 1L8.5 8.5l.94-2.06 2.06-.94-2.06-.94L8.5 2.5l-.94 2.06-2.06.94zm10 10l.94 2.06.94-2.06 2.06-.94-2.06-.94-.94-2.06-.94 2.06-2.06.94z\"/><path d=\"M17.41 7.96l-1.37-1.37c-.4-.4-.92-.59-1.43-.59-.52 0-1.04.2-1.43.59L10.3 9.45l-7.72 7.72c-.78.78-.78 2.05 0 2.83L4 21.41c.39.39.9.59 1.41.59.51 0 1.02-.2 1.41-.59l7.78-7.78 2.81-2.81c.8-.78.8-2.07 0-2.86zM5.41 20L4 18.59l7.72-7.72 1.47 1.35L5.41 20z\"/>\n",
              "  </svg>\n",
              "      </button>\n",
              "      \n",
              "  <style>\n",
              "    .colab-df-container {\n",
              "      display:flex;\n",
              "      flex-wrap:wrap;\n",
              "      gap: 12px;\n",
              "    }\n",
              "\n",
              "    .colab-df-convert {\n",
              "      background-color: #E8F0FE;\n",
              "      border: none;\n",
              "      border-radius: 50%;\n",
              "      cursor: pointer;\n",
              "      display: none;\n",
              "      fill: #1967D2;\n",
              "      height: 32px;\n",
              "      padding: 0 0 0 0;\n",
              "      width: 32px;\n",
              "    }\n",
              "\n",
              "    .colab-df-convert:hover {\n",
              "      background-color: #E2EBFA;\n",
              "      box-shadow: 0px 1px 2px rgba(60, 64, 67, 0.3), 0px 1px 3px 1px rgba(60, 64, 67, 0.15);\n",
              "      fill: #174EA6;\n",
              "    }\n",
              "\n",
              "    [theme=dark] .colab-df-convert {\n",
              "      background-color: #3B4455;\n",
              "      fill: #D2E3FC;\n",
              "    }\n",
              "\n",
              "    [theme=dark] .colab-df-convert:hover {\n",
              "      background-color: #434B5C;\n",
              "      box-shadow: 0px 1px 3px 1px rgba(0, 0, 0, 0.15);\n",
              "      filter: drop-shadow(0px 1px 2px rgba(0, 0, 0, 0.3));\n",
              "      fill: #FFFFFF;\n",
              "    }\n",
              "  </style>\n",
              "\n",
              "      <script>\n",
              "        const buttonEl =\n",
              "          document.querySelector('#df-274f753a-7460-4e60-9152-72096f43c5a3 button.colab-df-convert');\n",
              "        buttonEl.style.display =\n",
              "          google.colab.kernel.accessAllowed ? 'block' : 'none';\n",
              "\n",
              "        async function convertToInteractive(key) {\n",
              "          const element = document.querySelector('#df-274f753a-7460-4e60-9152-72096f43c5a3');\n",
              "          const dataTable =\n",
              "            await google.colab.kernel.invokeFunction('convertToInteractive',\n",
              "                                                     [key], {});\n",
              "          if (!dataTable) return;\n",
              "\n",
              "          const docLinkHtml = 'Like what you see? Visit the ' +\n",
              "            '<a target=\"_blank\" href=https://colab.research.google.com/notebooks/data_table.ipynb>data table notebook</a>'\n",
              "            + ' to learn more about interactive tables.';\n",
              "          element.innerHTML = '';\n",
              "          dataTable['output_type'] = 'display_data';\n",
              "          await google.colab.output.renderOutput(dataTable, element);\n",
              "          const docLink = document.createElement('div');\n",
              "          docLink.innerHTML = docLinkHtml;\n",
              "          element.appendChild(docLink);\n",
              "        }\n",
              "      </script>\n",
              "    </div>\n",
              "  </div>\n",
              "  "
            ]
          },
          "metadata": {},
          "execution_count": 219
        }
      ]
    },
    {
      "cell_type": "code",
      "source": [
        "cat_tab=pd.get_dummies(cat_tab,drop_first=True)"
      ],
      "metadata": {
        "id": "U1KMu23MVy25"
      },
      "execution_count": null,
      "outputs": []
    },
    {
      "cell_type": "code",
      "source": [
        "cat_tab"
      ],
      "metadata": {
        "colab": {
          "base_uri": "https://localhost:8080/",
          "height": 424
        },
        "id": "JDkzcAG-V4d4",
        "outputId": "3165bef5-aeb3-4460-cec0-849971900cd6"
      },
      "execution_count": null,
      "outputs": [
        {
          "output_type": "execute_result",
          "data": {
            "text/plain": [
              "        Gender_Male  Customer Type_Returning  Type of Travel_Personal  \\\n",
              "0                 1                        0                        0   \n",
              "1                 0                        1                        0   \n",
              "2                 1                        1                        0   \n",
              "3                 1                        1                        0   \n",
              "4                 0                        1                        0   \n",
              "...             ...                      ...                      ...   \n",
              "129875            1                        1                        1   \n",
              "129876            1                        1                        1   \n",
              "129877            1                        1                        1   \n",
              "129878            1                        1                        1   \n",
              "129879            0                        1                        1   \n",
              "\n",
              "        Class_Economy  Class_Economy Plus  \n",
              "0                   0                   0  \n",
              "1                   0                   0  \n",
              "2                   0                   0  \n",
              "3                   0                   0  \n",
              "4                   0                   0  \n",
              "...               ...                 ...  \n",
              "129875              0                   1  \n",
              "129876              0                   1  \n",
              "129877              0                   1  \n",
              "129878              0                   1  \n",
              "129879              0                   1  \n",
              "\n",
              "[129487 rows x 5 columns]"
            ],
            "text/html": [
              "\n",
              "  <div id=\"df-4fc7de2e-39f3-424e-9ab3-3473dcc2f875\">\n",
              "    <div class=\"colab-df-container\">\n",
              "      <div>\n",
              "<style scoped>\n",
              "    .dataframe tbody tr th:only-of-type {\n",
              "        vertical-align: middle;\n",
              "    }\n",
              "\n",
              "    .dataframe tbody tr th {\n",
              "        vertical-align: top;\n",
              "    }\n",
              "\n",
              "    .dataframe thead th {\n",
              "        text-align: right;\n",
              "    }\n",
              "</style>\n",
              "<table border=\"1\" class=\"dataframe\">\n",
              "  <thead>\n",
              "    <tr style=\"text-align: right;\">\n",
              "      <th></th>\n",
              "      <th>Gender_Male</th>\n",
              "      <th>Customer Type_Returning</th>\n",
              "      <th>Type of Travel_Personal</th>\n",
              "      <th>Class_Economy</th>\n",
              "      <th>Class_Economy Plus</th>\n",
              "    </tr>\n",
              "  </thead>\n",
              "  <tbody>\n",
              "    <tr>\n",
              "      <th>0</th>\n",
              "      <td>1</td>\n",
              "      <td>0</td>\n",
              "      <td>0</td>\n",
              "      <td>0</td>\n",
              "      <td>0</td>\n",
              "    </tr>\n",
              "    <tr>\n",
              "      <th>1</th>\n",
              "      <td>0</td>\n",
              "      <td>1</td>\n",
              "      <td>0</td>\n",
              "      <td>0</td>\n",
              "      <td>0</td>\n",
              "    </tr>\n",
              "    <tr>\n",
              "      <th>2</th>\n",
              "      <td>1</td>\n",
              "      <td>1</td>\n",
              "      <td>0</td>\n",
              "      <td>0</td>\n",
              "      <td>0</td>\n",
              "    </tr>\n",
              "    <tr>\n",
              "      <th>3</th>\n",
              "      <td>1</td>\n",
              "      <td>1</td>\n",
              "      <td>0</td>\n",
              "      <td>0</td>\n",
              "      <td>0</td>\n",
              "    </tr>\n",
              "    <tr>\n",
              "      <th>4</th>\n",
              "      <td>0</td>\n",
              "      <td>1</td>\n",
              "      <td>0</td>\n",
              "      <td>0</td>\n",
              "      <td>0</td>\n",
              "    </tr>\n",
              "    <tr>\n",
              "      <th>...</th>\n",
              "      <td>...</td>\n",
              "      <td>...</td>\n",
              "      <td>...</td>\n",
              "      <td>...</td>\n",
              "      <td>...</td>\n",
              "    </tr>\n",
              "    <tr>\n",
              "      <th>129875</th>\n",
              "      <td>1</td>\n",
              "      <td>1</td>\n",
              "      <td>1</td>\n",
              "      <td>0</td>\n",
              "      <td>1</td>\n",
              "    </tr>\n",
              "    <tr>\n",
              "      <th>129876</th>\n",
              "      <td>1</td>\n",
              "      <td>1</td>\n",
              "      <td>1</td>\n",
              "      <td>0</td>\n",
              "      <td>1</td>\n",
              "    </tr>\n",
              "    <tr>\n",
              "      <th>129877</th>\n",
              "      <td>1</td>\n",
              "      <td>1</td>\n",
              "      <td>1</td>\n",
              "      <td>0</td>\n",
              "      <td>1</td>\n",
              "    </tr>\n",
              "    <tr>\n",
              "      <th>129878</th>\n",
              "      <td>1</td>\n",
              "      <td>1</td>\n",
              "      <td>1</td>\n",
              "      <td>0</td>\n",
              "      <td>1</td>\n",
              "    </tr>\n",
              "    <tr>\n",
              "      <th>129879</th>\n",
              "      <td>0</td>\n",
              "      <td>1</td>\n",
              "      <td>1</td>\n",
              "      <td>0</td>\n",
              "      <td>1</td>\n",
              "    </tr>\n",
              "  </tbody>\n",
              "</table>\n",
              "<p>129487 rows × 5 columns</p>\n",
              "</div>\n",
              "      <button class=\"colab-df-convert\" onclick=\"convertToInteractive('df-4fc7de2e-39f3-424e-9ab3-3473dcc2f875')\"\n",
              "              title=\"Convert this dataframe to an interactive table.\"\n",
              "              style=\"display:none;\">\n",
              "        \n",
              "  <svg xmlns=\"http://www.w3.org/2000/svg\" height=\"24px\"viewBox=\"0 0 24 24\"\n",
              "       width=\"24px\">\n",
              "    <path d=\"M0 0h24v24H0V0z\" fill=\"none\"/>\n",
              "    <path d=\"M18.56 5.44l.94 2.06.94-2.06 2.06-.94-2.06-.94-.94-2.06-.94 2.06-2.06.94zm-11 1L8.5 8.5l.94-2.06 2.06-.94-2.06-.94L8.5 2.5l-.94 2.06-2.06.94zm10 10l.94 2.06.94-2.06 2.06-.94-2.06-.94-.94-2.06-.94 2.06-2.06.94z\"/><path d=\"M17.41 7.96l-1.37-1.37c-.4-.4-.92-.59-1.43-.59-.52 0-1.04.2-1.43.59L10.3 9.45l-7.72 7.72c-.78.78-.78 2.05 0 2.83L4 21.41c.39.39.9.59 1.41.59.51 0 1.02-.2 1.41-.59l7.78-7.78 2.81-2.81c.8-.78.8-2.07 0-2.86zM5.41 20L4 18.59l7.72-7.72 1.47 1.35L5.41 20z\"/>\n",
              "  </svg>\n",
              "      </button>\n",
              "      \n",
              "  <style>\n",
              "    .colab-df-container {\n",
              "      display:flex;\n",
              "      flex-wrap:wrap;\n",
              "      gap: 12px;\n",
              "    }\n",
              "\n",
              "    .colab-df-convert {\n",
              "      background-color: #E8F0FE;\n",
              "      border: none;\n",
              "      border-radius: 50%;\n",
              "      cursor: pointer;\n",
              "      display: none;\n",
              "      fill: #1967D2;\n",
              "      height: 32px;\n",
              "      padding: 0 0 0 0;\n",
              "      width: 32px;\n",
              "    }\n",
              "\n",
              "    .colab-df-convert:hover {\n",
              "      background-color: #E2EBFA;\n",
              "      box-shadow: 0px 1px 2px rgba(60, 64, 67, 0.3), 0px 1px 3px 1px rgba(60, 64, 67, 0.15);\n",
              "      fill: #174EA6;\n",
              "    }\n",
              "\n",
              "    [theme=dark] .colab-df-convert {\n",
              "      background-color: #3B4455;\n",
              "      fill: #D2E3FC;\n",
              "    }\n",
              "\n",
              "    [theme=dark] .colab-df-convert:hover {\n",
              "      background-color: #434B5C;\n",
              "      box-shadow: 0px 1px 3px 1px rgba(0, 0, 0, 0.15);\n",
              "      filter: drop-shadow(0px 1px 2px rgba(0, 0, 0, 0.3));\n",
              "      fill: #FFFFFF;\n",
              "    }\n",
              "  </style>\n",
              "\n",
              "      <script>\n",
              "        const buttonEl =\n",
              "          document.querySelector('#df-4fc7de2e-39f3-424e-9ab3-3473dcc2f875 button.colab-df-convert');\n",
              "        buttonEl.style.display =\n",
              "          google.colab.kernel.accessAllowed ? 'block' : 'none';\n",
              "\n",
              "        async function convertToInteractive(key) {\n",
              "          const element = document.querySelector('#df-4fc7de2e-39f3-424e-9ab3-3473dcc2f875');\n",
              "          const dataTable =\n",
              "            await google.colab.kernel.invokeFunction('convertToInteractive',\n",
              "                                                     [key], {});\n",
              "          if (!dataTable) return;\n",
              "\n",
              "          const docLinkHtml = 'Like what you see? Visit the ' +\n",
              "            '<a target=\"_blank\" href=https://colab.research.google.com/notebooks/data_table.ipynb>data table notebook</a>'\n",
              "            + ' to learn more about interactive tables.';\n",
              "          element.innerHTML = '';\n",
              "          dataTable['output_type'] = 'display_data';\n",
              "          await google.colab.output.renderOutput(dataTable, element);\n",
              "          const docLink = document.createElement('div');\n",
              "          docLink.innerHTML = docLinkHtml;\n",
              "          element.appendChild(docLink);\n",
              "        }\n",
              "      </script>\n",
              "    </div>\n",
              "  </div>\n",
              "  "
            ]
          },
          "metadata": {},
          "execution_count": 221
        }
      ]
    },
    {
      "cell_type": "code",
      "source": [
        "cont=[i for i in df.columns if i not in cat]"
      ],
      "metadata": {
        "id": "8qpM7vIHV5RZ"
      },
      "execution_count": null,
      "outputs": []
    },
    {
      "cell_type": "code",
      "source": [
        "cont.remove(\"Satisfaction\")"
      ],
      "metadata": {
        "id": "NxTLuwVTWDgM"
      },
      "execution_count": null,
      "outputs": []
    },
    {
      "cell_type": "code",
      "source": [
        "cont"
      ],
      "metadata": {
        "colab": {
          "base_uri": "https://localhost:8080/"
        },
        "id": "f8_S4qNCHw7u",
        "outputId": "51dba836-2142-4c37-dd77-6cc5b63059d2"
      },
      "execution_count": null,
      "outputs": [
        {
          "output_type": "execute_result",
          "data": {
            "text/plain": [
              "['Age',\n",
              " 'Flight Distance',\n",
              " 'Departure Delay',\n",
              " 'Arrival Delay',\n",
              " 'Departure and Arrival Time Convenience',\n",
              " 'Ease of Online Booking',\n",
              " 'Check-in Service',\n",
              " 'Online Boarding',\n",
              " 'Gate Location',\n",
              " 'On-board Service',\n",
              " 'Seat Comfort',\n",
              " 'Leg Room Service',\n",
              " 'Cleanliness',\n",
              " 'Food and Drink',\n",
              " 'In-flight Service',\n",
              " 'In-flight Wifi Service',\n",
              " 'In-flight Entertainment',\n",
              " 'Baggage Handling']"
            ]
          },
          "metadata": {},
          "execution_count": 224
        }
      ]
    },
    {
      "cell_type": "code",
      "source": [
        "X=pd.concat([cat_tab,df[cont]],axis=1)"
      ],
      "metadata": {
        "id": "4dZEqskvWUrJ"
      },
      "execution_count": null,
      "outputs": []
    },
    {
      "cell_type": "code",
      "source": [
        "X.shape"
      ],
      "metadata": {
        "colab": {
          "base_uri": "https://localhost:8080/"
        },
        "id": "6OhEVteaWbKQ",
        "outputId": "e599dd93-51bb-46ba-e72b-5f94b56ea570"
      },
      "execution_count": null,
      "outputs": [
        {
          "output_type": "execute_result",
          "data": {
            "text/plain": [
              "(129487, 23)"
            ]
          },
          "metadata": {},
          "execution_count": 226
        }
      ]
    },
    {
      "cell_type": "code",
      "source": [
        "y.shape"
      ],
      "metadata": {
        "colab": {
          "base_uri": "https://localhost:8080/"
        },
        "id": "KVuSRCa7We8a",
        "outputId": "6f65be41-77d2-46e3-a2c8-ab5a76f71315"
      },
      "execution_count": null,
      "outputs": [
        {
          "output_type": "execute_result",
          "data": {
            "text/plain": [
              "(129487,)"
            ]
          },
          "metadata": {},
          "execution_count": 227
        }
      ]
    },
    {
      "cell_type": "code",
      "source": [
        "import torch,torchsummary\n",
        "import torch.nn as nn\n",
        "import torch.nn.functional as F \n",
        "from torch.utils.data import DataLoader,TensorDataset \n",
        "from torch.optim import Adam,RMSprop"
      ],
      "metadata": {
        "id": "MqCH2_2WWgF5"
      },
      "execution_count": null,
      "outputs": []
    },
    {
      "cell_type": "code",
      "source": [
        "X.values"
      ],
      "metadata": {
        "colab": {
          "base_uri": "https://localhost:8080/"
        },
        "id": "9M9IXQsPZTYY",
        "outputId": "0b3d0a7d-648a-411c-e0af-c10831478dbd"
      },
      "execution_count": null,
      "outputs": [
        {
          "output_type": "execute_result",
          "data": {
            "text/plain": [
              "array([[1., 0., 0., ..., 3., 5., 5.],\n",
              "       [0., 1., 0., ..., 2., 5., 5.],\n",
              "       [1., 1., 0., ..., 4., 3., 3.],\n",
              "       ...,\n",
              "       [1., 1., 1., ..., 2., 3., 5.],\n",
              "       [1., 1., 1., ..., 5., 3., 5.],\n",
              "       [0., 1., 1., ..., 3., 2., 1.]])"
            ]
          },
          "metadata": {},
          "execution_count": 229
        }
      ]
    },
    {
      "cell_type": "code",
      "source": [
        "y.values"
      ],
      "metadata": {
        "colab": {
          "base_uri": "https://localhost:8080/"
        },
        "id": "S7Av21iDZXdj",
        "outputId": "55b09703-9b6f-4b0d-d507-b5be3780b0b5"
      },
      "execution_count": null,
      "outputs": [
        {
          "output_type": "execute_result",
          "data": {
            "text/plain": [
              "array([0, 1, 1, ..., 0, 1, 0])"
            ]
          },
          "metadata": {},
          "execution_count": 230
        }
      ]
    },
    {
      "cell_type": "code",
      "source": [
        "X = torch.tensor(X.values)\n",
        "y=torch.Tensor(y.values)"
      ],
      "metadata": {
        "id": "YXrsRAPwZT5L"
      },
      "execution_count": null,
      "outputs": []
    },
    {
      "cell_type": "code",
      "source": [
        "X"
      ],
      "metadata": {
        "colab": {
          "base_uri": "https://localhost:8080/"
        },
        "id": "nJj9YXBpZrkw",
        "outputId": "08fa51ba-e681-40b3-da09-446c040ef7fb"
      },
      "execution_count": null,
      "outputs": [
        {
          "output_type": "execute_result",
          "data": {
            "text/plain": [
              "tensor([[1., 0., 0.,  ..., 3., 5., 5.],\n",
              "        [0., 1., 0.,  ..., 2., 5., 5.],\n",
              "        [1., 1., 0.,  ..., 4., 3., 3.],\n",
              "        ...,\n",
              "        [1., 1., 1.,  ..., 2., 3., 5.],\n",
              "        [1., 1., 1.,  ..., 5., 3., 5.],\n",
              "        [0., 1., 1.,  ..., 3., 2., 1.]], dtype=torch.float64)"
            ]
          },
          "metadata": {},
          "execution_count": 232
        }
      ]
    },
    {
      "cell_type": "code",
      "source": [
        "#model=nn.Sequential(nn.Linear(X.shape[1],3),nn.Sigmoid(),nn.BatchNorm1d(3),nn.Dropout1d(0.5),nn.Linear(3,1),nn.Sigmoid())\n"
      ],
      "metadata": {
        "id": "dXQdq-aDWrVC"
      },
      "execution_count": null,
      "outputs": []
    },
    {
      "cell_type": "code",
      "source": [],
      "metadata": {
        "id": "Z6oXmq5PZsx3"
      },
      "execution_count": null,
      "outputs": []
    },
    {
      "cell_type": "code",
      "source": [
        "from sklearn.model_selection import train_test_split \n",
        "X_train, X_test, y_train, y_test=train_test_split(X,y,test_size=0.3)"
      ],
      "metadata": {
        "id": "U-UH6QoBaBA8"
      },
      "execution_count": null,
      "outputs": []
    },
    {
      "cell_type": "code",
      "source": [
        "X_train.shape"
      ],
      "metadata": {
        "colab": {
          "base_uri": "https://localhost:8080/"
        },
        "id": "pU9CNMqwaMsL",
        "outputId": "ac0616e1-156c-424c-9e18-c7c39fdeaa49"
      },
      "execution_count": null,
      "outputs": [
        {
          "output_type": "execute_result",
          "data": {
            "text/plain": [
              "torch.Size([90640, 23])"
            ]
          },
          "metadata": {},
          "execution_count": 235
        }
      ]
    },
    {
      "cell_type": "code",
      "source": [],
      "metadata": {
        "id": "H9STYb0cUJHD"
      },
      "execution_count": null,
      "outputs": []
    },
    {
      "cell_type": "code",
      "source": [
        "X_test.shape"
      ],
      "metadata": {
        "colab": {
          "base_uri": "https://localhost:8080/"
        },
        "id": "q16AmFaLa_uM",
        "outputId": "c09e96a0-1a7c-4b3b-ed9e-0381e376641f"
      },
      "execution_count": null,
      "outputs": [
        {
          "output_type": "execute_result",
          "data": {
            "text/plain": [
              "torch.Size([38847, 23])"
            ]
          },
          "metadata": {},
          "execution_count": 236
        }
      ]
    },
    {
      "cell_type": "code",
      "source": [
        "y_train.shape"
      ],
      "metadata": {
        "colab": {
          "base_uri": "https://localhost:8080/"
        },
        "id": "jD-dmUuoahOE",
        "outputId": "65484bd9-32da-447d-b5c4-345cb6f68e64"
      },
      "execution_count": null,
      "outputs": [
        {
          "output_type": "execute_result",
          "data": {
            "text/plain": [
              "torch.Size([90640])"
            ]
          },
          "metadata": {},
          "execution_count": 237
        }
      ]
    },
    {
      "cell_type": "code",
      "source": [
        "#y_train=y_train.reshape(-1,1)"
      ],
      "metadata": {
        "id": "Ax1XXLWEcNVg"
      },
      "execution_count": null,
      "outputs": []
    },
    {
      "cell_type": "code",
      "source": [
        "y_train.shape"
      ],
      "metadata": {
        "colab": {
          "base_uri": "https://localhost:8080/"
        },
        "id": "YQGLDu5GjVkx",
        "outputId": "12e69f87-8726-44eb-a072-f5fef1bcef36"
      },
      "execution_count": null,
      "outputs": [
        {
          "output_type": "execute_result",
          "data": {
            "text/plain": [
              "torch.Size([90640])"
            ]
          },
          "metadata": {},
          "execution_count": 239
        }
      ]
    },
    {
      "cell_type": "code",
      "source": [
        "y_train"
      ],
      "metadata": {
        "colab": {
          "base_uri": "https://localhost:8080/"
        },
        "id": "LomjX2jzVfrR",
        "outputId": "944fa8b7-3c23-45d7-814a-ea7c5592a92d"
      },
      "execution_count": null,
      "outputs": [
        {
          "output_type": "execute_result",
          "data": {
            "text/plain": [
              "tensor([1., 0., 0.,  ..., 1., 0., 0.])"
            ]
          },
          "metadata": {},
          "execution_count": 240
        }
      ]
    },
    {
      "cell_type": "code",
      "source": [
        "#y_test = y_test.reshape(-1,1)"
      ],
      "metadata": {
        "id": "_etzvIDacXg8"
      },
      "execution_count": null,
      "outputs": []
    },
    {
      "cell_type": "code",
      "source": [
        "X_train.sum(dim=1).sum()"
      ],
      "metadata": {
        "colab": {
          "base_uri": "https://localhost:8080/"
        },
        "id": "tIMG6qK6JCWO",
        "outputId": "6ddbe936-1c82-4cff-b542-4000a04eb453"
      },
      "execution_count": null,
      "outputs": [
        {
          "output_type": "execute_result",
          "data": {
            "text/plain": [
              "tensor(1.1855e+08, dtype=torch.float64)"
            ]
          },
          "metadata": {},
          "execution_count": 242
        }
      ]
    },
    {
      "cell_type": "code",
      "source": [
        "train_loader = DataLoader(TensorDataset(X_train.float(),y_train),\n",
        "                                       batch_size=64,shuffle = True)\n",
        "\n",
        "test_loader = DataLoader(TensorDataset(X_test.float(),y_test),\n",
        "                                      batch_size = 64,shuffle = False)"
      ],
      "metadata": {
        "id": "QbZqBnVHane1"
      },
      "execution_count": null,
      "outputs": []
    },
    {
      "cell_type": "code",
      "source": [
        "class DNN_MNIST(nn.Module):\n",
        "  def __init__(self):\n",
        "    super(DNN_MNIST,self).__init__()\n",
        "\n",
        "    self.h1 = nn.Linear(in_features=23, out_features = 512)\n",
        "    self.h2 = nn.Linear(in_features=512, out_features = 256)\n",
        "    self.h3 = nn.Linear(in_features=256, out_features = 128)\n",
        "    self.h4 = nn.Linear(in_features=128, out_features = 64)\n",
        "    self.out = nn.Linear(in_features=64, out_features = 2)\n",
        "    self.bn1 = nn.BatchNorm1d(num_features=512)\n",
        "    self.bn2 = nn.BatchNorm1d(num_features=256)\n",
        "    self.bn3 = nn.BatchNorm1d(num_features=128)\n",
        "    self.dropout = nn.Dropout(p=0.4)\n",
        "\n",
        "  def forward(self,x):\n",
        "    x = F.relu(self.h1(x))\n",
        "    x = self.bn1(x)\n",
        "    x = self.dropout(x)\n",
        "\n",
        "    x = F.relu(self.h2(x))\n",
        "    x = self.bn2(x)\n",
        "    x = self.dropout(x)\n",
        "\n",
        "    x = F.relu(self.h3(x))\n",
        "    x = self.bn3(x)\n",
        "    x = self.dropout(x)\n",
        "\n",
        "    x = F.relu(self.h4(x))\n",
        "    x = self.dropout(x)\n",
        "\n",
        "    x = self.out(x)\n",
        "    return x"
      ],
      "metadata": {
        "id": "wQF3B5qFc5MZ"
      },
      "execution_count": null,
      "outputs": []
    },
    {
      "cell_type": "code",
      "source": [
        "dnn_model = DNN_MNIST()"
      ],
      "metadata": {
        "id": "f82LFAKPc-xK"
      },
      "execution_count": null,
      "outputs": []
    },
    {
      "cell_type": "code",
      "source": [
        "list(dnn_model.parameters())"
      ],
      "metadata": {
        "id": "wBr4EPyqdCjS",
        "colab": {
          "base_uri": "https://localhost:8080/"
        },
        "outputId": "5040edfa-e36e-41fe-da14-032ef04df26e"
      },
      "execution_count": null,
      "outputs": [
        {
          "output_type": "execute_result",
          "data": {
            "text/plain": [
              "[Parameter containing:\n",
              " tensor([[ 0.1235,  0.0860,  0.0027,  ..., -0.1981, -0.0894, -0.1292],\n",
              "         [-0.1138, -0.0854, -0.0386,  ...,  0.2005,  0.1933,  0.1857],\n",
              "         [-0.0288,  0.0261, -0.1581,  ..., -0.1960, -0.1778,  0.1849],\n",
              "         ...,\n",
              "         [-0.0842, -0.1437,  0.1424,  ...,  0.1796, -0.0715,  0.0857],\n",
              "         [ 0.0376, -0.1086,  0.1857,  ...,  0.1265, -0.0774,  0.0070],\n",
              "         [ 0.1576,  0.1994, -0.0792,  ..., -0.0868,  0.1106, -0.1679]],\n",
              "        requires_grad=True), Parameter containing:\n",
              " tensor([ 3.2932e-02,  1.8715e-01, -1.2266e-01, -1.0933e-01, -2.8011e-02,\n",
              "          1.3273e-01, -1.4093e-01,  3.5686e-03,  1.2247e-01,  3.7326e-02,\n",
              "         -8.7191e-02,  6.0583e-03, -5.5020e-02, -1.8837e-02, -3.2059e-02,\n",
              "         -8.7280e-03, -2.7460e-02, -2.0224e-02,  1.9115e-01, -1.9902e-01,\n",
              "         -1.1578e-01, -1.2501e-02,  6.8978e-02,  5.5058e-02,  9.6639e-02,\n",
              "         -8.3409e-02, -1.8137e-01,  1.5933e-01, -1.5511e-01,  1.3343e-01,\n",
              "          1.6726e-01,  9.1757e-03,  3.7431e-02, -9.6723e-02,  1.1484e-01,\n",
              "         -1.7609e-01, -1.7882e-01,  3.7913e-02, -1.8483e-01, -1.0948e-01,\n",
              "         -3.3539e-02,  2.8841e-02, -9.1588e-02, -1.0804e-01,  1.5897e-01,\n",
              "          5.9763e-02, -1.4670e-01,  4.6918e-02,  1.1341e-01, -1.7578e-01,\n",
              "          1.5001e-01,  2.0762e-01,  1.1664e-01, -1.8891e-02,  1.4821e-01,\n",
              "          1.6594e-01,  2.8665e-02,  1.9824e-01,  1.1559e-01,  1.1583e-01,\n",
              "         -1.1482e-01,  9.7795e-02,  1.2330e-01, -1.9296e-01,  2.1146e-02,\n",
              "          3.4599e-03, -6.5365e-02,  6.8303e-02,  1.1293e-01,  8.2386e-02,\n",
              "         -1.2468e-01, -2.3851e-02, -7.8640e-02, -6.9341e-02, -1.6179e-01,\n",
              "          1.6620e-01,  2.1339e-02, -1.5107e-01, -1.4642e-01,  7.5961e-02,\n",
              "          9.6704e-03, -1.6491e-01,  2.5007e-02, -4.4694e-02, -2.0096e-01,\n",
              "         -1.7570e-01, -6.9317e-02,  1.6145e-01, -2.0268e-01,  8.3833e-03,\n",
              "          1.3867e-01, -8.9314e-02, -5.0914e-02, -1.1953e-01, -1.6184e-01,\n",
              "         -2.4461e-02, -2.4706e-02,  6.3430e-02, -1.8340e-01, -1.0249e-01,\n",
              "          1.3706e-01,  1.8987e-01,  2.8028e-02, -8.3166e-02,  1.9720e-01,\n",
              "         -7.4665e-02,  1.8512e-01,  1.6959e-01,  1.7431e-01,  1.4333e-01,\n",
              "          7.7900e-02, -1.1888e-01, -9.8329e-02,  1.8154e-01, -1.4005e-02,\n",
              "          1.7940e-01,  1.6067e-01, -7.3168e-02,  1.1775e-01,  1.9073e-01,\n",
              "         -1.0389e-01, -1.3714e-01, -1.7264e-01, -1.5793e-01,  1.7794e-01,\n",
              "         -4.1523e-03, -1.8440e-01,  9.8603e-02, -4.8275e-02, -1.7808e-01,\n",
              "         -9.3723e-02, -1.6580e-01, -2.0187e-01, -3.9050e-02, -1.6169e-01,\n",
              "         -4.8336e-02, -1.7535e-01, -1.1849e-01, -5.6733e-02,  6.9491e-02,\n",
              "         -2.0663e-01,  7.8770e-02, -7.5495e-02,  7.9075e-02,  9.9128e-02,\n",
              "         -3.6181e-02,  1.6448e-02,  2.3384e-02, -6.0340e-02, -1.8639e-01,\n",
              "          1.7602e-01, -1.0118e-01,  1.2677e-01, -1.1013e-01, -2.0518e-01,\n",
              "         -1.1316e-01, -4.0142e-02, -4.7062e-02,  1.5798e-01, -8.9815e-02,\n",
              "          1.1305e-01,  2.2747e-02, -6.3621e-04, -2.0377e-03, -7.0751e-02,\n",
              "          5.3512e-02,  1.3751e-03, -1.5309e-01,  1.7934e-01, -2.6965e-03,\n",
              "         -1.6380e-02,  3.2780e-02, -6.0307e-02, -1.5735e-01, -3.3567e-02,\n",
              "          2.3892e-02,  1.2009e-01, -1.8642e-01,  1.0475e-01,  6.9124e-02,\n",
              "          7.5121e-02,  1.1090e-01, -1.1175e-01, -6.1888e-02,  8.8099e-02,\n",
              "          1.7156e-01,  7.9713e-02, -1.5283e-02, -1.1645e-01,  1.6438e-01,\n",
              "          3.1594e-02,  1.4801e-01, -2.0186e-02, -1.2338e-01, -6.6972e-02,\n",
              "          1.8610e-01, -3.3067e-02, -1.9468e-01,  8.0857e-02, -1.0178e-01,\n",
              "          1.9413e-01, -1.8637e-01, -8.2727e-02, -1.8701e-02,  1.2076e-01,\n",
              "          1.5729e-01, -5.4534e-02, -1.8480e-01, -9.0858e-02, -1.3446e-01,\n",
              "         -1.7406e-01, -2.0360e-01, -5.0730e-03, -2.4623e-02,  7.9339e-02,\n",
              "         -2.0813e-01, -1.5949e-01,  1.1412e-01, -1.7152e-01, -5.0694e-02,\n",
              "          1.6409e-01, -1.5425e-01, -3.2793e-02, -1.8939e-01,  1.6756e-01,\n",
              "         -1.2021e-01, -1.0885e-02,  1.6927e-01,  1.6415e-01,  3.0104e-02,\n",
              "         -8.1878e-02,  1.6176e-01,  3.3078e-02, -1.4124e-01,  8.9578e-02,\n",
              "          7.3103e-02,  1.3063e-02, -7.3269e-02,  4.4639e-03, -2.0468e-02,\n",
              "          1.9817e-01, -9.3794e-02,  1.1686e-01,  4.0299e-02, -6.9440e-02,\n",
              "          2.9219e-02,  1.6186e-01,  1.5483e-01, -1.6836e-01, -2.0468e-01,\n",
              "          1.1340e-01,  6.5950e-02, -1.5271e-01,  9.2648e-03, -1.9551e-01,\n",
              "          2.0135e-01, -1.6777e-02,  1.3643e-03,  1.3500e-01, -1.9254e-01,\n",
              "         -1.7767e-01, -1.2356e-01,  2.1792e-02,  1.8528e-01, -7.2909e-02,\n",
              "          1.5994e-01,  2.0563e-02,  1.9775e-03,  1.0584e-02, -1.9261e-01,\n",
              "         -1.4282e-01,  1.2667e-01, -1.6065e-01, -1.2676e-01,  1.4519e-01,\n",
              "         -2.0198e-01,  5.2187e-02,  2.9102e-02,  1.3682e-01, -1.9336e-01,\n",
              "         -1.9953e-01, -3.7110e-02, -8.7959e-02, -6.8729e-02,  1.3926e-01,\n",
              "          6.4679e-02, -6.6784e-02,  1.6348e-01, -1.9661e-01,  1.6273e-01,\n",
              "         -3.1597e-02,  7.0385e-02, -1.3441e-01, -3.1636e-02,  8.0052e-02,\n",
              "          1.6277e-01, -3.4825e-02,  1.4246e-01,  1.4454e-01,  1.1838e-01,\n",
              "          8.8762e-02, -9.8675e-02,  5.4095e-03,  5.2299e-02, -1.0240e-02,\n",
              "         -8.7240e-02, -4.5820e-02,  1.2477e-01,  1.3474e-01,  1.6498e-02,\n",
              "          3.7107e-02,  5.3977e-02, -1.6944e-01, -7.3724e-02, -1.3948e-02,\n",
              "         -6.9610e-02,  4.7740e-02,  9.4242e-02,  1.1561e-01, -1.1566e-01,\n",
              "          2.7918e-02, -9.5666e-02, -1.3300e-01, -1.6305e-01,  1.9227e-01,\n",
              "          8.0687e-02,  1.6742e-01,  8.5545e-02,  8.3185e-03, -1.8930e-01,\n",
              "          6.3091e-02, -1.2262e-01, -1.7406e-01,  1.9337e-01,  1.1422e-01,\n",
              "          7.6313e-02,  1.8298e-01, -2.1648e-02, -9.5830e-02,  1.1332e-01,\n",
              "          5.0087e-02, -6.2250e-02,  3.7624e-03,  8.2847e-02,  7.2097e-02,\n",
              "          1.1100e-01,  1.9970e-02,  1.0734e-01, -1.5420e-01, -7.2980e-02,\n",
              "          5.9262e-02,  1.3876e-02, -1.5739e-01, -2.0361e-01,  1.4808e-01,\n",
              "         -1.9819e-01,  1.5974e-01,  2.9714e-02, -1.8919e-02, -2.0161e-02,\n",
              "         -1.2910e-01, -9.0048e-02, -4.4283e-03, -8.6490e-02,  1.3841e-01,\n",
              "          1.2855e-01,  2.0444e-01,  1.4255e-01,  1.1282e-01,  1.2701e-01,\n",
              "          1.0304e-01,  6.1353e-02,  1.5881e-01,  5.6333e-03,  8.9323e-03,\n",
              "         -1.4837e-01,  1.9406e-01, -9.7027e-02,  1.9920e-01, -1.5427e-01,\n",
              "         -1.6911e-01,  1.0385e-01,  1.3179e-01,  1.0601e-01,  1.2384e-01,\n",
              "          9.1866e-02, -6.0943e-02, -1.9728e-01,  3.0793e-02, -9.0258e-03,\n",
              "          1.6460e-01, -5.8730e-02, -1.4736e-01,  1.0225e-01, -6.1774e-02,\n",
              "          1.5787e-03,  1.3176e-01,  1.3929e-01, -1.7888e-01, -1.6447e-01,\n",
              "          6.6011e-03, -6.1030e-02, -2.3408e-02,  1.2201e-01, -9.7143e-02,\n",
              "         -1.3075e-01, -1.4697e-01,  1.4142e-01,  1.9399e-01,  1.1734e-01,\n",
              "         -1.6313e-01,  8.0114e-02, -4.9768e-02,  1.9953e-01, -8.8853e-02,\n",
              "         -1.5516e-01, -2.5074e-02, -1.3546e-01,  1.8618e-01,  1.6525e-01,\n",
              "          8.4517e-02,  1.8777e-01, -9.3293e-02, -4.1245e-02, -5.3491e-02,\n",
              "         -8.4614e-02, -9.1656e-02, -2.0372e-01,  2.2980e-02,  5.4488e-02,\n",
              "          1.1427e-01, -1.3499e-01,  1.0216e-01, -2.0390e-02, -7.3680e-02,\n",
              "          1.8882e-01,  4.6231e-02,  1.0612e-01,  1.6204e-01, -2.0791e-01,\n",
              "          1.3391e-02,  9.0818e-02,  1.5363e-01,  1.7107e-01, -7.9348e-02,\n",
              "          1.4348e-01,  1.3671e-01, -3.5476e-02, -1.6239e-01,  6.7193e-02,\n",
              "          1.9976e-01, -8.7646e-03, -1.4754e-02, -7.9203e-02,  1.7234e-01,\n",
              "          4.0836e-02,  1.1658e-01, -8.8490e-02,  4.3918e-02,  1.9665e-01,\n",
              "          2.0412e-01,  1.5499e-01, -1.5644e-02,  1.5748e-01,  1.0706e-01,\n",
              "         -1.7562e-01, -1.9978e-02,  1.7216e-03, -6.6715e-02, -7.8606e-02,\n",
              "          2.0155e-02, -1.5321e-01,  1.7214e-01, -1.5863e-03,  1.0567e-04,\n",
              "          1.7847e-01,  1.5064e-01, -5.5125e-02, -2.9959e-02, -8.6443e-02,\n",
              "         -9.7724e-02,  1.5721e-01, -1.8214e-01, -1.8519e-02, -1.6984e-01,\n",
              "          1.0016e-01,  6.7474e-02, -6.4416e-02,  9.0117e-03,  7.6607e-02,\n",
              "          5.7285e-02, -7.2843e-02,  6.5451e-02,  7.6730e-02, -1.1328e-01,\n",
              "          1.0181e-01,  5.5801e-03,  1.8648e-01,  7.4017e-02, -6.8528e-02,\n",
              "          1.5314e-02, -1.1771e-01,  2.0712e-01,  7.8608e-02, -4.3833e-02,\n",
              "         -1.3426e-01, -1.2668e-01,  1.2476e-01, -2.8928e-02,  1.8822e-02,\n",
              "         -1.3204e-01, -1.7566e-01], requires_grad=True), Parameter containing:\n",
              " tensor([[ 0.0216,  0.0361, -0.0434,  ..., -0.0237, -0.0350,  0.0181],\n",
              "         [ 0.0388,  0.0229, -0.0341,  ..., -0.0196, -0.0315, -0.0100],\n",
              "         [ 0.0439,  0.0368, -0.0308,  ...,  0.0335, -0.0300, -0.0315],\n",
              "         ...,\n",
              "         [ 0.0388,  0.0012, -0.0369,  ...,  0.0222,  0.0299,  0.0417],\n",
              "         [ 0.0319, -0.0324,  0.0213,  ...,  0.0363, -0.0066,  0.0213],\n",
              "         [ 0.0252, -0.0285,  0.0082,  ..., -0.0098,  0.0049,  0.0385]],\n",
              "        requires_grad=True), Parameter containing:\n",
              " tensor([-0.0365, -0.0436, -0.0231, -0.0148,  0.0126,  0.0262,  0.0008,  0.0202,\n",
              "          0.0016,  0.0004, -0.0358,  0.0253, -0.0188, -0.0236,  0.0388, -0.0095,\n",
              "          0.0212,  0.0047,  0.0152,  0.0439, -0.0008, -0.0063, -0.0144,  0.0140,\n",
              "          0.0374,  0.0030, -0.0345, -0.0322, -0.0101, -0.0248, -0.0367,  0.0124,\n",
              "          0.0029,  0.0054, -0.0067,  0.0361,  0.0340,  0.0024, -0.0299,  0.0060,\n",
              "         -0.0126, -0.0157,  0.0345,  0.0278, -0.0096,  0.0439,  0.0284,  0.0115,\n",
              "          0.0078, -0.0373,  0.0185, -0.0031, -0.0316, -0.0394, -0.0417, -0.0164,\n",
              "         -0.0272, -0.0419,  0.0441, -0.0016,  0.0018,  0.0272,  0.0396, -0.0434,\n",
              "          0.0316, -0.0122, -0.0150,  0.0027,  0.0259, -0.0149,  0.0354,  0.0399,\n",
              "         -0.0096, -0.0234, -0.0333, -0.0377,  0.0103, -0.0403, -0.0002,  0.0308,\n",
              "         -0.0248, -0.0137, -0.0200,  0.0225,  0.0231,  0.0339,  0.0438, -0.0389,\n",
              "          0.0398,  0.0197, -0.0331,  0.0165,  0.0251, -0.0136,  0.0357, -0.0010,\n",
              "          0.0242,  0.0133, -0.0366, -0.0264,  0.0220,  0.0253,  0.0216, -0.0413,\n",
              "          0.0417,  0.0125,  0.0396, -0.0250,  0.0054,  0.0238, -0.0343, -0.0121,\n",
              "         -0.0198,  0.0222, -0.0436,  0.0246, -0.0252, -0.0130,  0.0223,  0.0173,\n",
              "         -0.0159,  0.0171,  0.0123, -0.0296,  0.0274,  0.0258, -0.0117, -0.0018,\n",
              "         -0.0055, -0.0118, -0.0105,  0.0124, -0.0155,  0.0415, -0.0276, -0.0414,\n",
              "         -0.0052, -0.0314, -0.0322, -0.0223, -0.0028, -0.0081, -0.0353,  0.0255,\n",
              "          0.0181, -0.0221,  0.0418,  0.0062,  0.0088, -0.0203,  0.0257, -0.0132,\n",
              "         -0.0210, -0.0061, -0.0273, -0.0039, -0.0247, -0.0077,  0.0117,  0.0293,\n",
              "          0.0073,  0.0351, -0.0116, -0.0296, -0.0017,  0.0371,  0.0405, -0.0164,\n",
              "         -0.0345, -0.0276,  0.0404, -0.0164,  0.0237, -0.0239,  0.0083, -0.0370,\n",
              "          0.0090,  0.0368, -0.0337, -0.0328,  0.0015,  0.0318,  0.0181,  0.0167,\n",
              "          0.0395,  0.0304,  0.0437, -0.0016, -0.0012, -0.0358, -0.0169,  0.0312,\n",
              "         -0.0347,  0.0220,  0.0110, -0.0264, -0.0358,  0.0190, -0.0165, -0.0194,\n",
              "          0.0216, -0.0059,  0.0014, -0.0410, -0.0038, -0.0280,  0.0373,  0.0213,\n",
              "         -0.0397, -0.0094, -0.0166,  0.0245, -0.0329,  0.0143, -0.0280, -0.0219,\n",
              "         -0.0410,  0.0422, -0.0423, -0.0279, -0.0084, -0.0376, -0.0085,  0.0118,\n",
              "         -0.0228, -0.0272,  0.0101, -0.0185, -0.0159, -0.0239, -0.0174,  0.0387,\n",
              "         -0.0175, -0.0334, -0.0057, -0.0346, -0.0232,  0.0129, -0.0160, -0.0027,\n",
              "         -0.0399,  0.0096, -0.0391,  0.0123, -0.0383, -0.0347, -0.0088,  0.0407,\n",
              "          0.0396, -0.0149,  0.0195, -0.0038,  0.0188, -0.0118,  0.0297,  0.0283],\n",
              "        requires_grad=True), Parameter containing:\n",
              " tensor([[ 0.0316, -0.0257,  0.0140,  ...,  0.0141,  0.0436, -0.0192],\n",
              "         [-0.0164, -0.0319,  0.0191,  ..., -0.0175,  0.0334,  0.0430],\n",
              "         [ 0.0241,  0.0292,  0.0338,  ...,  0.0512, -0.0172,  0.0259],\n",
              "         ...,\n",
              "         [-0.0184,  0.0441, -0.0443,  ...,  0.0128,  0.0053,  0.0398],\n",
              "         [-0.0237, -0.0076, -0.0335,  ...,  0.0092,  0.0284,  0.0302],\n",
              "         [ 0.0477,  0.0142, -0.0579,  ...,  0.0503, -0.0568,  0.0157]],\n",
              "        requires_grad=True), Parameter containing:\n",
              " tensor([ 0.0504,  0.0568, -0.0390,  0.0150,  0.0038, -0.0428, -0.0360, -0.0485,\n",
              "         -0.0436, -0.0296,  0.0147,  0.0584,  0.0486,  0.0389,  0.0451,  0.0496,\n",
              "         -0.0036, -0.0432, -0.0347, -0.0029, -0.0329,  0.0254,  0.0511, -0.0445,\n",
              "         -0.0354, -0.0366, -0.0307, -0.0514,  0.0563, -0.0601,  0.0170, -0.0300,\n",
              "          0.0201, -0.0532, -0.0174, -0.0513,  0.0419, -0.0108, -0.0419, -0.0287,\n",
              "         -0.0395, -0.0007,  0.0331,  0.0297,  0.0398,  0.0038,  0.0427, -0.0071,\n",
              "          0.0021,  0.0341, -0.0432, -0.0200, -0.0558,  0.0559, -0.0475, -0.0183,\n",
              "         -0.0468,  0.0101,  0.0518, -0.0225, -0.0282,  0.0349,  0.0460, -0.0030,\n",
              "         -0.0298,  0.0580, -0.0385, -0.0267, -0.0178, -0.0184, -0.0435, -0.0409,\n",
              "         -0.0207,  0.0620,  0.0022,  0.0333, -0.0263,  0.0529, -0.0108,  0.0544,\n",
              "         -0.0101, -0.0337, -0.0389,  0.0338,  0.0126, -0.0244, -0.0159, -0.0623,\n",
              "         -0.0327,  0.0163,  0.0337,  0.0481,  0.0232,  0.0303, -0.0175,  0.0219,\n",
              "         -0.0089, -0.0303, -0.0333,  0.0215,  0.0098, -0.0364, -0.0301,  0.0548,\n",
              "          0.0257, -0.0050,  0.0078, -0.0569,  0.0360,  0.0475,  0.0178,  0.0539,\n",
              "          0.0275, -0.0190,  0.0032, -0.0111, -0.0574,  0.0597, -0.0494,  0.0249,\n",
              "          0.0489,  0.0029, -0.0061, -0.0286,  0.0445,  0.0090, -0.0055, -0.0164],\n",
              "        requires_grad=True), Parameter containing:\n",
              " tensor([[-0.0759,  0.0340, -0.0737,  ..., -0.0325, -0.0749,  0.0161],\n",
              "         [ 0.0372, -0.0554,  0.0653,  ..., -0.0350, -0.0726, -0.0650],\n",
              "         [-0.0053, -0.0520,  0.0059,  ...,  0.0782, -0.0402,  0.0849],\n",
              "         ...,\n",
              "         [ 0.0510,  0.0088,  0.0464,  ...,  0.0163, -0.0270,  0.0451],\n",
              "         [ 0.0393,  0.0056,  0.0247,  ..., -0.0591,  0.0828, -0.0095],\n",
              "         [ 0.0329, -0.0568,  0.0772,  ..., -0.0561,  0.0700,  0.0656]],\n",
              "        requires_grad=True), Parameter containing:\n",
              " tensor([ 0.0516, -0.0150, -0.0396, -0.0206, -0.0811, -0.0566, -0.0443,  0.0791,\n",
              "          0.0512, -0.0648, -0.0656, -0.0420,  0.0502, -0.0171, -0.0884,  0.0045,\n",
              "          0.0047, -0.0226,  0.0618,  0.0659, -0.0233,  0.0793,  0.0137, -0.0716,\n",
              "         -0.0823, -0.0504,  0.0560, -0.0568, -0.0877, -0.0387,  0.0809,  0.0346,\n",
              "         -0.0771, -0.0761,  0.0097,  0.0153,  0.0500,  0.0287, -0.0573, -0.0291,\n",
              "         -0.0420,  0.0820, -0.0443, -0.0879, -0.0628, -0.0278,  0.0603, -0.0335,\n",
              "         -0.0131,  0.0628,  0.0109, -0.0436, -0.0142, -0.0063, -0.0415,  0.0465,\n",
              "         -0.0099, -0.0365, -0.0720,  0.0811, -0.0778,  0.0576,  0.0019, -0.0094],\n",
              "        requires_grad=True), Parameter containing:\n",
              " tensor([[-0.0690, -0.0502,  0.0791,  0.1175,  0.0049,  0.0097, -0.1192,  0.0989,\n",
              "          -0.0529,  0.0038, -0.1211, -0.0801, -0.0771, -0.0704,  0.0665, -0.0425,\n",
              "           0.0636,  0.0069,  0.0738,  0.0246,  0.0944,  0.0891,  0.1187, -0.0132,\n",
              "          -0.0651, -0.0778, -0.0719,  0.0064, -0.1220, -0.1199, -0.0615, -0.0497,\n",
              "          -0.0660, -0.1082,  0.0554, -0.1148, -0.0250,  0.0674, -0.0378,  0.0982,\n",
              "          -0.1062,  0.1202, -0.0217, -0.0263, -0.0684, -0.0976,  0.0190, -0.0213,\n",
              "          -0.0659,  0.0160, -0.0247,  0.0415, -0.0913, -0.0195, -0.0414,  0.0150,\n",
              "           0.0285, -0.0142, -0.0208,  0.0396,  0.1052, -0.0434, -0.0078, -0.0555],\n",
              "         [ 0.0055, -0.0003, -0.0553,  0.0388, -0.0339,  0.0164,  0.0728,  0.0380,\n",
              "          -0.0272,  0.0403,  0.0864,  0.1115, -0.0303, -0.0781,  0.1183, -0.0799,\n",
              "           0.1128, -0.1222, -0.1015,  0.1083, -0.0883, -0.0604,  0.1104,  0.0434,\n",
              "           0.0343, -0.0716,  0.0413,  0.0788, -0.0856, -0.0358, -0.0633, -0.0846,\n",
              "           0.0227, -0.1132,  0.0952,  0.0568,  0.0105,  0.0676, -0.0026, -0.1129,\n",
              "           0.1153, -0.0043,  0.0502, -0.1237,  0.0052, -0.1032, -0.0405,  0.0863,\n",
              "           0.1010,  0.0156,  0.0272,  0.0907,  0.0801,  0.0248, -0.0879,  0.0535,\n",
              "           0.0936,  0.0303, -0.0023,  0.0790,  0.1202,  0.1035,  0.0970, -0.0947]],\n",
              "        requires_grad=True), Parameter containing:\n",
              " tensor([-0.0486, -0.0815], requires_grad=True), Parameter containing:\n",
              " tensor([1., 1., 1., 1., 1., 1., 1., 1., 1., 1., 1., 1., 1., 1., 1., 1., 1., 1.,\n",
              "         1., 1., 1., 1., 1., 1., 1., 1., 1., 1., 1., 1., 1., 1., 1., 1., 1., 1.,\n",
              "         1., 1., 1., 1., 1., 1., 1., 1., 1., 1., 1., 1., 1., 1., 1., 1., 1., 1.,\n",
              "         1., 1., 1., 1., 1., 1., 1., 1., 1., 1., 1., 1., 1., 1., 1., 1., 1., 1.,\n",
              "         1., 1., 1., 1., 1., 1., 1., 1., 1., 1., 1., 1., 1., 1., 1., 1., 1., 1.,\n",
              "         1., 1., 1., 1., 1., 1., 1., 1., 1., 1., 1., 1., 1., 1., 1., 1., 1., 1.,\n",
              "         1., 1., 1., 1., 1., 1., 1., 1., 1., 1., 1., 1., 1., 1., 1., 1., 1., 1.,\n",
              "         1., 1., 1., 1., 1., 1., 1., 1., 1., 1., 1., 1., 1., 1., 1., 1., 1., 1.,\n",
              "         1., 1., 1., 1., 1., 1., 1., 1., 1., 1., 1., 1., 1., 1., 1., 1., 1., 1.,\n",
              "         1., 1., 1., 1., 1., 1., 1., 1., 1., 1., 1., 1., 1., 1., 1., 1., 1., 1.,\n",
              "         1., 1., 1., 1., 1., 1., 1., 1., 1., 1., 1., 1., 1., 1., 1., 1., 1., 1.,\n",
              "         1., 1., 1., 1., 1., 1., 1., 1., 1., 1., 1., 1., 1., 1., 1., 1., 1., 1.,\n",
              "         1., 1., 1., 1., 1., 1., 1., 1., 1., 1., 1., 1., 1., 1., 1., 1., 1., 1.,\n",
              "         1., 1., 1., 1., 1., 1., 1., 1., 1., 1., 1., 1., 1., 1., 1., 1., 1., 1.,\n",
              "         1., 1., 1., 1., 1., 1., 1., 1., 1., 1., 1., 1., 1., 1., 1., 1., 1., 1.,\n",
              "         1., 1., 1., 1., 1., 1., 1., 1., 1., 1., 1., 1., 1., 1., 1., 1., 1., 1.,\n",
              "         1., 1., 1., 1., 1., 1., 1., 1., 1., 1., 1., 1., 1., 1., 1., 1., 1., 1.,\n",
              "         1., 1., 1., 1., 1., 1., 1., 1., 1., 1., 1., 1., 1., 1., 1., 1., 1., 1.,\n",
              "         1., 1., 1., 1., 1., 1., 1., 1., 1., 1., 1., 1., 1., 1., 1., 1., 1., 1.,\n",
              "         1., 1., 1., 1., 1., 1., 1., 1., 1., 1., 1., 1., 1., 1., 1., 1., 1., 1.,\n",
              "         1., 1., 1., 1., 1., 1., 1., 1., 1., 1., 1., 1., 1., 1., 1., 1., 1., 1.,\n",
              "         1., 1., 1., 1., 1., 1., 1., 1., 1., 1., 1., 1., 1., 1., 1., 1., 1., 1.,\n",
              "         1., 1., 1., 1., 1., 1., 1., 1., 1., 1., 1., 1., 1., 1., 1., 1., 1., 1.,\n",
              "         1., 1., 1., 1., 1., 1., 1., 1., 1., 1., 1., 1., 1., 1., 1., 1., 1., 1.,\n",
              "         1., 1., 1., 1., 1., 1., 1., 1., 1., 1., 1., 1., 1., 1., 1., 1., 1., 1.,\n",
              "         1., 1., 1., 1., 1., 1., 1., 1., 1., 1., 1., 1., 1., 1., 1., 1., 1., 1.,\n",
              "         1., 1., 1., 1., 1., 1., 1., 1., 1., 1., 1., 1., 1., 1., 1., 1., 1., 1.,\n",
              "         1., 1., 1., 1., 1., 1., 1., 1., 1., 1., 1., 1., 1., 1., 1., 1., 1., 1.,\n",
              "         1., 1., 1., 1., 1., 1., 1., 1.], requires_grad=True), Parameter containing:\n",
              " tensor([0., 0., 0., 0., 0., 0., 0., 0., 0., 0., 0., 0., 0., 0., 0., 0., 0., 0., 0., 0., 0., 0., 0., 0.,\n",
              "         0., 0., 0., 0., 0., 0., 0., 0., 0., 0., 0., 0., 0., 0., 0., 0., 0., 0., 0., 0., 0., 0., 0., 0.,\n",
              "         0., 0., 0., 0., 0., 0., 0., 0., 0., 0., 0., 0., 0., 0., 0., 0., 0., 0., 0., 0., 0., 0., 0., 0.,\n",
              "         0., 0., 0., 0., 0., 0., 0., 0., 0., 0., 0., 0., 0., 0., 0., 0., 0., 0., 0., 0., 0., 0., 0., 0.,\n",
              "         0., 0., 0., 0., 0., 0., 0., 0., 0., 0., 0., 0., 0., 0., 0., 0., 0., 0., 0., 0., 0., 0., 0., 0.,\n",
              "         0., 0., 0., 0., 0., 0., 0., 0., 0., 0., 0., 0., 0., 0., 0., 0., 0., 0., 0., 0., 0., 0., 0., 0.,\n",
              "         0., 0., 0., 0., 0., 0., 0., 0., 0., 0., 0., 0., 0., 0., 0., 0., 0., 0., 0., 0., 0., 0., 0., 0.,\n",
              "         0., 0., 0., 0., 0., 0., 0., 0., 0., 0., 0., 0., 0., 0., 0., 0., 0., 0., 0., 0., 0., 0., 0., 0.,\n",
              "         0., 0., 0., 0., 0., 0., 0., 0., 0., 0., 0., 0., 0., 0., 0., 0., 0., 0., 0., 0., 0., 0., 0., 0.,\n",
              "         0., 0., 0., 0., 0., 0., 0., 0., 0., 0., 0., 0., 0., 0., 0., 0., 0., 0., 0., 0., 0., 0., 0., 0.,\n",
              "         0., 0., 0., 0., 0., 0., 0., 0., 0., 0., 0., 0., 0., 0., 0., 0., 0., 0., 0., 0., 0., 0., 0., 0.,\n",
              "         0., 0., 0., 0., 0., 0., 0., 0., 0., 0., 0., 0., 0., 0., 0., 0., 0., 0., 0., 0., 0., 0., 0., 0.,\n",
              "         0., 0., 0., 0., 0., 0., 0., 0., 0., 0., 0., 0., 0., 0., 0., 0., 0., 0., 0., 0., 0., 0., 0., 0.,\n",
              "         0., 0., 0., 0., 0., 0., 0., 0., 0., 0., 0., 0., 0., 0., 0., 0., 0., 0., 0., 0., 0., 0., 0., 0.,\n",
              "         0., 0., 0., 0., 0., 0., 0., 0., 0., 0., 0., 0., 0., 0., 0., 0., 0., 0., 0., 0., 0., 0., 0., 0.,\n",
              "         0., 0., 0., 0., 0., 0., 0., 0., 0., 0., 0., 0., 0., 0., 0., 0., 0., 0., 0., 0., 0., 0., 0., 0.,\n",
              "         0., 0., 0., 0., 0., 0., 0., 0., 0., 0., 0., 0., 0., 0., 0., 0., 0., 0., 0., 0., 0., 0., 0., 0.,\n",
              "         0., 0., 0., 0., 0., 0., 0., 0., 0., 0., 0., 0., 0., 0., 0., 0., 0., 0., 0., 0., 0., 0., 0., 0.,\n",
              "         0., 0., 0., 0., 0., 0., 0., 0., 0., 0., 0., 0., 0., 0., 0., 0., 0., 0., 0., 0., 0., 0., 0., 0.,\n",
              "         0., 0., 0., 0., 0., 0., 0., 0., 0., 0., 0., 0., 0., 0., 0., 0., 0., 0., 0., 0., 0., 0., 0., 0.,\n",
              "         0., 0., 0., 0., 0., 0., 0., 0., 0., 0., 0., 0., 0., 0., 0., 0., 0., 0., 0., 0., 0., 0., 0., 0.,\n",
              "         0., 0., 0., 0., 0., 0., 0., 0.], requires_grad=True), Parameter containing:\n",
              " tensor([1., 1., 1., 1., 1., 1., 1., 1., 1., 1., 1., 1., 1., 1., 1., 1., 1., 1.,\n",
              "         1., 1., 1., 1., 1., 1., 1., 1., 1., 1., 1., 1., 1., 1., 1., 1., 1., 1.,\n",
              "         1., 1., 1., 1., 1., 1., 1., 1., 1., 1., 1., 1., 1., 1., 1., 1., 1., 1.,\n",
              "         1., 1., 1., 1., 1., 1., 1., 1., 1., 1., 1., 1., 1., 1., 1., 1., 1., 1.,\n",
              "         1., 1., 1., 1., 1., 1., 1., 1., 1., 1., 1., 1., 1., 1., 1., 1., 1., 1.,\n",
              "         1., 1., 1., 1., 1., 1., 1., 1., 1., 1., 1., 1., 1., 1., 1., 1., 1., 1.,\n",
              "         1., 1., 1., 1., 1., 1., 1., 1., 1., 1., 1., 1., 1., 1., 1., 1., 1., 1.,\n",
              "         1., 1., 1., 1., 1., 1., 1., 1., 1., 1., 1., 1., 1., 1., 1., 1., 1., 1.,\n",
              "         1., 1., 1., 1., 1., 1., 1., 1., 1., 1., 1., 1., 1., 1., 1., 1., 1., 1.,\n",
              "         1., 1., 1., 1., 1., 1., 1., 1., 1., 1., 1., 1., 1., 1., 1., 1., 1., 1.,\n",
              "         1., 1., 1., 1., 1., 1., 1., 1., 1., 1., 1., 1., 1., 1., 1., 1., 1., 1.,\n",
              "         1., 1., 1., 1., 1., 1., 1., 1., 1., 1., 1., 1., 1., 1., 1., 1., 1., 1.,\n",
              "         1., 1., 1., 1., 1., 1., 1., 1., 1., 1., 1., 1., 1., 1., 1., 1., 1., 1.,\n",
              "         1., 1., 1., 1., 1., 1., 1., 1., 1., 1., 1., 1., 1., 1., 1., 1., 1., 1.,\n",
              "         1., 1., 1., 1.], requires_grad=True), Parameter containing:\n",
              " tensor([0., 0., 0., 0., 0., 0., 0., 0., 0., 0., 0., 0., 0., 0., 0., 0., 0., 0., 0., 0., 0., 0., 0., 0.,\n",
              "         0., 0., 0., 0., 0., 0., 0., 0., 0., 0., 0., 0., 0., 0., 0., 0., 0., 0., 0., 0., 0., 0., 0., 0.,\n",
              "         0., 0., 0., 0., 0., 0., 0., 0., 0., 0., 0., 0., 0., 0., 0., 0., 0., 0., 0., 0., 0., 0., 0., 0.,\n",
              "         0., 0., 0., 0., 0., 0., 0., 0., 0., 0., 0., 0., 0., 0., 0., 0., 0., 0., 0., 0., 0., 0., 0., 0.,\n",
              "         0., 0., 0., 0., 0., 0., 0., 0., 0., 0., 0., 0., 0., 0., 0., 0., 0., 0., 0., 0., 0., 0., 0., 0.,\n",
              "         0., 0., 0., 0., 0., 0., 0., 0., 0., 0., 0., 0., 0., 0., 0., 0., 0., 0., 0., 0., 0., 0., 0., 0.,\n",
              "         0., 0., 0., 0., 0., 0., 0., 0., 0., 0., 0., 0., 0., 0., 0., 0., 0., 0., 0., 0., 0., 0., 0., 0.,\n",
              "         0., 0., 0., 0., 0., 0., 0., 0., 0., 0., 0., 0., 0., 0., 0., 0., 0., 0., 0., 0., 0., 0., 0., 0.,\n",
              "         0., 0., 0., 0., 0., 0., 0., 0., 0., 0., 0., 0., 0., 0., 0., 0., 0., 0., 0., 0., 0., 0., 0., 0.,\n",
              "         0., 0., 0., 0., 0., 0., 0., 0., 0., 0., 0., 0., 0., 0., 0., 0., 0., 0., 0., 0., 0., 0., 0., 0.,\n",
              "         0., 0., 0., 0., 0., 0., 0., 0., 0., 0., 0., 0., 0., 0., 0., 0.],\n",
              "        requires_grad=True), Parameter containing:\n",
              " tensor([1., 1., 1., 1., 1., 1., 1., 1., 1., 1., 1., 1., 1., 1., 1., 1., 1., 1.,\n",
              "         1., 1., 1., 1., 1., 1., 1., 1., 1., 1., 1., 1., 1., 1., 1., 1., 1., 1.,\n",
              "         1., 1., 1., 1., 1., 1., 1., 1., 1., 1., 1., 1., 1., 1., 1., 1., 1., 1.,\n",
              "         1., 1., 1., 1., 1., 1., 1., 1., 1., 1., 1., 1., 1., 1., 1., 1., 1., 1.,\n",
              "         1., 1., 1., 1., 1., 1., 1., 1., 1., 1., 1., 1., 1., 1., 1., 1., 1., 1.,\n",
              "         1., 1., 1., 1., 1., 1., 1., 1., 1., 1., 1., 1., 1., 1., 1., 1., 1., 1.,\n",
              "         1., 1., 1., 1., 1., 1., 1., 1., 1., 1., 1., 1., 1., 1., 1., 1., 1., 1.,\n",
              "         1., 1.], requires_grad=True), Parameter containing:\n",
              " tensor([0., 0., 0., 0., 0., 0., 0., 0., 0., 0., 0., 0., 0., 0., 0., 0., 0., 0., 0., 0., 0., 0., 0., 0.,\n",
              "         0., 0., 0., 0., 0., 0., 0., 0., 0., 0., 0., 0., 0., 0., 0., 0., 0., 0., 0., 0., 0., 0., 0., 0.,\n",
              "         0., 0., 0., 0., 0., 0., 0., 0., 0., 0., 0., 0., 0., 0., 0., 0., 0., 0., 0., 0., 0., 0., 0., 0.,\n",
              "         0., 0., 0., 0., 0., 0., 0., 0., 0., 0., 0., 0., 0., 0., 0., 0., 0., 0., 0., 0., 0., 0., 0., 0.,\n",
              "         0., 0., 0., 0., 0., 0., 0., 0., 0., 0., 0., 0., 0., 0., 0., 0., 0., 0., 0., 0., 0., 0., 0., 0.,\n",
              "         0., 0., 0., 0., 0., 0., 0., 0.], requires_grad=True)]"
            ]
          },
          "metadata": {},
          "execution_count": 246
        }
      ]
    },
    {
      "cell_type": "code",
      "source": [
        "opt = Adam(dnn_model.parameters(),lr=0.001)"
      ],
      "metadata": {
        "id": "HIPhCji9dIoF"
      },
      "execution_count": null,
      "outputs": []
    },
    {
      "cell_type": "code",
      "source": [
        "device = torch.device(\"cuda\" if torch.cuda.is_available() else \"cpu\")\n",
        "device"
      ],
      "metadata": {
        "colab": {
          "base_uri": "https://localhost:8080/"
        },
        "id": "ajCgNcmadMX_",
        "outputId": "48149933-63ae-42d4-d6b4-aa56c780363f"
      },
      "execution_count": null,
      "outputs": [
        {
          "output_type": "execute_result",
          "data": {
            "text/plain": [
              "device(type='cuda')"
            ]
          },
          "metadata": {},
          "execution_count": 248
        }
      ]
    },
    {
      "cell_type": "code",
      "source": [
        "dnn_model = dnn_model.to(device)"
      ],
      "metadata": {
        "id": "GFxbFT-WdSFW"
      },
      "execution_count": null,
      "outputs": []
    },
    {
      "cell_type": "code",
      "source": [
        "#y_train.int()"
      ],
      "metadata": {
        "id": "d8tJFbkHVSRS"
      },
      "execution_count": null,
      "outputs": []
    },
    {
      "cell_type": "code",
      "source": [
        "n_epochs=6\n",
        "for epoch in range(n_epochs):\n",
        "  training_loss=0.0\n",
        "  \n",
        "  for batch, target in train_loader:\n",
        "    batch = batch.float().to(\"cuda\")\n",
        "    target = target.to(\"cuda\")\n",
        "    #print(target)\n",
        "    opt.zero_grad()\n",
        "    output=dnn_model(batch)\n",
        "    # print(target)\n",
        "    loss=F.cross_entropy(output, target.long())\n",
        "    # print(loss)\n",
        "    loss.backward()\n",
        "    opt.step()\n",
        "    training_loss+=loss.item()\n",
        "    \n",
        "  val_loss=0.0\n",
        "  for val_batch,val_target in test_loader:\n",
        "    val_batch = val_batch.to(device)\n",
        "    val_target = val_target.type(torch.LongTensor)\n",
        "    val_target = val_target.to(device)\n",
        "    pred=dnn_model(val_batch)\n",
        "    loss_val=F.cross_entropy(pred,val_target)\n",
        "    val_loss+=loss_val.item()\n",
        "  if(epoch+1)%5==0:\n",
        "    print(f\"Training loss:{training_loss}\")\n",
        "    print(f\"Test loss:{val_loss}\")\n",
        "  "
      ],
      "metadata": {
        "colab": {
          "base_uri": "https://localhost:8080/"
        },
        "id": "ExLFnVWVisVd",
        "outputId": "78a0cb51-7071-4fb3-93ee-b24fc060e8dd"
      },
      "execution_count": null,
      "outputs": [
        {
          "output_type": "stream",
          "name": "stdout",
          "text": [
            "Training loss:373.5493873357773\n",
            "Test loss:152.07396049052477\n"
          ]
        }
      ]
    },
    {
      "cell_type": "code",
      "source": [],
      "metadata": {
        "id": "vw8qJojSvuKV"
      },
      "execution_count": null,
      "outputs": []
    }
  ]
}