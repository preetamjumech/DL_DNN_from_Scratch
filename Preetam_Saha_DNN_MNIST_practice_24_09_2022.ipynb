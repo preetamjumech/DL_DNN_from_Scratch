{
  "nbformat": 4,
  "nbformat_minor": 0,
  "metadata": {
    "colab": {
      "provenance": [],
      "collapsed_sections": [],
      "authorship_tag": "ABX9TyMvnYnJNcXiCBrC7t9RFI/7",
      "include_colab_link": true
    },
    "kernelspec": {
      "name": "python3",
      "display_name": "Python 3"
    },
    "language_info": {
      "name": "python"
    },
    "accelerator": "GPU"
  },
  "cells": [
    {
      "cell_type": "markdown",
      "metadata": {
        "id": "view-in-github",
        "colab_type": "text"
      },
      "source": [
        "<a href=\"https://colab.research.google.com/github/preetamjumech/DL_DNN_from_Scratch/blob/main/Preetam_Saha_DNN_MNIST_practice_24_09_2022.ipynb\" target=\"_parent\"><img src=\"https://colab.research.google.com/assets/colab-badge.svg\" alt=\"Open In Colab\"/></a>"
      ]
    },
    {
      "cell_type": "code",
      "execution_count": 1,
      "metadata": {
        "colab": {
          "base_uri": "https://localhost:8080/"
        },
        "id": "tCtVU7yt3Dnw",
        "outputId": "f7fa233a-d7ef-46ce-fc04-54344e4eb47d"
      },
      "outputs": [
        {
          "output_type": "stream",
          "name": "stdout",
          "text": [
            "--2022-09-24 10:34:15--  https://github.com/MorvanZhou/PyTorch-Tutorial/raw/master/tutorial-contents-notebooks/mnist/processed/training.pt\n",
            "Resolving github.com (github.com)... 140.82.114.3\n",
            "Connecting to github.com (github.com)|140.82.114.3|:443... connected.\n",
            "HTTP request sent, awaiting response... 302 Found\n",
            "Location: https://raw.githubusercontent.com/MorvanZhou/PyTorch-Tutorial/master/tutorial-contents-notebooks/mnist/processed/training.pt [following]\n",
            "--2022-09-24 10:34:15--  https://raw.githubusercontent.com/MorvanZhou/PyTorch-Tutorial/master/tutorial-contents-notebooks/mnist/processed/training.pt\n",
            "Resolving raw.githubusercontent.com (raw.githubusercontent.com)... 185.199.109.133, 185.199.108.133, 185.199.110.133, ...\n",
            "Connecting to raw.githubusercontent.com (raw.githubusercontent.com)|185.199.109.133|:443... connected.\n",
            "HTTP request sent, awaiting response... 200 OK\n",
            "Length: 47520431 (45M) [application/octet-stream]\n",
            "Saving to: ‘training.pt.1’\n",
            "\n",
            "training.pt.1       100%[===================>]  45.32M  --.-KB/s    in 0.1s    \n",
            "\n",
            "2022-09-24 10:34:15 (335 MB/s) - ‘training.pt.1’ saved [47520431/47520431]\n",
            "\n",
            "--2022-09-24 10:34:15--  https://github.com/MorvanZhou/PyTorch-Tutorial/raw/master/tutorial-contents-notebooks/mnist/processed/test.pt\n",
            "Resolving github.com (github.com)... 140.82.113.3\n",
            "Connecting to github.com (github.com)|140.82.113.3|:443... connected.\n",
            "HTTP request sent, awaiting response... 302 Found\n",
            "Location: https://raw.githubusercontent.com/MorvanZhou/PyTorch-Tutorial/master/tutorial-contents-notebooks/mnist/processed/test.pt [following]\n",
            "--2022-09-24 10:34:16--  https://raw.githubusercontent.com/MorvanZhou/PyTorch-Tutorial/master/tutorial-contents-notebooks/mnist/processed/test.pt\n",
            "Resolving raw.githubusercontent.com (raw.githubusercontent.com)... 185.199.108.133, 185.199.109.133, 185.199.110.133, ...\n",
            "Connecting to raw.githubusercontent.com (raw.githubusercontent.com)|185.199.108.133|:443... connected.\n",
            "HTTP request sent, awaiting response... 200 OK\n",
            "Length: 7920431 (7.6M) [application/octet-stream]\n",
            "Saving to: ‘test.pt.1’\n",
            "\n",
            "test.pt.1           100%[===================>]   7.55M  --.-KB/s    in 0.02s   \n",
            "\n",
            "2022-09-24 10:34:16 (326 MB/s) - ‘test.pt.1’ saved [7920431/7920431]\n",
            "\n"
          ]
        }
      ],
      "source": [
        "!wget https://github.com/MorvanZhou/PyTorch-Tutorial/raw/master/tutorial-contents-notebooks/mnist/processed/training.pt\n",
        "!wget https://github.com/MorvanZhou/PyTorch-Tutorial/raw/master/tutorial-contents-notebooks/mnist/processed/test.pt"
      ]
    },
    {
      "cell_type": "code",
      "source": [
        "import torch, torchsummary\n",
        "import numpy as np\n",
        "import matplotlib.pyplot as plt\n",
        "import torch.nn as nn\n",
        "import torch.nn.functional as F\n",
        "from torch.optim import Adam\n",
        "from torch.nn.modules import dropout"
      ],
      "metadata": {
        "id": "BGGetjxW3b79"
      },
      "execution_count": 2,
      "outputs": []
    },
    {
      "cell_type": "code",
      "source": [
        "(x_train,y_train) = torch.load(\"training.pt\")"
      ],
      "metadata": {
        "id": "QFuTU3ob4DrE"
      },
      "execution_count": 3,
      "outputs": []
    },
    {
      "cell_type": "code",
      "source": [
        "x_train.shape"
      ],
      "metadata": {
        "colab": {
          "base_uri": "https://localhost:8080/"
        },
        "id": "_c-NyanO4L6N",
        "outputId": "204f1e80-59c1-47a0-fd88-486efbdd6ad7"
      },
      "execution_count": 4,
      "outputs": [
        {
          "output_type": "execute_result",
          "data": {
            "text/plain": [
              "torch.Size([60000, 28, 28])"
            ]
          },
          "metadata": {},
          "execution_count": 4
        }
      ]
    },
    {
      "cell_type": "code",
      "source": [
        "y_train.shape"
      ],
      "metadata": {
        "colab": {
          "base_uri": "https://localhost:8080/"
        },
        "id": "62K59X9S4N1K",
        "outputId": "339015cd-212a-4e31-a735-c6234dc4d4e2"
      },
      "execution_count": 5,
      "outputs": [
        {
          "output_type": "execute_result",
          "data": {
            "text/plain": [
              "torch.Size([60000])"
            ]
          },
          "metadata": {},
          "execution_count": 5
        }
      ]
    },
    {
      "cell_type": "code",
      "source": [
        "from google.colab.patches import cv2_imshow"
      ],
      "metadata": {
        "id": "B4WE3wci4PcR"
      },
      "execution_count": 6,
      "outputs": []
    },
    {
      "cell_type": "code",
      "source": [
        "for i in range(20):\n",
        "  plt.subplot(10,2,i+1)\n",
        "  plt.axis(\"off\")\n",
        "  plt.imshow(x_train[i].numpy())"
      ],
      "metadata": {
        "colab": {
          "base_uri": "https://localhost:8080/",
          "height": 248
        },
        "id": "KfrekDCz4bIl",
        "outputId": "c68a81a7-f49b-48e4-e7fb-635a242fa471"
      },
      "execution_count": 7,
      "outputs": [
        {
          "output_type": "display_data",
          "data": {
            "text/plain": [
              "<Figure size 432x288 with 20 Axes>"
            ],
            "image/png": "[encoded data removed]"
          },
          "metadata": {
            "needs_background": "light"
          }
        }
      ]
    },
    {
      "cell_type": "code",
      "source": [
        "plt.imshow(x_train[5])"
      ],
      "metadata": {
        "colab": {
          "base_uri": "https://localhost:8080/",
          "height": 282
        },
        "id": "ZgNDllGr4pQM",
        "outputId": "704e2762-5b72-4828-8843-a213a2810499"
      },
      "execution_count": 8,
      "outputs": [
        {
          "output_type": "execute_result",
          "data": {
            "text/plain": [
              "<matplotlib.image.AxesImage at 0x7f517fbd4690>"
            ]
          },
          "metadata": {},
          "execution_count": 8
        },
        {
          "output_type": "display_data",
          "data": {
            "text/plain": [
              "<Figure size 432x288 with 1 Axes>"
            ],
            "image/png": "[encoded data removed]"
          },
          "metadata": {
            "needs_background": "light"
          }
        }
      ]
    },
    {
      "cell_type": "code",
      "source": [
        "plt.imshow(x_train[5].numpy())"
      ],
      "metadata": {
        "colab": {
          "base_uri": "https://localhost:8080/",
          "height": 282
        },
        "id": "Uin56ir65AeM",
        "outputId": "c01e3f4c-784c-4f06-c8dd-7e40d5caf482"
      },
      "execution_count": 9,
      "outputs": [
        {
          "output_type": "execute_result",
          "data": {
            "text/plain": [
              "<matplotlib.image.AxesImage at 0x7f517f31fbd0>"
            ]
          },
          "metadata": {},
          "execution_count": 9
        },
        {
          "output_type": "display_data",
          "data": {
            "text/plain": [
              "<Figure size 432x288 with 1 Axes>"
            ],
            "image/png": "[encoded data removed]"
          },
          "metadata": {
            "needs_background": "light"
          }
        }
      ]
    },
    {
      "cell_type": "code",
      "source": [
        "x_train = x_train.reshape(-1,28*28)"
      ],
      "metadata": {
        "id": "UHmjt3o_5IhP"
      },
      "execution_count": 10,
      "outputs": []
    },
    {
      "cell_type": "code",
      "source": [
        "x_train.shape"
      ],
      "metadata": {
        "colab": {
          "base_uri": "https://localhost:8080/"
        },
        "id": "fq9NO1Bw5QYo",
        "outputId": "35dc9bb2-5323-43b5-8174-64c50c6ff8ef"
      },
      "execution_count": 11,
      "outputs": [
        {
          "output_type": "execute_result",
          "data": {
            "text/plain": [
              "torch.Size([60000, 784])"
            ]
          },
          "metadata": {},
          "execution_count": 11
        }
      ]
    },
    {
      "cell_type": "code",
      "source": [
        "(x_test, y_test) = torch.load(\"test.pt\")"
      ],
      "metadata": {
        "id": "Gwu1E6Jk5XJI"
      },
      "execution_count": 12,
      "outputs": []
    },
    {
      "cell_type": "code",
      "source": [
        "x_test.shape"
      ],
      "metadata": {
        "colab": {
          "base_uri": "https://localhost:8080/"
        },
        "id": "-4ppgLU75mv_",
        "outputId": "6feaff8d-b916-4aea-9c91-9d749549c6a8"
      },
      "execution_count": 13,
      "outputs": [
        {
          "output_type": "execute_result",
          "data": {
            "text/plain": [
              "torch.Size([10000, 28, 28])"
            ]
          },
          "metadata": {},
          "execution_count": 13
        }
      ]
    },
    {
      "cell_type": "code",
      "source": [
        "y_test.shape"
      ],
      "metadata": {
        "colab": {
          "base_uri": "https://localhost:8080/"
        },
        "id": "XDQbhYio5nqb",
        "outputId": "e1d15cb4-8aa1-4fe3-c267-bd6479bbfc03"
      },
      "execution_count": 14,
      "outputs": [
        {
          "output_type": "execute_result",
          "data": {
            "text/plain": [
              "torch.Size([10000])"
            ]
          },
          "metadata": {},
          "execution_count": 14
        }
      ]
    },
    {
      "cell_type": "code",
      "source": [
        "x_test = x_test.reshape(-1,28*28)"
      ],
      "metadata": {
        "id": "bQd4ksK05pP1"
      },
      "execution_count": 15,
      "outputs": []
    },
    {
      "cell_type": "code",
      "source": [
        "x_test.shape"
      ],
      "metadata": {
        "colab": {
          "base_uri": "https://localhost:8080/"
        },
        "id": "4GeiogwM54eD",
        "outputId": "be629167-f12f-44ac-a60c-bd34959aa558"
      },
      "execution_count": 16,
      "outputs": [
        {
          "output_type": "execute_result",
          "data": {
            "text/plain": [
              "torch.Size([10000, 784])"
            ]
          },
          "metadata": {},
          "execution_count": 16
        }
      ]
    },
    {
      "cell_type": "code",
      "source": [
        "from torch.utils.data import DataLoader, TensorDataset"
      ],
      "metadata": {
        "id": "teT6yiX_6ELM"
      },
      "execution_count": 17,
      "outputs": []
    },
    {
      "cell_type": "code",
      "source": [
        "train_loader = DataLoader(TensorDataset(x_train.float(),y_train),\n",
        "                          batch_size=64,shuffle=True)\n",
        "val_loader = DataLoader(TensorDataset(x_test.float(),y_test),\n",
        "                        batch_size=32,shuffle=False)"
      ],
      "metadata": {
        "id": "9WcG6clXAERz"
      },
      "execution_count": 18,
      "outputs": []
    },
    {
      "cell_type": "code",
      "source": [
        "class DNN_MNIST(nn.Module):\n",
        "  def __init__(self):\n",
        "    super(DNN_MNIST,self).__init__()\n",
        "\n",
        "    self.h1 = nn.Linear(in_features=28*28, out_features = 512)\n",
        "    self.h2 = nn.Linear(in_features=512, out_features = 256)\n",
        "    self.h3 = nn.Linear(in_features=256, out_features = 128)\n",
        "    self.h4 = nn.Linear(in_features=128, out_features = 64)\n",
        "    self.out = nn.Linear(in_features=64, out_features = 10)\n",
        "    self.bn1 = nn.BatchNorm1d(num_features=512)\n",
        "    self.bn2 = nn.BatchNorm1d(num_features=256)\n",
        "    self.bn3 = nn.BatchNorm1d(num_features=128)\n",
        "    self.dropout = nn.Dropout(p=0.4)\n",
        "\n",
        "  def forward(self,x):\n",
        "    x = F.relu(self.h1(x))\n",
        "    x = self.bn1(x)\n",
        "    x = self.dropout(x)\n",
        "\n",
        "    x = F.relu(self.h2(x))\n",
        "    x = self.bn2(x)\n",
        "    x = self.dropout(x)\n",
        "\n",
        "    x = F.relu(self.h3(x))\n",
        "    x = self.bn3(x)\n",
        "    x = self.dropout(x)\n",
        "\n",
        "    x = F.relu(self.h4(x))\n",
        "    x = self.dropout(x)\n",
        "\n",
        "    x = F.relu(self.out(x))\n",
        "    return x\n",
        "\n",
        "\n"
      ],
      "metadata": {
        "id": "XU-B_MgE6SSe"
      },
      "execution_count": 40,
      "outputs": []
    },
    {
      "cell_type": "code",
      "source": [
        "dnn_model = DNN_MNIST()"
      ],
      "metadata": {
        "id": "Jb39hN4P-inI"
      },
      "execution_count": 41,
      "outputs": []
    },
    {
      "cell_type": "code",
      "source": [
        "list(dnn_model.parameters())"
      ],
      "metadata": {
        "id": "CAqTRIWk-2Zv"
      },
      "execution_count": null,
      "outputs": []
    },
    {
      "cell_type": "code",
      "source": [
        "opt = Adam(dnn_model.parameters(),lr=0.001)"
      ],
      "metadata": {
        "id": "a1N4jIPw-8Pe"
      },
      "execution_count": 43,
      "outputs": []
    },
    {
      "cell_type": "code",
      "source": [
        "device = torch.device(\"cuda\" if torch.cuda.is_available() else \"cpu\")\n",
        "device"
      ],
      "metadata": {
        "colab": {
          "base_uri": "https://localhost:8080/"
        },
        "id": "VJHwDiir_Kql",
        "outputId": "9469cc07-1c38-481c-b4ce-cb34a17d583d"
      },
      "execution_count": 44,
      "outputs": [
        {
          "output_type": "execute_result",
          "data": {
            "text/plain": [
              "device(type='cuda')"
            ]
          },
          "metadata": {},
          "execution_count": 44
        }
      ]
    },
    {
      "cell_type": "code",
      "source": [
        "dnn_model = dnn_model.to(device)"
      ],
      "metadata": {
        "id": "30909G00_dFg"
      },
      "execution_count": 45,
      "outputs": []
    },
    {
      "cell_type": "code",
      "source": [
        "for epoch in range(30):\n",
        "  training_loss = 0.0\n",
        "\n",
        "  for batch, target in train_loader:\n",
        "    batch = batch.to(device)\n",
        "    target = target.to(device)\n",
        "\n",
        "    opt.zero_grad()\n",
        "    output = dnn_model(batch)\n",
        "    loss = F.cross_entropy(output,target)\n",
        "    loss.backward()\n",
        "    opt.step()\n",
        "    training_loss += loss.item()\n",
        "\n",
        "\n",
        "  val_loss =0.0\n",
        "\n",
        "  for val_batch,val_target in val_loader:\n",
        "    val_batch = val_batch.to(device)\n",
        "    val_target = val_target.to(device)\n",
        "\n",
        "    pred = dnn_model(val_batch)\n",
        "    loss_val = F.cross_entropy(pred,val_target)\n",
        "    val_loss += loss_val.item()\n",
        "\n",
        "  if (epoch+1) % 5 ==0:\n",
        "    print(f\"Training Loss: {training_loss}\")\n",
        "    print(f\"Test Loss: {val_loss}\")"
      ],
      "metadata": {
        "colab": {
          "base_uri": "https://localhost:8080/"
        },
        "id": "X4OBgoyf_v6i",
        "outputId": "8a21fe37-f66d-432b-c4be-5b33332fa2d6"
      },
      "execution_count": 46,
      "outputs": [
        {
          "output_type": "stream",
          "name": "stdout",
          "text": [
            "Training Loss: 137.9378000292927\n",
            "Test Loss: 60.4954304988496\n",
            "Training Loss: 103.1808210639283\n",
            "Test Loss: 56.04957369924523\n",
            "Training Loss: 82.78639034321532\n",
            "Test Loss: 49.227158641966525\n",
            "Training Loss: 71.66335741733201\n",
            "Test Loss: 49.35734463640256\n",
            "Training Loss: 63.77008862164803\n",
            "Test Loss: 48.98031837126473\n",
            "Training Loss: 54.200226937420666\n",
            "Test Loss: 49.37964181636926\n"
          ]
        }
      ]
    },
    {
      "cell_type": "code",
      "source": [
        "final_pred_vals = dnn_model(x_test.float().to(device)).detach().cpu().numpy()"
      ],
      "metadata": {
        "id": "5bnTf6XPFw3Q"
      },
      "execution_count": 47,
      "outputs": []
    },
    {
      "cell_type": "code",
      "source": [
        "final_pred_vals[0]"
      ],
      "metadata": {
        "colab": {
          "base_uri": "https://localhost:8080/"
        },
        "id": "30-uy2PvGE4V",
        "outputId": "859fc427-baf0-4522-8195-b68083cfdaee"
      },
      "execution_count": 51,
      "outputs": [
        {
          "output_type": "execute_result",
          "data": {
            "text/plain": [
              "array([ 0.        ,  6.571716  ,  0.        ,  5.781776  ,  0.        ,\n",
              "        0.54756397,  0.        , 14.82646   ,  1.7388761 ,  7.4247947 ],\n",
              "      dtype=float32)"
            ]
          },
          "metadata": {},
          "execution_count": 51
        }
      ]
    },
    {
      "cell_type": "code",
      "source": [
        "preds = np.argmax(final_pred_vals,axis=1)"
      ],
      "metadata": {
        "id": "7vb6kP09FcOp"
      },
      "execution_count": 48,
      "outputs": []
    },
    {
      "cell_type": "code",
      "source": [
        "preds[0]"
      ],
      "metadata": {
        "colab": {
          "base_uri": "https://localhost:8080/"
        },
        "id": "R2naE6bIGMhF",
        "outputId": "f30303a9-c96b-4df3-8f8b-8ea4e16ec110"
      },
      "execution_count": 52,
      "outputs": [
        {
          "output_type": "execute_result",
          "data": {
            "text/plain": [
              "7"
            ]
          },
          "metadata": {},
          "execution_count": 52
        }
      ]
    },
    {
      "cell_type": "code",
      "source": [
        "import pandas as pd"
      ],
      "metadata": {
        "id": "Of6SIZ-uF8ha"
      },
      "execution_count": 49,
      "outputs": []
    },
    {
      "cell_type": "code",
      "source": [
        "pd.crosstab(preds,y_test.numpy())"
      ],
      "metadata": {
        "colab": {
          "base_uri": "https://localhost:8080/",
          "height": 394
        },
        "id": "9dDqWe7iF8kq",
        "outputId": "9bffc81c-54b9-4252-c2b1-362b2e250d8a"
      },
      "execution_count": 53,
      "outputs": [
        {
          "output_type": "execute_result",
          "data": {
            "text/plain": [
              "col_0    0     1     2    3    4    5    6    7    8    9\n",
              "row_0                                                    \n",
              "0      964     0     6    1    2    2    4    2    2    3\n",
              "1        0  1120     1    0    0    0    2    2    2    2\n",
              "2        2     2  1005    4    4    1    1   14    3    0\n",
              "3        2     0     4  985    0    9    1    4    5    2\n",
              "4        1     0     1    0  955    0    3    2    2    8\n",
              "5        2     2     0   14    0  869    6    0    7    6\n",
              "6        5     3     1    0    2    5  940    0    5    0\n",
              "7        1     2     5    2    1    2    0  994    2    3\n",
              "8        1     6     9    2    2    1    1    2  943    6\n",
              "9        2     0     0    2   16    3    0    8    3  979"
            ],
            "text/html": [
              "\n",
              "  <div id=\"df-98c8a50b-db2d-42d3-a3b2-09ff96257225\">\n",
              "    <div class=\"colab-df-container\">\n",
              "      <div>\n",
              "<style scoped>\n",
              "    .dataframe tbody tr th:only-of-type {\n",
              "        vertical-align: middle;\n",
              "    }\n",
              "\n",
              "    .dataframe tbody tr th {\n",
              "        vertical-align: top;\n",
              "    }\n",
              "\n",
              "    .dataframe thead th {\n",
              "        text-align: right;\n",
              "    }\n",
              "</style>\n",
              "<table border=\"1\" class=\"dataframe\">\n",
              "  <thead>\n",
              "    <tr style=\"text-align: right;\">\n",
              "      <th>col_0</th>\n",
              "      <th>0</th>\n",
              "      <th>1</th>\n",
              "      <th>2</th>\n",
              "      <th>3</th>\n",
              "      <th>4</th>\n",
              "      <th>5</th>\n",
              "      <th>6</th>\n",
              "      <th>7</th>\n",
              "      <th>8</th>\n",
              "      <th>9</th>\n",
              "    </tr>\n",
              "    <tr>\n",
              "      <th>row_0</th>\n",
              "      <th></th>\n",
              "      <th></th>\n",
              "      <th></th>\n",
              "      <th></th>\n",
              "      <th></th>\n",
              "      <th></th>\n",
              "      <th></th>\n",
              "      <th></th>\n",
              "      <th></th>\n",
              "      <th></th>\n",
              "    </tr>\n",
              "  </thead>\n",
              "  <tbody>\n",
              "    <tr>\n",
              "      <th>0</th>\n",
              "      <td>964</td>\n",
              "      <td>0</td>\n",
              "      <td>6</td>\n",
              "      <td>1</td>\n",
              "      <td>2</td>\n",
              "      <td>2</td>\n",
              "      <td>4</td>\n",
              "      <td>2</td>\n",
              "      <td>2</td>\n",
              "      <td>3</td>\n",
              "    </tr>\n",
              "    <tr>\n",
              "      <th>1</th>\n",
              "      <td>0</td>\n",
              "      <td>1120</td>\n",
              "      <td>1</td>\n",
              "      <td>0</td>\n",
              "      <td>0</td>\n",
              "      <td>0</td>\n",
              "      <td>2</td>\n",
              "      <td>2</td>\n",
              "      <td>2</td>\n",
              "      <td>2</td>\n",
              "    </tr>\n",
              "    <tr>\n",
              "      <th>2</th>\n",
              "      <td>2</td>\n",
              "      <td>2</td>\n",
              "      <td>1005</td>\n",
              "      <td>4</td>\n",
              "      <td>4</td>\n",
              "      <td>1</td>\n",
              "      <td>1</td>\n",
              "      <td>14</td>\n",
              "      <td>3</td>\n",
              "      <td>0</td>\n",
              "    </tr>\n",
              "    <tr>\n",
              "      <th>3</th>\n",
              "      <td>2</td>\n",
              "      <td>0</td>\n",
              "      <td>4</td>\n",
              "      <td>985</td>\n",
              "      <td>0</td>\n",
              "      <td>9</td>\n",
              "      <td>1</td>\n",
              "      <td>4</td>\n",
              "      <td>5</td>\n",
              "      <td>2</td>\n",
              "    </tr>\n",
              "    <tr>\n",
              "      <th>4</th>\n",
              "      <td>1</td>\n",
              "      <td>0</td>\n",
              "      <td>1</td>\n",
              "      <td>0</td>\n",
              "      <td>955</td>\n",
              "      <td>0</td>\n",
              "      <td>3</td>\n",
              "      <td>2</td>\n",
              "      <td>2</td>\n",
              "      <td>8</td>\n",
              "    </tr>\n",
              "    <tr>\n",
              "      <th>5</th>\n",
              "      <td>2</td>\n",
              "      <td>2</td>\n",
              "      <td>0</td>\n",
              "      <td>14</td>\n",
              "      <td>0</td>\n",
              "      <td>869</td>\n",
              "      <td>6</td>\n",
              "      <td>0</td>\n",
              "      <td>7</td>\n",
              "      <td>6</td>\n",
              "    </tr>\n",
              "    <tr>\n",
              "      <th>6</th>\n",
              "      <td>5</td>\n",
              "      <td>3</td>\n",
              "      <td>1</td>\n",
              "      <td>0</td>\n",
              "      <td>2</td>\n",
              "      <td>5</td>\n",
              "      <td>940</td>\n",
              "      <td>0</td>\n",
              "      <td>5</td>\n",
              "      <td>0</td>\n",
              "    </tr>\n",
              "    <tr>\n",
              "      <th>7</th>\n",
              "      <td>1</td>\n",
              "      <td>2</td>\n",
              "      <td>5</td>\n",
              "      <td>2</td>\n",
              "      <td>1</td>\n",
              "      <td>2</td>\n",
              "      <td>0</td>\n",
              "      <td>994</td>\n",
              "      <td>2</td>\n",
              "      <td>3</td>\n",
              "    </tr>\n",
              "    <tr>\n",
              "      <th>8</th>\n",
              "      <td>1</td>\n",
              "      <td>6</td>\n",
              "      <td>9</td>\n",
              "      <td>2</td>\n",
              "      <td>2</td>\n",
              "      <td>1</td>\n",
              "      <td>1</td>\n",
              "      <td>2</td>\n",
              "      <td>943</td>\n",
              "      <td>6</td>\n",
              "    </tr>\n",
              "    <tr>\n",
              "      <th>9</th>\n",
              "      <td>2</td>\n",
              "      <td>0</td>\n",
              "      <td>0</td>\n",
              "      <td>2</td>\n",
              "      <td>16</td>\n",
              "      <td>3</td>\n",
              "      <td>0</td>\n",
              "      <td>8</td>\n",
              "      <td>3</td>\n",
              "      <td>979</td>\n",
              "    </tr>\n",
              "  </tbody>\n",
              "</table>\n",
              "</div>\n",
              "      <button class=\"colab-df-convert\" onclick=\"convertToInteractive('df-98c8a50b-db2d-42d3-a3b2-09ff96257225')\"\n",
              "              title=\"Convert this dataframe to an interactive table.\"\n",
              "              style=\"display:none;\">\n",
              "        \n",
              "  <svg xmlns=\"http://www.w3.org/2000/svg\" height=\"24px\"viewBox=\"0 0 24 24\"\n",
              "       width=\"24px\">\n",
              "    <path d=\"M0 0h24v24H0V0z\" fill=\"none\"/>\n",
              "    <path d=\"M18.56 5.44l.94 2.06.94-2.06 2.06-.94-2.06-.94-.94-2.06-.94 2.06-2.06.94zm-11 1L8.5 8.5l.94-2.06 2.06-.94-2.06-.94L8.5 2.5l-.94 2.06-2.06.94zm10 10l.94 2.06.94-2.06 2.06-.94-2.06-.94-.94-2.06-.94 2.06-2.06.94z\"/><path d=\"M17.41 7.96l-1.37-1.37c-.4-.4-.92-.59-1.43-.59-.52 0-1.04.2-1.43.59L10.3 9.45l-7.72 7.72c-.78.78-.78 2.05 0 2.83L4 21.41c.39.39.9.59 1.41.59.51 0 1.02-.2 1.41-.59l7.78-7.78 2.81-2.81c.8-.78.8-2.07 0-2.86zM5.41 20L4 18.59l7.72-7.72 1.47 1.35L5.41 20z\"/>\n",
              "  </svg>\n",
              "      </button>\n",
              "      \n",
              "  <style>\n",
              "    .colab-df-container {\n",
              "      display:flex;\n",
              "      flex-wrap:wrap;\n",
              "      gap: 12px;\n",
              "    }\n",
              "\n",
              "    .colab-df-convert {\n",
              "      background-color: #E8F0FE;\n",
              "      border: none;\n",
              "      border-radius: 50%;\n",
              "      cursor: pointer;\n",
              "      display: none;\n",
              "      fill: #1967D2;\n",
              "      height: 32px;\n",
              "      padding: 0 0 0 0;\n",
              "      width: 32px;\n",
              "    }\n",
              "\n",
              "    .colab-df-convert:hover {\n",
              "      background-color: #E2EBFA;\n",
              "      box-shadow: 0px 1px 2px rgba(60, 64, 67, 0.3), 0px 1px 3px 1px rgba(60, 64, 67, 0.15);\n",
              "      fill: #174EA6;\n",
              "    }\n",
              "\n",
              "    [theme=dark] .colab-df-convert {\n",
              "      background-color: #3B4455;\n",
              "      fill: #D2E3FC;\n",
              "    }\n",
              "\n",
              "    [theme=dark] .colab-df-convert:hover {\n",
              "      background-color: #434B5C;\n",
              "      box-shadow: 0px 1px 3px 1px rgba(0, 0, 0, 0.15);\n",
              "      filter: drop-shadow(0px 1px 2px rgba(0, 0, 0, 0.3));\n",
              "      fill: #FFFFFF;\n",
              "    }\n",
              "  </style>\n",
              "\n",
              "      <script>\n",
              "        const buttonEl =\n",
              "          document.querySelector('#df-98c8a50b-db2d-42d3-a3b2-09ff96257225 button.colab-df-convert');\n",
              "        buttonEl.style.display =\n",
              "          google.colab.kernel.accessAllowed ? 'block' : 'none';\n",
              "\n",
              "        async function convertToInteractive(key) {\n",
              "          const element = document.querySelector('#df-98c8a50b-db2d-42d3-a3b2-09ff96257225');\n",
              "          const dataTable =\n",
              "            await google.colab.kernel.invokeFunction('convertToInteractive',\n",
              "                                                     [key], {});\n",
              "          if (!dataTable) return;\n",
              "\n",
              "          const docLinkHtml = 'Like what you see? Visit the ' +\n",
              "            '<a target=\"_blank\" href=https://colab.research.google.com/notebooks/data_table.ipynb>data table notebook</a>'\n",
              "            + ' to learn more about interactive tables.';\n",
              "          element.innerHTML = '';\n",
              "          dataTable['output_type'] = 'display_data';\n",
              "          await google.colab.output.renderOutput(dataTable, element);\n",
              "          const docLink = document.createElement('div');\n",
              "          docLink.innerHTML = docLinkHtml;\n",
              "          element.appendChild(docLink);\n",
              "        }\n",
              "      </script>\n",
              "    </div>\n",
              "  </div>\n",
              "  "
            ]
          },
          "metadata": {},
          "execution_count": 53
        }
      ]
    },
    {
      "cell_type": "code",
      "source": [
        "from sklearn.metrics import confusion_matrix, accuracy_score"
      ],
      "metadata": {
        "id": "ULgTIv-SGnkk"
      },
      "execution_count": 54,
      "outputs": []
    },
    {
      "cell_type": "code",
      "source": [
        "confusion_matrix(preds,y_test)"
      ],
      "metadata": {
        "colab": {
          "base_uri": "https://localhost:8080/"
        },
        "id": "eahRpUStGwA5",
        "outputId": "0f88e65f-1acf-443e-b0e5-1bc97f782c6e"
      },
      "execution_count": 55,
      "outputs": [
        {
          "output_type": "execute_result",
          "data": {
            "text/plain": [
              "array([[ 964,    0,    6,    1,    2,    2,    4,    2,    2,    3],\n",
              "       [   0, 1120,    1,    0,    0,    0,    2,    2,    2,    2],\n",
              "       [   2,    2, 1005,    4,    4,    1,    1,   14,    3,    0],\n",
              "       [   2,    0,    4,  985,    0,    9,    1,    4,    5,    2],\n",
              "       [   1,    0,    1,    0,  955,    0,    3,    2,    2,    8],\n",
              "       [   2,    2,    0,   14,    0,  869,    6,    0,    7,    6],\n",
              "       [   5,    3,    1,    0,    2,    5,  940,    0,    5,    0],\n",
              "       [   1,    2,    5,    2,    1,    2,    0,  994,    2,    3],\n",
              "       [   1,    6,    9,    2,    2,    1,    1,    2,  943,    6],\n",
              "       [   2,    0,    0,    2,   16,    3,    0,    8,    3,  979]])"
            ]
          },
          "metadata": {},
          "execution_count": 55
        }
      ]
    },
    {
      "cell_type": "code",
      "source": [
        "accuracy_score(preds,y_test)"
      ],
      "metadata": {
        "colab": {
          "base_uri": "https://localhost:8080/"
        },
        "id": "myV6HqSAGzd-",
        "outputId": "abdb67a1-118a-44b7-d3dd-f881c55b2c25"
      },
      "execution_count": 56,
      "outputs": [
        {
          "output_type": "execute_result",
          "data": {
            "text/plain": [
              "0.9754"
            ]
          },
          "metadata": {},
          "execution_count": 56
        }
      ]
    },
    {
      "cell_type": "code",
      "source": [
        "torchsummary.summary(dnn_model,input_size=(784,))"
      ],
      "metadata": {
        "colab": {
          "base_uri": "https://localhost:8080/"
        },
        "id": "XqyHY8MXG9Im",
        "outputId": "62bb1db2-0941-4f1d-e0a7-226ad0709506"
      },
      "execution_count": 59,
      "outputs": [
        {
          "output_type": "stream",
          "name": "stdout",
          "text": [
            "----------------------------------------------------------------\n",
            "        Layer (type)               Output Shape         Param #\n",
            "================================================================\n",
            "            Linear-1                  [-1, 512]         401,920\n",
            "       BatchNorm1d-2                  [-1, 512]           1,024\n",
            "           Dropout-3                  [-1, 512]               0\n",
            "            Linear-4                  [-1, 256]         131,328\n",
            "       BatchNorm1d-5                  [-1, 256]             512\n",
            "           Dropout-6                  [-1, 256]               0\n",
            "            Linear-7                  [-1, 128]          32,896\n",
            "       BatchNorm1d-8                  [-1, 128]             256\n",
            "           Dropout-9                  [-1, 128]               0\n",
            "           Linear-10                   [-1, 64]           8,256\n",
            "          Dropout-11                   [-1, 64]               0\n",
            "           Linear-12                   [-1, 10]             650\n",
            "================================================================\n",
            "Total params: 576,842\n",
            "Trainable params: 576,842\n",
            "Non-trainable params: 0\n",
            "----------------------------------------------------------------\n",
            "Input size (MB): 0.00\n",
            "Forward/backward pass size (MB): 0.02\n",
            "Params size (MB): 2.20\n",
            "Estimated Total Size (MB): 2.23\n",
            "----------------------------------------------------------------\n"
          ]
        }
      ]
    },
    {
      "cell_type": "code",
      "source": [],
      "metadata": {
        "id": "pKiBa1y8HiSw"
      },
      "execution_count": null,
      "outputs": []
    }
  ]
}