{
  "nbformat": 4,
  "nbformat_minor": 0,
  "metadata": {
    "colab": {
      "name": "Preetam_Saha_30.08.2022_DNN_model.ipynb",
      "provenance": [],
      "collapsed_sections": [],
      "authorship_tag": "ABX9TyNMZFq2fRj/1wnU6wFI89ZP",
      "include_colab_link": true
    },
    "kernelspec": {
      "name": "python3",
      "display_name": "Python 3"
    },
    "language_info": {
      "name": "python"
    },
    "accelerator": "GPU",
    "gpuClass": "standard"
  },
  "cells": [
    {
      "cell_type": "markdown",
      "metadata": {
        "id": "view-in-github",
        "colab_type": "text"
      },
      "source": [
        "<a href=\"https://colab.research.google.com/github/preetamjumech/DL_DNN_from_Sctrach/blob/main/Preetam_Saha_30_08_2022_DNN_model.ipynb\" target=\"_parent\"><img src=\"https://colab.research.google.com/assets/colab-badge.svg\" alt=\"Open In Colab\"/></a>"
      ]
    },
    {
      "cell_type": "code",
      "execution_count": 86,
      "metadata": {
        "colab": {
          "base_uri": "https://localhost:8080/"
        },
        "id": "SwT6Tkl6MPZ9",
        "outputId": "168cfa6c-bc61-49d0-885e-18a6a26bd5b7"
      },
      "outputs": [
        {
          "output_type": "stream",
          "name": "stdout",
          "text": [
            "--2022-08-30 08:10:17--  https://github.com/MorvanZhou/PyTorch-Tutorial/raw/master/tutorial-contents-notebooks/mnist/processed/training.pt\n",
            "Resolving github.com (github.com)... 140.82.113.3\n",
            "Connecting to github.com (github.com)|140.82.113.3|:443... connected.\n",
            "HTTP request sent, awaiting response... 302 Found\n",
            "Location: https://raw.githubusercontent.com/MorvanZhou/PyTorch-Tutorial/master/tutorial-contents-notebooks/mnist/processed/training.pt [following]\n",
            "--2022-08-30 08:10:17--  https://raw.githubusercontent.com/MorvanZhou/PyTorch-Tutorial/master/tutorial-contents-notebooks/mnist/processed/training.pt\n",
            "Resolving raw.githubusercontent.com (raw.githubusercontent.com)... 185.199.108.133, 185.199.109.133, 185.199.110.133, ...\n",
            "Connecting to raw.githubusercontent.com (raw.githubusercontent.com)|185.199.108.133|:443... connected.\n",
            "HTTP request sent, awaiting response... 200 OK\n",
            "Length: 47520431 (45M) [application/octet-stream]\n",
            "Saving to: ‘training.pt.1’\n",
            "\n",
            "training.pt.1       100%[===================>]  45.32M   203MB/s    in 0.2s    \n",
            "\n",
            "2022-08-30 08:10:17 (203 MB/s) - ‘training.pt.1’ saved [47520431/47520431]\n",
            "\n",
            "--2022-08-30 08:10:17--  https://github.com/MorvanZhou/PyTorch-Tutorial/raw/master/tutorial-contents-notebooks/mnist/processed/test.pt\n",
            "Resolving github.com (github.com)... 140.82.113.3\n",
            "Connecting to github.com (github.com)|140.82.113.3|:443... connected.\n",
            "HTTP request sent, awaiting response... 302 Found\n",
            "Location: https://raw.githubusercontent.com/MorvanZhou/PyTorch-Tutorial/master/tutorial-contents-notebooks/mnist/processed/test.pt [following]\n",
            "--2022-08-30 08:10:17--  https://raw.githubusercontent.com/MorvanZhou/PyTorch-Tutorial/master/tutorial-contents-notebooks/mnist/processed/test.pt\n",
            "Resolving raw.githubusercontent.com (raw.githubusercontent.com)... 185.199.109.133, 185.199.111.133, 185.199.108.133, ...\n",
            "Connecting to raw.githubusercontent.com (raw.githubusercontent.com)|185.199.109.133|:443... connected.\n",
            "HTTP request sent, awaiting response... 200 OK\n",
            "Length: 7920431 (7.6M) [application/octet-stream]\n",
            "Saving to: ‘test.pt.1’\n",
            "\n",
            "test.pt.1           100%[===================>]   7.55M  --.-KB/s    in 0.08s   \n",
            "\n",
            "2022-08-30 08:10:18 (89.7 MB/s) - ‘test.pt.1’ saved [7920431/7920431]\n",
            "\n"
          ]
        }
      ],
      "source": [
        "#.pt means pytorch files (dump of data here both .pt files, just to import those data by torch.load)\n",
        "!wget https://github.com/MorvanZhou/PyTorch-Tutorial/raw/master/tutorial-contents-notebooks/mnist/processed/training.pt\n",
        "!wget https://github.com/MorvanZhou/PyTorch-Tutorial/raw/master/tutorial-contents-notebooks/mnist/processed/test.pt\n"
      ]
    },
    {
      "cell_type": "code",
      "source": [
        "#tensors and arrays are interchangable\n",
        "#only some extra functions are added to the tensors, some computational graphs are avl to the tensors\n"
      ],
      "metadata": {
        "id": "NPLXwHBMN4z2"
      },
      "execution_count": 87,
      "outputs": []
    },
    {
      "cell_type": "code",
      "source": [
        "import torch\n",
        "import numpy as np\n",
        "import matplotlib.pyplot as plt\n"
      ],
      "metadata": {
        "id": "GcxHlYQhOOCV"
      },
      "execution_count": 88,
      "outputs": []
    },
    {
      "cell_type": "code",
      "source": [
        "x_train, y_train = torch.load(\"training.pt\") #tuple"
      ],
      "metadata": {
        "id": "GdY9SH7HOOE8"
      },
      "execution_count": 89,
      "outputs": []
    },
    {
      "cell_type": "code",
      "source": [
        "x_train.shape #multidimensional tensor"
      ],
      "metadata": {
        "colab": {
          "base_uri": "https://localhost:8080/"
        },
        "id": "Le67kWEyOOIi",
        "outputId": "61e3b92c-a9d6-4804-9522-8d9d8b50c562"
      },
      "execution_count": 90,
      "outputs": [
        {
          "output_type": "execute_result",
          "data": {
            "text/plain": [
              "torch.Size([60000, 28, 28])"
            ]
          },
          "metadata": {},
          "execution_count": 90
        }
      ]
    },
    {
      "cell_type": "code",
      "source": [
        "from google.colab.patches import cv2_imshow"
      ],
      "metadata": {
        "id": "7A8pWNb9PnUP"
      },
      "execution_count": 91,
      "outputs": []
    },
    {
      "cell_type": "code",
      "source": [
        "for i in range(20):\n",
        "  plt.subplot(2,10,i+1)\n",
        "  plt.imshow(x_train[i].numpy()) #cv2_imshow is applicable to numpy, so converting tensors to numpy"
      ],
      "metadata": {
        "colab": {
          "base_uri": "https://localhost:8080/",
          "height": 198
        },
        "id": "5QEwaZhZP-CB",
        "outputId": "1285a46d-5f52-4432-ef18-0b3542dcc838"
      },
      "execution_count": 92,
      "outputs": [
        {
          "output_type": "display_data",
          "data": {
            "text/plain": [
              "<Figure size 432x288 with 20 Axes>"
            ],
            "image/png": "[encoded data removed]"
          },
          "metadata": {
            "needs_background": "light"
          }
        }
      ]
    },
    {
      "cell_type": "code",
      "source": [
        "y_train.shape #1D tensor"
      ],
      "metadata": {
        "colab": {
          "base_uri": "https://localhost:8080/"
        },
        "id": "doBX2JtUO2xP",
        "outputId": "a4a35eee-685f-43b2-8f2d-10dcc23b00a4"
      },
      "execution_count": 93,
      "outputs": [
        {
          "output_type": "execute_result",
          "data": {
            "text/plain": [
              "torch.Size([60000])"
            ]
          },
          "metadata": {},
          "execution_count": 93
        }
      ]
    },
    {
      "cell_type": "code",
      "source": [
        "plt.imshow(x_train[5]) #tensors are lying in the physical ram, memory"
      ],
      "metadata": {
        "colab": {
          "base_uri": "https://localhost:8080/",
          "height": 282
        },
        "id": "59b4I0YkPOhn",
        "outputId": "4ae838cd-7e4a-45b2-e629-c45fdb98fa21"
      },
      "execution_count": 94,
      "outputs": [
        {
          "output_type": "execute_result",
          "data": {
            "text/plain": [
              "<matplotlib.image.AxesImage at 0x7fddccacf090>"
            ]
          },
          "metadata": {},
          "execution_count": 94
        },
        {
          "output_type": "display_data",
          "data": {
            "text/plain": [
              "<Figure size 432x288 with 1 Axes>"
            ],
            "image/png": "[encoded data removed]"
          },
          "metadata": {
            "needs_background": "light"
          }
        }
      ]
    },
    {
      "cell_type": "code",
      "source": [
        "#mlp is global in nature, cnn is localized , its approaches is local\n",
        "#mlp cant work with array(cant be greater than 2D, means 3D,4D), it should be converted to matrix(2D)\n",
        "\n",
        "x_train = x_train.reshape(-1,28*28) #from 3D to 2D,  bydefault dimension orientation"
      ],
      "metadata": {
        "id": "oLpnUvo1PReO"
      },
      "execution_count": 95,
      "outputs": []
    },
    {
      "cell_type": "code",
      "source": [
        "print(x_train.reshape(-1,28*28).shape) #for image origin is upper left \n",
        "print(x_train.reshape(-1,14*14).shape)"
      ],
      "metadata": {
        "colab": {
          "base_uri": "https://localhost:8080/"
        },
        "id": "e_e9Vb4USKSO",
        "outputId": "5eb7508c-2a1a-428f-f068-61177800302c"
      },
      "execution_count": 96,
      "outputs": [
        {
          "output_type": "stream",
          "name": "stdout",
          "text": [
            "torch.Size([60000, 784])\n",
            "torch.Size([240000, 196])\n"
          ]
        }
      ]
    },
    {
      "cell_type": "code",
      "source": [
        "x_train[:3] #2D array, basically a matrix, can be fetched into mlp architechture"
      ],
      "metadata": {
        "colab": {
          "base_uri": "https://localhost:8080/"
        },
        "id": "lXpu3dVUSt3w",
        "outputId": "5036fc7d-5e49-4ff6-e8d0-a7f92f67ec81"
      },
      "execution_count": 97,
      "outputs": [
        {
          "output_type": "execute_result",
          "data": {
            "text/plain": [
              "tensor([[0, 0, 0,  ..., 0, 0, 0],\n",
              "        [0, 0, 0,  ..., 0, 0, 0],\n",
              "        [0, 0, 0,  ..., 0, 0, 0]], dtype=torch.uint8)"
            ]
          },
          "metadata": {},
          "execution_count": 97
        }
      ]
    },
    {
      "cell_type": "code",
      "source": [
        "x_test, y_test = torch.load(\"test.pt\")"
      ],
      "metadata": {
        "id": "qCcmixbsTwNY"
      },
      "execution_count": 98,
      "outputs": []
    },
    {
      "cell_type": "code",
      "source": [
        "x_test = x_test.reshape(-1,28*28)"
      ],
      "metadata": {
        "id": "yXpQf3fIUDCH"
      },
      "execution_count": 99,
      "outputs": []
    },
    {
      "cell_type": "code",
      "source": [
        "from torch.utils.data import TensorDataset, DataLoader"
      ],
      "metadata": {
        "id": "Jo5cQPFjUHjl"
      },
      "execution_count": 100,
      "outputs": []
    },
    {
      "cell_type": "code",
      "source": [
        "#supplying the image into mlp, its mandatory to supply as tensors not as array, here it is already tensors, but if not convert it\n",
        "#Tensordataset is just to make a sequence of all dataset, (like stack) so that GPU can be called , nice structure understandable by torch platform\n",
        "train_loader = DataLoader(TensorDataset(x_train.float(),y_train),\n",
        "                                       batch_size=64,shuffle = True)\n",
        "#shuffling is only required for training\n",
        "#tensor is not good dealing with integer, must be converted to float\n",
        "test_loader = DataLoader(TensorDataset(x_test.float(),y_test),\n",
        "                                      batch_size = 64,shuffle = False)"
      ],
      "metadata": {
        "id": "9YFjI3FAUcTS"
      },
      "execution_count": 101,
      "outputs": []
    },
    {
      "cell_type": "code",
      "source": [
        "import torch.nn as nn\n",
        "import torch.nn.functional as F\n",
        "from torch.optim import Adam\n",
        "from torch.nn.modules import dropout"
      ],
      "metadata": {
        "id": "R2GDBTqpXXSZ"
      },
      "execution_count": 102,
      "outputs": []
    },
    {
      "cell_type": "code",
      "source": [
        "#torch.tensor(array) when to convert the pic from memory into tensor"
      ],
      "metadata": {
        "id": "f0Ve7hI0WfKa"
      },
      "execution_count": 103,
      "outputs": []
    },
    {
      "cell_type": "code",
      "source": [
        "class MNIST_DNN(nn.Module): #nn.module its the class, all the layers,activation are inheriting\n",
        "  def __init__(self):\n",
        "    super(MNIST_DNN,self).__init__() #this line linkds MNIST_DNN to nn.module by calling __init__()\n",
        "    self.h1 = nn.Linear(in_features=28*28,out_features=512) #linear means here dense in torch like dense in tensorflow\n",
        "    self.h2 = nn.Linear(in_features=512,out_features=256)\n",
        "    self.bn = nn.BatchNorm1d(num_features=256) #1D array Iam supplying, so 1D batchnormalization, if I have to supply a pic, 2D, then it will be 2D\n",
        "    self.h3 = nn.Linear(in_features=256,out_features=128)\n",
        "    self.dropout = nn.Dropout(p=0.40) #at random 30 percent will be dropout between h3 and h4 , to make model model robust, for regulazation we dropout\n",
        "    self.h4 = nn.Linear(in_features=128,out_features=32)\n",
        "    self.out = nn.Linear(in_features=32,out_features=10) #dont shrink less than 10(10 classes are there, that will be severely underfitting)\n",
        "\n",
        "  # def forward(self,x):\n",
        "  #   x = self.h1(x)\n",
        "  #   x = F.relu(x)\n",
        "  #   x = self.dropout(x)  #no parameter for dropout\n",
        "\n",
        "  #   x = F.relu(self.h2(x))\n",
        "\n",
        "  #   x = self.bn(x) #for initialization of bn , two parametres gamma and beta so, initialize every time\n",
        "  #   x = F.relu(self.h3(x))\n",
        "  #   x = self.dropout(x)\n",
        "\n",
        "  #   x = F.relu(self.h4())\n",
        "\n",
        "  #   x = F.relu(self.out(x))\n",
        "  #   #x = torch.softmax(x,dim=1)\n",
        "\n",
        "  #   return x\n",
        "  def forward(self,x):\n",
        "    x=self.h1(x)\n",
        "    x=F.relu(x)\n",
        "    x=self.dropout(x)\n",
        "    x=F.relu(self.h2(x))\n",
        "\n",
        "    x=self.bn(x)\n",
        "    x=F.relu(self.h3(x))\n",
        "    x=self.dropout(x)\n",
        "\n",
        "    x=F.relu(self.h4(x))\n",
        "    x=self.dropout(x)\n",
        "\n",
        "    x=F.relu(self.out(x))\n",
        "    #x=torch.softmax(x,dim=1)\n",
        "\n",
        "    return x"
      ],
      "metadata": {
        "id": "9KLu3Ut5Xsp6"
      },
      "execution_count": 123,
      "outputs": []
    },
    {
      "cell_type": "code",
      "source": [
        "model_DNN =  MNIST_DNN()"
      ],
      "metadata": {
        "id": "dHvzgQv0feWQ"
      },
      "execution_count": 124,
      "outputs": []
    },
    {
      "cell_type": "code",
      "source": [
        "list(model_DNN.parameters())"
      ],
      "metadata": {
        "colab": {
          "base_uri": "https://localhost:8080/"
        },
        "id": "Fo81JWi8gRhJ",
        "outputId": "263a8d7a-6ab3-4738-fafc-0bd65215de89"
      },
      "execution_count": 125,
      "outputs": [
        {
          "output_type": "execute_result",
          "data": {
            "text/plain": [
              "[Parameter containing:\n",
              " tensor([[ 0.0088, -0.0279, -0.0019,  ..., -0.0154,  0.0204,  0.0213],\n",
              "         [ 0.0158, -0.0286,  0.0203,  ...,  0.0134,  0.0041, -0.0227],\n",
              "         [-0.0024,  0.0060,  0.0184,  ...,  0.0016, -0.0079, -0.0352],\n",
              "         ...,\n",
              "         [-0.0199,  0.0132,  0.0257,  ..., -0.0169,  0.0022, -0.0096],\n",
              "         [-0.0169,  0.0026, -0.0276,  ...,  0.0001, -0.0063,  0.0086],\n",
              "         [ 0.0262,  0.0142,  0.0294,  ..., -0.0185, -0.0164,  0.0183]],\n",
              "        requires_grad=True), Parameter containing:\n",
              " tensor([ 0.0213, -0.0340,  0.0200, -0.0198, -0.0231,  0.0176, -0.0031,  0.0189,\n",
              "         -0.0120, -0.0117,  0.0191,  0.0257, -0.0356, -0.0312,  0.0175,  0.0233,\n",
              "          0.0303,  0.0305,  0.0171,  0.0212, -0.0252, -0.0238, -0.0316,  0.0270,\n",
              "          0.0299, -0.0219, -0.0127,  0.0334,  0.0280,  0.0144, -0.0175, -0.0314,\n",
              "         -0.0133, -0.0172, -0.0092,  0.0030, -0.0317, -0.0007, -0.0312,  0.0058,\n",
              "          0.0259,  0.0227,  0.0168, -0.0127,  0.0307,  0.0314, -0.0213,  0.0013,\n",
              "         -0.0167, -0.0130,  0.0174, -0.0212, -0.0147,  0.0262,  0.0151, -0.0216,\n",
              "          0.0057, -0.0200, -0.0042,  0.0138,  0.0251,  0.0246,  0.0205,  0.0247,\n",
              "         -0.0288,  0.0267, -0.0279,  0.0014,  0.0039,  0.0347,  0.0171, -0.0109,\n",
              "          0.0336, -0.0207,  0.0025,  0.0106,  0.0115, -0.0015,  0.0208,  0.0336,\n",
              "          0.0334,  0.0137, -0.0357, -0.0092, -0.0262, -0.0319, -0.0154,  0.0117,\n",
              "          0.0108,  0.0278, -0.0326, -0.0214, -0.0222, -0.0274, -0.0021,  0.0100,\n",
              "         -0.0039,  0.0175, -0.0203, -0.0215,  0.0222, -0.0258, -0.0195, -0.0335,\n",
              "         -0.0041, -0.0177, -0.0259,  0.0186,  0.0113,  0.0061, -0.0134,  0.0194,\n",
              "          0.0151,  0.0096,  0.0213,  0.0263,  0.0123,  0.0146, -0.0305,  0.0141,\n",
              "         -0.0085, -0.0229,  0.0182, -0.0355,  0.0138,  0.0032, -0.0210,  0.0117,\n",
              "         -0.0314, -0.0187,  0.0152,  0.0330,  0.0325, -0.0127, -0.0177,  0.0045,\n",
              "          0.0286,  0.0232, -0.0224, -0.0342, -0.0021, -0.0070, -0.0069,  0.0244,\n",
              "          0.0116,  0.0193, -0.0194, -0.0332, -0.0295,  0.0345, -0.0151, -0.0132,\n",
              "         -0.0334, -0.0003, -0.0341, -0.0298, -0.0325,  0.0314,  0.0302, -0.0087,\n",
              "          0.0263, -0.0036,  0.0125, -0.0194, -0.0261, -0.0024, -0.0104, -0.0094,\n",
              "          0.0169,  0.0341,  0.0240,  0.0014,  0.0351,  0.0264,  0.0264,  0.0137,\n",
              "          0.0171, -0.0157,  0.0209, -0.0003,  0.0242, -0.0084,  0.0051, -0.0325,\n",
              "         -0.0075, -0.0177,  0.0237, -0.0345,  0.0060,  0.0124,  0.0150, -0.0156,\n",
              "          0.0076, -0.0127,  0.0226,  0.0316,  0.0322,  0.0141, -0.0227,  0.0135,\n",
              "         -0.0098,  0.0134,  0.0199, -0.0106,  0.0185, -0.0105,  0.0252,  0.0238,\n",
              "          0.0311,  0.0298,  0.0340, -0.0303,  0.0146, -0.0100,  0.0271, -0.0003,\n",
              "          0.0107,  0.0298, -0.0018, -0.0071,  0.0087, -0.0130, -0.0083,  0.0278,\n",
              "          0.0239, -0.0298, -0.0328,  0.0169, -0.0049,  0.0212, -0.0196, -0.0215,\n",
              "         -0.0288,  0.0298,  0.0240, -0.0159,  0.0040, -0.0312,  0.0329, -0.0211,\n",
              "          0.0250,  0.0159, -0.0235, -0.0038,  0.0342,  0.0333, -0.0040,  0.0227,\n",
              "          0.0329, -0.0288,  0.0238,  0.0059, -0.0112,  0.0076, -0.0275,  0.0223,\n",
              "         -0.0245, -0.0066,  0.0161, -0.0232, -0.0233, -0.0239, -0.0112,  0.0187,\n",
              "          0.0011,  0.0344,  0.0268, -0.0105,  0.0294,  0.0197, -0.0195, -0.0266,\n",
              "          0.0248,  0.0205,  0.0195,  0.0073, -0.0150,  0.0335, -0.0202, -0.0274,\n",
              "         -0.0273, -0.0082,  0.0229,  0.0158, -0.0234,  0.0190,  0.0225, -0.0303,\n",
              "         -0.0068,  0.0104,  0.0141,  0.0282, -0.0251, -0.0290,  0.0102,  0.0145,\n",
              "          0.0193, -0.0223,  0.0027, -0.0153, -0.0085, -0.0322,  0.0287, -0.0128,\n",
              "          0.0296,  0.0052, -0.0129,  0.0144,  0.0222,  0.0093,  0.0088,  0.0068,\n",
              "          0.0339, -0.0102,  0.0103,  0.0103, -0.0250, -0.0222, -0.0143, -0.0227,\n",
              "          0.0154, -0.0339,  0.0159,  0.0036,  0.0185,  0.0180, -0.0222,  0.0062,\n",
              "         -0.0096,  0.0100, -0.0010,  0.0216,  0.0256,  0.0312, -0.0028, -0.0302,\n",
              "          0.0257, -0.0017, -0.0285, -0.0041, -0.0148,  0.0350, -0.0116, -0.0099,\n",
              "          0.0301, -0.0232, -0.0058,  0.0244,  0.0260, -0.0316,  0.0352,  0.0094,\n",
              "         -0.0116,  0.0060,  0.0327,  0.0273, -0.0173, -0.0283, -0.0237,  0.0213,\n",
              "         -0.0110,  0.0014, -0.0008,  0.0066, -0.0108, -0.0011, -0.0313, -0.0039,\n",
              "          0.0270,  0.0087, -0.0276, -0.0138,  0.0139, -0.0034,  0.0221,  0.0231,\n",
              "         -0.0081, -0.0256, -0.0027,  0.0062,  0.0337, -0.0227, -0.0199,  0.0213,\n",
              "          0.0114, -0.0052, -0.0052,  0.0092,  0.0243, -0.0336,  0.0077, -0.0164,\n",
              "         -0.0196, -0.0330,  0.0203, -0.0050, -0.0308,  0.0228,  0.0062,  0.0013,\n",
              "          0.0276,  0.0029, -0.0215, -0.0339,  0.0190,  0.0149, -0.0252,  0.0121,\n",
              "         -0.0035,  0.0036,  0.0219,  0.0067, -0.0355, -0.0016, -0.0349,  0.0176,\n",
              "         -0.0078, -0.0012, -0.0102,  0.0305, -0.0247, -0.0317, -0.0059,  0.0318,\n",
              "         -0.0206,  0.0070, -0.0159,  0.0251,  0.0220, -0.0273,  0.0224, -0.0281,\n",
              "         -0.0121, -0.0149, -0.0015,  0.0130,  0.0136, -0.0330,  0.0302,  0.0257,\n",
              "         -0.0136, -0.0345,  0.0027, -0.0195, -0.0191,  0.0062, -0.0160, -0.0308,\n",
              "          0.0009,  0.0340,  0.0035,  0.0093,  0.0279,  0.0033, -0.0004,  0.0256,\n",
              "         -0.0201, -0.0289,  0.0011, -0.0236,  0.0348,  0.0195, -0.0154,  0.0177,\n",
              "         -0.0074,  0.0324,  0.0163,  0.0330,  0.0032, -0.0197, -0.0345,  0.0245,\n",
              "         -0.0308,  0.0195,  0.0120, -0.0186,  0.0051,  0.0133,  0.0069, -0.0271,\n",
              "          0.0098,  0.0234,  0.0123, -0.0033, -0.0239,  0.0050, -0.0173, -0.0029,\n",
              "         -0.0254,  0.0267, -0.0176,  0.0271, -0.0021,  0.0194,  0.0067, -0.0068,\n",
              "          0.0121, -0.0095,  0.0020,  0.0085,  0.0225, -0.0011,  0.0218, -0.0228,\n",
              "         -0.0317, -0.0285, -0.0175,  0.0242, -0.0207, -0.0313, -0.0348,  0.0170],\n",
              "        requires_grad=True), Parameter containing:\n",
              " tensor([[-0.0319,  0.0209, -0.0134,  ..., -0.0171,  0.0075,  0.0123],\n",
              "         [-0.0283, -0.0057,  0.0382,  ..., -0.0388, -0.0080,  0.0285],\n",
              "         [ 0.0027,  0.0290, -0.0025,  ..., -0.0373,  0.0163, -0.0298],\n",
              "         ...,\n",
              "         [ 0.0003,  0.0274,  0.0438,  ...,  0.0322, -0.0019, -0.0326],\n",
              "         [-0.0100,  0.0357,  0.0045,  ...,  0.0435, -0.0403,  0.0087],\n",
              "         [-0.0315, -0.0356, -0.0256,  ...,  0.0262, -0.0373, -0.0396]],\n",
              "        requires_grad=True), Parameter containing:\n",
              " tensor([ 0.0121, -0.0092, -0.0018, -0.0140, -0.0377, -0.0041, -0.0147,  0.0239,\n",
              "          0.0410,  0.0012, -0.0242, -0.0277,  0.0007, -0.0212, -0.0088,  0.0265,\n",
              "          0.0217, -0.0293,  0.0309,  0.0407, -0.0154,  0.0109, -0.0150, -0.0303,\n",
              "          0.0352, -0.0128,  0.0211, -0.0393, -0.0220, -0.0442, -0.0348, -0.0094,\n",
              "          0.0188, -0.0351,  0.0307, -0.0095,  0.0086,  0.0190, -0.0292, -0.0275,\n",
              "          0.0410, -0.0438, -0.0071,  0.0433,  0.0105, -0.0431, -0.0154,  0.0196,\n",
              "          0.0121, -0.0136, -0.0318,  0.0088,  0.0405,  0.0022,  0.0345,  0.0208,\n",
              "         -0.0152, -0.0280,  0.0148, -0.0309, -0.0380,  0.0041,  0.0098, -0.0184,\n",
              "         -0.0196,  0.0435,  0.0245,  0.0346,  0.0005,  0.0256, -0.0071, -0.0429,\n",
              "          0.0098,  0.0402,  0.0306,  0.0147, -0.0348, -0.0068,  0.0124,  0.0389,\n",
              "          0.0439, -0.0299, -0.0252,  0.0419, -0.0288, -0.0058, -0.0201,  0.0205,\n",
              "          0.0358, -0.0297,  0.0298, -0.0343,  0.0428,  0.0349,  0.0365,  0.0252,\n",
              "          0.0102, -0.0167, -0.0170,  0.0410,  0.0191, -0.0372,  0.0269,  0.0379,\n",
              "          0.0177,  0.0317,  0.0190, -0.0036, -0.0307, -0.0012, -0.0171,  0.0360,\n",
              "          0.0028,  0.0383,  0.0337, -0.0348,  0.0197,  0.0163, -0.0323, -0.0149,\n",
              "         -0.0423,  0.0377,  0.0121, -0.0379,  0.0103, -0.0097,  0.0074, -0.0270,\n",
              "         -0.0204,  0.0168, -0.0326, -0.0101,  0.0288, -0.0014,  0.0185,  0.0129,\n",
              "          0.0386,  0.0209,  0.0370,  0.0093,  0.0066, -0.0094,  0.0284,  0.0134,\n",
              "         -0.0121, -0.0376,  0.0367,  0.0419,  0.0165, -0.0438,  0.0341,  0.0164,\n",
              "          0.0311,  0.0441, -0.0236,  0.0256,  0.0092, -0.0434, -0.0374, -0.0386,\n",
              "         -0.0274, -0.0145, -0.0171, -0.0183,  0.0100,  0.0384, -0.0292,  0.0431,\n",
              "          0.0436,  0.0095, -0.0386, -0.0422, -0.0391,  0.0211,  0.0330,  0.0267,\n",
              "          0.0122, -0.0438, -0.0004,  0.0323,  0.0251, -0.0014,  0.0268, -0.0327,\n",
              "         -0.0092, -0.0016, -0.0440,  0.0241,  0.0282,  0.0324,  0.0063, -0.0021,\n",
              "         -0.0088,  0.0386, -0.0043, -0.0298, -0.0311, -0.0386,  0.0336,  0.0149,\n",
              "          0.0251,  0.0123,  0.0422,  0.0193,  0.0369,  0.0074,  0.0243, -0.0075,\n",
              "          0.0302,  0.0135,  0.0046,  0.0017,  0.0261, -0.0100, -0.0077,  0.0374,\n",
              "          0.0068, -0.0045,  0.0200, -0.0393, -0.0211, -0.0089, -0.0196,  0.0413,\n",
              "         -0.0386,  0.0020, -0.0228,  0.0435, -0.0086,  0.0156, -0.0189,  0.0070,\n",
              "         -0.0338,  0.0422, -0.0378,  0.0016,  0.0428,  0.0191, -0.0241, -0.0084,\n",
              "          0.0196, -0.0404,  0.0068, -0.0094,  0.0270,  0.0070, -0.0033, -0.0364,\n",
              "         -0.0221, -0.0076, -0.0240,  0.0420, -0.0390,  0.0286,  0.0414, -0.0228],\n",
              "        requires_grad=True), Parameter containing:\n",
              " tensor([1., 1., 1., 1., 1., 1., 1., 1., 1., 1., 1., 1., 1., 1., 1., 1., 1., 1.,\n",
              "         1., 1., 1., 1., 1., 1., 1., 1., 1., 1., 1., 1., 1., 1., 1., 1., 1., 1.,\n",
              "         1., 1., 1., 1., 1., 1., 1., 1., 1., 1., 1., 1., 1., 1., 1., 1., 1., 1.,\n",
              "         1., 1., 1., 1., 1., 1., 1., 1., 1., 1., 1., 1., 1., 1., 1., 1., 1., 1.,\n",
              "         1., 1., 1., 1., 1., 1., 1., 1., 1., 1., 1., 1., 1., 1., 1., 1., 1., 1.,\n",
              "         1., 1., 1., 1., 1., 1., 1., 1., 1., 1., 1., 1., 1., 1., 1., 1., 1., 1.,\n",
              "         1., 1., 1., 1., 1., 1., 1., 1., 1., 1., 1., 1., 1., 1., 1., 1., 1., 1.,\n",
              "         1., 1., 1., 1., 1., 1., 1., 1., 1., 1., 1., 1., 1., 1., 1., 1., 1., 1.,\n",
              "         1., 1., 1., 1., 1., 1., 1., 1., 1., 1., 1., 1., 1., 1., 1., 1., 1., 1.,\n",
              "         1., 1., 1., 1., 1., 1., 1., 1., 1., 1., 1., 1., 1., 1., 1., 1., 1., 1.,\n",
              "         1., 1., 1., 1., 1., 1., 1., 1., 1., 1., 1., 1., 1., 1., 1., 1., 1., 1.,\n",
              "         1., 1., 1., 1., 1., 1., 1., 1., 1., 1., 1., 1., 1., 1., 1., 1., 1., 1.,\n",
              "         1., 1., 1., 1., 1., 1., 1., 1., 1., 1., 1., 1., 1., 1., 1., 1., 1., 1.,\n",
              "         1., 1., 1., 1., 1., 1., 1., 1., 1., 1., 1., 1., 1., 1., 1., 1., 1., 1.,\n",
              "         1., 1., 1., 1.], requires_grad=True), Parameter containing:\n",
              " tensor([0., 0., 0., 0., 0., 0., 0., 0., 0., 0., 0., 0., 0., 0., 0., 0., 0., 0., 0., 0., 0., 0., 0., 0.,\n",
              "         0., 0., 0., 0., 0., 0., 0., 0., 0., 0., 0., 0., 0., 0., 0., 0., 0., 0., 0., 0., 0., 0., 0., 0.,\n",
              "         0., 0., 0., 0., 0., 0., 0., 0., 0., 0., 0., 0., 0., 0., 0., 0., 0., 0., 0., 0., 0., 0., 0., 0.,\n",
              "         0., 0., 0., 0., 0., 0., 0., 0., 0., 0., 0., 0., 0., 0., 0., 0., 0., 0., 0., 0., 0., 0., 0., 0.,\n",
              "         0., 0., 0., 0., 0., 0., 0., 0., 0., 0., 0., 0., 0., 0., 0., 0., 0., 0., 0., 0., 0., 0., 0., 0.,\n",
              "         0., 0., 0., 0., 0., 0., 0., 0., 0., 0., 0., 0., 0., 0., 0., 0., 0., 0., 0., 0., 0., 0., 0., 0.,\n",
              "         0., 0., 0., 0., 0., 0., 0., 0., 0., 0., 0., 0., 0., 0., 0., 0., 0., 0., 0., 0., 0., 0., 0., 0.,\n",
              "         0., 0., 0., 0., 0., 0., 0., 0., 0., 0., 0., 0., 0., 0., 0., 0., 0., 0., 0., 0., 0., 0., 0., 0.,\n",
              "         0., 0., 0., 0., 0., 0., 0., 0., 0., 0., 0., 0., 0., 0., 0., 0., 0., 0., 0., 0., 0., 0., 0., 0.,\n",
              "         0., 0., 0., 0., 0., 0., 0., 0., 0., 0., 0., 0., 0., 0., 0., 0., 0., 0., 0., 0., 0., 0., 0., 0.,\n",
              "         0., 0., 0., 0., 0., 0., 0., 0., 0., 0., 0., 0., 0., 0., 0., 0.],\n",
              "        requires_grad=True), Parameter containing:\n",
              " tensor([[ 0.0261, -0.0419, -0.0204,  ...,  0.0008, -0.0077,  0.0111],\n",
              "         [-0.0339, -0.0503, -0.0333,  ..., -0.0380,  0.0215,  0.0393],\n",
              "         [ 0.0376, -0.0419,  0.0216,  ...,  0.0186,  0.0192,  0.0238],\n",
              "         ...,\n",
              "         [-0.0553,  0.0049,  0.0100,  ..., -0.0441,  0.0438, -0.0097],\n",
              "         [-0.0508,  0.0511,  0.0400,  ...,  0.0415, -0.0385,  0.0232],\n",
              "         [ 0.0189,  0.0562,  0.0625,  ...,  0.0318,  0.0495, -0.0142]],\n",
              "        requires_grad=True), Parameter containing:\n",
              " tensor([-1.8752e-02, -6.0941e-02, -7.6265e-03, -4.4877e-02,  2.4280e-02,\n",
              "          1.4048e-02, -1.5008e-02,  2.3971e-02,  5.1612e-02,  3.1666e-02,\n",
              "         -4.6507e-02,  2.0313e-02, -2.6323e-02, -3.2009e-02, -3.2005e-02,\n",
              "          4.7664e-02, -2.5462e-02, -1.0639e-02, -3.7674e-02,  3.2042e-02,\n",
              "         -2.9935e-02, -8.6021e-03,  6.0323e-02,  2.2806e-02,  5.4833e-02,\n",
              "          4.4320e-02, -1.5411e-02,  1.2876e-02, -3.1594e-03,  5.7498e-02,\n",
              "         -3.7146e-02, -4.5689e-02,  2.5630e-02,  1.0641e-02, -3.1742e-02,\n",
              "          4.3757e-02,  8.4098e-03, -1.5561e-02,  2.3993e-03,  5.7537e-03,\n",
              "          2.8516e-02, -5.9781e-02, -5.4421e-02, -3.0114e-03,  4.8429e-02,\n",
              "         -3.5648e-02, -4.0268e-02, -4.0115e-02, -2.6047e-03, -4.6256e-02,\n",
              "          3.5211e-02,  1.8205e-02, -4.4022e-02,  3.4586e-02, -4.7679e-02,\n",
              "         -2.8938e-02,  1.2013e-02, -1.6331e-02, -2.5550e-02, -2.0755e-02,\n",
              "          5.9943e-02,  3.0279e-02, -5.7878e-02, -2.8746e-02,  4.4639e-02,\n",
              "          1.1357e-02,  2.8936e-02, -1.8092e-02, -2.7064e-02, -1.4237e-02,\n",
              "         -3.6301e-02, -5.9900e-02, -2.1547e-04, -6.1652e-02, -1.3716e-02,\n",
              "         -4.2299e-02,  2.1854e-02, -5.1511e-02, -6.1372e-02, -2.6900e-02,\n",
              "          5.2356e-02, -4.7764e-02, -2.2801e-02, -1.8155e-02,  2.0719e-04,\n",
              "          4.4048e-02, -3.8024e-02, -2.8496e-04,  6.0595e-02, -1.3966e-02,\n",
              "          2.9029e-02,  2.0728e-02,  1.5824e-02,  5.9723e-02, -4.3280e-02,\n",
              "          6.0805e-02, -3.3624e-02,  5.1631e-02, -4.7321e-02, -5.7237e-02,\n",
              "         -2.3850e-02,  2.9301e-02, -4.0073e-02,  5.7461e-02,  6.2116e-03,\n",
              "         -4.8416e-03,  6.6836e-03, -4.9688e-02, -2.7009e-02,  3.0519e-02,\n",
              "          2.2078e-03, -9.6961e-03,  5.7147e-02, -3.5140e-02,  6.2200e-03,\n",
              "         -7.8284e-03,  1.0543e-02, -3.1807e-02,  5.3994e-02,  5.4290e-02,\n",
              "         -3.5036e-02,  5.7988e-02,  3.5611e-02, -3.9734e-05, -6.1612e-03,\n",
              "          5.6460e-02, -6.1318e-03, -5.5333e-02], requires_grad=True), Parameter containing:\n",
              " tensor([[ 0.0510, -0.0052, -0.0326,  ..., -0.0178,  0.0296,  0.0541],\n",
              "         [-0.0178, -0.0717,  0.0511,  ...,  0.0221,  0.0088,  0.0054],\n",
              "         [ 0.0761,  0.0832,  0.0012,  ..., -0.0329,  0.0779, -0.0700],\n",
              "         ...,\n",
              "         [-0.0734, -0.0748, -0.0294,  ..., -0.0832,  0.0157,  0.0704],\n",
              "         [-0.0172,  0.0206,  0.0259,  ..., -0.0860, -0.0639, -0.0464],\n",
              "         [ 0.0203, -0.0480,  0.0537,  ..., -0.0857, -0.0456, -0.0745]],\n",
              "        requires_grad=True), Parameter containing:\n",
              " tensor([-0.0329, -0.0635, -0.0004, -0.0417, -0.0008,  0.0162,  0.0860, -0.0357,\n",
              "         -0.0821,  0.0030, -0.0799,  0.0292,  0.0368,  0.0795, -0.0598,  0.0377,\n",
              "          0.0458, -0.0640, -0.0007, -0.0154, -0.0563, -0.0812, -0.0226, -0.0860,\n",
              "          0.0172, -0.0059,  0.0221,  0.0468,  0.0807, -0.0723,  0.0585, -0.0576],\n",
              "        requires_grad=True), Parameter containing:\n",
              " tensor([[ 0.0065,  0.0913,  0.1092,  0.1202,  0.0358, -0.0868,  0.0695, -0.0364,\n",
              "           0.1235, -0.1173,  0.0207,  0.1359,  0.0206,  0.1302,  0.0027,  0.1414,\n",
              "           0.0603,  0.0951,  0.1380,  0.1192,  0.0025,  0.1708,  0.0435,  0.1403,\n",
              "          -0.0515,  0.0022, -0.0749, -0.1606,  0.1477,  0.0394,  0.0305, -0.1449],\n",
              "         [-0.0152, -0.0076, -0.0415,  0.1590,  0.1291, -0.0735, -0.1746, -0.1650,\n",
              "          -0.1735, -0.1204,  0.1612, -0.0150,  0.0655, -0.0424,  0.1473,  0.0619,\n",
              "           0.0873, -0.0959,  0.0717,  0.1093, -0.0114,  0.1361,  0.1317, -0.0296,\n",
              "          -0.1567, -0.1139, -0.0114,  0.0644, -0.1682,  0.0613,  0.1558, -0.0736],\n",
              "         [ 0.0317,  0.0071, -0.1089, -0.1561,  0.0966, -0.1017, -0.0017,  0.0573,\n",
              "          -0.0541,  0.0581, -0.0394, -0.0242, -0.0239,  0.0633,  0.0900,  0.1035,\n",
              "           0.0334, -0.1069,  0.1565,  0.1727, -0.1674, -0.0934, -0.1531, -0.1619,\n",
              "           0.0219,  0.0538, -0.0639,  0.1556, -0.0147, -0.0818, -0.1338,  0.0233],\n",
              "         [ 0.1493,  0.1062, -0.0433, -0.1169,  0.0738,  0.0450, -0.0116, -0.0145,\n",
              "          -0.0256,  0.0830,  0.0617,  0.0217, -0.0707,  0.0967,  0.1199, -0.0306,\n",
              "           0.1707,  0.0663, -0.1196, -0.1578, -0.0599,  0.1688,  0.1710,  0.0550,\n",
              "          -0.1124, -0.1004, -0.0436, -0.1723, -0.1089, -0.1440, -0.0813, -0.1334],\n",
              "         [ 0.0529,  0.0119,  0.1070,  0.0068,  0.0316,  0.0355,  0.0417, -0.0769,\n",
              "           0.0671,  0.1044,  0.1625,  0.0112,  0.1337, -0.1109, -0.1536,  0.0863,\n",
              "          -0.1667,  0.1675, -0.0381,  0.0807, -0.1421,  0.0589, -0.0022,  0.1146,\n",
              "          -0.1405, -0.1541, -0.0886,  0.1470, -0.1280,  0.0984, -0.0757, -0.0099],\n",
              "         [ 0.0691,  0.1516, -0.1210,  0.0177,  0.1747, -0.0994, -0.0330, -0.0779,\n",
              "           0.0056,  0.0252, -0.1469, -0.0445, -0.0938, -0.0813,  0.0938, -0.1730,\n",
              "           0.1516, -0.0563, -0.1202, -0.0215,  0.0048, -0.0203,  0.0297, -0.1257,\n",
              "          -0.1351,  0.0793,  0.1159,  0.1762,  0.1295, -0.1128, -0.1318, -0.0485],\n",
              "         [ 0.1109, -0.0869, -0.1563, -0.1118, -0.1477,  0.1639,  0.0888, -0.0850,\n",
              "          -0.0036,  0.1570,  0.1668,  0.0301, -0.0929,  0.1437, -0.0024, -0.1047,\n",
              "          -0.1053, -0.1539,  0.1446, -0.1315,  0.1417, -0.0962, -0.1003,  0.0191,\n",
              "           0.1309,  0.0100, -0.0451, -0.1041, -0.0661, -0.1498, -0.0882,  0.1351],\n",
              "         [-0.1754, -0.0490,  0.1329,  0.1480, -0.0917,  0.1570,  0.1415,  0.1237,\n",
              "          -0.1458, -0.0194,  0.0252,  0.0133,  0.1280,  0.1401, -0.1638, -0.0103,\n",
              "           0.0644,  0.0182, -0.1475, -0.0947,  0.0580, -0.0395, -0.0320, -0.1253,\n",
              "          -0.0555, -0.0253, -0.1269,  0.1077, -0.0441, -0.1132, -0.1353, -0.1409],\n",
              "         [ 0.1011, -0.0556, -0.0462,  0.1549, -0.0871,  0.0184,  0.0669, -0.1323,\n",
              "          -0.1547,  0.0231,  0.0728, -0.0268,  0.0723,  0.1745,  0.1598, -0.0830,\n",
              "          -0.0519, -0.1043,  0.0515,  0.1668, -0.0861, -0.0521,  0.0477, -0.0156,\n",
              "          -0.0678,  0.0536, -0.0230,  0.0039, -0.0599, -0.0898,  0.1480,  0.0781],\n",
              "         [ 0.0259,  0.1632,  0.1142, -0.1759, -0.0831,  0.0966,  0.0371, -0.1121,\n",
              "           0.1739,  0.0752, -0.0741, -0.0413, -0.0625,  0.0775,  0.0571, -0.0161,\n",
              "          -0.0842,  0.0745,  0.0482,  0.1678,  0.0435,  0.1121,  0.0790, -0.1487,\n",
              "           0.0412,  0.1588,  0.1570, -0.1659, -0.0328,  0.0254, -0.0562, -0.1244]],\n",
              "        requires_grad=True), Parameter containing:\n",
              " tensor([-0.0148, -0.0226,  0.1319,  0.1173, -0.1548, -0.0870, -0.1440,  0.1749,\n",
              "          0.1640, -0.0335], requires_grad=True)]"
            ]
          },
          "metadata": {},
          "execution_count": 125
        }
      ]
    },
    {
      "cell_type": "code",
      "source": [
        "opt = Adam(model_DNN.parameters(),lr = 0.001)"
      ],
      "metadata": {
        "id": "WLP-o6BHffzb"
      },
      "execution_count": 126,
      "outputs": []
    },
    {
      "cell_type": "code",
      "source": [
        "device = torch.device(\"cuda\" if torch.cuda.is_available() else \"cpu\")\n",
        "device"
      ],
      "metadata": {
        "colab": {
          "base_uri": "https://localhost:8080/"
        },
        "id": "cueXkXNno5I1",
        "outputId": "b7412c7e-9f83-40a2-d4ca-2c76521bad77"
      },
      "execution_count": 127,
      "outputs": [
        {
          "output_type": "execute_result",
          "data": {
            "text/plain": [
              "device(type='cuda')"
            ]
          },
          "metadata": {},
          "execution_count": 127
        }
      ]
    },
    {
      "cell_type": "code",
      "source": [
        "model_DNN = model_DNN.to(device) #model and data are shifting to gpu, massive parallelization can take place"
      ],
      "metadata": {
        "id": "gonqd6AWpD7x"
      },
      "execution_count": 128,
      "outputs": []
    },
    {
      "cell_type": "code",
      "source": [
        "#it gives more flexibility in fit , learning arte itself can be chnaged, so torch is more flexible than tensorflow\n",
        "for epoch in range(30):\n",
        "  training_loss = 0.0\n",
        "  for batch, target in train_loader: #train_loader is a generator (bathc=mini batch,target = target)\n",
        "    batch=batch.to(device) #batch is a tensor,(not numpy) so can be shifted to gpu\n",
        "    target = target.to(device)\n",
        "    #print(batch.shape)\n",
        "    \n",
        "    #---- The Learning Phase ------#\n",
        "    opt.zero_grad() #removing all the calculated residual gradients after every batch, each batch is independent, gradients are calculated newly\n",
        "    output =  model_DNN(batch) #calculating output\n",
        "    loss = F.cross_entropy(output,target) #in torch just cross entropy\n",
        "    loss.backward() #gradients are calcuated, whether it is rmsProp, Adam anything\n",
        "    opt.step() #weights are upodated\n",
        "    #---- The Learning Phase ------#\n",
        "    training_loss += loss.item() #actual value of loss\n",
        "  \n",
        "  val_loss = 0.0\n",
        "  for val_batch, val_target in test_loader:\n",
        "    val_batch = val_batch.to(device)\n",
        "    val_target = val_target.to(device)\n",
        "    pred = model_DNN(val_batch)\n",
        "    loss_val = F.cross_entropy(pred,val_target)\n",
        "    val_loss += loss_val.item()\n",
        "\n",
        "  if (epoch+1) % 5 ==0:\n",
        "    print(f\"Training Loss: {training_loss}\")\n",
        "    print(f\"Test Loss: {val_loss}\")"
      ],
      "metadata": {
        "colab": {
          "base_uri": "https://localhost:8080/"
        },
        "id": "A1mJvNv_pnVO",
        "outputId": "46df2ff8-8fab-44f7-bbb9-73a3035476d0"
      },
      "execution_count": 129,
      "outputs": [
        {
          "output_type": "stream",
          "name": "stdout",
          "text": [
            "Training Loss: 140.21595842950046\n",
            "Test Loss: 26.246933449059725\n",
            "Training Loss: 95.06415687222034\n",
            "Test Loss: 22.24703625042457\n",
            "Training Loss: 70.97013491694815\n",
            "Test Loss: 23.262531492044218\n",
            "Training Loss: 59.319071643345524\n",
            "Test Loss: 22.365305646701017\n",
            "Training Loss: 55.13681037322385\n",
            "Test Loss: 21.34860345936613\n",
            "Training Loss: 45.24363547667599\n",
            "Test Loss: 20.340063479874516\n"
          ]
        }
      ]
    },
    {
      "cell_type": "code",
      "source": [
        "final_pred_vals = model_DNN(x_test.float().to(device)).detach().cpu().numpy()"
      ],
      "metadata": {
        "id": "Wy3PtHckw7qE"
      },
      "execution_count": 130,
      "outputs": []
    },
    {
      "cell_type": "code",
      "source": [
        "preds = np.argmax(final_pred_vals,axis =1)"
      ],
      "metadata": {
        "id": "0NM8CxoCzixx"
      },
      "execution_count": 131,
      "outputs": []
    },
    {
      "cell_type": "code",
      "source": [
        "from  sklearn.metrics import confusion_matrix, accuracy_score"
      ],
      "metadata": {
        "id": "0b9AtXGRzoV4"
      },
      "execution_count": 132,
      "outputs": []
    },
    {
      "cell_type": "code",
      "source": [
        "confusion_matrix(preds,y_test)"
      ],
      "metadata": {
        "colab": {
          "base_uri": "https://localhost:8080/"
        },
        "id": "fCIThXNbzx5R",
        "outputId": "ddfd1823-16da-44a4-e1c0-a3934387828f"
      },
      "execution_count": 133,
      "outputs": [
        {
          "output_type": "execute_result",
          "data": {
            "text/plain": [
              "array([[ 962,    0,    1,    1,    0,    3,    4,    0,    0,    1],\n",
              "       [   0, 1123,    1,    0,    1,    1,    2,    0,    0,    3],\n",
              "       [   3,    1, 1014,    5,    1,    0,    0,    8,    4,    1],\n",
              "       [   1,    1,    6,  994,    0,   26,    1,    3,    5,    9],\n",
              "       [   1,    1,    1,    0,  957,    0,    4,    2,    2,    7],\n",
              "       [   2,    0,    0,    1,    0,  844,    5,    0,    3,    2],\n",
              "       [   0,    1,    0,    0,    7,    4,  937,    0,    0,    1],\n",
              "       [   4,    1,    5,    4,    1,    0,    1, 1001,    4,    9],\n",
              "       [   5,    7,    3,    4,    2,   12,    4,    9,  954,   11],\n",
              "       [   2,    0,    1,    1,   13,    2,    0,    5,    2,  965]])"
            ]
          },
          "metadata": {},
          "execution_count": 133
        }
      ]
    },
    {
      "cell_type": "code",
      "source": [
        "accuracy_score(preds,y_test)"
      ],
      "metadata": {
        "colab": {
          "base_uri": "https://localhost:8080/"
        },
        "id": "YJvSumv8144R",
        "outputId": "d58d3494-0fcc-4733-ca03-f3973a283359"
      },
      "execution_count": 134,
      "outputs": [
        {
          "output_type": "execute_result",
          "data": {
            "text/plain": [
              "0.9751"
            ]
          },
          "metadata": {},
          "execution_count": 134
        }
      ]
    },
    {
      "cell_type": "code",
      "source": [
        "import torchsummary"
      ],
      "metadata": {
        "id": "gryS8x_y185r"
      },
      "execution_count": 135,
      "outputs": []
    },
    {
      "cell_type": "code",
      "source": [
        "torchsummary.summary(model_DNN,input_size=(784,)) #more no the parameters, more complex model"
      ],
      "metadata": {
        "colab": {
          "base_uri": "https://localhost:8080/"
        },
        "id": "4i-iOz_M294U",
        "outputId": "140c909c-430d-44f5-fbea-024164f3afbc"
      },
      "execution_count": 136,
      "outputs": [
        {
          "output_type": "stream",
          "name": "stdout",
          "text": [
            "----------------------------------------------------------------\n",
            "        Layer (type)               Output Shape         Param #\n",
            "================================================================\n",
            "            Linear-1                  [-1, 512]         401,920\n",
            "           Dropout-2                  [-1, 512]               0\n",
            "            Linear-3                  [-1, 256]         131,328\n",
            "       BatchNorm1d-4                  [-1, 256]             512\n",
            "            Linear-5                  [-1, 128]          32,896\n",
            "           Dropout-6                  [-1, 128]               0\n",
            "            Linear-7                   [-1, 32]           4,128\n",
            "           Dropout-8                   [-1, 32]               0\n",
            "            Linear-9                   [-1, 10]             330\n",
            "================================================================\n",
            "Total params: 571,114\n",
            "Trainable params: 571,114\n",
            "Non-trainable params: 0\n",
            "----------------------------------------------------------------\n",
            "Input size (MB): 0.00\n",
            "Forward/backward pass size (MB): 0.01\n",
            "Params size (MB): 2.18\n",
            "Estimated Total Size (MB): 2.20\n",
            "----------------------------------------------------------------\n"
          ]
        }
      ]
    },
    {
      "cell_type": "code",
      "source": [
        "#in case of cnn, no of parameters will be drastically down. "
      ],
      "metadata": {
        "id": "Bn9ilOVA3Iht"
      },
      "execution_count": null,
      "outputs": []
    }
  ]
}